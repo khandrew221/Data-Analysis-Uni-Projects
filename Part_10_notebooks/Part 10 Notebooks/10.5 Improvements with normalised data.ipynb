{
 "cells": [
  {
   "cell_type": "markdown",
   "metadata": {},
   "source": [
    "# <a name=\"top\"></a>Changes with normalised data: 30 minutes"
   ]
  },
  {
   "cell_type": "markdown",
   "metadata": {},
   "source": [
    "In notebook *10.1 Problems with unnormalised data*, you saw some problems with unnormalised data. In this notebook you will see how these problems don't occur if we have normalised the data. \n",
    "\n",
    "This notebook will look at exactly the same problems as in notebook 10.1."
   ]
  },
  {
   "cell_type": "markdown",
   "metadata": {},
   "source": [
    "As with notebook 10.1, this notebook uses the `public` schema, so after running the preamble, none of the four tables are in the initial database. We will construct the four normalised tables from the single unnormalised table."
   ]
  },
  {
   "cell_type": "markdown",
   "metadata": {},
   "source": [
    "## Setting up"
   ]
  },
  {
   "cell_type": "markdown",
   "metadata": {},
   "source": [
    "The next group of cells set up your database connection, and reset the database to a clean state. Check notebook *08.1 Data Definition Language in SQL* if you are unsure what the next cells do.\n",
    "\n",
    "You may need to change the given values of the variables `DB_USER` and `DB_PWD`, depending on which environment you are using"
   ]
  },
  {
   "cell_type": "raw",
   "metadata": {},
   "source": [
    "# If you are using the remote environment, change this cell\n",
    "# type to \"code\", and execute it\n",
    "\n",
    "DB_USER='xxx99'            # Enter your OUCU here (in quotes)\n",
    "DB_PWD='your_password'     # Enter your password here (in quotes)"
   ]
  },
  {
   "cell_type": "raw",
   "metadata": {},
   "source": [
    "# If you are using a locally hosted environment, change this cell\n",
    "# type to \"code\", and execute it\n",
    "\n",
    "DB_USER='tm351'\n",
    "DB_PWD='tm351'"
   ]
  },
  {
   "cell_type": "code",
   "execution_count": null,
   "metadata": {},
   "outputs": [],
   "source": [
    "# Make the connection\n",
    "\n",
    "%run sql_init.ipynb\n",
    "print(\"Connecting with connection string : {}\".format(DB_CONNECTION))\n",
    "%sql $DB_CONNECTION"
   ]
  },
  {
   "cell_type": "code",
   "execution_count": null,
   "metadata": {},
   "outputs": [],
   "source": [
    "%run reset_databases.ipynb"
   ]
  },
  {
   "cell_type": "markdown",
   "metadata": {},
   "source": [
    "## Loading the unnormalised data\n",
    "This is the same process as in notebook 10.1, where we create the database tables from a _**pandas**_ DataFrame."
   ]
  },
  {
   "cell_type": "code",
   "execution_count": null,
   "metadata": {},
   "outputs": [],
   "source": [
    "prescriptions = pd.read_csv('unnormalised_prescription.csv', parse_dates=['date'])\n",
    "prescriptions"
   ]
  },
  {
   "cell_type": "code",
   "execution_count": null,
   "metadata": {},
   "outputs": [],
   "source": [
    "# Define the unnormalised_prescription table\n",
    "\n",
    "prescriptions.to_sql('unnormalised_prescription',\n",
    "                     DB_CONNECTION,\n",
    "                     if_exists='replace',\n",
    "                     index=False)"
   ]
  },
  {
   "cell_type": "code",
   "execution_count": null,
   "metadata": {},
   "outputs": [],
   "source": [
    "%%sql\n",
    "\n",
    "ALTER TABLE unnormalised_prescription\n",
    "ADD CONSTRAINT unnormalised_prescription_pk\n",
    "    PRIMARY KEY (patient_id, prescribing_doctor_id, drug_code, date);\n",
    "\n",
    "SELECT *\n",
    "FROM unnormalised_prescription;"
   ]
  },
  {
   "cell_type": "markdown",
   "metadata": {},
   "source": [
    "Now we can use this table to construct the normalised versions."
   ]
  },
  {
   "cell_type": "markdown",
   "metadata": {},
   "source": [
    "First create the `doctor` table:"
   ]
  },
  {
   "cell_type": "code",
   "execution_count": null,
   "metadata": {},
   "outputs": [],
   "source": [
    "%%sql\n",
    "\n",
    "DROP TABLE IF EXISTS doctor;\n",
    "\n",
    "CREATE TABLE doctor AS\n",
    "    SELECT DISTINCT doctor_id, doctor_name\n",
    "    FROM unnormalised_prescription;\n",
    "    \n",
    "ALTER TABLE doctor\n",
    "ADD CONSTRAINT doctor_pk\n",
    "    PRIMARY KEY (doctor_id);\n",
    "\n",
    "SELECT *\n",
    "FROM doctor;"
   ]
  },
  {
   "cell_type": "markdown",
   "metadata": {},
   "source": [
    "Next, create the `drug` table:"
   ]
  },
  {
   "cell_type": "code",
   "execution_count": null,
   "metadata": {},
   "outputs": [],
   "source": [
    "%%sql\n",
    "\n",
    "DROP TABLE IF EXISTS drug;\n",
    "\n",
    "CREATE TABLE drug AS\n",
    "    SELECT DISTINCT drug_code, drug_name\n",
    "    FROM unnormalised_prescription;\n",
    "    \n",
    "ALTER TABLE drug\n",
    "ADD CONSTRAINT drug_pk\n",
    "    PRIMARY KEY (drug_code);\n",
    "\n",
    "SELECT *\n",
    "FROM drug;"
   ]
  },
  {
   "cell_type": "markdown",
   "metadata": {},
   "source": [
    "Next, create the `patient` table:"
   ]
  },
  {
   "cell_type": "code",
   "execution_count": null,
   "metadata": {},
   "outputs": [],
   "source": [
    "%%sql\n",
    "\n",
    "DROP TABLE IF EXISTS patient;\n",
    "\n",
    "CREATE TABLE patient AS\n",
    "    SELECT DISTINCT patient_id, patient_name, doctor_id\n",
    "    FROM unnormalised_prescription;\n",
    "    \n",
    "ALTER TABLE patient\n",
    "ADD CONSTRAINT patient_pk\n",
    "    PRIMARY KEY (patient_id);\n",
    "\n",
    "ALTER TABLE patient\n",
    "ADD CONSTRAINT patient_doctor_fk\n",
    "    FOREIGN KEY (doctor_id) REFERENCES doctor;\n",
    "\n",
    "SELECT *\n",
    "FROM patient;"
   ]
  },
  {
   "cell_type": "markdown",
   "metadata": {},
   "source": [
    "And finally, create the prescription table:"
   ]
  },
  {
   "cell_type": "code",
   "execution_count": null,
   "metadata": {},
   "outputs": [],
   "source": [
    "%%sql\n",
    "\n",
    "DROP TABLE IF EXISTS prescription;\n",
    "\n",
    "CREATE TABLE prescription AS\n",
    "    SELECT DISTINCT patient_id, prescribing_doctor_id, drug_code, date, dosage, duration\n",
    "    FROM unnormalised_prescription;\n",
    "    \n",
    "ALTER TABLE prescription\n",
    "ADD CONSTRAINT prescription_pk\n",
    "    PRIMARY KEY (patient_id, prescribing_doctor_id, drug_code, date);\n",
    "\n",
    "ALTER TABLE prescription\n",
    "ADD CONSTRAINT prescription_patient_fk\n",
    "    FOREIGN KEY (patient_id) REFERENCES patient;\n",
    "\n",
    "ALTER TABLE prescription\n",
    "ADD CONSTRAINT prescription_doctor_fk\n",
    "    FOREIGN KEY (prescribing_doctor_id) REFERENCES doctor;\n",
    "\n",
    "ALTER TABLE prescription\n",
    "ADD CONSTRAINT prescription_drug_fk\n",
    "    FOREIGN KEY (drug_code) REFERENCES drug;\n",
    "\n",
    "SELECT *\n",
    "FROM prescription;"
   ]
  },
  {
   "cell_type": "markdown",
   "metadata": {},
   "source": [
    "We can see the tables we've defined with the display schema:"
   ]
  },
  {
   "cell_type": "code",
   "execution_count": null,
   "metadata": {},
   "outputs": [],
   "source": [
    "%schema --connection_string $DB_CONNECTION"
   ]
  },
  {
   "cell_type": "markdown",
   "metadata": {},
   "source": [
    "# Insertion anomalies\n",
    "The composite primary key of `unnormalised_prescription` limits what information can be added to this table. These limits are not present with normalised data."
   ]
  },
  {
   "cell_type": "markdown",
   "metadata": {
    "activity": true
   },
   "source": [
    "### Activity 1"
   ]
  },
  {
   "cell_type": "markdown",
   "metadata": {
    "activity": true
   },
   "source": [
    "Pravastatin is an alternative to simvastatin, treating much the same conditions with much the same doses. The hospital wants to make this available for prescription. \n",
    "\n",
    "Add pravastatin, with `drug_code` P1234, to the normalised database.\n",
    "\n",
    "Inserting into the unnormalised data fails with an integrity error, caused by the `patient_id` and `date` fields being missing from the primary key:"
   ]
  },
  {
   "cell_type": "code",
   "execution_count": null,
   "metadata": {
    "activity": true
   },
   "outputs": [],
   "source": [
    "%%sql\n",
    "\n",
    "INSERT INTO unnormalised_prescription (drug_code, drug_name) \n",
    "VALUES ('P1234', 'Pravastatin');"
   ]
  },
  {
   "cell_type": "markdown",
   "metadata": {
    "activity": true
   },
   "source": [
    "Now try to add pravastatin to the `drug` table in the normalised database."
   ]
  },
  {
   "cell_type": "code",
   "execution_count": null,
   "metadata": {
    "student": true
   },
   "outputs": [],
   "source": [
    "# Write your code in this cell"
   ]
  },
  {
   "cell_type": "markdown",
   "metadata": {
    "activity": true,
    "heading_collapsed": true
   },
   "source": [
    "#### Our solution\n",
    "\n",
    "To reveal our solution, run this cell or click on the triangle symbol on the left-hand side of the cell."
   ]
  },
  {
   "cell_type": "markdown",
   "metadata": {
    "activity": true,
    "hidden": true
   },
   "source": [
    "With normalised data, adding a new drug is as simple as inserting it into the `drug` table."
   ]
  },
  {
   "cell_type": "code",
   "execution_count": null,
   "metadata": {
    "activity": true,
    "hidden": true
   },
   "outputs": [],
   "source": [
    "%%sql\n",
    "\n",
    "INSERT INTO drug (drug_code, drug_name) \n",
    "VALUES ('P1234', 'Pravastatin');"
   ]
  },
  {
   "cell_type": "code",
   "execution_count": null,
   "metadata": {
    "activity": true,
    "hidden": true
   },
   "outputs": [],
   "source": [
    "%%sql\n",
    "\n",
    "SELECT *\n",
    "FROM drug;"
   ]
  },
  {
   "cell_type": "markdown",
   "metadata": {
    "activity": true,
    "hidden": true
   },
   "source": [
    "That all worked smoothly. The normalised `drug` table contains information only about drugs. If there is a new drug available, it is simply added to the `drug` table. When a drug is prescribed, the drug information is connected via the `prescription` table's foreign key to `drug`."
   ]
  },
  {
   "cell_type": "markdown",
   "metadata": {
    "activity": true
   },
   "source": [
    "#### End of Activity 1"
   ]
  },
  {
   "cell_type": "markdown",
   "metadata": {},
   "source": [
    "-------------------------------"
   ]
  },
  {
   "cell_type": "markdown",
   "metadata": {
    "activity": true
   },
   "source": [
    "### Activity 2"
   ]
  },
  {
   "cell_type": "markdown",
   "metadata": {
    "activity": true
   },
   "source": [
    "A patient by name of Kay, `patient_id` = `p009`, has just arrived in hosptial. Dr James, `doctor_id` = `d07`, is leading Kay's care. Kay has just been admitted, so has received no drugs yet.\n",
    "\n",
    "Add Kay's details to the database.\n",
    "\n",
    "Inserting into the unnormalised data fails due to an integrity error:"
   ]
  },
  {
   "cell_type": "code",
   "execution_count": null,
   "metadata": {
    "activity": true
   },
   "outputs": [],
   "source": [
    "%%sql\n",
    "\n",
    "INSERT INTO unnormalised_prescription (patient_id, patient_name, doctor_id, doctor_name) \n",
    "VALUES ('p009', 'Kay', 'd07', 'James');"
   ]
  },
  {
   "cell_type": "markdown",
   "metadata": {
    "activity": true
   },
   "source": [
    "Add Kay's details to the normalised data."
   ]
  },
  {
   "cell_type": "code",
   "execution_count": null,
   "metadata": {
    "student": true
   },
   "outputs": [],
   "source": [
    "# Write your code in this cell"
   ]
  },
  {
   "cell_type": "markdown",
   "metadata": {
    "activity": true,
    "heading_collapsed": true
   },
   "source": [
    "#### Our solution\n",
    "\n",
    "To reveal our solution, run this cell or click on the triangle symbol on the left-hand side of the cell."
   ]
  },
  {
   "cell_type": "markdown",
   "metadata": {
    "activity": true,
    "hidden": true
   },
   "source": [
    "With normalised data, adding a new patient just requires inserting their details into the `patient` table. Their lack of prescriptions is no impediment to recording their existence."
   ]
  },
  {
   "cell_type": "code",
   "execution_count": null,
   "metadata": {
    "activity": true,
    "hidden": true
   },
   "outputs": [],
   "source": [
    "%%sql\n",
    "\n",
    "INSERT INTO patient (patient_id, patient_name, doctor_id) \n",
    "VALUES ('p009', 'Kay', 'd07');"
   ]
  },
  {
   "cell_type": "code",
   "execution_count": null,
   "metadata": {
    "activity": true,
    "hidden": true
   },
   "outputs": [],
   "source": [
    "%%sql\n",
    "\n",
    "SELECT *\n",
    "FROM patient;"
   ]
  },
  {
   "cell_type": "markdown",
   "metadata": {
    "activity": true
   },
   "source": [
    "#### End of Activity 2"
   ]
  },
  {
   "cell_type": "markdown",
   "metadata": {},
   "source": [
    "-------------------------------"
   ]
  },
  {
   "cell_type": "markdown",
   "metadata": {},
   "source": [
    "## Discussion\n",
    "These examples show that, now the data is normalised, we can add patients, drugs (and doctors) to the database independently of each other and independently of prescription information. This is because the patients, drugs, doctors, and prescriptions are all stored as separate entities in the database.\n",
    "\n",
    "When we add a new prescription, the primary key constraint still ensures that the prescription is for a patient and a drug, but prescriptions are not required for drugs or patients to exist."
   ]
  },
  {
   "cell_type": "markdown",
   "metadata": {},
   "source": [
    "# Deletion anomalies\n",
    "When all the data was held in a single table, deletions had unintended consequences. When the data is normalised, deletions of some data have the expected effects."
   ]
  },
  {
   "cell_type": "markdown",
   "metadata": {
    "activity": true
   },
   "source": [
    "### Activity 3"
   ]
  },
  {
   "cell_type": "markdown",
   "metadata": {
    "activity": true
   },
   "source": [
    "1. Find the drug code for omeprazole. \n",
    "2. Thornton's record of omeprazole was made in error. Correct the error by removing the record showing Thornton (`patient_id` = `p001`) being prescribed omeprazole on 15 May 2017.\n",
    "3. Again, find the drug code for Omeprazole. \n",
    "\n",
    "Deletion of the unnormalised data has unexpected consequences:"
   ]
  },
  {
   "cell_type": "code",
   "execution_count": null,
   "metadata": {
    "activity": true
   },
   "outputs": [],
   "source": [
    "%%sql \n",
    "\n",
    "SELECT DISTINCT drug_code \n",
    "FROM unnormalised_prescription \n",
    "WHERE drug_name = 'Omeprazole';"
   ]
  },
  {
   "cell_type": "code",
   "execution_count": null,
   "metadata": {
    "activity": true
   },
   "outputs": [],
   "source": [
    "%%sql\n",
    "\n",
    "DELETE FROM unnormalised_prescription \n",
    "WHERE patient_id = 'p001' \n",
    "    AND prescribing_doctor_id='d06'\n",
    "    AND drug_code = 'O17663' \n",
    "    AND date = '2017-05-15';"
   ]
  },
  {
   "cell_type": "code",
   "execution_count": null,
   "metadata": {
    "activity": true
   },
   "outputs": [],
   "source": [
    "%%sql \n",
    "\n",
    "SELECT DISTINCT drug_code \n",
    "FROM unnormalised_prescription \n",
    "WHERE drug_name = 'Omeprazole';"
   ]
  },
  {
   "cell_type": "markdown",
   "metadata": {
    "activity": true
   },
   "source": [
    "This shows that the information about Omeprazole has disappeared from the database, simply because we removed a prescription record. \n",
    "\n",
    "Repeat the steps above on the normalised database: look up omeprazole, remove Thornton's prescription, then look up omeprazole again."
   ]
  },
  {
   "cell_type": "code",
   "execution_count": null,
   "metadata": {
    "student": true
   },
   "outputs": [],
   "source": [
    "# Write your code in this cell"
   ]
  },
  {
   "cell_type": "markdown",
   "metadata": {
    "activity": true,
    "heading_collapsed": true
   },
   "source": [
    "#### Our solution\n",
    "\n",
    "To reveal our solution, run this cell or click on the triangle symbol on the left-hand side of the cell."
   ]
  },
  {
   "cell_type": "code",
   "execution_count": null,
   "metadata": {
    "activity": true,
    "hidden": true
   },
   "outputs": [],
   "source": [
    "%%sql \n",
    "\n",
    "SELECT drug_code \n",
    "FROM drug \n",
    "WHERE drug_name = 'Omeprazole';"
   ]
  },
  {
   "cell_type": "code",
   "execution_count": null,
   "metadata": {
    "activity": true,
    "hidden": true
   },
   "outputs": [],
   "source": [
    "%%sql \n",
    "\n",
    "DELETE FROM prescription \n",
    "WHERE patient_id = 'p001'\n",
    "    AND prescribing_doctor_id='d06'\n",
    "    AND drug_code = 'O17663' \n",
    "    AND date = '2017-05-15';"
   ]
  },
  {
   "cell_type": "code",
   "execution_count": null,
   "metadata": {
    "activity": true,
    "hidden": true
   },
   "outputs": [],
   "source": [
    "%%sql\n",
    "\n",
    "SELECT drug_code \n",
    "FROM drug \n",
    "WHERE drug_name = 'Omeprazole';"
   ]
  },
  {
   "cell_type": "markdown",
   "metadata": {
    "activity": true,
    "hidden": true
   },
   "source": [
    "To check, Thornton's prescription has been deleted from the database but the information about omeprazole is still there."
   ]
  },
  {
   "cell_type": "code",
   "execution_count": null,
   "metadata": {
    "activity": true,
    "hidden": true
   },
   "outputs": [],
   "source": [
    "%%sql \n",
    "\n",
    "SELECT * \n",
    "FROM prescription \n",
    "ORDER BY patient_id, date, drug_code;"
   ]
  },
  {
   "cell_type": "markdown",
   "metadata": {
    "activity": true
   },
   "source": [
    "#### End of Activity 3"
   ]
  },
  {
   "cell_type": "markdown",
   "metadata": {},
   "source": [
    "-----------------------------------------------"
   ]
  },
  {
   "cell_type": "markdown",
   "metadata": {},
   "source": [
    "## Discussion\n",
    "With unnormalised data, information on drugs (and other entities) could only exist in the context of prescriptions. That meant we could easily lose information about drugs, patients, and doctors if we remove the last reference to them from the prescription table. \n",
    "\n",
    "With normalised data,we can delete an incorrect prescription from the `prescription` table without affecting any ohter information in the database, such as information about patients, drugs, or doctors. Again, this is because these now exist in the database as separate entities."
   ]
  },
  {
   "cell_type": "markdown",
   "metadata": {},
   "source": [
    "# Update anomalies"
   ]
  },
  {
   "cell_type": "markdown",
   "metadata": {
    "activity": true
   },
   "source": [
    "### Activity 4"
   ]
  },
  {
   "cell_type": "markdown",
   "metadata": {
    "activity": true
   },
   "source": [
    "1. Find the drug code for tamsulosin. \n",
    "2. Tennent's record of tamsulosin on 19 June was recorded incorrectly. Correct the error by replacing the `drug_code` with the correct one, `P1234`. \n",
    "3. Again, find the drug code for tamsulosin. \n",
    "\n",
    "Updating the unnormalised data has unexpected consequences. Initially, all is well with a unique drug description."
   ]
  },
  {
   "cell_type": "code",
   "execution_count": null,
   "metadata": {
    "activity": true
   },
   "outputs": [],
   "source": [
    "%%sql \n",
    "\n",
    "SELECT DISTINCT drug_code, drug_name \n",
    "FROM unnormalised_prescription \n",
    "WHERE drug_name = 'Tamsulosin';"
   ]
  },
  {
   "cell_type": "markdown",
   "metadata": {
    "activity": true
   },
   "source": [
    "Tennent has two prescriptions for Tamsulosin. We change the one on 19 June 2017."
   ]
  },
  {
   "cell_type": "code",
   "execution_count": null,
   "metadata": {
    "activity": true
   },
   "outputs": [],
   "source": [
    "%%sql \n",
    "\n",
    "SELECT * \n",
    "FROM unnormalised_prescription \n",
    "WHERE patient_id = 'p007';"
   ]
  },
  {
   "cell_type": "code",
   "execution_count": null,
   "metadata": {
    "activity": true
   },
   "outputs": [],
   "source": [
    "%%sql\n",
    "\n",
    "UPDATE unnormalised_prescription\n",
    "SET drug_code = 'P1234'\n",
    "    WHERE patient_id = 'p007' \n",
    "        AND drug_name = 'Tamsulosin' \n",
    "        AND date = '2017-06-19';"
   ]
  },
  {
   "cell_type": "markdown",
   "metadata": {
    "activity": true
   },
   "source": [
    "There are now two codes for the same drug."
   ]
  },
  {
   "cell_type": "code",
   "execution_count": null,
   "metadata": {
    "activity": true
   },
   "outputs": [],
   "source": [
    "%%sql \n",
    "\n",
    "SELECT DISTINCT drug_code, drug_name \n",
    "FROM unnormalised_prescription \n",
    "WHERE drug_name = 'Tamsulosin';"
   ]
  },
  {
   "cell_type": "markdown",
   "metadata": {
    "activity": true
   },
   "source": [
    "We now have two drug codes for tamsulosin.\n",
    "\n",
    "In the normalised database, update Tennent's prescription and then find the drug code for tamsulosin."
   ]
  },
  {
   "cell_type": "code",
   "execution_count": null,
   "metadata": {
    "student": true
   },
   "outputs": [],
   "source": [
    "# Write your code in this cell"
   ]
  },
  {
   "cell_type": "markdown",
   "metadata": {
    "activity": true,
    "heading_collapsed": true
   },
   "source": [
    "#### Our solution\n",
    "\n",
    "To reveal our solution, run this cell or click on the triangle symbol on the left-hand side of the cell."
   ]
  },
  {
   "cell_type": "code",
   "execution_count": null,
   "metadata": {
    "activity": true,
    "hidden": true
   },
   "outputs": [],
   "source": [
    "%%sql \n",
    "\n",
    "SELECT drug_code, drug_name \n",
    "FROM drug \n",
    "WHERE drug_name = 'Tamsulosin';"
   ]
  },
  {
   "cell_type": "code",
   "execution_count": null,
   "metadata": {
    "activity": true,
    "hidden": true
   },
   "outputs": [],
   "source": [
    "%%sql\n",
    "\n",
    "UPDATE prescription\n",
    "SET drug_code = 'P1234'\n",
    "    WHERE patient_id = 'p007' \n",
    "        AND drug_code = 'T05223' \n",
    "        AND date = '2017-06-19';"
   ]
  },
  {
   "cell_type": "code",
   "execution_count": null,
   "metadata": {
    "activity": true,
    "hidden": true
   },
   "outputs": [],
   "source": [
    "%%sql \n",
    "\n",
    "SELECT drug_code, drug_name \n",
    "FROM drug \n",
    "WHERE drug_name = 'Tamsulosin';"
   ]
  },
  {
   "cell_type": "markdown",
   "metadata": {
    "activity": true,
    "hidden": true
   },
   "source": [
    "Good. Following the update, we now have only a single code for Tamsulosin."
   ]
  },
  {
   "cell_type": "markdown",
   "metadata": {
    "activity": true,
    "hidden": true
   },
   "source": [
    "As a check, what is Tennent's prescription recorded as?"
   ]
  },
  {
   "cell_type": "code",
   "execution_count": null,
   "metadata": {
    "activity": true,
    "hidden": true
   },
   "outputs": [],
   "source": [
    "%%sql \n",
    "\n",
    "SELECT * \n",
    "FROM prescription, drug\n",
    "WHERE prescription.drug_code = drug.drug_code\n",
    "    AND patient_id = 'p007' \n",
    "ORDER BY patient_id, date, prescription.drug_code;"
   ]
  },
  {
   "cell_type": "markdown",
   "metadata": {
    "activity": true,
    "hidden": true
   },
   "source": [
    "The prescription of 19 June is now recorded as being for pravastatin."
   ]
  },
  {
   "cell_type": "markdown",
   "metadata": {
    "activity": true
   },
   "source": [
    "#### End of Activity 4"
   ]
  },
  {
   "cell_type": "markdown",
   "metadata": {},
   "source": [
    "-------------------------------------------------"
   ]
  },
  {
   "cell_type": "markdown",
   "metadata": {},
   "source": [
    "## Discussion\n",
    "The problems of inconsistent data have gone away. The drug name is recorded in only one place, so when a reference to a drug changes, the database picks up the information about the new drug. We can make sensible and appropriate changes to the data without causing additional errors. "
   ]
  },
  {
   "cell_type": "markdown",
   "metadata": {
    "collapsed": true
   },
   "source": [
    "## What next?\n",
    "This Notebook has shown you the benefits of normalising data. As you saw in Notebook 10.1 and again here, the unnormalised database is difficult to use. It cannot store some of the information we need, such as the existence of drugs or patients when they have no prescriptions. \n",
    "\n",
    "In contrast, the normalised database allows a much easier manipulation of data. The insertion, deletion, and update anomalies no longer affect this database. We can use this database to effectively record all the different states of information about the hospital prescription system.\n",
    "\n",
    "If you are working through this Notebook as part of an inline exercise, return to the module materials now."
   ]
  }
 ],
 "metadata": {
  "kernelspec": {
   "display_name": "Python 3",
   "language": "python",
   "name": "python3"
  },
  "language_info": {
   "codemirror_mode": {
    "name": "ipython",
    "version": 3
   },
   "file_extension": ".py",
   "mimetype": "text/x-python",
   "name": "python",
   "nbconvert_exporter": "python",
   "pygments_lexer": "ipython3",
   "version": "3.7.8"
  }
 },
 "nbformat": 4,
 "nbformat_minor": 1
}
