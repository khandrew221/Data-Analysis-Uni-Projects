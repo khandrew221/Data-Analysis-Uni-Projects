{
 "cells": [
  {
   "cell_type": "markdown",
   "metadata": {},
   "source": [
    "# Paxton On Walkabout\n",
    "\n",
    "In this notebook, you will handle Paxton's attempts to update the database.\n",
    "\n",
    "First, run the following cells to set your database credentials, and to reset the database:"
   ]
  },
  {
   "cell_type": "markdown",
   "metadata": {},
   "source": [
    "## Setting up"
   ]
  },
  {
   "cell_type": "markdown",
   "metadata": {},
   "source": [
    "The next group of cells set up your database connection, and reset the database to a clean state. Check notebook *8.1 Data Definition Language in SQL* if you are unsure what the next cells do.\n",
    "\n",
    "You may need to change the given values of the variables `DB_USER` and `DB_PWD`, depending on which environment you are using"
   ]
  },
  {
   "cell_type": "raw",
   "metadata": {},
   "source": [
    "# If you are using the remote environment, change this cell\n",
    "# type to \"code\", and execute it\n",
    "\n",
    "DB_USER='xxx99'            # Enter your OUCU here (in quotes)\n",
    "DB_PWD='your_password'     # Enter your password here (in quotes)"
   ]
  },
  {
   "cell_type": "raw",
   "metadata": {},
   "source": [
    "# If you are using a locally hosted environment, change this cell\n",
    "# type to \"code\", and execute it\n",
    "\n",
    "DB_USER='tm351'\n",
    "DB_PWD='tm351'"
   ]
  },
  {
   "cell_type": "code",
   "execution_count": null,
   "metadata": {},
   "outputs": [],
   "source": [
    "# Set up the PostgreSQL environment\n",
    "\n",
    "%run sql_init.ipynb\n",
    "print(\"Connecting with connection string : {}\".format(DB_CONNECTION))\n",
    "%sql $DB_CONNECTION"
   ]
  },
  {
   "cell_type": "code",
   "execution_count": null,
   "metadata": {},
   "outputs": [],
   "source": [
    "import psycopg2 as pg\n",
    "import psycopg2.extensions as pge"
   ]
  },
  {
   "cell_type": "markdown",
   "metadata": {},
   "source": [
    "And as in notebook 12.1, we can define a short function, `transaction_status`, which returns a string describing the transaction status of the given connection:"
   ]
  },
  {
   "cell_type": "code",
   "execution_count": null,
   "metadata": {},
   "outputs": [],
   "source": [
    "def transaction_status(conn):\n",
    "    '''\n",
    "    Return a string showing the transaction status of the\n",
    "    given connection, conn.\n",
    "    '''\n",
    "    transaction_status_dict={\n",
    "        pg.extensions.TRANSACTION_STATUS_IDLE:\"The session is idle and there is no current transaction.\",\n",
    "        pg.extensions.TRANSACTION_STATUS_ACTIVE:\"A command is currently in progress.\",\n",
    "        pg.extensions.TRANSACTION_STATUS_INTRANS:\"The session is idle in a valid transaction block.\",\n",
    "        pg.extensions.TRANSACTION_STATUS_INERROR:\"The session is idle in a failed transaction block.\",\n",
    "        pg.extensions.TRANSACTION_STATUS_UNKNOWN:\"Reported if the connection with the server is bad.\"\n",
    "    }\n",
    "    return transaction_status_dict[conn.get_transaction_status()]\n",
    "    "
   ]
  },
  {
   "cell_type": "markdown",
   "metadata": {},
   "source": [
    "# Paxton On Walkabout\n",
    "\n",
    "In this notebook, you will handle Paxton's attempts to update the database. Donlt worry if the numbering seems off - STEP 1 is in the `12.3a Gibson.ipynb` notebook.\n",
    "\n"
   ]
  },
  {
   "cell_type": "markdown",
   "metadata": {},
   "source": [
    "\n",
    "\n",
    "## STEP 0:\n",
    "Run the following two cells to set up Paxton's connection to the database."
   ]
  },
  {
   "cell_type": "code",
   "execution_count": null,
   "metadata": {},
   "outputs": [],
   "source": [
    "paxton = pg.connect(dbname=DB_NAME,     # the name of the database\n",
    "                    host='localhost',   # the host on which the database engine is running\n",
    "                    user=DB_USER,       # id of the user who is logging in\n",
    "                    password=DB_PWD,    # the user's password\n",
    "                    port=5432,          # the port on which the database engine is listening\n",
    "                    options=\"-c search_path=hospital\")  # the schema to use\n",
    "\n",
    "\n",
    "paxton.isolation_level = pge.ISOLATION_LEVEL_SERIALIZABLE\n",
    "\n",
    "paxton.autocommit = False"
   ]
  },
  {
   "cell_type": "markdown",
   "metadata": {},
   "source": [
    "__Ensure STEP 0 and STEP 1 in the Gibson notebook have been completed before moving on to STEP 2.__"
   ]
  },
  {
   "cell_type": "markdown",
   "metadata": {},
   "source": [
    "## STEP 2 — Start a Transaction\n",
    "\n",
    "Once you have started, but not committed, Gibson's transaction to update Thornton's record, try to get Paxton to update the same record:"
   ]
  },
  {
   "cell_type": "code",
   "execution_count": null,
   "metadata": {},
   "outputs": [],
   "source": [
    "with paxton.cursor() as paxton_cursor:\n",
    "\n",
    "    paxton_cursor.execute('''\n",
    "        UPDATE patient\n",
    "        SET height_cm = 185.0\n",
    "            WHERE patient_id = 'p001';\n",
    "        ''', paxton)"
   ]
  },
  {
   "cell_type": "markdown",
   "metadata": {},
   "source": [
    "You should notice the `[*]` indicator showing that the cell is running and waiting on something before it can complete its execution.\n",
    "\n",
    "__In the Gibson notebook, go to STEP 3 to commit Gibson's transaction and watch what happens to the above cell's state as you do so.__ \n",
    "\n",
    "\n",
    "## STEP 4 — Failure\n",
    "When Gibson commits a change to Thornton's record, Paxton's attempt to change the same record is terminated (check the output to the previous code cell): the record that Paxton opened his transaction against has changed since his transaction started.\n",
    "\n",
    "Paxton now needs to rollback his attempted commit:"
   ]
  },
  {
   "cell_type": "code",
   "execution_count": null,
   "metadata": {},
   "outputs": [],
   "source": [
    "paxton.rollback()"
   ]
  },
  {
   "cell_type": "markdown",
   "metadata": {},
   "source": [
    "## STEP 5 - Paxton's Turn\n",
    "\n",
    "Start, but don't commit, a new transaction in which Paxton attempts to update the record of the patient with identifier `p001`:"
   ]
  },
  {
   "cell_type": "code",
   "execution_count": null,
   "metadata": {},
   "outputs": [],
   "source": [
    "with paxton.cursor() as paxton_cursor:\n",
    "\n",
    "    paxton_cursor.execute('''\n",
    "        UPDATE patient\n",
    "        SET height_cm = 185.0\n",
    "            WHERE patient_id = 'p001';\n",
    "        ''', paxton)"
   ]
  },
  {
   "cell_type": "markdown",
   "metadata": {},
   "source": [
    "Now go to STEP 6 in Gibson's notebook where she will try to update the same record."
   ]
  },
  {
   "cell_type": "markdown",
   "metadata": {},
   "source": [
    "## STEP 7\n",
    "\n",
    "Paxton is thoroughly confused about what number to enter into the database and decides to rollback their attempt to update the record."
   ]
  },
  {
   "cell_type": "code",
   "execution_count": null,
   "metadata": {},
   "outputs": [],
   "source": [
    "paxton.rollback()"
   ]
  },
  {
   "cell_type": "code",
   "execution_count": null,
   "metadata": {},
   "outputs": [],
   "source": [
    "paxton.close()"
   ]
  },
  {
   "cell_type": "markdown",
   "metadata": {},
   "source": [
    "Paxton makes sure his connection is closed..."
   ]
  },
  {
   "cell_type": "markdown",
   "metadata": {},
   "source": [
    "...then switches his computer off and goes to get a cup of tea..."
   ]
  }
 ],
 "metadata": {
  "kernelspec": {
   "display_name": "Python 3",
   "language": "python",
   "name": "python3"
  },
  "language_info": {
   "codemirror_mode": {
    "name": "ipython",
    "version": 3
   },
   "file_extension": ".py",
   "mimetype": "text/x-python",
   "name": "python",
   "nbconvert_exporter": "python",
   "pygments_lexer": "ipython3",
   "version": "3.5.2"
  }
 },
 "nbformat": 4,
 "nbformat_minor": 2
}
