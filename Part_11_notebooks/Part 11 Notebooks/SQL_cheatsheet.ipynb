{
 "cells": [
  {
   "cell_type": "markdown",
   "metadata": {},
   "source": [
    "# SQL query cheat sheet"
   ]
  },
  {
   "cell_type": "markdown",
   "metadata": {},
   "source": [
    "This notebook contains some of the basic SQL commands for querying a database. You may find it a useful reference while working through notebooks 11 and 12."
   ]
  },
  {
   "cell_type": "markdown",
   "metadata": {},
   "source": [
    "## Querying a database"
   ]
  },
  {
   "cell_type": "markdown",
   "metadata": {},
   "source": [
    "### `SELECT`ing columns of tables"
   ]
  },
  {
   "cell_type": "markdown",
   "metadata": {},
   "source": [
    "\n",
    "The basic SQL `SELECT` statement queries one or more tables.\n",
    "\n",
    "The basic query:\n",
    "\n",
    "```SQL\n",
    "SELECT *\n",
    "FROM movie;\n",
    "```\n",
    "\n",
    "will return the entire contents of the `movie` table: all the columns, and all the rows.\n"
   ]
  },
  {
   "cell_type": "markdown",
   "metadata": {},
   "source": [
    "If you specify some specific column names, only those columns will be returned, in the order specified:\n",
    "\n",
    "```SQL\n",
    "SELECT id, title\n",
    "FROM movie;\n",
    "```"
   ]
  },
  {
   "cell_type": "markdown",
   "metadata": {},
   "source": [
    "\n",
    "\n",
    "You can rename columns with `AS`:\n",
    "\n",
    "```SQL\n",
    "SELECT id, title AS title_of_movie\n",
    "FROM movie;\n",
    "```\n"
   ]
  },
  {
   "cell_type": "markdown",
   "metadata": {},
   "source": [
    "A `LIMIT` clause in the query will limit the number of rows returned:\n",
    "\n",
    "```SQL\n",
    "SELECT id, title\n",
    "FROM movie\n",
    "LIMIT 5;\n",
    "```\n",
    "\n",
    "(The SQL adapter will only _display_ a few rows of any returned data, even if the result is much longer.)"
   ]
  },
  {
   "cell_type": "markdown",
   "metadata": {},
   "source": [
    "### Filtering rows of a table with `WHERE`"
   ]
  },
  {
   "cell_type": "markdown",
   "metadata": {},
   "source": [
    "You can specify conditions in a query, and only rows matching those conditions will be returned. The condition is given by a `WHERE` clause. For instance, to find recent films you can filter by year:\n",
    "\n",
    "```SQL\n",
    "SELECT id, title, year\n",
    "FROM movie\n",
    "WHERE year > 1980;\n",
    "```\n"
   ]
  },
  {
   "cell_type": "markdown",
   "metadata": {},
   "source": [
    "\n",
    "If you want to give more than one condition, they must be connected by logical connectives (`AND`, `OR`) in a single `WHERE` clause:\n",
    "\n",
    "```SQL\n",
    "SELECT id, title, year\n",
    "FROM movie\n",
    "WHERE (year > 1980\n",
    "    AND year < 2000)\n",
    "    OR budget > 1000;\n",
    "```"
   ]
  },
  {
   "cell_type": "markdown",
   "metadata": {},
   "source": [
    "### `JOIN`ing tables"
   ]
  },
  {
   "cell_type": "markdown",
   "metadata": {},
   "source": [
    "To include data from more than one table, include additional tables in the `FROM` clause. Depending on the query, you may want to include fields from several tables in the query's output.\n",
    "\n",
    "Most often, you'll be wanting to join tables based on common identifiers. These joins will almost always be inner joins:\n",
    "\n",
    "```SQL\n",
    "SELECT movie.id, title, job\n",
    "FROM movie, crew\n",
    "WHERE movie.id = crew.movie_id;\n",
    "```\n",
    "\n",
    "You can refer to columns in different tables by prepending them with the table name, such as `movie.id` or `person.id`. Where there is no confusion between column names in different tables, you can omit the table name.\n"
   ]
  },
  {
   "cell_type": "markdown",
   "metadata": {},
   "source": [
    "\n",
    "If you want to join more than one table, you need more than one condition in the `WHERE` clause. Additional filtering also needs to go in the same `WHERE` clause:\n",
    "\n",
    "```SQL\n",
    "SELECT movie.id, title, job, name\n",
    "FROM movie, crew, person\n",
    "WHERE movie.id = crew.movie_id\n",
    "    AND crew.person_id = person.id\n",
    "    AND year > 1980;\n",
    "```"
   ]
  },
  {
   "cell_type": "markdown",
   "metadata": {},
   "source": [
    "### Aggregation with `GROUP BY`"
   ]
  },
  {
   "cell_type": "markdown",
   "metadata": {},
   "source": [
    "You can combine several rows of data with a `GROUP BY` clause, and include aggregate data in the query's output. Use `COUNT` to return the number of items:\n",
    "\n",
    "```SQL\n",
    "SELECT year, COUNT(id) AS movies_per_year\n",
    "FROM movie\n",
    "GROUP BY year;\n",
    "```\n",
    "\n",
    "It is good practice to rename aggregated columns, so use (say) `COUNT(id) AS movies_per_year` rather than just `COUNT(id)`.\n"
   ]
  },
  {
   "cell_type": "markdown",
   "metadata": {},
   "source": [
    "Other useful aggregation functions are:\n",
    "\n",
    "- `SUM` (add up the values in a column)\n",
    "- `AVG` (find the mean average of the values in a column)\n",
    "- `MIN` (find the smallest value in a column)\n",
    "- `MAX` (find the largest value in a column)\n",
    "\n",
    "For example, to find the average budget for making movies each year:\n",
    "\n",
    "```SQL\n",
    "SELECT year, AVG(budget) AS average_budget\n",
    "FROM movie\n",
    "GROUP BY year;\n",
    "```"
   ]
  },
  {
   "cell_type": "markdown",
   "metadata": {},
   "source": [
    "You can also filter whole groups with a `HAVING` clause. This query lists only the years in which more than 100 movies were made with a total budget of $100 million:\n",
    "\n",
    "```SQL\n",
    "SELECT year, SUM(budget) AS total_spent\n",
    "FROM movie\n",
    "GROUP BY year\n",
    "HAVING SUM(budget) > 100000000\n",
    "    AND COUNT(id) > 100;\n",
    "```\n",
    "\n",
    "(You can, and will probably need to, still include a `WHERE` clause together with a `GROUP BY` clause.)\n"
   ]
  },
  {
   "cell_type": "markdown",
   "metadata": {},
   "source": [
    "All fields you want to report but not aggregate must be listed in the `GROUP BY` clause:\n",
    "\n",
    "```SQL\n",
    "SELECT id, title, COUNT(job) AS crew_size\n",
    "FROM movie, crew\n",
    "WHERE id = movie_id\n",
    "GROUP BY id, title;\n",
    "```"
   ]
  },
  {
   "cell_type": "markdown",
   "metadata": {},
   "source": [
    "### `ORDER BY` to sort the returned values"
   ]
  },
  {
   "cell_type": "markdown",
   "metadata": {},
   "source": [
    "You can order the output of a query with an `ORDER BY` clause:\n",
    "\n",
    "```SQL\n",
    "SELECT id, title, year\n",
    "FROM movie\n",
    "ORDER BY title\n",
    "```\n"
   ]
  },
  {
   "cell_type": "markdown",
   "metadata": {},
   "source": [
    "\n",
    "The sorting algorithm is [stable](https://en.wikipedia.org/wiki/Sorting_algorithm#Stability), and you can order by several fields. You can change the sort order from the default ascending order (`ASC`) to descending order with the `DESC` modifier:\n",
    "\n",
    "```SQL\n",
    "SELECT id, title, year\n",
    "FROM movie\n",
    "ORDER BY year DESC, title\n",
    "```\n",
    "\n",
    "sorts by `year` in decreasing order, followed by `title` in ascending (alphabetical) order."
   ]
  }
 ],
 "metadata": {
  "kernelspec": {
   "display_name": "Python 3",
   "language": "python",
   "name": "python3"
  },
  "language_info": {
   "codemirror_mode": {
    "name": "ipython",
    "version": 3
   },
   "file_extension": ".py",
   "mimetype": "text/x-python",
   "name": "python",
   "nbconvert_exporter": "python",
   "pygments_lexer": "ipython3",
   "version": "3.6.8"
  }
 },
 "nbformat": 4,
 "nbformat_minor": 2
}
