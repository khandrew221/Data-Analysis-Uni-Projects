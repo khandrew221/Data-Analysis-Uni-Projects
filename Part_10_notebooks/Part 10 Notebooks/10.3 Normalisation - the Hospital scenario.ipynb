{
 "cells": [
  {
   "cell_type": "markdown",
   "metadata": {},
   "source": [
    "# <a name=\"top\"></a>Normalisation - Hospital: 3 hours (1 hour per NF, includes referring back to 10.2)"
   ]
  },
  {
   "cell_type": "markdown",
   "metadata": {},
   "source": [
    "In this notebook, you will practise normalisation by normalising the hospital data from the TM351 running example.\n",
    "\n",
    "You should make frequent reference to Notebook 10.2 for examples of how to perform each step. When you've finished this notebook, you should have something like Notebook 10.2 replicated here.\n",
    "\n",
    "This notebook will take quite a while to work through. There's no need to do it all in one go. Convenient places to stop are after completing each normal form, but you could also pause after creating each new table at each normalised form.\n",
    "\n",
    "* [Moving to first normal form (1NF)](#1nf)\n",
    "* [Moving to second normal form (2NF)](#2nf)\n",
    "* [Moving to third normal form (3NF)](#3nf)"
   ]
  },
  {
   "cell_type": "markdown",
   "metadata": {},
   "source": [
    "## The data"
   ]
  },
  {
   "cell_type": "markdown",
   "metadata": {},
   "source": [
    "\n",
    "This is the data you will be normalising. Your task is to move this data from the unnormalised form given below into a collection of relations in 3NF, implemented as a collection of PostgreSQL tables.\n",
    "\n",
    "You should refer to notebook *10.2 Normalisation - Antique Opticals* for examples of how to carry out each of the steps.\n",
    "\n",
    "An example form which is the source of the data is shown below."
   ]
  },
  {
   "cell_type": "markdown",
   "metadata": {},
   "source": [
    "<img src=\"images/tm351-patient_record.png\" alt=\"Drawing\" style=\"width: 75%;\"/>"
   ]
  },
  {
   "cell_type": "markdown",
   "metadata": {},
   "source": [
    "The functional dependencies in this example are:\n",
    "\n",
    "| This attribute | functionally defines this attribute |\n",
    "| ------------- |:------------- |\n",
    "| `patient_id`  | `patient_name` |\n",
    "| `patient_id`  | `doctor_id` |\n",
    "| `doctor_id`   | `doctor_name`  |\n",
    "| `drug_code`   |  `drug_name`   |\n",
    "| (`patient_id`, `prescribing_doctor_id`, `drug_code`, `date`) | `dosage`   |\n",
    "| (`patient_id`, `prescribing_doctor_id`, `drug_code`, `date`) | `duration` |"
   ]
  },
  {
   "cell_type": "markdown",
   "metadata": {},
   "source": [
    "You should use the same data as in Notebook 10.1, in which we imported the unnormalised data from the csv file `unnormalised_prescription.csv`, as:"
   ]
  },
  {
   "cell_type": "code",
   "execution_count": null,
   "metadata": {},
   "outputs": [],
   "source": [
    "!head unnormalised_prescription.csv"
   ]
  },
  {
   "cell_type": "markdown",
   "metadata": {},
   "source": [
    "We have not included solutions in this notebook: for our solution, you should look in notebook *10.4 Our solution to Normalisation - the Hospital scenario*."
   ]
  },
  {
   "cell_type": "markdown",
   "metadata": {},
   "source": [
    "### When things go wrong\n",
    "\n",
    "You will almost certainly make mistakes during the process of working through this notebook. When you do, just clear out the database and repeat the steps you know work.\n",
    "\n",
    "To clear out the database, re-run the database cleanup cell (making sure you have an active connection):\n"
   ]
  },
  {
   "cell_type": "raw",
   "metadata": {},
   "source": [
    "%run reset_databases.ipynb"
   ]
  },
  {
   "cell_type": "markdown",
   "metadata": {},
   "source": [
    "## Setting up"
   ]
  },
  {
   "cell_type": "markdown",
   "metadata": {},
   "source": [
    "The next group of cells set up your database connection, and reset the database to a clean state. Check notebook *8.1 Data Definition Language in SQL* if you are unsure what the next cells do.\n",
    "\n",
    "You may need to change the given values of the variables `DB_USER` and `DB_PWD`, depending on which environment you are using"
   ]
  },
  {
   "cell_type": "raw",
   "metadata": {},
   "source": [
    "# If you are using the remote environment, change this cell\n",
    "# type to \"code\", and execute it\n",
    "\n",
    "DB_USER='xxx99'            # Enter your OUCU here (in quotes)\n",
    "DB_PWD='your_password'     # Enter your password here (in quotes)"
   ]
  },
  {
   "cell_type": "raw",
   "metadata": {},
   "source": [
    "# If you are using a locally hosted environment, change this cell\n",
    "# type to \"code\", and execute it\n",
    "\n",
    "DB_USER='tm351'\n",
    "DB_PWD='tm351'"
   ]
  },
  {
   "cell_type": "code",
   "execution_count": null,
   "metadata": {},
   "outputs": [],
   "source": [
    "# Make the connection\n",
    "\n",
    "%run sql_init.ipynb\n",
    "print(\"Connecting with connection string : {}\".format(DB_CONNECTION))\n",
    "%sql $DB_CONNECTION"
   ]
  },
  {
   "cell_type": "code",
   "execution_count": null,
   "metadata": {},
   "outputs": [],
   "source": [
    "%run reset_databases.ipynb"
   ]
  },
  {
   "cell_type": "markdown",
   "metadata": {},
   "source": [
    "# Load the data"
   ]
  },
  {
   "cell_type": "code",
   "execution_count": null,
   "metadata": {},
   "outputs": [],
   "source": [
    "prescriptions_detail = pd.read_csv('unnormalised_prescription.csv', parse_dates=['date'])\n",
    "prescriptions_detail"
   ]
  },
  {
   "cell_type": "markdown",
   "metadata": {},
   "source": [
    "# <a name=\"1nf\"></a> Moving from unnormalised data to first formal form (1NF)\n",
    "* [Top](#top)\n",
    "\n",
    "Convert the data above into one or more relations, each in 1NF. Verify that the normalised tables accurately represent the original data. \n",
    "\n",
    "One relation should use `patient_id` as its primary key.\n",
    "\n",
    "----\n",
    "\n",
    "Remember the mantra: to be in third normal form, \n",
    "> attributes must be dependent on the key, the whole key, and nothing but the key.\n",
    "\n",
    "Where there are multiple values of an attribute for a key, a _repeating group_, we need to extract the repeating values into a new relation.\n",
    "\n",
    "More formally, **a relation in 1NF has no repeating groups**."
   ]
  },
  {
   "cell_type": "code",
   "execution_count": null,
   "metadata": {
    "student": true
   },
   "outputs": [],
   "source": [
    "# Write your code to convert the file into 1NF here.\n",
    "# You will need more than one cell to do it. "
   ]
  },
  {
   "cell_type": "markdown",
   "metadata": {},
   "source": [
    "# <a name=\"2nf\"></a>Moving to second normal form (2NF)\n",
    "* [Top](#top)\n",
    "\n",
    "Convert the 1NF tables you created above into a collection of relations, implemented as Postresql tables, each in 2NF. \n",
    "\n",
    "The functional dependencies in this example are:\n",
    "\n",
    "| This attribute | functionally defines this attribute |\n",
    "| ------------- |:------------- |\n",
    "| `patient_id`  | `patient_name` |\n",
    "| `patient_id`  | `doctor_id` |\n",
    "| `doctor_id`   | `doctor_name`  |\n",
    "| `drug_code`   |  `drug_name`   |\n",
    "| (`patient_id`, `prescribing_doctor_id`, `drug_code`, `date`) | `dosage`   |\n",
    "| (`patient_id`, `prescribing_doctor_id`, `drug_code`, `date`) | `duration` |\n",
    "\n",
    "----\n",
    "\n",
    "To reiterate, to be in third normal form, \n",
    "> attributes must be dependent on the key, the whole key, and nothing but the key.\n",
    "\n",
    "Formally, **a relation in 2NF has all attributes functionally dependent on the whole of the primary key**.\n"
   ]
  },
  {
   "cell_type": "code",
   "execution_count": null,
   "metadata": {
    "student": true
   },
   "outputs": [],
   "source": [
    "# Write your code to convert the database into 2NF here.\n",
    "# You will need more than one cell to do it. "
   ]
  },
  {
   "cell_type": "markdown",
   "metadata": {},
   "source": [
    "# <a name=\"3nf\"></a>Moving to Third Normal Form (3NF)\n",
    "* [Top](#top)\n",
    "\n",
    "\n",
    "Convert the 2NF tables you created above into a collection of relations, implemented as Postresql tables, each in 3NF. \n",
    "\n",
    "When you've finished, include all the foreign key constraints to connect the various tables.\n",
    "\n",
    "As a reminder, the functional dependencies in this example are:\n",
    "\n",
    "| This attribute | functionally defines this attribute |\n",
    "| ------------- |:------------- |\n",
    "| `patient_id`  | `patient_name` |\n",
    "| `patient_id`  | `doctor_id` |\n",
    "| `doctor_id`   | `doctor_name`  |\n",
    "| `drug_code`   |  `drug_name`   |\n",
    "| (`patient_id`, `prescribing_doctor_id`, `drug_code`, `date`) | `dosage`   |\n",
    "| (`patient_id`,`prescribing_doctor_id`,  `drug_code`, `date`) | `duration` |\n",
    "\n",
    "----\n",
    "\n",
    "To be in third normal form, \n",
    "> attributes must be dependent on the key, the whole key, and nothing but the key.\n",
    "\n",
    "To move to third normal form (3NF), we have to ensure the first clause of that mantra: each attribute is directly functionally dependent on the key, and not functionally dependent on any other attribute. As before, we ensure this is true by splitting relations as necessary, while ensuring that all relations remain in 2NF (and hence also in 1NF). \n",
    "\n",
    "Formally, **a relation in 3NF has all attributes _directly_ functionally dependent on the whole of the primary key**."
   ]
  },
  {
   "cell_type": "code",
   "execution_count": null,
   "metadata": {
    "student": true
   },
   "outputs": [],
   "source": [
    "# Write your code to convert the database into 3NF here.\n",
    "# You will need more than one cell to do it. "
   ]
  },
  {
   "cell_type": "markdown",
   "metadata": {},
   "source": [
    "## Review"
   ]
  },
  {
   "cell_type": "markdown",
   "metadata": {},
   "source": [
    "Compare the relations you have created here to the entities for the prescription example from Part 8. Have you generated the same relations? Have you generated the same relationships between the relations, as shown by the foreign keys?\n",
    "\n",
    "What does this tell you about the role normalisation should play in structuring data systems?"
   ]
  },
  {
   "cell_type": "markdown",
   "metadata": {},
   "source": [
    "## What next?"
   ]
  },
  {
   "cell_type": "markdown",
   "metadata": {},
   "source": [
    "If you are working through this Notebook as part of an inline exercise, return to the module materials now.\n",
    "\n",
    "If you are working through this set of Notebooks as a whole, move on to notebook *10.5 Improvements with normalised data*."
   ]
  }
 ],
 "metadata": {
  "kernelspec": {
   "display_name": "Python 3",
   "language": "python",
   "name": "python3"
  },
  "language_info": {
   "codemirror_mode": {
    "name": "ipython",
    "version": 3
   },
   "file_extension": ".py",
   "mimetype": "text/x-python",
   "name": "python",
   "nbconvert_exporter": "python",
   "pygments_lexer": "ipython3",
   "version": "3.7.8"
  }
 },
 "nbformat": 4,
 "nbformat_minor": 1
}
