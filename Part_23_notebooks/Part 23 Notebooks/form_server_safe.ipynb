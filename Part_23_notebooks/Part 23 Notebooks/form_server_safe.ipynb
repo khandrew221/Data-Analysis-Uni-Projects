{
 "cells": [
  {
   "cell_type": "markdown",
   "metadata": {},
   "source": [
    "# Basic Form to Demonstrate Sanitizing Inputs"
   ]
  },
  {
   "cell_type": "markdown",
   "metadata": {},
   "source": [
    "This notebook creates a form, which takes the identifier of a patient, and prints the patient's name, and the name and identifier of the doctor responsible for that patient. The call to the form is made safe by using the `params` parameter to the `pandas.read_sql` function."
   ]
  },
  {
   "cell_type": "markdown",
   "metadata": {},
   "source": [
    "## Establish the connection"
   ]
  },
  {
   "cell_type": "markdown",
   "metadata": {},
   "source": [
    "In order to run this query, the user needs to be logged into the database, so the first thing to do is to set up the authentication credentials. "
   ]
  },
  {
   "cell_type": "code",
   "execution_count": null,
   "metadata": {},
   "outputs": [],
   "source": [
    "%run part_23_authentication_notebook.ipynb"
   ]
  },
  {
   "cell_type": "code",
   "execution_count": null,
   "metadata": {},
   "outputs": [],
   "source": [
    "import pandas as pd\n",
    "import psycopg2 as pg\n",
    "\n",
    "# pprint is used to \"pretty print\" the output\n",
    "\n",
    "import pprint"
   ]
  },
  {
   "cell_type": "markdown",
   "metadata": {},
   "source": [
    "Set up a connection to the database:"
   ]
  },
  {
   "cell_type": "code",
   "execution_count": null,
   "metadata": {},
   "outputs": [],
   "source": [
    "\n",
    "form_connection=pg.connect(dbname=DB_USER,     # the name of the database\n",
    "                    host='localhost',   # the host on which the database engine is running\n",
    "                    user=DB_USER,       # id of the user who is logging in\n",
    "                    password=DB_PWD,    # the user's password\n",
    "                    port=5432)          # the port on which the database engine is listening\n",
    "\n",
    "form_connection.autocommit = True\n"
   ]
  },
  {
   "cell_type": "markdown",
   "metadata": {},
   "source": [
    "## Handle the form"
   ]
  },
  {
   "cell_type": "markdown",
   "metadata": {},
   "source": [
    "The next cell prompts the user to enter a string:"
   ]
  },
  {
   "cell_type": "code",
   "execution_count": null,
   "metadata": {},
   "outputs": [],
   "source": [
    "input_id=input('Enter the patient id: ')"
   ]
  },
  {
   "cell_type": "markdown",
   "metadata": {},
   "source": [
    "Use the input to the form to construct a query, execute it and print the resulting table."
   ]
  },
  {
   "cell_type": "code",
   "execution_count": null,
   "metadata": {},
   "outputs": [],
   "source": [
    "print()\n",
    "print(pd.read_sql('''\n",
    "    SELECT *\n",
    "    FROM form_view\n",
    "    WHERE LOWER(patient_id) = %s\n",
    "    ''',\n",
    "                  form_connection,\n",
    "                  params=[input_id.lower()]).to_string(index=False))"
   ]
  }
 ],
 "metadata": {
  "kernelspec": {
   "display_name": "Python 3",
   "language": "python",
   "name": "python3"
  },
  "language_info": {
   "codemirror_mode": {
    "name": "ipython",
    "version": 3
   },
   "file_extension": ".py",
   "mimetype": "text/x-python",
   "name": "python",
   "nbconvert_exporter": "python",
   "pygments_lexer": "ipython3",
   "version": "3.7.8"
  }
 },
 "nbformat": 4,
 "nbformat_minor": 2
}
