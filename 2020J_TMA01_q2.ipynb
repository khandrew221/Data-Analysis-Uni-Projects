{
 "cells": [
  {
   "cell_type": "markdown",
   "metadata": {},
   "source": [
    "# TMA01, question 2 (60 marks)"
   ]
  },
  {
   "cell_type": "markdown",
   "metadata": {},
   "source": [
    "**Name**: \\[Enter your name here\\]\n",
    "\n",
    "**PI**: \\[Enter your student ID here\\]"
   ]
  },
  {
   "cell_type": "markdown",
   "metadata": {},
   "source": [
    "This TMA question gives you the opportunity to demonstrate your mastery of the techniques in carrying out a small-scale data analysis. Specifically, this question requires you to clean two datasets, combine and reshape them, and graphically present the cleaned data. All the techniques required to answer this question can be found in Parts 2-6, and are illustrated in the associated notebooks."
   ]
  },
  {
   "cell_type": "markdown",
   "metadata": {},
   "source": [
    "## The Task"
   ]
  },
  {
   "cell_type": "markdown",
   "metadata": {},
   "source": [
    "In this question, you will investigate the relationship between regulations surrounding fixed term contracts in different countries, the nature of those countries' economies, and the gender split in those countries' economic sectors."
   ]
  },
  {
   "cell_type": "markdown",
   "metadata": {},
   "source": [
    "A fixed term contract (FTC) is usually an employment contract, which runs for a specified length of time, such as 2 years. Because extensive use of fixed term contracts typically offer lower levels of employment protection to workers, many countries regulate their use. For example, repeated use of a FTC can be used to attempt to bypass laws on unfair dismissal."
   ]
  },
  {
   "cell_type": "markdown",
   "metadata": {},
   "source": [
    "In this question, you will investigate two datasets. The first details which countries regulate the use of FTCs according to the [International Labour Organisation](https://www.ilo.org/global/lang--en/index.htm). The second dataset is compiled by the [United Nations](https://data.un.org), and describes how each country's economy divides into the areas of agriculture, industry and services, and how much of the male and female workforce works in each of those sectors."
   ]
  },
  {
   "cell_type": "markdown",
   "metadata": {},
   "source": [
    "The aim is to estimate whether there is a link between the gender split in different economic sectors, and whether the country enforces a limit on the total time that someone can be employed on successive fixed term contracts."
   ]
  },
  {
   "cell_type": "markdown",
   "metadata": {},
   "source": [
    "You should obtain the data on fixed term contracts via the International Labour Organisation from the site:\n",
    "\n",
    "https://eplex.ilo.org/fixed-term-contracts-ftcs/\n",
    "    \n",
    "(click on the \"Download\" link at the bottom right of the table to download the data). Note that this data is provided in Excel format. You can import an Excel spreadsheet directly into pandas with the `pandas.read_excel()` function, or by converting into a different format through some other application.\n",
    "\n",
    "You should obtain the data on economic sectors via the UN using the link:\n",
    "\n",
    "https://data.un.org/_Docs/SYB/CSV/SYB62_200_201905_Employment.csv"
   ]
  },
  {
   "cell_type": "markdown",
   "metadata": {},
   "source": [
    "You must produce three graphical illustrations of the available data:\n",
    "\n",
    "1. The first graph should show the relationship between the number of male employees and female employees in the agricultural sector for each country, with an indication of whether or not there is an upper limit on the cumulative duration of successive FTCs on which someone may be employed.\n",
    "\n",
    "2. The second graph should show the same relationship as your first graph, but for each country's industrial sector.\n",
    "\n",
    "3. The third graph should show the same relationship as your first graph, but for each country's services sector.\n",
    "\n",
    "You should then discuss what you believe your representations show.\n",
    "\n",
    "(60 marks)"
   ]
  },
  {
   "cell_type": "markdown",
   "metadata": {},
   "source": [
    "### Some Guidance"
   ]
  },
  {
   "cell_type": "markdown",
   "metadata": {},
   "source": [
    "There are many ways you could approach this task, but one way might be to produce a pandas dataframe, containing values so that the percentages of the different populations and status of the duration of FTCs are contained in the dataframe. The final dataframe might then look something like this:"
   ]
  },
  {
   "cell_type": "markdown",
   "metadata": {},
   "source": [
    "\n",
    "|Country|% of male workforce in agriculture|% of female workforce in agriculture|% of male workforce in industry|% of female workforce in industry|% of male workforce in services|% of female workforce in services|FTC duration limited?|\n",
    "|---|---|---|---|---|---|---|---|\n",
    "|Canada | 60 | 56 |35 | 8 |5 | 36 | True |\n",
    "|France | 47 | 66 |16 | 6 |37 | 28 | False |\n",
    "|Morocco | 59 | 44 |33 | 37 |8 | 19 | True |\n",
    "|Japan | 6 | 62 |29 | 36 |65 | 2 | False |\n",
    "| $\\vdots$ | $\\vdots$ | $\\vdots$ |$\\vdots$ | $\\vdots$ | $\\vdots$ |$\\vdots$ | $\\vdots$ | "
   ]
  },
  {
   "cell_type": "markdown",
   "metadata": {},
   "source": [
    "(although note that the entries 60, 56, 35, ..., True, ... are just for illustration; they are not necessarily the correct values for the question)."
   ]
  },
  {
   "cell_type": "markdown",
   "metadata": {},
   "source": [
    "You should then construct three plots showing the relationships between the percentages of males and females in the workforce, and whether there is a limitation on the total length of time someone can be employed on FTCs in that country.\n",
    "\n",
    "You should also give an explanation of what you believe your plots show."
   ]
  },
  {
   "cell_type": "markdown",
   "metadata": {},
   "source": [
    "## Presenting Your Work<a id='presentation_tips'></a>"
   ]
  },
  {
   "cell_type": "markdown",
   "metadata": {},
   "source": [
    "This TMA question is designed to develop your skills in carrying out and presenting an independent data investigation. As such, your final notebook should have a clear narrative explaining *what* you are doing at each stage, and *why*. This means that you must:\n",
    "\n",
    "* explain how you are handling the data, including explaining the code that you have written,\n",
    "\n",
    "* clearly explain any assumptions or simplifications that you have made about the data, and\n",
    "\n",
    "* interpret your final results in the context of these assumptions and simplifications.\n"
   ]
  },
  {
   "cell_type": "markdown",
   "metadata": {},
   "source": [
    "Each operation should be presented in its own code cell (or cells, if it is clearer to break the code up a bit) and be preceded by at least one markdown cell explaining what the code is intended to do. You should also use the markdown to justify your decisions.\n",
    "\n",
    "For example, if you were carrying out the data investigation from question 1 of this TMA, and you had noticed that one dataset contains entries for Avon, and the other contains entries for Bristol, you might write a markdown cell along the lines of:\n",
    "> The first dataset contains entries for `Avon` which are not in the second dataset. The second dataset contains entries for `Bristol` which are not in the first dataset. As Bristol represents the former county of Avon, I assume that these are intended to refer to the same area, and so the datasets are inconsistent. The occurrences of `Avon` in the first dataset should be therefore be replaced with `Bristol`.\n",
    "\n",
    "before writing a code cell to replace occurrences of `Avon` with `Bristol` in the appropriate dataset.\n",
    "\n",
    "In this case, the markdown describes:\n",
    "\n",
    "- what the problem is (inconsistent data),\n",
    "- what I'm doing about it (replacing `Avon` with `Bristol` in one of the datasets), and\n",
    "- why I'm doing it (it's reasonable to assume that Avon and Bristol are the same place).\n",
    "\n",
    "Note that you are *not* expected to have extensive domain specific knowledge for TM351. In this case, if you don't know much about English geography, you might have felt that a better solution would be to have rows for Avon and Bristol with null values in the final dataset. That would be fine too, provided that you explained why you had made that decision. In TM351 you will be rewarded for making reasonable decisions, clearly justifying them, correctly implementing them and explaining what you have done."
   ]
  },
  {
   "cell_type": "markdown",
   "metadata": {},
   "source": [
    "Some general considerations on presentation:\n",
    "\n",
    "* You must present your answer in this notebook.\n",
    "    \n",
    "* Do not put too much text or code into each notebook cell. Text or markdown cells should contain one or two paragraphs at most. Code cells should contain around ten lines of code at most.\n",
    "\n",
    "* Ensure that your code is clear enough for a reader (in this case your tutor) to understand, For example, you should use meaningful variable names, comments where appropriate and so on.\n",
    "\n",
    "* You should have a specific cell whose return value is the dataframe described above, or an equivalent that you will use to generate your final plot.\n",
    "\n",
    "* You should have three specific cells which give the plots of the data that you require."
   ]
  },
  {
   "cell_type": "markdown",
   "metadata": {},
   "source": [
    "### Using Tools Outside the Notebooks"
   ]
  },
  {
   "cell_type": "markdown",
   "metadata": {},
   "source": [
    "Unlike question 1 of this TMA, you do not have to use python or pandas to carry out all of your analyses for this question. However, if you do not use python, you will need to provide screenshots of the tools you did use in order to show your working, and to enable your reader to replicate your analysis. To display an image in your notebook, you should use the appropriate HTML code in a markdown cell:\n",
    "```html\n",
    "<img src=\"myScreenshot.jpg\"> \n",
    "```\n",
    "or\n",
    "```html\n",
    "<img src=\"myScreenshot.png\"> \n",
    "```\n",
    "(where `myScreenshot.jpg` or `myScreenshot.png` is the name of your screenshot image; the image will be shown when you run the cell, and the form of the image is determined from the extension). It is good practice to keep your screenshots in a separate folder; if you do so, then modify the syntax to be:\n",
    "```html\n",
    "<img src=\"images/myScreenshot.jpg\">\n",
    "```\n",
    "or\n",
    "```html\n",
    "<img src=\"images/myScreenshot.png\">\n",
    "```\n",
    "where `images` is the name of the folder containing your screenshot files.\n",
    "\n",
    "Remember to include all your images in the TMA zip file that you submit to the eTMA system."
   ]
  },
  {
   "cell_type": "markdown",
   "metadata": {},
   "source": [
    "## Structuring Your Answer"
   ]
  },
  {
   "cell_type": "markdown",
   "metadata": {},
   "source": [
    "This question requires that you complete a number of tasks:\n",
    "\n",
    "1. You will need to identify the licences governing the data you use, and identify the specific clauses which show that you are permitted to carry out your chosen analysis.\n",
    "\n",
    "2. You may wish to carry out some preprocessing on the datasets before importing them using OpenRefine.\n",
    "\n",
    "3. You need to import the two datasets into python.\n",
    "\n",
    "4. You will need to restructure the data into a dataframe in the form described above. You will need to reshape the data, and possibly carry out further cleaning.\n",
    "\n",
    "5. Finally, you should select a visualisation method for the data in the dataset, and present a visualisation of the data, with a description of how you think it should be interpreted. We are not prescribing a particular choice of visualisation: you should choose one that you think is appropriate and clear.\n",
    "\n",
    "For stages 2. and 4., you must examine the datasets and process them in a way that will enable you to create the desired visualisation. You should consider questions such as:\n",
    "\n",
    "- Is there ambiguity in the dataset? (That is, are there aspects of the data which are unclear, and/or not documented?)\n",
    "    \n",
    "- Is any data missing from the datasets?\n",
    "    \n",
    "- Is there any dirtiness in the datasets, or inconsistency in how the data is represented between the two datasets?\n",
    "    \n",
    "In each case, you should describe the problem you have found with the data. You should then clearly explain how you have handled it, [as described above](#presentation_tips).\n",
    "\n"
   ]
  },
  {
   "cell_type": "markdown",
   "metadata": {},
   "source": [
    "We have provided a structure for your answer. The headings do not represent equal amounts of work, because different datasets and different tasks require the effort to be spent in different places. Also, you may need to use several cells to address a particular heading. For example, you would expect to present substantially more work on reshaping the data, than on importing the datasets.\n",
    "\n",
    "Similarly, you might choose to do a lot of the dataset manipulation in OpenRefine, or you might prefer to do all the work in pandas. Either is acceptable, but will result in your final submission having quite different structures. In fact, if you choose to carry out your whole analysis using pandas rather than OpenRefine, you will not need to have a section on preprocessing at all."
   ]
  },
  {
   "cell_type": "markdown",
   "metadata": {},
   "source": [
    "#### Approximate breakdown of marks\n",
    "\n",
    "The following table gives an approximate breakdown of how marks might be awarded. Be aware that your tutor has considerable discretion about where to award marks, and the final allocation might vary depending upon how you choose to approach the various subtasks in the investigation. In particular, bear in mind that Level 3 is about critical reflection, so your overall approach and analysis of your results are just as important as the code that you write."
   ]
  },
  {
   "cell_type": "markdown",
   "metadata": {},
   "source": [
    "| Category | Number of marks |\n",
    "|-----------------|-------|\n",
    "| 1. Identify and Explain the Relevant Licensing Terms and Conditions | 5 |\n",
    "| 2. Preprocess the Data (if applicable) | (\\*) |\n",
    "| 3. Import the Datasets | 5 |\n",
    "|4. Clean and Reshape the Data | (\\*)20 |\n",
    "|5. Put the data into an appropriate form for plotting | 5 |\n",
    "|6. Visualise the data | 10 |\n",
    "|7. Interpret the plot | 5 |\n",
    "|Presentation (not explicit in the structure) | 10 |\n",
    "\n",
    "(\\*) You might carry out some of your cleaning and reshaping in preprocessing or in `pandas`, so consider categories 2 and 4 as being worth around 20 marks altogether."
   ]
  },
  {
   "cell_type": "markdown",
   "metadata": {},
   "source": [
    "-----------------------------------------------------------------------"
   ]
  },
  {
   "cell_type": "markdown",
   "metadata": {},
   "source": [
    "\n",
    "## Your Answer"
   ]
  },
  {
   "cell_type": "markdown",
   "metadata": {},
   "source": [
    "#### 1. Identify and Explain the Relevant Licensing Terms and Conditions"
   ]
  },
  {
   "cell_type": "code",
   "execution_count": null,
   "metadata": {},
   "outputs": [],
   "source": []
  },
  {
   "cell_type": "markdown",
   "metadata": {},
   "source": [
    "#### 2. Preprocess the Data (if applicable)"
   ]
  },
  {
   "cell_type": "code",
   "execution_count": null,
   "metadata": {},
   "outputs": [],
   "source": []
  },
  {
   "cell_type": "markdown",
   "metadata": {},
   "source": [
    "#### 3. Import the Datasets"
   ]
  },
  {
   "cell_type": "code",
   "execution_count": null,
   "metadata": {},
   "outputs": [],
   "source": []
  },
  {
   "cell_type": "markdown",
   "metadata": {},
   "source": [
    "#### 4. Clean and Reshape the Data"
   ]
  },
  {
   "cell_type": "code",
   "execution_count": null,
   "metadata": {},
   "outputs": [],
   "source": []
  },
  {
   "cell_type": "markdown",
   "metadata": {},
   "source": [
    "#### 5. Put the data into an appropriate form for plotting"
   ]
  },
  {
   "cell_type": "code",
   "execution_count": null,
   "metadata": {},
   "outputs": [],
   "source": []
  },
  {
   "cell_type": "markdown",
   "metadata": {},
   "source": [
    "#### 6. Visualise the data"
   ]
  },
  {
   "cell_type": "code",
   "execution_count": null,
   "metadata": {},
   "outputs": [],
   "source": []
  },
  {
   "cell_type": "markdown",
   "metadata": {},
   "source": [
    "#### 7. Interpret the plot"
   ]
  },
  {
   "cell_type": "code",
   "execution_count": null,
   "metadata": {},
   "outputs": [],
   "source": []
  }
 ],
 "metadata": {
  "kernelspec": {
   "display_name": "Python 3",
   "language": "python",
   "name": "python3"
  },
  "language_info": {
   "codemirror_mode": {
    "name": "ipython",
    "version": 3
   },
   "file_extension": ".py",
   "mimetype": "text/x-python",
   "name": "python",
   "nbconvert_exporter": "python",
   "pygments_lexer": "ipython3",
   "version": "3.7.8"
  }
 },
 "nbformat": 4,
 "nbformat_minor": 2
}
