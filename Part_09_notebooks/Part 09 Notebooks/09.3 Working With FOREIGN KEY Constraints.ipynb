{
 "cells": [
  {
   "cell_type": "markdown",
   "metadata": {},
   "source": [
    "# Working With CONSTRAINT Actions"
   ]
  },
  {
   "cell_type": "markdown",
   "metadata": {},
   "source": [
    "By adding foreign key constraints to a table definition, we can prevent rows being added to a child table that do not contain a valid cross-reference into the parent table(s). But what if a row in the parent table that is referenced by one or more records in the child table is deleted? In that case, won't the child table contain orphaned elements?\n",
    "\n",
    "In this notebook, we will look at some of the different ways in which the database can behave when referential constraints risk being violated. This gives us a high level of control over how database integrity is maintained."
   ]
  },
  {
   "cell_type": "markdown",
   "metadata": {},
   "source": [
    "You should spend about 2 hours on this notebook."
   ]
  },
  {
   "cell_type": "markdown",
   "metadata": {},
   "source": [
    "## Setting up"
   ]
  },
  {
   "cell_type": "markdown",
   "metadata": {},
   "source": [
    "The next group of cells set up your database connection, and reset the database to a clean state. Check notebook *08.1 Data Definition Language in SQL* if you are unsure what the next cells do.\n",
    "\n",
    "You may need to change the given values of the variables `DB_USER` and `DB_PWD`, depending on which environment you are using."
   ]
  },
  {
   "cell_type": "raw",
   "metadata": {},
   "source": [
    "# If you are using the remote environment, change this cell\n",
    "# type to \"code\", and execute it\n",
    "\n",
    "DB_USER='xxx99'            # Enter your OUCU here (in quotes)\n",
    "DB_PWD='your_password'     # Enter your password here (in quotes)"
   ]
  },
  {
   "cell_type": "raw",
   "metadata": {},
   "source": [
    "# If you are using a locally hosted environment, change this cell\n",
    "# type to \"code\", and execute it\n",
    "\n",
    "DB_USER='tm351'\n",
    "DB_PWD='tm351'"
   ]
  },
  {
   "cell_type": "code",
   "execution_count": null,
   "metadata": {},
   "outputs": [],
   "source": [
    "# Make the connection\n",
    "\n",
    "%run sql_init.ipynb\n",
    "print(\"Connecting with connection string : {}\".format(DB_CONNECTION))\n",
    "%sql $DB_CONNECTION"
   ]
  },
  {
   "cell_type": "code",
   "execution_count": null,
   "metadata": {},
   "outputs": [],
   "source": [
    "%run reset_databases.ipynb"
   ]
  },
  {
   "cell_type": "markdown",
   "metadata": {},
   "source": [
    "## The `hospital` schema"
   ]
  },
  {
   "cell_type": "markdown",
   "metadata": {},
   "source": [
    "As with notebook *09.2 Using foreign keys in SQL*, in this notebook we will use the `hospital` schema. This schema contains the four populated tables `patient`, `doctor`, `drug` and `prescription`, as well as the primary key constraints and foreign key constraints defined on them, as in Activity 3 of notebook *09.1 Defining Foreign Keys in SQL*.\n"
   ]
  },
  {
   "cell_type": "markdown",
   "metadata": {},
   "source": [
    "As before, we can use the built-in variable `search_path` to tell PostgreSQL to search the `hospital` schema before the `public` schema:"
   ]
  },
  {
   "cell_type": "code",
   "execution_count": null,
   "metadata": {},
   "outputs": [],
   "source": [
    "%%sql\n",
    "\n",
    "SET search_path TO hospital, public;"
   ]
  },
  {
   "cell_type": "markdown",
   "metadata": {},
   "source": [
    "And check the value of `search_path` with:"
   ]
  },
  {
   "cell_type": "code",
   "execution_count": null,
   "metadata": {},
   "outputs": [],
   "source": [
    "%%sql\n",
    "\n",
    "SHOW search_path;"
   ]
  },
  {
   "cell_type": "markdown",
   "metadata": {},
   "source": [
    "which should list `hospital` before `public`."
   ]
  },
  {
   "cell_type": "markdown",
   "metadata": {},
   "source": [
    "## Referential actions"
   ]
  },
  {
   "cell_type": "markdown",
   "metadata": {},
   "source": [
    "The previous notebooks have defined `doctor_id` as a column in the child table `patient`, which references the parent `doctor` table. If we look at the  `patient` table, we can see which values in the `patient` table reference values in the `doctor` table:"
   ]
  },
  {
   "cell_type": "code",
   "execution_count": null,
   "metadata": {},
   "outputs": [],
   "source": [
    "%%sql\n",
    "\n",
    "SELECT *\n",
    "FROM patient;"
   ]
  },
  {
   "cell_type": "markdown",
   "metadata": {},
   "source": [
    "If you ran the cell from the initial database state, the doctors which are referenced have identifiers `d06`, `d07`, `d10` and `d11`. We can see these in the `doctor` table:"
   ]
  },
  {
   "cell_type": "code",
   "execution_count": null,
   "metadata": {},
   "outputs": [],
   "source": [
    "%%sql\n",
    "\n",
    "SELECT * \n",
    "FROM doctor;"
   ]
  },
  {
   "cell_type": "markdown",
   "metadata": {
    "activity": true
   },
   "source": [
    "### Activity 1"
   ]
  },
  {
   "cell_type": "markdown",
   "metadata": {
    "activity": true
   },
   "source": [
    "The statements in the next two cells attempt to remove the rows from the `doctor` table with values of `d09` and `d10` in the `doctor_id` column. What do you think will happen if you try execute the statements (with the tables as they are populated at this point in the notebook)? Why?\n",
    "\n",
    "```sql\n",
    "DELETE FROM doctor\n",
    "WHERE doctor_id='d09';\n",
    "\n",
    "DELETE FROM doctor\n",
    "WHERE doctor_id='d10';\n",
    "```\n"
   ]
  },
  {
   "cell_type": "markdown",
   "metadata": {
    "student": true
   },
   "source": [
    "Write your answer in this cell"
   ]
  },
  {
   "cell_type": "markdown",
   "metadata": {
    "activity": true,
    "heading_collapsed": true
   },
   "source": [
    "#### Our solution\n",
    "\n",
    "To reveal our solution, run this cell or click on the triangle symbol on the left-hand side of the cell."
   ]
  },
  {
   "cell_type": "markdown",
   "metadata": {
    "activity": true,
    "hidden": true
   },
   "source": [
    "The following cell executes the first statement:"
   ]
  },
  {
   "cell_type": "code",
   "execution_count": null,
   "metadata": {
    "activity": true,
    "hidden": true
   },
   "outputs": [],
   "source": [
    "%%sql\n",
    "\n",
    "DELETE FROM doctor\n",
    "WHERE doctor_id='d09';"
   ]
  },
  {
   "cell_type": "markdown",
   "metadata": {
    "activity": true,
    "hidden": true
   },
   "source": [
    "You should find that this deletes the row from `doctor` with a value of `doctor_id` of `'d09'`. Check this with a `SELECT` query:"
   ]
  },
  {
   "cell_type": "code",
   "execution_count": null,
   "metadata": {
    "activity": true,
    "hidden": true
   },
   "outputs": [],
   "source": [
    "%%sql\n",
    "\n",
    "SELECT * \n",
    "FROM doctor;"
   ]
  },
  {
   "cell_type": "markdown",
   "metadata": {
    "activity": true,
    "hidden": true
   },
   "source": [
    "You should have found that the row from `doctor` with a value of `doctor_id` of `'d09'` has been deleted. However, compare this with the behaviour when we try to delete the row with value `'d10'`:"
   ]
  },
  {
   "cell_type": "code",
   "execution_count": null,
   "metadata": {
    "activity": true,
    "hidden": true
   },
   "outputs": [],
   "source": [
    "%%sql\n",
    "\n",
    "DELETE FROM doctor\n",
    "WHERE doctor_id='d10';"
   ]
  },
  {
   "cell_type": "markdown",
   "metadata": {
    "activity": true,
    "hidden": true
   },
   "source": [
    "If you execute the cell, you should find that an `IntegrityError` is raised, with the the message `update or delete on table \"doctor\" violates foreign key constraint \"hospital_patient_doctor_fk\" on table \"patient\"`. As we have seen ([Part 9, Section 4](https://learn2.open.ac.uk/mod/oucontent/view.php?id=1349963&section=4)), the foreign key constraint requires that each value that exists in the foreign key column (here, `patient.doctor_id`) must match a value in the `doctor.doctor_id` column. If we try to delete the row in `doctor` in which `doctor_id` is equal to `d06`, then there will be rows in `patient` in which the value of `doctor_id` does not correspond to any row in `doctor`. This is stated in the error message as: `Key (doctor_id)=(d10 ) is still referenced from table \"patient\".`.\n",
    "\n",
    "Therefore, the deletion is prevented."
   ]
  },
  {
   "cell_type": "markdown",
   "metadata": {
    "activity": true
   },
   "source": [
    "#### End of Activity 1"
   ]
  },
  {
   "cell_type": "markdown",
   "metadata": {},
   "source": [
    "------------------------------------------------"
   ]
  },
  {
   "cell_type": "markdown",
   "metadata": {},
   "source": [
    "If you have read [Part 9, section 9: Taking actions when foreign key constraints are violated](https://learn2.open.ac.uk/mod/oucontent/olinkremote.php?website=TM351&targetdoc=Part%209%20Relational%20data%20modelling&targetptr=9.1) of the online materials, you will have seen that there are several different actions that a RDBMS can take when a referenced foreign key value is deleted. In this case, the behaviour is the default behaviour for PostgreSQL, which is `NO ACTION` for *updates* which would result in a constraint violation, and `RESTRICT` for *deletions* which would result in a constraint violation."
   ]
  },
  {
   "cell_type": "markdown",
   "metadata": {},
   "source": [
    "As a reminder, here is the table from the materials which summarises the behaviours described in Harrington’s section [Foreign Keys](https://www.open.ac.uk/libraryservices/resource/bookchapter:117139&f=28414):"
   ]
  },
  {
   "cell_type": "markdown",
   "metadata": {},
   "source": [
    "|<p align=\"left\">SQL</p> |<p align=\"left\">behaviour</p> |ON UPDATE | ON DELETE|\n",
    "|--|--|--|--|\n",
    "|<p align=\"left\">SET NULL </p>    |<p align=\"left\">Replace the foreign key value with NULL; this isn’t <br> possible when the foreign key  is part of the primary key <br> of its table, or where it has been defined as NOT NULL <br> as part of the column definition </p> |  Y | Y |\n",
    "|<p align=\"left\">SET DEFAULT  | <p align=\"left\">Replace the foreign key value with the column’s default value      |    Y | Y |\n",
    "|<p align=\"left\">CASCADE      | <p align=\"left\">Delete or update all the foreign key rows which contain unmatched <br> values      |     Y | Y |\n",
    "|<p align=\"left\">NO ACTION    | <p align=\"left\">On update, make no modifications of foreign key values      |     Y | N |\n",
    "|<p align=\"left\">RESTRICT     | <p align=\"left\">Do not allow deletions of primary key rows if this would result <br> in a foreign key constraint violation      |     N | Y |"
   ]
  },
  {
   "cell_type": "markdown",
   "metadata": {},
   "source": [
    "To specify a particular action when a foreign key constraint is violated, we use an additional `ON DELETE` clause, so that the constraint definition syntax becomes:\n",
    "\n",
    "<code>ALTER TABLE &#x2329;table_name&#x232A;\n",
    "ADD CONSTRAINT &#x2329;constraint_name&#x232A;\n",
    "    FOREIGN KEY (&#x2329;column1, column2, ...&#x232A;) REFERENCES &#x2329;table_name&#x232A;\n",
    "        ON UPDATE &#x2329;action&#x232A;\n",
    "        ON DELETE &#x2329;action&#x232A;;\n",
    "</code>\n",
    "\n",
    "The clause <code>ON UPDATE &#x2329;action&#x232A;</code> is optional; if it is not specified, then the default behaviour is <code>ON UPDATE NO ACTION</code>. Similarly, the <code>ON DELETE &#x2329;action&#x232A;</code> clause is optional: if it is not specified, then the default behaviour is <code>ON DELETE RESTRICT</code>."
   ]
  },
  {
   "cell_type": "markdown",
   "metadata": {},
   "source": [
    "In Activity 1 of this notebook, attempting to delete the referenced row in the `doctor` table invoked the `RESTRICT` behaviour of the DBMS. We will now look at two of the other possible behaviours: `ON DELETE/UPDATE CASCADE` and `ON DELETE/UPDATE SET NULL`."
   ]
  },
  {
   "cell_type": "markdown",
   "metadata": {},
   "source": [
    "### ON DELETE CASCADE"
   ]
  },
  {
   "cell_type": "markdown",
   "metadata": {},
   "source": [
    "In order to experiment with the different constraint management behaviours, we need to be able to redefine the constraints on the various tables. If you check the error message generated in Activity 1, you can find the name of the constraint which was violated:\n",
    "\n",
    "<code>update or delete on table \"doctor\" violates foreign key constraint \"hospital_patient_doctor_fk\" on table \"patient\"\n",
    "DETAIL:  Key (doctor_id)=(d10 ) is still referenced from table \"patient\".\n",
    "</code>\n",
    "\n",
    "So the foreign key constraint in this case is called `hospital_patient_doctor_fk` (which is similar to the name we gave the foreign key constraint in notebook *09.1 Defining Foreign Keys in SQL*, but with `hospital_` prepended to clarify that the constraint has been defined in the `hospital` schema). Let's start by removing this constraint: "
   ]
  },
  {
   "cell_type": "code",
   "execution_count": null,
   "metadata": {},
   "outputs": [],
   "source": [
    "%%sql\n",
    "\n",
    "ALTER TABLE patient\n",
    "DROP CONSTRAINT hospital_patient_doctor_fk;"
   ]
  },
  {
   "cell_type": "markdown",
   "metadata": {},
   "source": [
    "Now we can redefine the constraint, with the constraint action on deletion being `CASCADE`, rather than `RESTRICT` and `NO ACTION`:"
   ]
  },
  {
   "cell_type": "code",
   "execution_count": null,
   "metadata": {},
   "outputs": [],
   "source": [
    "%%sql\n",
    "\n",
    "ALTER TABLE patient\n",
    "ADD CONSTRAINT hospital_patient_doctor_fk\n",
    "    FOREIGN KEY (doctor_id) REFERENCES doctor ON DELETE CASCADE;"
   ]
  },
  {
   "cell_type": "markdown",
   "metadata": {},
   "source": [
    "Now, let's see what happens when we try the `DELETE` statement again: "
   ]
  },
  {
   "cell_type": "code",
   "execution_count": null,
   "metadata": {},
   "outputs": [],
   "source": [
    "%%sql\n",
    "\n",
    "DELETE FROM doctor\n",
    "WHERE doctor_id='d10';"
   ]
  },
  {
   "cell_type": "markdown",
   "metadata": {},
   "source": [
    "If we check the `doctor` table, we should now find that the row with `d10` in the `doctor_id` column has been removed:"
   ]
  },
  {
   "cell_type": "code",
   "execution_count": null,
   "metadata": {},
   "outputs": [],
   "source": [
    "%%sql\n",
    "\n",
    "SELECT *\n",
    "FROM doctor;"
   ]
  },
  {
   "cell_type": "markdown",
   "metadata": {},
   "source": [
    "As we would hope, the row has now been deleted. But what about the rows in `patient` which referenced the deleted row? To see, we can look at the `patient` table:"
   ]
  },
  {
   "cell_type": "code",
   "execution_count": null,
   "metadata": {},
   "outputs": [],
   "source": [
    "%%sql\n",
    "\n",
    "SELECT *\n",
    "FROM patient;"
   ]
  },
  {
   "cell_type": "markdown",
   "metadata": {},
   "source": [
    "You should see that all the rows in `patient` which had contained `d10` in the `doctor_id` column have also been deleted."
   ]
  },
  {
   "cell_type": "code",
   "execution_count": null,
   "metadata": {},
   "outputs": [],
   "source": [
    "%%sql\n",
    "\n",
    "SELECT *\n",
    "FROM patient\n",
    "WHERE doctor_id = 'd10';"
   ]
  },
  {
   "cell_type": "markdown",
   "metadata": {},
   "source": [
    "What will happen if we try to change a value in the `doctor` table? The following statement will attempt to change the row:\n",
    "\n",
    "|doctor_id|doctor_name|\n",
    "|---------|-----------|\n",
    "|d11      |Nolan\n",
    "\n",
    "in `doctor` to:\n",
    "\n",
    "|doctor_id|doctor_name|\n",
    "|---------|-----------|\n",
    "|d17      |Nolan\n",
    "\n"
   ]
  },
  {
   "cell_type": "code",
   "execution_count": null,
   "metadata": {},
   "outputs": [],
   "source": [
    "%%sql\n",
    "\n",
    "UPDATE doctor\n",
    "SET doctor_id='d17'\n",
    "    WHERE doctor_id='d11';"
   ]
  },
  {
   "cell_type": "markdown",
   "metadata": {},
   "source": [
    "When the previous cell is executed, you should find that an `IntegrityError` is raised, with the explanatory text `update or delete on table \"doctor\" violates foreign key constraint \"hospital_patient_doctor_fk\" on table \"patient\"`. This indicates that our updated foreign key constraint only specified what should happen in case of `ON DELETE`: we failed to specify what should happen in case of `ON UPDATE`. Let's redefine the `hospital_patient_doctor_fk` constraint, but this time specify that the `CASCADE` action should take effect for both deletions and updates:"
   ]
  },
  {
   "cell_type": "code",
   "execution_count": null,
   "metadata": {},
   "outputs": [],
   "source": [
    "%%sql\n",
    "\n",
    "ALTER TABLE patient\n",
    "DROP CONSTRAINT hospital_patient_doctor_fk;\n",
    "\n",
    "ALTER TABLE patient\n",
    "ADD CONSTRAINT hospital_patient_doctor_fk\n",
    "    FOREIGN KEY (doctor_id) REFERENCES doctor \n",
    "        ON UPDATE CASCADE \n",
    "        ON DELETE CASCADE;"
   ]
  },
  {
   "cell_type": "markdown",
   "metadata": {},
   "source": [
    "Now we can try to update the table again:"
   ]
  },
  {
   "cell_type": "code",
   "execution_count": null,
   "metadata": {},
   "outputs": [],
   "source": [
    "%%sql\n",
    "\n",
    "UPDATE doctor\n",
    "SET doctor_id='d17'\n",
    "WHERE doctor_id='d11';"
   ]
  },
  {
   "cell_type": "markdown",
   "metadata": {},
   "source": [
    "Having executed the previous cell, we should now find that the row in the `doctor` table whose value of `doctor_name` is `Nolan` should have `d17` as the value in `doctor_id`."
   ]
  },
  {
   "cell_type": "code",
   "execution_count": null,
   "metadata": {},
   "outputs": [],
   "source": [
    "%%sql\n",
    "\n",
    "SELECT *\n",
    "FROM doctor;"
   ]
  },
  {
   "cell_type": "markdown",
   "metadata": {},
   "source": [
    "How has this affected the values in `patient`? We can check the table:"
   ]
  },
  {
   "cell_type": "code",
   "execution_count": null,
   "metadata": {},
   "outputs": [],
   "source": [
    "%%sql\n",
    "\n",
    "SELECT *\n",
    "FROM patient\n",
    "WHERE doctor_id='d11' OR doctor_id='d17';"
   ]
  },
  {
   "cell_type": "markdown",
   "metadata": {},
   "source": [
    "You should find that the update has cascaded through to the referring values in `patient`, and that the values in `patient.doctor_id` which had been `d11` are now `d17`."
   ]
  },
  {
   "cell_type": "markdown",
   "metadata": {},
   "source": [
    "## Constraint interactions can be complicated!"
   ]
  },
  {
   "cell_type": "markdown",
   "metadata": {},
   "source": [
    "It is often the case that several constraints will act upon a given row or table at the same time. In these circumstances, it can be tricky working out what the final behaviour will be. Remember, that a change to the database will only be made if the change does not cause a constraint violation anywhere in the database! "
   ]
  },
  {
   "cell_type": "markdown",
   "metadata": {
    "activity": true
   },
   "source": [
    "### Activity 2"
   ]
  },
  {
   "cell_type": "markdown",
   "metadata": {
    "activity": true
   },
   "source": [
    "The statement in the next cell attempts to remove the row from the `doctor` table with value of `d06` in the `doctor_id` column. What do you think will happen if you try execute the statement (with the tables as they are populated at this point in the notebook)? Why?\n",
    "\n",
    "```sql\n",
    "DELETE FROM doctor\n",
    "WHERE doctor_id='d06'\n",
    "```"
   ]
  },
  {
   "cell_type": "markdown",
   "metadata": {
    "student": true
   },
   "source": [
    "Write your answer in this cell"
   ]
  },
  {
   "cell_type": "markdown",
   "metadata": {
    "activity": true,
    "heading_collapsed": true
   },
   "source": [
    "#### Our solution\n",
    "\n",
    "To reveal our solution, run this cell or click on the triangle symbol on the left-hand side of the cell."
   ]
  },
  {
   "cell_type": "markdown",
   "metadata": {
    "activity": true,
    "hidden": true
   },
   "source": [
    "The following cell executes the given statement:"
   ]
  },
  {
   "cell_type": "code",
   "execution_count": null,
   "metadata": {
    "activity": true,
    "code_folding": [],
    "hidden": true
   },
   "outputs": [],
   "source": [
    "%%sql\n",
    "\n",
    "DELETE FROM doctor\n",
    "WHERE doctor_id='d06';"
   ]
  },
  {
   "cell_type": "markdown",
   "metadata": {
    "activity": true,
    "hidden": true
   },
   "source": [
    "If you execute the cell, you should find that an `IntegrityError` is raised, with the the message ` update or delete on table \"doctor\" violates foreign key constraint \"prescription_doctor_fk\" on table \"prescription\"`. Although we changed the foreign key definition between `patient` and `doctor` to `CASCADE`, we did not change the definition between `prescription` and `doctor`, which is still `RESTRICT`.\n",
    "\n",
    "Therefore, although the constraint `patient_doctor_fk` would allow the row in `doctor` to be deleted, the deletion is prevented by the constraint `prescription_doctor_fk`.\n"
   ]
  },
  {
   "cell_type": "markdown",
   "metadata": {
    "activity": true
   },
   "source": [
    "#### End of Activity 2"
   ]
  },
  {
   "cell_type": "markdown",
   "metadata": {},
   "source": [
    "----------------------------------------------------"
   ]
  },
  {
   "cell_type": "markdown",
   "metadata": {},
   "source": [
    "In Activity 2, we saw that the `prescription_doctor_fk` constraint could block the deletion of a row from the `doctor` table. What happens if we now drop that constraint?"
   ]
  },
  {
   "cell_type": "markdown",
   "metadata": {},
   "source": [
    "The statement in the following cell drops the foreign key constraint defined on the `prescription` table referencing the `doctor` table:"
   ]
  },
  {
   "cell_type": "code",
   "execution_count": null,
   "metadata": {},
   "outputs": [],
   "source": [
    "%%sql\n",
    "\n",
    "ALTER TABLE prescription\n",
    "DROP CONSTRAINT hospital_prescription_doctor_fk;"
   ]
  },
  {
   "cell_type": "markdown",
   "metadata": {
    "activity": true
   },
   "source": [
    "### Activity 3"
   ]
  },
  {
   "cell_type": "markdown",
   "metadata": {
    "activity": true
   },
   "source": [
    "The statement in the next cell again attempts to remove the row from the `doctor` table with value of `d06` in the `doctor_id` column. What do you think will happen if you try execute the statement (with the tables as they are populated at this point in the notebook)? Why?\n",
    "\n",
    "```sql\n",
    "DELETE FROM doctor\n",
    "WHERE doctor_id='d06';\n",
    "```"
   ]
  },
  {
   "cell_type": "markdown",
   "metadata": {
    "student": true
   },
   "source": [
    "Write your answer in this cell"
   ]
  },
  {
   "cell_type": "markdown",
   "metadata": {
    "activity": true,
    "heading_collapsed": true
   },
   "source": [
    "#### Our solution\n",
    "\n",
    "To reveal our solution, run this cell or click on the triangle symbol on the left-hand side of the cell."
   ]
  },
  {
   "cell_type": "markdown",
   "metadata": {
    "activity": true,
    "hidden": true
   },
   "source": [
    "The following cell executes the given statement:"
   ]
  },
  {
   "cell_type": "code",
   "execution_count": null,
   "metadata": {
    "activity": true,
    "hidden": true
   },
   "outputs": [],
   "source": [
    "%%sql\n",
    "\n",
    "DELETE FROM doctor\n",
    "WHERE doctor_id='d06';"
   ]
  },
  {
   "cell_type": "markdown",
   "metadata": {
    "activity": true,
    "hidden": true
   },
   "source": [
    "If you execute the cell, you should find that an `IntegrityError` is raised again. This time, the message states `update or delete on table \"patient\" violates foreign key constraint \"hospital_prescription_patient_fk\" on table \"prescription\"`. What's happened here?\n",
    "\n",
    "Although we dropped the foreign key constraint between `prescription` and `doctor`, we did not change the definition between `prescription` and `patient`, and this constraint still has the default ON DELETE action of RESTRICT.\n",
    "\n",
    "In this case, when we attempted to delete the row of `doctor` with `d06` in the `doctor.doctor_id` column, the ON DELETE CASCADE behaviour of the constraint `hospital_patient_doctor_fk` means that the rows in `patient` with `d06` in the `patient.doctor_id` column would be deleted. To see those rows, we can do a SELECT query:"
   ]
  },
  {
   "cell_type": "code",
   "execution_count": null,
   "metadata": {
    "activity": true,
    "hidden": true
   },
   "outputs": [],
   "source": [
    "%%sql\n",
    "\n",
    "SELECT *\n",
    "FROM patient\n",
    "WHERE doctor_id='d06';"
   ]
  },
  {
   "cell_type": "markdown",
   "metadata": {
    "activity": true,
    "hidden": true
   },
   "source": [
    "All these rows would be deleted following the `ON DELETE CASCADE` action. However, some of these rows are referenced in the `prescription` table. Because the behaviour defined by `hospital_prescription_patient_fk` is `RESTRICT` (ie. prevent the deletion of referenced rows), the row from `doctor` cannot be deleted without also violating the constraint `hospital_prescription_patient_fk`. The deletion therefore fails."
   ]
  },
  {
   "cell_type": "markdown",
   "metadata": {
    "activity": true
   },
   "source": [
    "#### End of Activity 3"
   ]
  },
  {
   "cell_type": "markdown",
   "metadata": {},
   "source": [
    "-----------------------------------------"
   ]
  },
  {
   "cell_type": "markdown",
   "metadata": {},
   "source": [
    "As Activity 2 and Activity 3 show, the interaction of constraints in a complete database can be very complex. It is important to be able to reason about how all the constraints in a large database will behave, and plan any changes accordingly."
   ]
  },
  {
   "cell_type": "markdown",
   "metadata": {},
   "source": [
    "## ON DELETE SET NULL"
   ]
  },
  {
   "cell_type": "markdown",
   "metadata": {},
   "source": [
    "We have now seen how we can use the referential actions of `RESTRICT` to prevent deletions, and `CASCADE` to remove rows in referring tables to ensure that referential integrity is maintained. The final referential action we will look at is `SET NULL`."
   ]
  },
  {
   "cell_type": "markdown",
   "metadata": {},
   "source": [
    "If you have made only the adjustments to the database that we have shown in this notebook, both `patient` and `doctor` tables should contain rows with `d07` in the `doctor_id` column, and the foreign keys on the `prescription` table have been `DROP`ped.\n",
    "\n",
    "If you've changed these tables by experimenting further, that's great! You can always reset the database by executing the next cell, remembering to change the cell to be Code, rather than Raw NBConvert."
   ]
  },
  {
   "cell_type": "raw",
   "metadata": {},
   "source": [
    "# Run the database cleanup script\n",
    "\n",
    "%run reset_databases.ipynb\n",
    "\n",
    "# Also need to DROP the foreign keys on the prescription table:\n",
    "\n",
    "%sql ALTER TABLE prescription DROP CONSTRAINT hospital_prescription_doctor_fk;"
   ]
  },
  {
   "cell_type": "markdown",
   "metadata": {},
   "source": [
    "We can check that the `doctor` table contains rows for the doctor with id `d07`:"
   ]
  },
  {
   "cell_type": "code",
   "execution_count": null,
   "metadata": {},
   "outputs": [],
   "source": [
    "%%sql \n",
    "\n",
    "-- Check that the value 'd07' exists in the 'doctor.doctor_id' column\n",
    "\n",
    "SELECT *\n",
    "FROM doctor\n",
    "WHERE doctor_id='d07';"
   ]
  },
  {
   "cell_type": "markdown",
   "metadata": {},
   "source": [
    "and that there are some referencing rows in the `patient` table:"
   ]
  },
  {
   "cell_type": "code",
   "execution_count": null,
   "metadata": {},
   "outputs": [],
   "source": [
    "%%sql\n",
    "\n",
    "-- Check that the value 'd07' exists in the 'patient.doctor_id' column\n",
    "\n",
    "SELECT *\n",
    "FROM patient\n",
    "WHERE doctor_id='d07';"
   ]
  },
  {
   "cell_type": "markdown",
   "metadata": {},
   "source": [
    "As before, to investigate the behaviour of the referential action we can drop the existing constraint and replace it with a new constraint with the new referential action:"
   ]
  },
  {
   "cell_type": "code",
   "execution_count": null,
   "metadata": {},
   "outputs": [],
   "source": [
    "%%sql\n",
    "\n",
    "ALTER TABLE patient\n",
    "DROP CONSTRAINT hospital_patient_doctor_fk;\n",
    "\n",
    "ALTER TABLE patient\n",
    "ADD CONSTRAINT hospital_patient_doctor_fk\n",
    "    FOREIGN KEY (doctor_id) REFERENCES doctor\n",
    "        ON DELETE SET NULL;"
   ]
  },
  {
   "cell_type": "markdown",
   "metadata": {},
   "source": [
    "We can now attempt to remove the row from `doctor` with `d07` in the `doctor_id` column:"
   ]
  },
  {
   "cell_type": "code",
   "execution_count": null,
   "metadata": {},
   "outputs": [],
   "source": [
    "%%sql\n",
    "\n",
    "DELETE FROM doctor\n",
    "WHERE doctor_id='d07';"
   ]
  },
  {
   "cell_type": "markdown",
   "metadata": {},
   "source": [
    "The row has been removed as we would expect. We can now see how the `patient` table has been affected:"
   ]
  },
  {
   "cell_type": "code",
   "execution_count": null,
   "metadata": {},
   "outputs": [],
   "source": [
    "%%sql\n",
    "\n",
    "SELECT *\n",
    "FROM patient;"
   ]
  },
  {
   "cell_type": "markdown",
   "metadata": {},
   "source": [
    "There are now several rows which do not have a value in the `doctor_id` column (shown as `None` in the returned `DataFrame`). These are where the references to `d07` have been replaced by `NULL` after `d07` was removed from the `doctor` table."
   ]
  },
  {
   "cell_type": "markdown",
   "metadata": {
    "activity": true
   },
   "source": [
    "### Activity 4"
   ]
  },
  {
   "cell_type": "markdown",
   "metadata": {
    "activity": true
   },
   "source": [
    "We can also check that both `prescription` and `drug` contain a row in which the vlaue of `drug_code` is `T02378`:"
   ]
  },
  {
   "cell_type": "code",
   "execution_count": null,
   "metadata": {
    "activity": true
   },
   "outputs": [],
   "source": [
    "%%sql\n",
    "\n",
    "SELECT *\n",
    "FROM prescription\n",
    "WHERE drug_code='T02378';"
   ]
  },
  {
   "cell_type": "code",
   "execution_count": null,
   "metadata": {
    "activity": true
   },
   "outputs": [],
   "source": [
    "%%sql\n",
    "\n",
    "SELECT *\n",
    "FROM drug\n",
    "WHERE drug_code='T02378';"
   ]
  },
  {
   "cell_type": "markdown",
   "metadata": {
    "activity": true
   },
   "source": [
    "Suppose we changed the foreign key constraint in `prescription` referencing `drug` so that the referential action on deletion is `SET NULL` rather than `RESTRICT`:"
   ]
  },
  {
   "cell_type": "code",
   "execution_count": null,
   "metadata": {
    "activity": true
   },
   "outputs": [],
   "source": [
    "%%sql\n",
    "\n",
    "ALTER TABLE prescription\n",
    "DROP CONSTRAINT hospital_prescription_drug_fk;\n",
    "\n",
    "ALTER TABLE prescription\n",
    "ADD CONSTRAINT hospital_prescription_drug_fk\n",
    "    FOREIGN KEY (drug_code) REFERENCES drug\n",
    "        ON DELETE SET NULL;"
   ]
  },
  {
   "cell_type": "markdown",
   "metadata": {
    "activity": true
   },
   "source": [
    "The statement in the next cell attempts to remove the row from the `drug` table with value of `T02378` in the `drug_code` column. What do you think will happen if you try execute the statement (with the referential action as `SET NULL`)? Why?\n"
   ]
  },
  {
   "cell_type": "markdown",
   "metadata": {
    "activity": true
   },
   "source": [
    "```sql\n",
    "DELETE FROM drug\n",
    "WHERE drug_code='T02378';\n",
    "```"
   ]
  },
  {
   "cell_type": "markdown",
   "metadata": {
    "student": true
   },
   "source": [
    "Write your answer in this cell"
   ]
  },
  {
   "cell_type": "markdown",
   "metadata": {
    "activity": true,
    "heading_collapsed": true
   },
   "source": [
    "#### Our solution\n",
    "\n",
    "To reveal our solution, run this cell or click on the triangle symbol on the left-hand side of the cell."
   ]
  },
  {
   "cell_type": "markdown",
   "metadata": {
    "activity": true,
    "hidden": true
   },
   "source": [
    "The following cell executes the given statement:"
   ]
  },
  {
   "cell_type": "code",
   "execution_count": null,
   "metadata": {
    "activity": true,
    "hidden": true
   },
   "outputs": [],
   "source": [
    "%%sql\n",
    "\n",
    "DELETE FROM drug\n",
    "WHERE drug_code='T02378';"
   ]
  },
  {
   "cell_type": "markdown",
   "metadata": {
    "activity": true,
    "hidden": true
   },
   "source": [
    "If you execute the cell, you should find that an `IntegrityError` is raised. This time, the message states `null value in column \"drug_code\" violates not-null constraint`.\n",
    "\n",
    "In this case, when we attempted to remove the row from `drug`, the referring row in `prescription` attempted to replace the value in `prescription.drug_code` with `NULL` (in accordance with the `SET NULL` referential action). However, `drug_code` is part of the primary key for `prescription`. As we have seen, values in a primary key may not be `NULL`, and so the primary key constraint would be violated. The deletion therefore fails."
   ]
  },
  {
   "cell_type": "markdown",
   "metadata": {
    "activity": true
   },
   "source": [
    "#### End of Activity 4"
   ]
  },
  {
   "cell_type": "markdown",
   "metadata": {},
   "source": [
    "-----------------------------------------------------"
   ]
  },
  {
   "cell_type": "markdown",
   "metadata": {},
   "source": [
    "We have not discussed the final referential action, `SET DEFAULT` in this notebook. `SET DEFAULT` is not very commonly used, so we will not discuss it in TM351. This action behaves in a similar way to `SET NULL`, but replaces values with a default value rather than `NULL`. If you are interested, the details are [in the PostgresQL documentation](https://www.postgresql.org/docs/9.5/ddl-constraints.html)."
   ]
  },
  {
   "cell_type": "markdown",
   "metadata": {},
   "source": [
    "## Summary"
   ]
  },
  {
   "cell_type": "markdown",
   "metadata": {},
   "source": [
    "You have now completed the Part 9 notebooks. In working through Parts 8 and 9, you have seen how data is modelled in a database, and how SQL is used to define and manipulate the data. Primary keys are used to ensure that individual entities in a database can be identified, and foreign keys are used to define the relationships between entities.\n",
    "\n",
    "In Part 10, we will see how normalisation is used to minimise redundancy in a database, and so make it easier to maintain a database's integrity."
   ]
  }
 ],
 "metadata": {
  "kernelspec": {
   "display_name": "Python 3",
   "language": "python",
   "name": "python3"
  },
  "language_info": {
   "codemirror_mode": {
    "name": "ipython",
    "version": 3
   },
   "file_extension": ".py",
   "mimetype": "text/x-python",
   "name": "python",
   "nbconvert_exporter": "python",
   "pygments_lexer": "ipython3",
   "version": "3.7.8"
  }
 },
 "nbformat": 4,
 "nbformat_minor": 2
}
