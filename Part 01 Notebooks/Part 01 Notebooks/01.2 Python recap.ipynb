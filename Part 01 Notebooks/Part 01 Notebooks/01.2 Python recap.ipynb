{
 "cells": [
  {
   "cell_type": "markdown",
   "metadata": {},
   "source": [
    "# Python recap"
   ]
  },
  {
   "cell_type": "markdown",
   "metadata": {},
   "source": [
    "Although the design of a Jupyter Notebook encourages the development of code in small fragments, this does not mean that each cell is independent of all the other cells. Rather, the Notebook is an interface to a single IPython shell, and as such has access to the current state of that shell."
   ]
  },
  {
   "cell_type": "code",
   "execution_count": null,
   "metadata": {},
   "outputs": [],
   "source": [
    "txt = \"Hello World\""
   ]
  },
  {
   "cell_type": "markdown",
   "metadata": {},
   "source": [
    "If you executed the first code cell above, you will have set the value of the `txt` variable. This means we can access its value again in other cells.\n",
    "\n",
    "If the object on the last executed line of a code cell returns a value, this will be displayed as the output to a cell. (If you changed the text away from `Hello World`, then your last replacement message should be displayed):"
   ]
  },
  {
   "cell_type": "code",
   "execution_count": null,
   "metadata": {},
   "outputs": [],
   "source": [
    "txt"
   ]
  },
  {
   "cell_type": "markdown",
   "metadata": {},
   "source": [
    "So, IPython uses a *global* naming space - named things, like variables (`txt` above), are available in all the code cells within the Notebook. "
   ]
  },
  {
   "cell_type": "markdown",
   "metadata": {},
   "source": [
    "## Some Python basics"
   ]
  },
  {
   "cell_type": "markdown",
   "metadata": {},
   "source": [
    "Sometimes it can be useful to build up quite rich messages using the contents of several variables. One way of achieving this is to print a string that contains some placeholder variables, and then insert appropriate values into those placeholders.\n",
    "\n",
    "By inspection - and running - of the following code, can you see how it works? See if you can change the message that is displayed, either by editing the cell directly, creating a new cell and copying the code, or selecting the cell and copying and pasting it.  Try creating a new variable with a new string value, and adding that into the printed message."
   ]
  },
  {
   "cell_type": "code",
   "execution_count": null,
   "metadata": {},
   "outputs": [],
   "source": [
    "new_message = \"See what I did there\"\n",
    "\n",
    "f\"This message includes the earlier one: '{txt}'. {new_message}?\""
   ]
  },
  {
   "cell_type": "markdown",
   "metadata": {},
   "source": [
    "The construction is know as an *f-string* and it provides a way of generating a formatted string that replaces a variable with its value."
   ]
  },
  {
   "cell_type": "markdown",
   "metadata": {},
   "source": [
    "We can also use an *f-string* to display numbers - and the result of arithmetic:"
   ]
  },
  {
   "cell_type": "code",
   "execution_count": null,
   "metadata": {},
   "outputs": [],
   "source": [
    "a = 7\n",
    "b = 12\n",
    "msg = 'Magic!'\n",
    "\n",
    "result = f\"The sum of {a} and {b} is {a+b}. {msg}\"\n",
    "\n",
    "result"
   ]
  },
  {
   "cell_type": "markdown",
   "metadata": {},
   "source": [
    "We can also generate output from within a cell:"
   ]
  },
  {
   "cell_type": "code",
   "execution_count": null,
   "metadata": {},
   "outputs": [],
   "source": [
    "print(\"This is a printed string...\") # The contents of the string are printed\n",
    "\n",
    "# The display() command will display an object in a similar way to the way a cell output displays an object\n",
    "display(\"This is string that has been displayed...\") # A string is displayed as a string\n",
    "display({'another':'displayed output'}) # A dict is displayed as a dict.\n",
    "display(['one', 'two', 3]) # A list is displayed as a list.\n",
    "\n",
    "\n",
    "print(\"This is another printed output...\")\n",
    "\n",
    "\"This is a string displayed as the cell output\""
   ]
  },
  {
   "cell_type": "markdown",
   "metadata": {},
   "source": [
    "### Python types\n",
    "Python supports different *types* of object.\n",
    "\n",
    "For example, a string, `str`:"
   ]
  },
  {
   "cell_type": "code",
   "execution_count": null,
   "metadata": {},
   "outputs": [],
   "source": [
    "txt = \"This is a string\"\n",
    "print( f'{txt}: {type(txt)}' )\n",
    "\n",
    "txt"
   ]
  },
  {
   "cell_type": "markdown",
   "metadata": {},
   "source": [
    "We can easily strip leading and trailing white space from a string:"
   ]
  },
  {
   "cell_type": "code",
   "execution_count": null,
   "metadata": {},
   "outputs": [],
   "source": [
    "\"this, \" + \"that   \".strip() + \"the other\""
   ]
  },
  {
   "cell_type": "markdown",
   "metadata": {},
   "source": [
    "Typically, the sorts of quotation mark you use don't matter. If you are careful about the nesting, you can include one sort of quote inside another:"
   ]
  },
  {
   "cell_type": "code",
   "execution_count": null,
   "metadata": {},
   "outputs": [],
   "source": [
    "\"this \" + 'that, ' +'\"the other\"'"
   ]
  },
  {
   "cell_type": "markdown",
   "metadata": {},
   "source": [
    "If you want to _print_ the value of a string, rather than _display_ a string as a string:"
   ]
  },
  {
   "cell_type": "code",
   "execution_count": null,
   "metadata": {},
   "outputs": [],
   "source": [
    "print(\"I'm printing: this \"+'that, ' +'\"the other\"')"
   ]
  },
  {
   "cell_type": "markdown",
   "metadata": {},
   "source": [
    "An integer, `int`:"
   ]
  },
  {
   "cell_type": "code",
   "execution_count": null,
   "metadata": {},
   "outputs": [],
   "source": [
    "integer = 7\n",
    "print(f'{integer}: {type(integer)}')\n",
    "\n",
    "integer"
   ]
  },
  {
   "cell_type": "markdown",
   "metadata": {},
   "source": [
    "A boolean value (`True` or `False`),  `bool`:"
   ]
  },
  {
   "cell_type": "code",
   "execution_count": null,
   "metadata": {},
   "outputs": [],
   "source": [
    "flag = False\n",
    "otherFlag = bool(1)\n",
    "print(f'{flag}: {type(flag)}')\n",
    "print(f'{otherFlag}: {type(otherFlag)}')\n",
    "\n",
    "flag, otherFlag"
   ]
  },
  {
   "cell_type": "markdown",
   "metadata": {},
   "source": [
    "A floating-point number, `float`:"
   ]
  },
  {
   "cell_type": "code",
   "execution_count": null,
   "metadata": {},
   "outputs": [],
   "source": [
    "floatingPoint = 3.5\n",
    "print(f'{floatingPoint}: {type(floatingPoint)}')"
   ]
  },
  {
   "cell_type": "markdown",
   "metadata": {},
   "source": [
    "Note that Python will automatically cast some datatypes when required. In the following cell, an integer value and floating-point value are added together, the result being given as a floating-point value:"
   ]
  },
  {
   "cell_type": "code",
   "execution_count": null,
   "metadata": {},
   "outputs": [],
   "source": [
    "print(f'{integer} ({type(integer)}) +' + \n",
    "      f'{floatingPoint} ({type(floatingPoint)}) = {integer + floatingPoint},' +\n",
    "      f' which has type {type(integer + floatingPoint)}')\n",
    "\n",
    "integer + floatingPoint"
   ]
  },
  {
   "cell_type": "markdown",
   "metadata": {},
   "source": [
    "So what happens if you run the previous cell? The return value of the last line of code in the last cell is the one that is displayed.\n",
    "\n",
    "We can also refer to that value returned from the last run cell using a specially defined variable: `_`\n",
    "\n",
    "Run the previous cell and then the following one. "
   ]
  },
  {
   "cell_type": "code",
   "execution_count": null,
   "metadata": {},
   "outputs": [],
   "source": [
    "_"
   ]
  },
  {
   "cell_type": "markdown",
   "metadata": {},
   "source": [
    "What do you think the following cell will do? Try running it to see."
   ]
  },
  {
   "cell_type": "code",
   "execution_count": null,
   "metadata": {},
   "outputs": [],
   "source": [
    "_ * 10"
   ]
  },
  {
   "cell_type": "markdown",
   "metadata": {
    "activity": true
   },
   "source": [
    "## Activity\n",
    "\n",
    "To get a feel for how different types of object can be combined, create one or more new code cells below. Copy the lines of code below one at a time into a code cell and then run that cell. Test your understanding by trying to predict the output each statement will give.\n",
    "\n",
    "Remember, only the output of the last line of code in the cell is displayed. \n",
    "\n",
    "Don't worry if you get an error message, you won't break the Notebook - it just means the two types don't work with the operator you provided. You might also find that the error message helps you debug what is wrong with your statement.\n",
    "\n",
    "```python\n",
    "1 * 5\n",
    "1.0 * 5\n",
    "'Three' + 'plus' + '4'\n",
    "'Three' + 'plus' + 4\n",
    "\"Three\" + ' plus ' + str(4)\n",
    "int(3.78)\n",
    "4 + int('5'+'6')\n",
    "True\n",
    "not True\n",
    "bool(0)\n",
    "None\n",
    "not None\n",
    "```"
   ]
  },
  {
   "cell_type": "markdown",
   "metadata": {},
   "source": [
    "## What next?"
   ]
  },
  {
   "cell_type": "markdown",
   "metadata": {},
   "source": [
    "If you are working through this Notebook as part of an inline exercise, return to the module materials now.\n",
    "\n",
    "If you are working through this set of Notebooks as a whole, move on to the next step in the bootcamp: `01.3 Basic python data structures`. "
   ]
  }
 ],
 "metadata": {
  "kernelspec": {
   "display_name": "Python 3",
   "language": "python",
   "name": "python3"
  },
  "language_info": {
   "codemirror_mode": {
    "name": "ipython",
    "version": 3
   },
   "file_extension": ".py",
   "mimetype": "text/x-python",
   "name": "python",
   "nbconvert_exporter": "python",
   "pygments_lexer": "ipython3",
   "version": "3.7.8"
  }
 },
 "nbformat": 4,
 "nbformat_minor": 1
}
