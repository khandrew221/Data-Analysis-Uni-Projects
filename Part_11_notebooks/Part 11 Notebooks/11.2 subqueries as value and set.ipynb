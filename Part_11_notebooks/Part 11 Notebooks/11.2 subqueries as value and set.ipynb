{
 "cells": [
  {
   "cell_type": "markdown",
   "metadata": {},
   "source": [
    "# Subqueries used as values and sets\n"
   ]
  },
  {
   "cell_type": "markdown",
   "metadata": {},
   "source": [
    "In this notebook, you will look at some examples of how a subquery can be used in place of a value (or set of values) and used in exactly the same way as a literal value in an SQL query. \n",
    "\n",
    "Again, you will become familiar with the technique by asking some questions of the movies dataset. The questions in this notebook are sometimes a little contrived, and sometimes a _lot_ contrived. These are not necessarily the most obvious or most interesting questions you could ask of the dataset. However, they do serve to illustrate certain SQL techniques.\n",
    "\n",
    "You should expect to spend around 45 minutes on this notebook. "
   ]
  },
  {
   "cell_type": "markdown",
   "metadata": {},
   "source": [
    "## Setting up"
   ]
  },
  {
   "cell_type": "markdown",
   "metadata": {},
   "source": [
    "The next group of cells set up your database connection, and reset the database to a clean state. Check notebook *08.1 Data Definition Language in SQL* if you are unsure what the next cells do.\n",
    "\n",
    "You may need to change the given values of the variables `DB_USER` and `DB_PWD`, depending on which environment you are using"
   ]
  },
  {
   "cell_type": "raw",
   "metadata": {},
   "source": [
    "# If you are using the remote environment, change this cell\n",
    "# type to \"code\", and execute it\n",
    "\n",
    "DB_USER='xxx99'            # Enter your OUCU here (in quotes)\n",
    "DB_PWD='your_password'     # Enter your password here (in quotes)"
   ]
  },
  {
   "cell_type": "raw",
   "metadata": {},
   "source": [
    "# If you are using a locally hosted environment, change this cell\n",
    "# type to \"code\", and execute it\n",
    "\n",
    "DB_USER='tm351'\n",
    "DB_PWD='tm351'"
   ]
  },
  {
   "cell_type": "code",
   "execution_count": null,
   "metadata": {},
   "outputs": [],
   "source": [
    "# Make the connection\n",
    "\n",
    "%run sql_init.ipynb\n",
    "print(\"Connecting with connection string : {}\".format(DB_CONNECTION))\n",
    "%sql $DB_CONNECTION"
   ]
  },
  {
   "cell_type": "markdown",
   "metadata": {},
   "source": [
    "## Asking questions of the database"
   ]
  },
  {
   "cell_type": "markdown",
   "metadata": {},
   "source": [
    "\n",
    "\n",
    "Before we start, here's the ERD of the database again, which can be useful in getting orientated around the information it contains.\n",
    "\n",
    "\n",
    "![Movies ERD](./images/movies-erd.svg)\n"
   ]
  },
  {
   "cell_type": "markdown",
   "metadata": {},
   "source": [
    "As with `Notebook 11.1: Movie analysis`, this notebook uses the `movies` schema, so let's set the `search_path` so that we don't need to qualify all the table names:"
   ]
  },
  {
   "cell_type": "code",
   "execution_count": null,
   "metadata": {},
   "outputs": [],
   "source": [
    "%%sql\n",
    "\n",
    "SET search_path TO movies, public;"
   ]
  },
  {
   "cell_type": "markdown",
   "metadata": {},
   "source": [
    "# Highest grossing movie each year\n",
    "\n",
    "What is the highest grossing movie in each year?"
   ]
  },
  {
   "cell_type": "markdown",
   "metadata": {},
   "source": [
    "This seems a reasonable question to ask of the dataset, but how would you go about answering it?\n",
    "\n",
    "Something like:\n",
    "\n",
    "```SQL\n",
    "SELECT MAX(revenue) AS revenue \n",
    "FROM movie\n",
    "```\n",
    "\n",
    "will find the highest revenue over all the movies in the database, but that's not the highest revenue for each year.\n",
    "\n",
    "However, if we can find the highest revenue *in each year*, can we use that to identify the movie in that year with that revenue? That movie would then be the highest-grossing movie that year.\n",
    "\n",
    "In \"pseudo-SQL\", we want to say something along the lines of: *\"Select the movie in each year with the highest revenue in that year\"*; but how do we know what the largest revenue is per year?\n",
    "\n",
    "Instead, we need to pick our query apart a little, and separate out the concerns: *\"Select the movie in each year where the movie has a revenue equal to the highest revenue in that year\"*.\n",
    "\n",
    "That \"equal to\" effectively splits our query into two queries."
   ]
  },
  {
   "cell_type": "markdown",
   "metadata": {},
   "source": [
    "### Unpicking the query - Largest Revenue Per Year"
   ]
  },
  {
   "cell_type": "markdown",
   "metadata": {},
   "source": [
    "\n",
    "What is highest amount made by a movie each year?\n",
    "\n",
    "Don't return anything about the movie, just list the maximum revenue against year. To put the numbers into some sort of context, plot the data to get a feel for how the largest revenue figure has evolved over the years."
   ]
  },
  {
   "cell_type": "markdown",
   "metadata": {},
   "source": [
    "A straightforward combination of `GROUP BY` and `MAX()` will return the highest revenue in each year."
   ]
  },
  {
   "cell_type": "code",
   "execution_count": null,
   "metadata": {},
   "outputs": [],
   "source": [
    "%%sql highest_gross_revenue_year <<\n",
    "\n",
    "SELECT year, MAX(revenue) AS revenue\n",
    "FROM movie\n",
    "GROUP BY year\n",
    "ORDER BY year;"
   ]
  },
  {
   "cell_type": "markdown",
   "metadata": {},
   "source": [
    "We have used the expression `highest_gross_revenue_year <<` to store the table returned by the query in a DataFrame called `highest_gross_revenue_year`. We can now index it by year."
   ]
  },
  {
   "cell_type": "code",
   "execution_count": null,
   "metadata": {},
   "outputs": [],
   "source": [
    "highest_gross_revenue_year.set_index('year', inplace=True)\n",
    "highest_gross_revenue_year.tail()"
   ]
  },
  {
   "cell_type": "markdown",
   "metadata": {
    "slideshow": {
     "slide_type": "slide"
    }
   },
   "source": [
    "#### An Aside - Does the Data Look Right? Largest Revenue Trends and Behaviour"
   ]
  },
  {
   "cell_type": "markdown",
   "metadata": {},
   "source": [
    "When working on a complex question that we have split into several sub-questions, it often makes sense to check that the result of each step \"looks about right\".\n",
    "\n",
    "So as an aside, let's see if the maximum revenue figures look reasonable (that is, check that they don't behave in a completely unexpected, surprising  or unreasonable way) by putting them into some sort of context.\n",
    "\n",
    "For example, would you expect a trend of increasing revenues (a growth in cinema audiences and ticket prices, for example) or decreasing revenues (if movie-going becomes less popular)? Or are there any outliers that might result from dirty data? What sort of range in the highest revenue values would be (un)reasonable?"
   ]
  },
  {
   "cell_type": "code",
   "execution_count": null,
   "metadata": {},
   "outputs": [],
   "source": [
    "ax = highest_gross_revenue_year['revenue'].plot(title=\"Highest movie revenue each year\")\n",
    "ax.set(xlabel='Year', \n",
    "       ylabel='Highest revenue');"
   ]
  },
  {
   "cell_type": "markdown",
   "metadata": {},
   "source": [
    "There's a general trend of increasing revenue over time, but there's also a lot of \"noise\" in the graph. \n",
    "\n",
    "The plot is also rather distorted by an outlier in 1939. What film was that?"
   ]
  },
  {
   "cell_type": "code",
   "execution_count": null,
   "metadata": {},
   "outputs": [],
   "source": [
    "%%sql \n",
    "\n",
    "SELECT id, title, year, revenue \n",
    "FROM movie \n",
    "WHERE revenue > 2000000000;"
   ]
  },
  {
   "cell_type": "markdown",
   "metadata": {},
   "source": [
    "There are a lot of low-revenue movies before about 1950 and what looks like a flat period in the 1980s. Let's replot the chart, using just the movies from 1980 to 2010."
   ]
  },
  {
   "cell_type": "code",
   "execution_count": null,
   "metadata": {},
   "outputs": [],
   "source": [
    "ax = highest_gross_revenue_year.loc[1980:2010].revenue.plot(ylim=(0, 2000000000))\n",
    "ax.set(title=\"Highest movie revenue each year\", \n",
    "       xlabel='Year', \n",
    "       ylabel='Highest revenue');"
   ]
  },
  {
   "cell_type": "markdown",
   "metadata": {},
   "source": [
    "Over this period, there is some sort of trend of increasing revenue, but the year-on-year variation in the revenue figures is large. It would be difficult to be confident about any trend over this period."
   ]
  },
  {
   "cell_type": "markdown",
   "metadata": {},
   "source": [
    "### Finding the Movie With  A Revenue Equal to the Highest Revenue"
   ]
  },
  {
   "cell_type": "markdown",
   "metadata": {},
   "source": [
    "Armed with the maximum revenue in each year, we can now find the movie that brought in that money.\n",
    "\n",
    "If we know that that the largest revenue in 2008 was the only one with a revenue over a billion dollars (1 times 10 to the power 9 dollars, or `1e9`), we could write a query of the form:\n",
    "\n",
    "```SQL\n",
    "SELECT title \n",
    "FROM movie\n",
    "WHERE year=2008 AND revenue>1e9;\n",
    "```\n",
    "\n",
    "But how do we generalise this so we can query over each of the year/highest revenue combinations?\n",
    "\n",
    "The trick is to use the query above as a _subquery_ in the outer query.\n",
    "\n",
    "We want the subquery to return a single value, the maximum revenue of any movie in the year of interest. We can use that value in the `WHERE` clause of the outer query. \n",
    "\n",
    "The idea is to iterate through the `movie` table and, for each movie, find the maximum revenue of any movie in the same year. If the revenues match, we keep the movie in the outer query.\n",
    "\n",
    "We can do it with a query like this, which will take a few moments to complete:"
   ]
  },
  {
   "cell_type": "code",
   "execution_count": null,
   "metadata": {},
   "outputs": [],
   "source": [
    "%%sql\n",
    "\n",
    "SELECT id, title, revenue, year\n",
    "FROM movie AS outer_movie\n",
    "WHERE revenue = (\n",
    "    SELECT MAX(revenue)\n",
    "    FROM movie AS inner_movie\n",
    "    WHERE inner_movie.year = outer_movie.year\n",
    "    )\n",
    "ORDER BY revenue DESC\n",
    "LIMIT 10;"
   ]
  },
  {
   "cell_type": "markdown",
   "metadata": {},
   "source": [
    "(I used `ORDER BY` and `LIMIT` to find just the ten years with the highest single revenue.)"
   ]
  },
  {
   "cell_type": "markdown",
   "metadata": {
    "activity": true
   },
   "source": [
    "### Activity 1"
   ]
  },
  {
   "cell_type": "markdown",
   "metadata": {
    "activity": true
   },
   "source": [
    "Based on the query developed above, find the movies with the largest _budget_ in each year. \n",
    "\n",
    "Return the movie id and title, revenue, and year.\n",
    "\n",
    "Give the results for only the ten highest-budget years, in descending order of budget."
   ]
  },
  {
   "cell_type": "code",
   "execution_count": null,
   "metadata": {
    "student": true
   },
   "outputs": [],
   "source": [
    "# Write your code in this cell"
   ]
  },
  {
   "cell_type": "markdown",
   "metadata": {
    "activity": true,
    "heading_collapsed": true
   },
   "source": [
    "#### Our solution\n",
    "\n",
    "To reveal our solution, click on the triangle symbol on the left-hand end of this cell."
   ]
  },
  {
   "cell_type": "markdown",
   "metadata": {
    "activity": true,
    "hidden": true
   },
   "source": [
    "One possible solution is to find the movie in each year that has the same revenue as the highest grossing moving that year.\n",
    "\n",
    "Once again, this query may take some time to run..."
   ]
  },
  {
   "cell_type": "code",
   "execution_count": null,
   "metadata": {
    "activity": true,
    "hidden": true
   },
   "outputs": [],
   "source": [
    "%%sql\n",
    "\n",
    "SELECT id, title, budget, year\n",
    "FROM movie AS outer_movie\n",
    "WHERE budget = (\n",
    "    SELECT MAX(budget)\n",
    "    FROM movie AS inner_movie\n",
    "    WHERE inner_movie.year = outer_movie.year\n",
    "    )\n",
    "ORDER BY budget DESC\n",
    "LIMIT 10;"
   ]
  },
  {
   "cell_type": "markdown",
   "metadata": {
    "activity": true,
    "hidden": true
   },
   "source": [
    "The structure of the query is identical to the previous example.\n",
    "\n",
    "In terms of the results, it's quite surprising how little overlap there is between the two lists. It seems that a large budget is no guarantee of commercial success."
   ]
  },
  {
   "cell_type": "markdown",
   "metadata": {
    "activity": true
   },
   "source": [
    "#### End of Activity 1"
   ]
  },
  {
   "cell_type": "markdown",
   "metadata": {},
   "source": [
    "----------------------------------------"
   ]
  },
  {
   "cell_type": "markdown",
   "metadata": {},
   "source": [
    "## Foreign language films\n",
    "The dataset contains information about the spoken languages used in a film. What does this tell us about the number of \"foreign language\" films in the dataset and how that number has changed over time?\n",
    "\n",
    "What counts as a \"foreign language film\"? Is it a film that contains some language other than English, or a film in which the English language does not appear? Taking a (frequently assumed) Western bias, we might even naively want to distinguish between *foreign language* films and *\"foreign\" films* that are produced from outside the US or UK.\n",
    "\n",
    "### The relevant data\n",
    "The figure below shows the relevant fragment of the ERD of the movies dataset. It shows how the `movie` table is related to the `spoken_language` and `production_country` tables via the composite entities of `movie_language` and `movie_production_country` respectively.\n",
    "\n",
    "![Movies ERD fragment](images/movies-erd-foreign-fragment.svg)"
   ]
  },
  {
   "cell_type": "markdown",
   "metadata": {},
   "source": [
    "A few quick queries shows what's in these tables.\n",
    "\n",
    "In the `spoken_language` table, there are several language `id` values where no `language` name is recorded.  In such cases, the `language` value is the empty string rather than a NULL value. The following query returns just language codes where we do know the language name:"
   ]
  },
  {
   "cell_type": "code",
   "execution_count": null,
   "metadata": {},
   "outputs": [],
   "source": [
    "%%sql \n",
    "\n",
    "SELECT *\n",
    "FROM spoken_language WHERE language <> ''\n",
    "LIMIT 5;"
   ]
  },
  {
   "cell_type": "code",
   "execution_count": null,
   "metadata": {},
   "outputs": [],
   "source": [
    "%%sql\n",
    "\n",
    "SELECT *\n",
    "FROM movie_language\n",
    "LIMIT 5;"
   ]
  },
  {
   "cell_type": "code",
   "execution_count": null,
   "metadata": {},
   "outputs": [],
   "source": [
    "%%sql \n",
    "\n",
    "SELECT *\n",
    "FROM production_country\n",
    "LIMIT 5;"
   ]
  },
  {
   "cell_type": "code",
   "execution_count": null,
   "metadata": {},
   "outputs": [],
   "source": [
    "%%sql\n",
    "\n",
    "SELECT *\n",
    "FROM movie_production_country\n",
    "LIMIT 5;"
   ]
  },
  {
   "cell_type": "markdown",
   "metadata": {},
   "source": [
    "Essentially, `spoken_language` and `production_country` give human-readable names for languages and countries; the composite tables connect them to the `movie`s by putting the two IDs in the same row. \n",
    "\n",
    "We can show how this works with an SQL query with two joins, to give the languages spoken in each movie:"
   ]
  },
  {
   "cell_type": "code",
   "execution_count": null,
   "metadata": {},
   "outputs": [],
   "source": [
    "%%sql\n",
    "\n",
    "SELECT movie_id, title, language_id, language\n",
    "FROM movie, movie_language, spoken_language\n",
    "WHERE movie.id = movie_id\n",
    "    AND spoken_language.id = language_id\n",
    "LIMIT 10;"
   ]
  },
  {
   "cell_type": "markdown",
   "metadata": {},
   "source": [
    "#### An Aside - Looking for Bias In Datasets: Production Country"
   ]
  },
  {
   "cell_type": "markdown",
   "metadata": {},
   "source": [
    "An important caveat with this dataset, and hence the reliability of the results you will generate, arises from where the data came from. The dataset was built from sources such as *The Movie Database (TMDb)* and the *Internet Movie Database (IMDb)*, which have a very strong US bias in the data selected for inclusion. This dataset is likely to be reliable for movies with a widespread US release, but there is very little data here for movies that were not released in the US. \n",
    "\n",
    "A quick look at the _production countries_ bears this out. (Note the join of `movie_production_country.production_country_id = production_country.id` to connect the `movie_production_country` rows, which are counted, with the `production_country` rows, which have the `country_name`. The column names are explicitly qualified with the appropriate table name to make the query easier to read.)"
   ]
  },
  {
   "cell_type": "code",
   "execution_count": null,
   "metadata": {},
   "outputs": [],
   "source": [
    "%%sql\n",
    "\n",
    "SELECT production_country_id, country_name, COUNT(movie_id) AS movie_count\n",
    "FROM movie_production_country, production_country\n",
    "WHERE movie_production_country.production_country_id = production_country.id\n",
    "GROUP BY production_country_id, country_name\n",
    "ORDER BY movie_count DESC\n",
    "LIMIT 10;"
   ]
  },
  {
   "cell_type": "markdown",
   "metadata": {},
   "source": [
    "Although it has a significant movie output, the prolific Bollywood film production area is barely mentioned in this dataset:"
   ]
  },
  {
   "cell_type": "code",
   "execution_count": null,
   "metadata": {},
   "outputs": [],
   "source": [
    "%%sql\n",
    "\n",
    "SELECT production_country_id, country_name, count(movie_id) AS movie_count\n",
    "FROM movie_production_country, production_country\n",
    "WHERE production_country_id = id\n",
    "    AND country_name = 'India'\n",
    "GROUP BY production_country_id, country_name\n",
    "ORDER BY movie_count DESC;"
   ]
  },
  {
   "cell_type": "markdown",
   "metadata": {},
   "source": [
    "Therefore, the number of \"foreign language\" films is from a US-centric perspective. And if your dataset is biased, that bias will propagate through to your results."
   ]
  },
  {
   "cell_type": "markdown",
   "metadata": {
    "activity": true
   },
   "source": [
    "### Activity 2"
   ]
  },
  {
   "cell_type": "markdown",
   "metadata": {
    "activity": true
   },
   "source": [
    "Which movies have been produced in the UK that do not use English (the `language_code` for English is `en`)?\n",
    "\n",
    "You only need to return the `movie_id` values."
   ]
  },
  {
   "cell_type": "code",
   "execution_count": null,
   "metadata": {
    "student": true
   },
   "outputs": [],
   "source": [
    "# Write your code in this cell"
   ]
  },
  {
   "cell_type": "markdown",
   "metadata": {
    "activity": true,
    "heading_collapsed": true
   },
   "source": [
    "#### Our solution\n",
    "\n",
    "To reveal our solution, click on the triangle symbol on the left-hand end of this cell."
   ]
  },
  {
   "cell_type": "markdown",
   "metadata": {
    "activity": true,
    "hidden": true
   },
   "source": [
    "There are at least two ways of doing this.\n",
    "\n",
    "One way is to get the IDs of films that do not use English and then search on these to find ones produced in the UK:"
   ]
  },
  {
   "cell_type": "code",
   "execution_count": null,
   "metadata": {
    "activity": true,
    "hidden": true
   },
   "outputs": [],
   "source": [
    "%%sql\n",
    "SELECT movie_id\n",
    "FROM movie_production_country\n",
    "WHERE production_country_id='GB'\n",
    "AND movie_id IN (\n",
    "    SELECT movie_id\n",
    "    FROM movie_language\n",
    "    WHERE language_id!='en'\n",
    "    ); "
   ]
  },
  {
   "cell_type": "markdown",
   "metadata": {
    "activity": true,
    "hidden": true
   },
   "source": [
    "A second way is to get the unique IDs of films produced in the UK (`production_country_id='GB'`), and then use these as the basis of a search on languages:"
   ]
  },
  {
   "cell_type": "code",
   "execution_count": null,
   "metadata": {
    "activity": true,
    "hidden": true
   },
   "outputs": [],
   "source": [
    "%%sql\n",
    "SELECT DISTINCT(movie_id)\n",
    "FROM movie_language\n",
    "WHERE movie_id IN (\n",
    "    SELECT movie_id \n",
    "    FROM movie_production_country\n",
    "    WHERE production_country_id='GB'\n",
    "    )\n",
    "AND language_id!='en';"
   ]
  },
  {
   "cell_type": "markdown",
   "metadata": {
    "activity": true
   },
   "source": [
    "#### End of Activity 2"
   ]
  },
  {
   "cell_type": "markdown",
   "metadata": {},
   "source": [
    "-----------------------------------------------"
   ]
  },
  {
   "cell_type": "markdown",
   "metadata": {},
   "source": [
    "The following query returns a list of movies produced in the US where Spanish is spoken.\n",
    "\n",
    "\n",
    "```SQL\n",
    "SELECT DISTINCT(movie_id) AS number_of_movies\n",
    "FROM movie_language\n",
    "WHERE movie_id IN (\n",
    "    SELECT movie_id \n",
    "    FROM movie_production_country\n",
    "    WHERE production_country_id='US'\n",
    "    )\n",
    "AND language_id='es';\n",
    "```\n",
    "\n",
    "How many are there?"
   ]
  },
  {
   "cell_type": "code",
   "execution_count": null,
   "metadata": {},
   "outputs": [],
   "source": [
    "%%sql\n",
    "SELECT COUNT(DISTINCT(movie_id)) AS number_of_movies\n",
    "FROM movie_language\n",
    "WHERE movie_id IN (\n",
    "    SELECT movie_id \n",
    "    FROM movie_production_country\n",
    "    WHERE production_country_id='US'\n",
    "    )\n",
    "AND language_id='es';"
   ]
  },
  {
   "cell_type": "markdown",
   "metadata": {},
   "source": [
    "### Returning a Subset of Rows From a Table Based on a Group Property - HAVING\n",
    "\n",
    "When we query the `movie_language` table, we get a separate row back for each *(movie, language)* combination. So if four languages appear in a given movie, we get four rows back for that movie.\n",
    "\n",
    "The *SQL* `HAVING` filter allows us to group rows in a query, test a group property of those rows, and then return the rows in groups where the group property is satisfied.\n",
    "\n",
    "For example, if we group rows returned from a query on the `movie_language` table and count the number of rows in each group, we can return a count of the number of languages spoken in each film."
   ]
  },
  {
   "cell_type": "code",
   "execution_count": null,
   "metadata": {},
   "outputs": [],
   "source": [
    "%%sql\n",
    "--count of languages by film\n",
    "SELECT movie_id, COUNT(movie_id) AS number_of_languages\n",
    "FROM movie_language\n",
    "GROUP BY movie_id\n",
    "LIMIT 5;"
   ]
  },
  {
   "cell_type": "markdown",
   "metadata": {},
   "source": [
    "A command specific to Postgresql (`STRING_AGG()`) also allows you to summarise into a single string the values contained within a given column across all the rows in each group:"
   ]
  },
  {
   "cell_type": "code",
   "execution_count": null,
   "metadata": {},
   "outputs": [],
   "source": [
    "%%sql\n",
    "--count of languages by film\n",
    "SELECT movie_id, COUNT(movie_id) AS number_of_languages, STRING_AGG(language_id, ', ') AS languages_spoken\n",
    "FROM movie_language\n",
    "GROUP BY movie_id\n",
    "LIMIT 5;"
   ]
  },
  {
   "cell_type": "markdown",
   "metadata": {},
   "source": [
    "We can limit the movies that are returned based on ones where a minimum number of languages are spoken using the `HAVING` clause, which is rather like a `WHERE` clause over group properties. Such a query returns a summarised grouped response rather than all the rows in each group.\n",
    "\n",
    "For example, let's get movies back where there are at least three languages used:"
   ]
  },
  {
   "cell_type": "code",
   "execution_count": null,
   "metadata": {},
   "outputs": [],
   "source": [
    "%%sql\n",
    "--films where at least three languages are spoken\n",
    "SELECT movie_id, COUNT(movie_id) AS num_langs, STRING_AGG(language_id, ', ') AS languages_spoken\n",
    "FROM movie_language\n",
    "\n",
    "-- group rows by movie_id\n",
    "GROUP BY movie_id\n",
    "\n",
    "-- and then filter the results to groups containing at least 3 rows\n",
    "HAVING COUNT(movie_id) >= 3\n",
    "\n",
    "-- Limit the nuber of results for convenience\n",
    "LIMIT 3;"
   ]
  },
  {
   "cell_type": "markdown",
   "metadata": {
    "activity": true
   },
   "source": [
    "### Activity 3"
   ]
  },
  {
   "cell_type": "markdown",
   "metadata": {
    "activity": true
   },
   "source": [
    "How would you use a `HAVING` clause to find the rows from the `movie_language` table for films where 8 languages are used?"
   ]
  },
  {
   "cell_type": "code",
   "execution_count": null,
   "metadata": {
    "student": true
   },
   "outputs": [],
   "source": [
    "# Write your code in this cell"
   ]
  },
  {
   "cell_type": "markdown",
   "metadata": {
    "activity": true,
    "heading_collapsed": true
   },
   "source": [
    "#### Our solution\n",
    "\n",
    "To reveal our solution, click on the triangle symbol on the left-hand end of this cell."
   ]
  },
  {
   "cell_type": "markdown",
   "metadata": {
    "activity": true,
    "hidden": true
   },
   "source": [
    "First of all, we want a query to identify the number of languages spoken for each film. We can use the `COUNT` aggregation function for this, remembering to use `GROUP BY` for the non-aggregated column (`movie_id`)."
   ]
  },
  {
   "cell_type": "code",
   "execution_count": null,
   "metadata": {
    "activity": true,
    "hidden": true
   },
   "outputs": [],
   "source": [
    "%%sql\n",
    "SELECT movie_id, COUNT(language_id) AS languages_in_film\n",
    "FROM movie_language\n",
    "GROUP BY movie_id\n",
    "LIMIT 5;\n"
   ]
  },
  {
   "cell_type": "markdown",
   "metadata": {
    "activity": true,
    "hidden": true
   },
   "source": [
    "Then we can add a `HAVING` clause to give us those movies in which 8 languages are used:"
   ]
  },
  {
   "cell_type": "code",
   "execution_count": null,
   "metadata": {
    "activity": true,
    "hidden": true
   },
   "outputs": [],
   "source": [
    "%%sql\n",
    "\n",
    "SELECT movie_id, COUNT(language_id) AS languages_in_film\n",
    "FROM movie_language\n",
    "GROUP BY movie_id\n",
    "HAVING COUNT(language_id)=8\n",
    "LIMIT 5;"
   ]
  },
  {
   "cell_type": "markdown",
   "metadata": {
    "activity": true,
    "hidden": true
   },
   "source": [
    "Although we didn't ask for it in the activity, we can use this subquery to find the names of these films by using the subquery in the `WHERE` clause of a query on the `movie` table. To do this, we use just the `movie_id` column in the subquery:"
   ]
  },
  {
   "cell_type": "code",
   "execution_count": null,
   "metadata": {
    "activity": true,
    "hidden": true
   },
   "outputs": [],
   "source": [
    "%%sql\n",
    "\n",
    "SELECT title\n",
    "FROM movie\n",
    "WHERE id IN (\n",
    "    SELECT movie_id\n",
    "    FROM movie_language\n",
    "    GROUP BY movie_id\n",
    "    HAVING COUNT(language_id)=8\n",
    ");"
   ]
  },
  {
   "cell_type": "markdown",
   "metadata": {
    "activity": true
   },
   "source": [
    "#### End of Activity 3"
   ]
  },
  {
   "cell_type": "markdown",
   "metadata": {},
   "source": [
    "------------------------------------------------------------"
   ]
  },
  {
   "cell_type": "markdown",
   "metadata": {},
   "source": [
    "Can we validate the solution we developed in the previous activity? What languages are spoken in _Munich_, with `movie_id=612`?"
   ]
  },
  {
   "cell_type": "code",
   "execution_count": null,
   "metadata": {},
   "outputs": [],
   "source": [
    "%%sql \n",
    "\n",
    "SELECT movie.id, title, language_id, language\n",
    "FROM movie, movie_language, spoken_language\n",
    "WHERE movie.id = 612 \n",
    "    AND movie.id = movie_id\n",
    "    AND spoken_language.id = language_id;"
   ]
  },
  {
   "cell_type": "markdown",
   "metadata": {
    "activity": true
   },
   "source": [
    "### Activity 4"
   ]
  },
  {
   "cell_type": "markdown",
   "metadata": {
    "activity": true
   },
   "source": [
    "How many movies do not have spoken English?\n",
    "\n",
    "There's a subtlety here about \"films that aren't in English.\" Should we include silent films and other films for which there's no language recorded?\n",
    "\n",
    "For the moment, find the movies that have at least one spoken language, but none of the spoken languages is English.\n",
    "\n",
    "HINT: Find the set of all movies that have spoken English, then `SELECT` the movies that are `NOT IN` that set."
   ]
  },
  {
   "cell_type": "code",
   "execution_count": null,
   "metadata": {
    "student": true
   },
   "outputs": [],
   "source": [
    "# Write your code in this cell"
   ]
  },
  {
   "cell_type": "markdown",
   "metadata": {
    "activity": true,
    "heading_collapsed": true
   },
   "source": [
    "#### Our solution\n",
    "\n",
    "To reveal our solution, click on the triangle symbol on the left-hand end of this cell."
   ]
  },
  {
   "cell_type": "markdown",
   "metadata": {
    "activity": true,
    "hidden": true
   },
   "source": [
    "We can answer the question by using a subquery to find the \"spoken language is English\" records for each movie, and only retrieving movies where the subquery returns an empty set. The join between `movie` and `movie_language` ensures that all the movies have at least one spoken language."
   ]
  },
  {
   "cell_type": "code",
   "execution_count": null,
   "metadata": {
    "activity": true,
    "hidden": true
   },
   "outputs": [],
   "source": [
    "%%sql\n",
    "\n",
    "SELECT id, title, COUNT(language_id) AS number_of_languages\n",
    "FROM movie, movie_language\n",
    "WHERE id = movie_id\n",
    "    AND id NOT IN (\n",
    "        -- Subquery that finds movies _with_ spoken English\n",
    "        SELECT movie_id \n",
    "        FROM movie_language\n",
    "        WHERE language_id = 'en'\n",
    "        )\n",
    "GROUP BY id;"
   ]
  },
  {
   "cell_type": "markdown",
   "metadata": {
    "activity": true,
    "hidden": true
   },
   "source": [
    "Can we validate this? What languages are spoken in *Brotherhood of the Wolf*?"
   ]
  },
  {
   "cell_type": "code",
   "execution_count": null,
   "metadata": {
    "activity": true,
    "hidden": true
   },
   "outputs": [],
   "source": [
    "%%sql \n",
    "\n",
    "SELECT movie.id, title, language_id, language\n",
    "FROM movie, movie_language, spoken_language\n",
    "WHERE movie.id = 6312\n",
    "    AND movie.id = movie_id\n",
    "    AND spoken_language.id = language_id;"
   ]
  },
  {
   "cell_type": "markdown",
   "metadata": {
    "activity": true,
    "hidden": true
   },
   "source": [
    "Yes, there are three languages spoken in that film, and none of them is English."
   ]
  },
  {
   "cell_type": "markdown",
   "metadata": {
    "activity": true
   },
   "source": [
    "#### End of Activity 4"
   ]
  },
  {
   "cell_type": "markdown",
   "metadata": {},
   "source": [
    "----------------------------------------"
   ]
  },
  {
   "cell_type": "markdown",
   "metadata": {},
   "source": [
    "# Conclusion\n",
    "\n",
    "This notebook has shown you how to use subqueries as values or sets of values in a query. As you have seen, this allows you to express more sophisticated queries in just SQL, without having to import large result sets into Pandas and then do some additional processing there. The more data manipulation you can get the database to do, the better. This has advantages both in processing time and also in memory usage: RDBMSs are very good at handling large sets of data, and can often do it more efficiently than Pandas.\n",
    "\n",
    "These are techniques you are likely to need in your own data investigations."
   ]
  }
 ],
 "metadata": {
  "kernelspec": {
   "display_name": "Python 3",
   "language": "python",
   "name": "python3"
  },
  "language_info": {
   "codemirror_mode": {
    "name": "ipython",
    "version": 3
   },
   "file_extension": ".py",
   "mimetype": "text/x-python",
   "name": "python",
   "nbconvert_exporter": "python",
   "pygments_lexer": "ipython3",
   "version": "3.7.8"
  }
 },
 "nbformat": 4,
 "nbformat_minor": 2
}
