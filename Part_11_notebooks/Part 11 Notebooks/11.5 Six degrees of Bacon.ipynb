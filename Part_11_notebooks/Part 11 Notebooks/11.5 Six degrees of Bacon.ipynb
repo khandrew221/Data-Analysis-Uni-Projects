{
 "cells": [
  {
   "cell_type": "markdown",
   "metadata": {},
   "source": [
    "# Six Degrees of Kevin Bacon"
   ]
  },
  {
   "cell_type": "markdown",
   "metadata": {},
   "source": [
    "This notebook explores **materialised views**, using the example of finding the [Bacon number](https://en.wikipedia.org/wiki/Six_Degrees_of_Kevin_Bacon) of film stars. It's an idea to see how \"connected\" people are in movies.\n",
    "\n",
    "In this notebook, we will use a (conceptually) simple task to investigate how materialised views can make some database tasks more tractable in practice. We will compare the time taken for queries with materialised views against queries which use views which are not materialised.\n",
    "\n",
    "You should spend around one hour on this notebook. Note that this notebook does not contain any new concepts; you should treat it just as a worked example of the material you have seen so far on views."
   ]
  },
  {
   "cell_type": "markdown",
   "metadata": {},
   "source": [
    "## The Bacon number\n",
    "\n",
    "An actor's bacon number is how many \"movies away\" they are from appearing with Kevin Bacon. \n",
    "\n",
    "Kevin Bacon has a Bacon number of zero. \n",
    "\n",
    "Everyone he's been in a film with has a Bacon number of one.\n",
    "\n",
    "If a person has been in a film with someone with a Bacon number of one, that person has a Bacon number of two.\n",
    "\n",
    "If a person has been in a film with someone with a Bacon number of two, that person has a Bacon number of three.\n",
    "\n",
    "The urban myth is that everyone in the movies has a Bacon number of six or less.\n",
    "\n",
    "We will investigate whether this is true."
   ]
  },
  {
   "cell_type": "markdown",
   "metadata": {},
   "source": [
    "## Setting up"
   ]
  },
  {
   "cell_type": "markdown",
   "metadata": {},
   "source": [
    "The next group of cells set up your database connection, and reset the database to a clean state. Check notebook *08.1 Data Definition Language in SQL* if you are unsure what the next cells do.\n",
    "\n",
    "You may need to change the given values of the variables `DB_USER` and `DB_PWD`, depending on which environment you are using"
   ]
  },
  {
   "cell_type": "raw",
   "metadata": {},
   "source": [
    "# If you are using the remote environment, change this cell\n",
    "# type to \"code\", and execute it\n",
    "\n",
    "DB_USER='xxx99'            # Enter your OUCU here (in quotes)\n",
    "DB_PWD='your_password'     # Enter your password here (in quotes)"
   ]
  },
  {
   "cell_type": "raw",
   "metadata": {},
   "source": [
    "# If you are using a locally hosted environment, change this cell\n",
    "# type to \"code\", and execute it\n",
    "\n",
    "DB_USER='tm351'\n",
    "DB_PWD='tm351'"
   ]
  },
  {
   "cell_type": "code",
   "execution_count": null,
   "metadata": {},
   "outputs": [],
   "source": [
    "# Make the connection\n",
    "\n",
    "%run sql_init.ipynb\n",
    "print(\"Connecting with connection string : {}\".format(DB_CONNECTION))\n",
    "%sql $DB_CONNECTION"
   ]
  },
  {
   "cell_type": "markdown",
   "metadata": {},
   "source": [
    "## The database ERD: recap"
   ]
  },
  {
   "cell_type": "markdown",
   "metadata": {},
   "source": [
    "\n",
    "\n",
    "Before we start, here's the ERD of the database again, which can be useful in getting orientated around the information it contains.\n",
    "\n",
    "\n",
    "![Movies ERD](./images/movies-erd.svg)\n"
   ]
  },
  {
   "cell_type": "markdown",
   "metadata": {},
   "source": [
    "As with `Notebook 11.1: Movie analysis`, this notebook uses the `movies` schema, so let's set the `search_path` so that we don't need to qualify all the table names:"
   ]
  },
  {
   "cell_type": "code",
   "execution_count": null,
   "metadata": {},
   "outputs": [],
   "source": [
    "%%sql\n",
    "\n",
    "SET search_path TO movies, public;"
   ]
  },
  {
   "cell_type": "markdown",
   "metadata": {},
   "source": [
    "# First steps\n",
    "First, how many actors are there, and can we identify Kevin Bacon?"
   ]
  },
  {
   "cell_type": "markdown",
   "metadata": {},
   "source": [
    "To start with, the next cell removes any views or materialized views which you might have created if this is not the first time you have used this notebook."
   ]
  },
  {
   "cell_type": "code",
   "execution_count": null,
   "metadata": {},
   "outputs": [],
   "source": [
    "%%sql \n",
    "\n",
    "DROP MATERIALIZED VIEW IF EXISTS movie_bacon;\n",
    "DROP MATERIALIZED VIEW IF EXISTS mbaconn;\n",
    "\n",
    "DROP VIEW IF EXISTS bacon6;\n",
    "DROP VIEW IF EXISTS bacon5;\n",
    "DROP VIEW IF EXISTS bacon4;\n",
    "DROP VIEW IF EXISTS bacon3;\n",
    "DROP VIEW IF EXISTS bacon2;\n",
    "DROP VIEW IF EXISTS bacon1;\n",
    "\n",
    "DROP VIEW IF EXISTS jbacon6;\n",
    "DROP VIEW IF EXISTS jbacon5;\n",
    "DROP VIEW IF EXISTS jbacon4;\n",
    "DROP VIEW IF EXISTS jbacon3;\n",
    "DROP VIEW IF EXISTS jbacon2;\n",
    "DROP VIEW IF EXISTS jbacon1;\n",
    "\n",
    "DROP MATERIALIZED VIEW IF EXISTS mbacon6;\n",
    "DROP MATERIALIZED VIEW IF EXISTS mbacon5;\n",
    "DROP MATERIALIZED VIEW IF EXISTS mbacon4;\n",
    "DROP MATERIALIZED VIEW IF EXISTS mbacon3;\n",
    "DROP MATERIALIZED VIEW IF EXISTS mbacon2;\n",
    "DROP MATERIALIZED VIEW IF EXISTS mbacon1;"
   ]
  },
  {
   "cell_type": "code",
   "execution_count": null,
   "metadata": {},
   "outputs": [],
   "source": [
    "%%sql\n",
    "\n",
    "SELECT COUNT(DISTINCT person_id)\n",
    "FROM cast_member;"
   ]
  },
  {
   "cell_type": "markdown",
   "metadata": {},
   "source": [
    "Using the standard SQL similarity matching."
   ]
  },
  {
   "cell_type": "code",
   "execution_count": null,
   "metadata": {
    "scrolled": true
   },
   "outputs": [],
   "source": [
    "%%sql\n",
    "\n",
    "SELECT id, name\n",
    "FROM person \n",
    "WHERE name LIKE '%Kevin%Bacon%';"
   ]
  },
  {
   "cell_type": "markdown",
   "metadata": {},
   "source": [
    "...and using the Postgres regular expression matcher:"
   ]
  },
  {
   "cell_type": "code",
   "execution_count": null,
   "metadata": {
    "scrolled": true
   },
   "outputs": [],
   "source": [
    "%%sql \n",
    "\n",
    "SELECT id, name \n",
    "FROM person \n",
    "WHERE name ~* 'kevin.*bacon';"
   ]
  },
  {
   "cell_type": "code",
   "execution_count": null,
   "metadata": {},
   "outputs": [],
   "source": [
    "kevin_bacon_id = 4724"
   ]
  },
  {
   "cell_type": "markdown",
   "metadata": {
    "activity": true
   },
   "source": [
    "### Activity 1"
   ]
  },
  {
   "cell_type": "markdown",
   "metadata": {
    "activity": true
   },
   "source": [
    "\n",
    "Find the person id and name of everyone with a Bacon number of one. That is, all the people who have been cast members in a movie where Kevin Bacon has also been a cast member.\n",
    "\n",
    "Hint. To include a Python variable in an SQL Magic query, prefix the variable name with a colon, like the query below which counts how many films Kevin Bacon has been in."
   ]
  },
  {
   "cell_type": "code",
   "execution_count": null,
   "metadata": {
    "activity": true
   },
   "outputs": [],
   "source": [
    "%%sql\n",
    "\n",
    "SELECT COUNT(DISTINCT movie_id)\n",
    "FROM cast_member\n",
    "WHERE person_id = :kevin_bacon_id;"
   ]
  },
  {
   "cell_type": "code",
   "execution_count": null,
   "metadata": {
    "student": true
   },
   "outputs": [],
   "source": [
    "# Write your code in this cell"
   ]
  },
  {
   "cell_type": "markdown",
   "metadata": {
    "activity": true
   },
   "source": [
    "#### Our solution\n",
    "\n",
    "To reveal our solution, click on the triangle symbol on the left-hand end of this cell."
   ]
  },
  {
   "cell_type": "markdown",
   "metadata": {
    "activity": true
   },
   "source": [
    "This query uses correlation names to look twice at the `cast_member` table (once to find Kevin Bacon, once to find other people in his films). Also note the final clause of the `WHERE` condition, to ensure that Kevin Bacon is not included in the people with a Bacon number of 1."
   ]
  },
  {
   "cell_type": "code",
   "execution_count": null,
   "metadata": {
    "activity": true,
    "scrolled": true
   },
   "outputs": [],
   "source": [
    "%%sql\n",
    "\n",
    "SELECT DISTINCT(id), name\n",
    "FROM person, cast_member AS c1, cast_member AS c2\n",
    "WHERE c1.movie_id = c2.movie_id\n",
    "    AND c1.person_id = :kevin_bacon_id\n",
    "    AND person.id = c2.person_id\n",
    "    AND c2.person_id <> :kevin_bacon_id;"
   ]
  },
  {
   "cell_type": "markdown",
   "metadata": {
    "activity": true
   },
   "source": [
    "#### End of Activity 1"
   ]
  },
  {
   "cell_type": "markdown",
   "metadata": {},
   "source": [
    "-----------------------------------------------------"
   ]
  },
  {
   "cell_type": "markdown",
   "metadata": {},
   "source": [
    "# The Bacon views\n",
    "\n",
    "Next, we'll create views to hold each group of people, ordered by Bacon number."
   ]
  },
  {
   "cell_type": "code",
   "execution_count": null,
   "metadata": {},
   "outputs": [],
   "source": [
    "%%sql\n",
    "\n",
    "DROP VIEW IF EXISTS bacon6;\n",
    "DROP VIEW IF EXISTS bacon5;\n",
    "DROP VIEW IF EXISTS bacon4;\n",
    "DROP VIEW IF EXISTS bacon3;\n",
    "DROP VIEW IF EXISTS bacon2;\n",
    "DROP VIEW IF EXISTS bacon1;"
   ]
  },
  {
   "cell_type": "markdown",
   "metadata": {
    "activity": true
   },
   "source": [
    "### Activity 2"
   ]
  },
  {
   "cell_type": "markdown",
   "metadata": {
    "activity": true
   },
   "source": [
    "Create a view, `bacon1`, of everyone with a Bacon number of one or less (this will include Kevin Bacon himself).\n",
    "\n",
    "How many people are there with Bacon number ≤ 1?"
   ]
  },
  {
   "cell_type": "code",
   "execution_count": null,
   "metadata": {
    "student": true
   },
   "outputs": [],
   "source": [
    "# Write your code in this cell"
   ]
  },
  {
   "cell_type": "markdown",
   "metadata": {
    "activity": true
   },
   "source": [
    "#### Our solution\n",
    "\n",
    "To reveal our solution, click on the triangle symbol on the left-hand end of this cell."
   ]
  },
  {
   "cell_type": "code",
   "execution_count": null,
   "metadata": {
    "activity": true,
    "scrolled": true
   },
   "outputs": [],
   "source": [
    "%%sql\n",
    "\n",
    "CREATE VIEW bacon1 AS \n",
    "    SELECT DISTINCT (c2.person_id)\n",
    "    FROM cast_member AS c1, cast_member AS c2\n",
    "    WHERE c1.movie_id = c2.movie_id\n",
    "        AND c1.person_id = :kevin_bacon_id;"
   ]
  },
  {
   "cell_type": "code",
   "execution_count": null,
   "metadata": {
    "activity": true
   },
   "outputs": [],
   "source": [
    "%%sql\n",
    "\n",
    "SELECT COUNT(*) AS number_of_people\n",
    "FROM bacon1;"
   ]
  },
  {
   "cell_type": "markdown",
   "metadata": {
    "activity": true
   },
   "source": [
    "#### End of Activity 2"
   ]
  },
  {
   "cell_type": "markdown",
   "metadata": {},
   "source": [
    "-----------------------------------------------"
   ]
  },
  {
   "cell_type": "markdown",
   "metadata": {
    "activity": true
   },
   "source": [
    "### Activity 3"
   ]
  },
  {
   "cell_type": "markdown",
   "metadata": {
    "activity": true
   },
   "source": [
    "Create a view, `bacon2`, which holds everyone with a Bacon number of two or less. You can use the `bacon1` view in your solution: `bacon2` should contain everyone who's been in a movie with someone listed in the `bacon1` view.\n",
    "\n",
    "How many people are there with Bacon number ≤ 2?\n",
    "\n",
    "Repeat the process, creating a view for everyone with a Bacon number of _n_ or less, for all Bacon numbers up to and including 6.\n",
    "\n",
    "How many people have a Bacon number of 7 or more?"
   ]
  },
  {
   "cell_type": "code",
   "execution_count": null,
   "metadata": {
    "student": true
   },
   "outputs": [],
   "source": [
    "# Write your code in this cell"
   ]
  },
  {
   "cell_type": "markdown",
   "metadata": {
    "activity": true
   },
   "source": [
    "#### Our solution\n",
    "\n",
    "To reveal our solution, click on the triangle symbol on the left-hand end of this cell."
   ]
  },
  {
   "cell_type": "markdown",
   "metadata": {
    "activity": true
   },
   "source": [
    "**Bacon 2**"
   ]
  },
  {
   "cell_type": "markdown",
   "metadata": {
    "activity": true
   },
   "source": [
    "First, I join `bacon1` and `cast_member AS c1` to find the `movie_id`s of all the appearances for people with Bacon number of 1. Anyone who's in one of those movies has a Bacon number of 2 (or lower). I find those people with another join between `c1` and `cast_member AS c2` (excluding the cases where it's the same person in `c1` and `c2`."
   ]
  },
  {
   "cell_type": "code",
   "execution_count": null,
   "metadata": {
    "activity": true,
    "scrolled": true
   },
   "outputs": [],
   "source": [
    "%%sql\n",
    "\n",
    "CREATE VIEW bacon2 AS \n",
    "    SELECT DISTINCT(c2.person_id)\n",
    "    FROM bacon1 AS b, cast_member AS c1, cast_member AS c2\n",
    "    WHERE b.person_id = c1.person_id\n",
    "        AND c1.movie_id = c2.movie_id\n",
    "        AND c2.person_id <> c1.person_id;"
   ]
  },
  {
   "cell_type": "code",
   "execution_count": null,
   "metadata": {
    "activity": true
   },
   "outputs": [],
   "source": [
    "%%sql \n",
    "\n",
    "SELECT COUNT(person_id) AS number_of_people\n",
    "FROM bacon2;"
   ]
  },
  {
   "cell_type": "markdown",
   "metadata": {
    "activity": true
   },
   "source": [
    "**Bacon 3 – 6**"
   ]
  },
  {
   "cell_type": "markdown",
   "metadata": {
    "activity": true
   },
   "source": [
    "These follow the same pattern as `bacon2`, but starting the pattern from a different view."
   ]
  },
  {
   "cell_type": "code",
   "execution_count": null,
   "metadata": {
    "activity": true,
    "scrolled": true
   },
   "outputs": [],
   "source": [
    "%%sql\n",
    "\n",
    "CREATE VIEW bacon3 AS\n",
    "    SELECT DISTINCT(c2.person_id)\n",
    "    FROM bacon2 AS b, cast_member AS c1, cast_member AS c2\n",
    "    WHERE b.person_id = c1.person_id\n",
    "        AND c1.movie_id = c2.movie_id\n",
    "        AND c2.person_id <> c1.person_id;"
   ]
  },
  {
   "cell_type": "code",
   "execution_count": null,
   "metadata": {
    "activity": true,
    "scrolled": true
   },
   "outputs": [],
   "source": [
    "%%sql\n",
    "\n",
    "CREATE VIEW bacon4 as \n",
    "    SELECT DISTINCT(c2.person_id)\n",
    "    FROM bacon3 AS b, cast_member AS c1, cast_member AS c2\n",
    "    WHERE b.person_id = c1.person_id\n",
    "        AND c1.movie_id = c2.movie_id\n",
    "        AND c2.person_id <> c1.person_id;"
   ]
  },
  {
   "cell_type": "code",
   "execution_count": null,
   "metadata": {
    "activity": true,
    "scrolled": true
   },
   "outputs": [],
   "source": [
    "%%sql\n",
    "\n",
    "CREATE VIEW bacon5 AS \n",
    "    SELECT DISTINCT(c2.person_id)\n",
    "    FROM bacon4 AS b, cast_member AS c1, cast_member AS c2\n",
    "    WHERE b.person_id = c1.person_id\n",
    "        AND c1.movie_id = c2.movie_id\n",
    "        AND c2.person_id <> c1.person_id;"
   ]
  },
  {
   "cell_type": "code",
   "execution_count": null,
   "metadata": {
    "activity": true,
    "scrolled": true
   },
   "outputs": [],
   "source": [
    "%%sql\n",
    "\n",
    "CREATE VIEW bacon6 AS \n",
    "    SELECT DISTINCT(c2.person_id)\n",
    "    FROM bacon5 as b, cast_member AS c1, cast_member AS c2\n",
    "    WHERE b.person_id = c1.person_id\n",
    "        AND c1.movie_id = c2.movie_id\n",
    "        AND c2.person_id <> c1.person_id;"
   ]
  },
  {
   "cell_type": "markdown",
   "metadata": {
    "activity": true
   },
   "source": [
    "**Finding the counts with Bacon numbers**\n",
    "\n",
    "Now we have the views, it's easy to just `COUNT` the number of `person_id`s in each view. (Yes, these queries are taking quite some time to complete.)"
   ]
  },
  {
   "cell_type": "code",
   "execution_count": null,
   "metadata": {
    "activity": true
   },
   "outputs": [],
   "source": [
    "%%time\n",
    "%%sql \n",
    "\n",
    "SELECT COUNT(person_id) AS number_of_people\n",
    "FROM bacon3;"
   ]
  },
  {
   "cell_type": "code",
   "execution_count": null,
   "metadata": {
    "activity": true
   },
   "outputs": [],
   "source": [
    "%%time\n",
    "%%sql \n",
    "\n",
    "SELECT COUNT(person_id) AS number_of_people\n",
    "FROM bacon4;"
   ]
  },
  {
   "cell_type": "code",
   "execution_count": null,
   "metadata": {
    "activity": true
   },
   "outputs": [],
   "source": [
    "%%time\n",
    "%%sql \n",
    "\n",
    "SELECT COUNT(person_id) AS number_of_people\n",
    "FROM bacon5;"
   ]
  },
  {
   "cell_type": "code",
   "execution_count": null,
   "metadata": {
    "activity": true
   },
   "outputs": [],
   "source": [
    "%%time\n",
    "%%sql \n",
    "\n",
    "SELECT COUNT(person_id) AS number_of_people\n",
    "FROM bacon6;"
   ]
  },
  {
   "cell_type": "markdown",
   "metadata": {
    "activity": true
   },
   "source": [
    "**Those with Bacon number ≥ 7**"
   ]
  },
  {
   "cell_type": "code",
   "execution_count": null,
   "metadata": {
    "activity": true
   },
   "outputs": [],
   "source": [
    "%%time\n",
    "%%sql \n",
    "\n",
    "SELECT COUNT(DISTINCT person_id) AS number_of_people\n",
    "FROM cast_member \n",
    "WHERE cast_member.person_id NOT IN (SELECT person_id \n",
    "                                    FROM bacon6);"
   ]
  },
  {
   "cell_type": "markdown",
   "metadata": {
    "activity": true
   },
   "source": [
    "#### End of Activity 3"
   ]
  },
  {
   "cell_type": "markdown",
   "metadata": {},
   "source": [
    "--------------------------------------"
   ]
  },
  {
   "cell_type": "markdown",
   "metadata": {
    "activity": true
   },
   "source": [
    "### Activity 4"
   ]
  },
  {
   "cell_type": "markdown",
   "metadata": {
    "activity": true
   },
   "source": [
    "**Exact Bacon numbers**\n",
    "\n",
    "The activities above found people with Bacon numbers of _n_ or less. \n",
    "\n",
    "Repeat the exercise and find the number of people with Bacon number of exactly _n_, for 1 ≤ _n_ ≤ 6.\n",
    "\n",
    "Call these views `jbacon1` to `jbacon6` (\"Just Bacon _n_\")\n",
    "\n",
    "How many people have a Bacon number of 6? How long does that query take?\n",
    "\n",
    "Hint: you may find it more consistent to define a view `jbacon0`, which returns just Kevin Bacon."
   ]
  },
  {
   "cell_type": "code",
   "execution_count": null,
   "metadata": {
    "activity": true
   },
   "outputs": [],
   "source": [
    "%%sql\n",
    "\n",
    "DROP VIEW IF EXISTS jbacon6;\n",
    "DROP VIEW IF EXISTS jbacon5;\n",
    "DROP VIEW IF EXISTS jbacon4;\n",
    "DROP VIEW IF EXISTS jbacon3;\n",
    "DROP VIEW IF EXISTS jbacon2;\n",
    "DROP VIEW IF EXISTS jbacon1;\n",
    "DROP VIEW IF EXISTS jbacon0;"
   ]
  },
  {
   "cell_type": "code",
   "execution_count": null,
   "metadata": {
    "student": true
   },
   "outputs": [],
   "source": [
    "# Write your code in this cell"
   ]
  },
  {
   "cell_type": "markdown",
   "metadata": {
    "activity": true
   },
   "source": [
    "#### Our solution\n",
    "\n",
    "To reveal our solution, click on the triangle symbol on the left-hand end of this cell."
   ]
  },
  {
   "cell_type": "code",
   "execution_count": null,
   "metadata": {
    "activity": true
   },
   "outputs": [],
   "source": [
    "%%sql\n",
    "\n",
    "CREATE VIEW jbacon0 AS \n",
    "    SELECT DISTINCT (person_id)\n",
    "    FROM cast_member\n",
    "    WHERE person_id = :kevin_bacon_id;"
   ]
  },
  {
   "cell_type": "markdown",
   "metadata": {
    "activity": true
   },
   "source": [
    "The view `jbacon1` is the same as `bacon1`, but with the additional condition that people present in `jbacon0` are not included in `jbacon1`"
   ]
  },
  {
   "cell_type": "code",
   "execution_count": null,
   "metadata": {
    "activity": true,
    "scrolled": true
   },
   "outputs": [],
   "source": [
    "%%sql\n",
    "\n",
    "CREATE VIEW jbacon1 AS \n",
    "    SELECT DISTINCT(c2.person_id)\n",
    "    FROM jbacon0 AS b, cast_member AS c1, cast_member AS c2\n",
    "    WHERE b.person_id = c1.person_id\n",
    "        AND c1.movie_id = c2.movie_id\n",
    "        AND c2.person_id NOT IN (SELECT person_id \n",
    "                                 FROM jbacon0);"
   ]
  },
  {
   "cell_type": "markdown",
   "metadata": {
    "activity": true
   },
   "source": [
    "Similarly, `jbacon2` is the same as `bacon2`, so long as a person is not in `jbacon0` and not in `jbacon1`.\n",
    "\n",
    "A similar pattern continues for the other Bacon numbers. We need to check all previous Bacon sets at each step."
   ]
  },
  {
   "cell_type": "code",
   "execution_count": null,
   "metadata": {
    "activity": true,
    "scrolled": true
   },
   "outputs": [],
   "source": [
    "%%sql\n",
    "\n",
    "CREATE VIEW jbacon2 AS \n",
    "    SELECT DISTINCT(c2.person_id)\n",
    "    FROM jbacon1 AS b, cast_member AS c1, cast_member AS c2\n",
    "    WHERE b.person_id = c1.person_id\n",
    "        AND c1.movie_id = c2.movie_id\n",
    "        AND c2.person_id NOT IN (SELECT person_id \n",
    "                                 FROM jbacon0)\n",
    "        AND c2.person_id NOT IN (SELECT person_id \n",
    "                                 FROM jbacon1);"
   ]
  },
  {
   "cell_type": "code",
   "execution_count": null,
   "metadata": {
    "activity": true,
    "scrolled": true
   },
   "outputs": [],
   "source": [
    "%%sql\n",
    "\n",
    "CREATE VIEW jbacon3 AS \n",
    "    SELECT DISTINCT(c2.person_id)\n",
    "    FROM jbacon2 AS b, cast_member AS c1, cast_member AS c2\n",
    "    WHERE b.person_id = c1.person_id\n",
    "        AND c1.movie_id = c2.movie_id\n",
    "        AND c2.person_id NOT IN (SELECT person_id\n",
    "                                 FROM jbacon0)\n",
    "        AND c2.person_id NOT IN (SELECT person_id\n",
    "                                 FROM jbacon1)\n",
    "        AND c2.person_id NOT IN (SELECT person_id\n",
    "                                 FROM jbacon2);"
   ]
  },
  {
   "cell_type": "code",
   "execution_count": null,
   "metadata": {
    "activity": true,
    "scrolled": true
   },
   "outputs": [],
   "source": [
    "%%sql\n",
    "\n",
    "CREATE VIEW jbacon4 AS \n",
    "    SELECT distinct(c2.person_id)\n",
    "    FROM jbacon3 AS b, cast_member AS c1, cast_member AS c2\n",
    "    WHERE b.person_id = c1.person_id\n",
    "        AND c1.movie_id = c2.movie_id\n",
    "        AND c2.person_id NOT IN (SELECT person_id \n",
    "                                 FROM jbacon0)\n",
    "        AND c2.person_id NOT IN (SELECT person_id \n",
    "                                 FROM jbacon1)\n",
    "        AND c2.person_id NOT IN (SELECT person_id \n",
    "                                 FROM jbacon2)\n",
    "        AND c2.person_id NOT IN (SELECT person_id \n",
    "                                 FROM jbacon3);"
   ]
  },
  {
   "cell_type": "code",
   "execution_count": null,
   "metadata": {
    "activity": true,
    "scrolled": true
   },
   "outputs": [],
   "source": [
    "%%sql\n",
    "\n",
    "CREATE VIEW jbacon5 AS \n",
    "    SELECT DISTINCT(c2.person_id)\n",
    "    FROM jbacon4 AS b, cast_member AS c1, cast_member AS c2\n",
    "    WHERE b.person_id = c1.person_id\n",
    "        AND c1.movie_id = c2.movie_id\n",
    "        AND c2.person_id NOT IN (SELECT person_id\n",
    "                                 FROM jbacon0)\n",
    "        AND c2.person_id NOT IN (SELECT person_id\n",
    "                                 FROM jbacon1)\n",
    "        AND c2.person_id NOT IN (SELECT person_id\n",
    "                                 FROM jbacon2)\n",
    "        AND c2.person_id NOT IN (SELECT person_id\n",
    "                                 FROM jbacon3)\n",
    "        AND c2.person_id NOT IN (SELECT person_id\n",
    "                                 FROM jbacon4);"
   ]
  },
  {
   "cell_type": "code",
   "execution_count": null,
   "metadata": {
    "activity": true,
    "scrolled": true
   },
   "outputs": [],
   "source": [
    "%%sql\n",
    "\n",
    "CREATE VIEW jbacon6 AS \n",
    "    SELECT DISTINCT(c2.person_id)\n",
    "    FROM jbacon5 as b, cast_member as c1, cast_member as c2\n",
    "    WHERE b.person_id = c1.person_id\n",
    "        AND c1.movie_id = c2.movie_id\n",
    "        AND c2.person_id NOT IN (SELECT person_id \n",
    "                                 FROM jbacon0)\n",
    "        AND c2.person_id NOT IN (SELECT person_id \n",
    "                                 FROM jbacon1)\n",
    "        AND c2.person_id NOT IN (SELECT person_id \n",
    "                                 FROM jbacon2)\n",
    "        AND c2.person_id NOT IN (SELECT person_id \n",
    "                                 FROM jbacon3)\n",
    "        AND c2.person_id NOT IN (SELECT person_id \n",
    "                                 FROM jbacon4)\n",
    "        AND c2.person_id NOT IN (SELECT person_id\n",
    "                                 FROM jbacon5);"
   ]
  },
  {
   "cell_type": "code",
   "execution_count": null,
   "metadata": {
    "activity": true
   },
   "outputs": [],
   "source": [
    "%%time\n",
    "%%sql \n",
    "\n",
    "SELECT COUNT(person_id) AS number_of_people\n",
    "FROM jbacon2;"
   ]
  },
  {
   "cell_type": "code",
   "execution_count": null,
   "metadata": {
    "activity": true
   },
   "outputs": [],
   "source": [
    "%%time\n",
    "%%sql \n",
    "\n",
    "SELECT COUNT(person_id)  AS number_of_people\n",
    "FROM jbacon6;"
   ]
  },
  {
   "cell_type": "code",
   "execution_count": null,
   "metadata": {
    "activity": true
   },
   "outputs": [],
   "source": [
    "%%time\n",
    "%%sql \n",
    "\n",
    "SELECT COUNT(person_id) AS number_of_people\n",
    "FROM bacon6;"
   ]
  },
  {
   "cell_type": "markdown",
   "metadata": {
    "activity": true
   },
   "source": [
    "#### End of Activity 4"
   ]
  },
  {
   "cell_type": "markdown",
   "metadata": {},
   "source": [
    "--------------------------------------"
   ]
  },
  {
   "cell_type": "markdown",
   "metadata": {},
   "source": [
    "# Materialised views\n",
    "One way to speed up these queries is with materialised views, where the view contents are stored in the database for easy lookup. They may take time to create, but are much quicker to use."
   ]
  },
  {
   "cell_type": "code",
   "execution_count": null,
   "metadata": {},
   "outputs": [],
   "source": [
    "%%sql\n",
    "\n",
    "DROP MATERIALIZED VIEW IF EXISTS mbacon6;\n",
    "DROP MATERIALIZED VIEW IF EXISTS mbacon5;\n",
    "DROP MATERIALIZED VIEW IF EXISTS mbacon4;\n",
    "DROP MATERIALIZED VIEW IF EXISTS mbacon3;\n",
    "DROP MATERIALIZED VIEW IF EXISTS mbacon2;\n",
    "DROP MATERIALIZED VIEW IF EXISTS mbacon1;"
   ]
  },
  {
   "cell_type": "markdown",
   "metadata": {},
   "source": [
    "This creates a materialised view of people with Bacon number ≤ 1. As you can see, it's identical in form to the definition of the `bacon1` view, just with the addition of the `materialized` keyword.\n",
    "\n",
    "Note that PostgreSQL tells us how many rows were created in the materialised view."
   ]
  },
  {
   "cell_type": "code",
   "execution_count": null,
   "metadata": {
    "scrolled": true
   },
   "outputs": [],
   "source": [
    "%%sql\n",
    "\n",
    "CREATE MATERIALIZED VIEW mbacon1 AS \n",
    "    SELECT DISTINCT(c2.person_id)\n",
    "    FROM cast_member AS c1, cast_member AS c2\n",
    "    WHERE c1.movie_id = c2.movie_id\n",
    "        AND c1.person_id = :kevin_bacon_id;"
   ]
  },
  {
   "cell_type": "markdown",
   "metadata": {
    "activity": true
   },
   "source": [
    "### Activity 5"
   ]
  },
  {
   "cell_type": "markdown",
   "metadata": {
    "activity": true
   },
   "source": [
    "Repeat the above, creating materialised views for people with Bacon numbers between 2 and 6 (inclusive).\n",
    "\n",
    "Compare the times to count the number of people with Bacon number less than or equal to 6, using both materialised and standard views."
   ]
  },
  {
   "cell_type": "code",
   "execution_count": null,
   "metadata": {
    "student": true
   },
   "outputs": [],
   "source": [
    "# Write your code in this cell"
   ]
  },
  {
   "cell_type": "markdown",
   "metadata": {
    "activity": true
   },
   "source": [
    "#### Our solution\n",
    "\n",
    "To reveal our solution, click on the triangle symbol on the left-hand end of this cell."
   ]
  },
  {
   "cell_type": "code",
   "execution_count": null,
   "metadata": {
    "activity": true,
    "scrolled": true
   },
   "outputs": [],
   "source": [
    "%%sql\n",
    "\n",
    "CREATE MATERIALIZED VIEW mbacon2 AS \n",
    "    SELECT DISTINCT(c2.person_id)\n",
    "    FROM mbacon1 AS b, cast_member AS c1, cast_member AS c2\n",
    "    WHERE b.person_id = c1.person_id\n",
    "        AND c1.movie_id = c2.movie_id\n",
    "        AND c2.person_id <> c1.person_id;"
   ]
  },
  {
   "cell_type": "code",
   "execution_count": null,
   "metadata": {
    "activity": true,
    "scrolled": true
   },
   "outputs": [],
   "source": [
    "%%sql\n",
    "\n",
    "CREATE MATERIALIZED VIEW mbacon3 AS \n",
    "    SELECT DISTINCT(c2.person_id)\n",
    "    FROM mbacon2 as b, cast_member AS c1, cast_member AS c2\n",
    "    WHERE b.person_id = c1.person_id\n",
    "        AND c1.movie_id = c2.movie_id\n",
    "        AND c2.person_id <> c1.person_id;"
   ]
  },
  {
   "cell_type": "code",
   "execution_count": null,
   "metadata": {
    "activity": true,
    "scrolled": true
   },
   "outputs": [],
   "source": [
    "%%sql\n",
    "\n",
    "CREATE MATERIALIZED VIEW mbacon4 AS \n",
    "    SELECT DISTINCT(c2.person_id)\n",
    "    FROM mbacon3 as b, cast_member AS c1, cast_member AS c2\n",
    "    WHERE b.person_id = c1.person_id\n",
    "        AND c1.movie_id = c2.movie_id\n",
    "        AND c2.person_id <> c1.person_id;"
   ]
  },
  {
   "cell_type": "code",
   "execution_count": null,
   "metadata": {
    "activity": true,
    "scrolled": true
   },
   "outputs": [],
   "source": [
    "%%sql\n",
    "\n",
    "CREATE MATERIALIZED VIEW mbacon5 AS \n",
    "    SELECT DISTINCT(c2.person_id)\n",
    "    FROM mbacon4 as b, cast_member AS c1, cast_member AS c2\n",
    "    WHERE b.person_id = c1.person_id\n",
    "        AND c1.movie_id = c2.movie_id\n",
    "        AND c2.person_id <> c1.person_id;"
   ]
  },
  {
   "cell_type": "code",
   "execution_count": null,
   "metadata": {
    "activity": true,
    "scrolled": true
   },
   "outputs": [],
   "source": [
    "%%sql\n",
    "\n",
    "CREATE MATERIALIZED VIEW mbacon6 AS \n",
    "    SELECT DISTINCT (c2.person_id)\n",
    "    FROM mbacon5 AS b, cast_member AS c1, cast_member AS c2\n",
    "    WHERE b.person_id = c1.person_id\n",
    "        AND c1.movie_id = c2.movie_id\n",
    "        AND c2.person_id <> c1.person_id;"
   ]
  },
  {
   "cell_type": "markdown",
   "metadata": {
    "activity": true
   },
   "source": [
    "#### End of Activity 5"
   ]
  },
  {
   "cell_type": "markdown",
   "metadata": {},
   "source": [
    "---------------------------------------------"
   ]
  },
  {
   "cell_type": "markdown",
   "metadata": {},
   "source": [
    "## Using materialised views\n",
    "We can now see if these materialised views make a difference in performance."
   ]
  },
  {
   "cell_type": "code",
   "execution_count": null,
   "metadata": {},
   "outputs": [],
   "source": [
    "%%time\n",
    "%%sql \n",
    "\n",
    "SELECT COUNT(person_id) AS number_of_people\n",
    "FROM mbacon3;"
   ]
  },
  {
   "cell_type": "code",
   "execution_count": null,
   "metadata": {},
   "outputs": [],
   "source": [
    "%%time\n",
    "%%sql \n",
    "\n",
    "SELECT COUNT(person_id) AS number_of_people\n",
    "FROM mbacon4;"
   ]
  },
  {
   "cell_type": "code",
   "execution_count": null,
   "metadata": {},
   "outputs": [],
   "source": [
    "%%time\n",
    "%%sql \n",
    "\n",
    "SELECT COUNT(person_id) AS number_of_people\n",
    "FROM mbacon5;"
   ]
  },
  {
   "cell_type": "markdown",
   "metadata": {},
   "source": [
    "Using the materialised view:"
   ]
  },
  {
   "cell_type": "code",
   "execution_count": null,
   "metadata": {},
   "outputs": [],
   "source": [
    "%%time\n",
    "%%sql \n",
    "\n",
    "SELECT COUNT(person_id) AS number_of_people\n",
    "FROM mbacon6;"
   ]
  },
  {
   "cell_type": "markdown",
   "metadata": {},
   "source": [
    "Using the non-materialised view:"
   ]
  },
  {
   "cell_type": "code",
   "execution_count": null,
   "metadata": {},
   "outputs": [],
   "source": [
    "%%time\n",
    "%%sql \n",
    "\n",
    "SELECT COUNT(person_id) AS number_of_people \n",
    "FROM bacon6;"
   ]
  },
  {
   "cell_type": "markdown",
   "metadata": {},
   "source": [
    "We can see how much space these materialised views are taking with this query. \n",
    "\n",
    "The `relkind = 'm'` picks out materialised views. \n",
    "\n",
    "(You're not expected to be able to generate this, and it's very much Postgresql-specific)."
   ]
  },
  {
   "cell_type": "code",
   "execution_count": null,
   "metadata": {},
   "outputs": [],
   "source": [
    "%%sql \n",
    "\n",
    "SELECT c.oid\n",
    "     , relname AS table_name\n",
    "     , c.reltuples AS row_estimate\n",
    "     , pg_total_relation_size(c.oid) AS total_bytes\n",
    "     , pg_size_pretty(pg_total_relation_size(c.oid)) AS total\n",
    "FROM pg_class AS c\n",
    "LEFT JOIN pg_namespace n ON n.oid = c.relnamespace\n",
    "WHERE relkind = 'm'\n",
    "ORDER BY total_bytes;"
   ]
  },
  {
   "cell_type": "markdown",
   "metadata": {},
   "source": [
    "These aren't large tables: the materialised views take around 10MB in total. But materialised views with more data could easily take up a lot of space. As with so many things in the pragmatics of database use, whether to use materialised views, and to what degree, is an exercise in judgment with consideration of the different demands on the database."
   ]
  },
  {
   "cell_type": "markdown",
   "metadata": {},
   "source": [
    "# Conclusion"
   ]
  },
  {
   "cell_type": "markdown",
   "metadata": {},
   "source": [
    "This notebook has been an investigation into materialised views. You've seen how they represent a trade-off between time and space. Materialised views can allow a database to quickly return the results of a complex and time-consuming query, by caching the results of that query in the materialsed view. The downsides are the space needed to create them, and the issue of out-of-date information if the underlying tables change before the materialised view is regnerated."
   ]
  }
 ],
 "metadata": {
  "kernelspec": {
   "display_name": "Python 3",
   "language": "python",
   "name": "python3"
  },
  "language_info": {
   "codemirror_mode": {
    "name": "ipython",
    "version": 3
   },
   "file_extension": ".py",
   "mimetype": "text/x-python",
   "name": "python",
   "nbconvert_exporter": "python",
   "pygments_lexer": "ipython3",
   "version": "3.7.8"
  }
 },
 "nbformat": 4,
 "nbformat_minor": 2
}
