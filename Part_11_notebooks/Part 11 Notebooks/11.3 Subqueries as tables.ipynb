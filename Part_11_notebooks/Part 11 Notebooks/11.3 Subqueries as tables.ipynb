{
 "cells": [
  {
   "cell_type": "markdown",
   "metadata": {},
   "source": [
    "# Subqueries as tables\n"
   ]
  },
  {
   "cell_type": "markdown",
   "metadata": {},
   "source": [
    "\n",
    "In this notebook, you will look at some examples of how the results of a subquery can be used in place of a table in an SQL query. \n",
    "\n",
    "You'll explore this use by asking some more complex questions of the movies dataset. As with Notebook 11.2, the questions in this Notebook are sometimes a little contrived, and sometimes a _lot_ contrived. Theses are not necessarily the most obvious or most interesting questions you could ask of the dataset. However, they they serve to illustrate the SQL techniques.\n",
    "\n",
    "You should spend around one hour on this notebook."
   ]
  },
  {
   "cell_type": "markdown",
   "metadata": {},
   "source": [
    "## Setting up"
   ]
  },
  {
   "cell_type": "markdown",
   "metadata": {},
   "source": [
    "The next group of cells set up your database connection, and reset the database to a clean state. Check notebook *08.1 Data Definition Language in SQL* if you are unsure what the next cells do.\n",
    "\n",
    "You may need to change the given values of the variables `DB_USER` and `DB_PWD`, depending on which environment you are using"
   ]
  },
  {
   "cell_type": "raw",
   "metadata": {},
   "source": [
    "# If you are using the remote environment, change this cell\n",
    "# type to \"code\", and execute it\n",
    "\n",
    "DB_USER='xxx99'            # Enter your OUCU here (in quotes)\n",
    "DB_PWD='your_password'     # Enter your password here (in quotes)"
   ]
  },
  {
   "cell_type": "raw",
   "metadata": {},
   "source": [
    "# If you are using a locally hosted environment, change this cell\n",
    "# type to \"code\", and execute it\n",
    "\n",
    "DB_USER='tm351'\n",
    "DB_PWD='tm351'"
   ]
  },
  {
   "cell_type": "code",
   "execution_count": null,
   "metadata": {},
   "outputs": [],
   "source": [
    "# Make the connection\n",
    "\n",
    "%run sql_init.ipynb\n",
    "print(\"Connecting with connection string : {}\".format(DB_CONNECTION))\n",
    "%sql $DB_CONNECTION"
   ]
  },
  {
   "cell_type": "markdown",
   "metadata": {},
   "source": [
    "## The database ERD: recap"
   ]
  },
  {
   "cell_type": "markdown",
   "metadata": {},
   "source": [
    "\n",
    "\n",
    "Before we start, here's the ERD of the database again, which can be useful in getting orientated around the information it contains.\n",
    "\n",
    "\n",
    "![Movies ERD](./images/movies-erd.svg)\n"
   ]
  },
  {
   "cell_type": "markdown",
   "metadata": {},
   "source": [
    "As with `Notebook 11.1: Movie analysis`, this notebook uses the `movies` schema, so let's set the `search_path` so that we don't need to qualify all the table names:"
   ]
  },
  {
   "cell_type": "code",
   "execution_count": null,
   "metadata": {},
   "outputs": [],
   "source": [
    "%%sql\n",
    "\n",
    "SET search_path TO movies, public;"
   ]
  },
  {
   "cell_type": "markdown",
   "metadata": {
    "collapsed": true
   },
   "source": [
    "# The trend of globalisation\n",
    "\n",
    "Have movies become more international over time? In other words, are more countries involved in the production of a film? Do films include more languages over time?\n",
    "\n",
    "(As with the investigation in Notebook 11.2 into languages, the quality of the answers to this question is heavily affected by the limited scope of the dataset we're using.)"
   ]
  },
  {
   "cell_type": "markdown",
   "metadata": {
    "collapsed": true
   },
   "source": [
    "## The relevant data\n",
    "We're still concentrating on the `spoken_language` and `production_country` tables, connective to the `movie` table by the composite entities of `movie_language` and `movie_production_country` respectively.\n",
    "\n",
    "![Movies ERD fragment](images/movies-erd-foreign-fragment.svg)\n",
    "\n",
    "This query counts the number of countries involved with each movie."
   ]
  },
  {
   "cell_type": "code",
   "execution_count": null,
   "metadata": {
    "scrolled": false
   },
   "outputs": [],
   "source": [
    "%%sql\n",
    "\n",
    "SELECT movie_id, title, COUNT(*) AS production_country_count\n",
    "FROM movie, movie_production_country\n",
    "WHERE movie.id = movie_id \n",
    "GROUP BY movie_id, title\n",
    "LIMIT 10;"
   ]
  },
  {
   "cell_type": "markdown",
   "metadata": {},
   "source": [
    "Back in the early days of film production, many films were produced on a movie set back lot. But many films nowadays also make use of production teams and locations all over the world.\n",
    "\n",
    "So has movie production become more likely to involve multiple production countries during the production of a particular movie?\n",
    "\n",
    "If we know the number of countries involved in the production of each movie, then for each year we can also find the average number countries associated with the production of films in a given year. (We can also easily find a count of the number of movies produced each year.)\n",
    "\n",
    "So where's the data for this? The `movie` table records the year that each movie was released, and the `movie_production_country` table contains the production countries (one row per country; each movie may be associated with one or more rows).\n",
    "\n",
    "But what we really want to do is to join the `movie` table with a table that contains the number of countries associated with each film.\n",
    "\n",
    "We'll look only at movies produced in the range 1980–2010, as those years have sufficient movies for good averages."
   ]
  },
  {
   "cell_type": "code",
   "execution_count": null,
   "metadata": {
    "scrolled": false
   },
   "outputs": [],
   "source": [
    "%%sql country_count_year <<\n",
    "\n",
    "SELECT year, \n",
    "       COUNT(movie.id) AS number_of_movies, \n",
    "       AVG(production_country_count) AS average_production_country_count\n",
    "FROM (\n",
    "    SELECT movie_id, COUNT(*) AS production_country_count\n",
    "         FROM movie, movie_production_country\n",
    "         WHERE movie.id = movie_id \n",
    "         GROUP BY movie_id\n",
    "     ) AS pcc, movie\n",
    "WHERE movie.id = pcc.movie_id\n",
    "    AND year > 1980\n",
    "    AND year < 2009\n",
    "GROUP BY year\n",
    "ORDER BY year;\n"
   ]
  },
  {
   "cell_type": "code",
   "execution_count": null,
   "metadata": {
    "scrolled": true
   },
   "outputs": [],
   "source": [
    "ax = country_count_year['average_production_country_count'].plot()\n",
    "ax.set(title=\"Average number of production countries per movie over time\", \n",
    "       xlabel='Year', \n",
    "       ylabel='Average production countries per movie');"
   ]
  },
  {
   "cell_type": "markdown",
   "metadata": {},
   "source": [
    "That looks like a large increase, but what if we ensure the y-axis starts at zero?"
   ]
  },
  {
   "cell_type": "code",
   "execution_count": null,
   "metadata": {
    "scrolled": true
   },
   "outputs": [],
   "source": [
    "ax = country_count_year['average_production_country_count'].plot(ylim=(0, 1.7))\n",
    "ax.set(title=\"Average number of production countries per movie over time\", \n",
    "       xlabel='Year', \n",
    "       ylabel='Average production countries per movie');"
   ]
  },
  {
   "cell_type": "markdown",
   "metadata": {},
   "source": [
    "That's a more modest increase. On the other hand, we'd expect every movie to be made in at least one country, so forcing the y-axis to zero may not be the best choice. \n",
    "\n",
    "In any event, there's a clear increase in the number of countries involved in movie production over time. Films are becoming more multinational."
   ]
  },
  {
   "cell_type": "markdown",
   "metadata": {},
   "source": [
    "#### An Aside - From \"Pseudo-Code\" to Queries"
   ]
  },
  {
   "cell_type": "markdown",
   "metadata": {},
   "source": [
    "If you have come from an imperative programming background, such as Python, you may naturally try to phrase queries using some sort of Python-like pseudo-code.\n",
    "\n",
    "For example, the question of how to find the average number of production countries per film in each year might be calculated in a Python program something like the following:\n",
    "\n",
    "```\n",
    "for each year in a given range:\n",
    "    find the average number of production countries used in movies from that year\n",
    "```\n",
    "\n",
    "This decomposes further:\n",
    "\n",
    "```\n",
    "for each year in a given range of years:\n",
    "    for each movie:\n",
    "        find the number of production countries involved\n",
    "    find the average number of (production countries per movie) in that year\n",
    "```\n",
    "\n",
    "We might rearrange this algorithm as follows:\n",
    "\n",
    "```\n",
    "    find the number of production countries\n",
    "        for each movie;  \n",
    "    find the average number of (production countries per movie)\n",
    "        within a range of years\n",
    "            for each year in that range;\n",
    "```\n",
    "\n",
    "The SQL query can be seen to take on this form, although the syntactic structure is different (in particular, a query is a declarative problem statement, unlike the python code which uses explicit looping constructs):\n",
    "\n",
    "\n",
    "```SQL\n",
    "-- Get the average number of production countries they used\n",
    "SELECT year, AVG(production_country_count) AS average_production_country_count\n",
    "\n",
    "-- Join two tables: the movie table and a query generated production country count by movie table\n",
    "\n",
    "-- We need the movie table because it contains the year of production\n",
    "FROM movie,\n",
    "\n",
    "-- Get the ID and a production country count\n",
    "(\n",
    "SELECT movie_id, COUNT(*) AS production_country_count\n",
    "FROM movie, movie_production_country\n",
    "WHERE movie.id = movie_id \n",
    "    -- for each movie...\n",
    "    GROUP BY movie_id\n",
    ") AS pcc\n",
    "\n",
    "-- this is the join condition\n",
    "WHERE movie.id = pcc.movie_id\n",
    "\n",
    "    -- limit the period\n",
    "    AND year > 1980\n",
    "    AND year < 2009\n",
    "\n",
    "        -- for each year...\n",
    "        GROUP BY year;\n",
    "```"
   ]
  },
  {
   "cell_type": "markdown",
   "metadata": {
    "activity": true
   },
   "source": [
    "### Activity 1"
   ]
  },
  {
   "cell_type": "markdown",
   "metadata": {
    "activity": true
   },
   "source": [
    "Following a similar structure, what was the average number of languages spoken in movies in each year? \n",
    "\n",
    "Plot the two trends (countries and languages) on the same graph.\n",
    "\n",
    "> __HINT:__\n",
    "> You may find the following construction useful when creating your chart:\n",
    "> ```python\n",
    "> ax = df1.plot(...) # Return an axis object when the first chart is created\n",
    "> ax = df2.plot(ax = ax, ...) #Extend this object by adding the second chart to it ```"
   ]
  },
  {
   "cell_type": "code",
   "execution_count": null,
   "metadata": {
    "student": true
   },
   "outputs": [],
   "source": [
    "# Write your code in this cell"
   ]
  },
  {
   "cell_type": "markdown",
   "metadata": {
    "activity": true
   },
   "source": [
    "Comment on your findings."
   ]
  },
  {
   "cell_type": "markdown",
   "metadata": {
    "student": true
   },
   "source": [
    "Write your comments in this cell"
   ]
  },
  {
   "cell_type": "markdown",
   "metadata": {
    "activity": true,
    "heading_collapsed": true
   },
   "source": [
    "#### Our solution\n",
    "\n",
    "To reveal our solution, click on the triangle symbol on the left-hand end of this cell."
   ]
  },
  {
   "cell_type": "markdown",
   "metadata": {
    "activity": true,
    "hidden": true
   },
   "source": [
    "The query has the same structure as before, just swapping `movie_language` for `movie_production_country` in the subquery."
   ]
  },
  {
   "cell_type": "code",
   "execution_count": null,
   "metadata": {
    "activity": true,
    "hidden": true
   },
   "outputs": [],
   "source": [
    "%%sql language_count_year <<\n",
    "\n",
    "SELECT year, COUNT(movie.id), AVG(language_count) AS average_number_of_languages\n",
    "FROM (   SELECT movie_id, COUNT(*) AS language_count\n",
    "         FROM movie, movie_language\n",
    "         WHERE movie.id = movie_id \n",
    "         GROUP BY movie_id\n",
    "     ) AS slc,\n",
    "     movie\n",
    "WHERE movie.id = slc.movie_id\n",
    "    AND year > 1980\n",
    "    AND year < 2009\n",
    "GROUP BY year\n",
    "ORDER BY year;"
   ]
  },
  {
   "cell_type": "code",
   "execution_count": null,
   "metadata": {
    "activity": true,
    "hidden": true,
    "scrolled": true
   },
   "outputs": [],
   "source": [
    "language_count_year.set_index('year', inplace=True)\n",
    "language_count_year.head()"
   ]
  },
  {
   "cell_type": "code",
   "execution_count": null,
   "metadata": {
    "activity": true,
    "hidden": true
   },
   "outputs": [],
   "source": [
    "ax = language_count_year['average_number_of_languages'].plot()\n",
    "ax.set(title=\"Average number of languages per movie over time\", \n",
    "       xlabel='Year', \n",
    "       ylabel='Average languages per movie');"
   ]
  },
  {
   "cell_type": "markdown",
   "metadata": {
    "activity": true,
    "hidden": true
   },
   "source": [
    "We plot the two lines on one figure by passing the axis chart object (that is, the `ax` parameter) produced from one `plot()` into a second plot. The second plot command then adds further chart components to this object."
   ]
  },
  {
   "cell_type": "code",
   "execution_count": null,
   "metadata": {
    "activity": true,
    "hidden": true
   },
   "outputs": [],
   "source": [
    "ax = country_count_year['average_production_country_count'].plot(label='countries')\n",
    "language_count_year['average_number_of_languages'].plot(ax=ax, label='languages')\n",
    "ax.legend()\n",
    "ax.set(title=\"Average number of language\\nand production countries per movie over time\", \n",
    "       xlabel='Year', \n",
    "       ylabel='Average languages and\\nproduction countries per movie');"
   ]
  },
  {
   "cell_type": "markdown",
   "metadata": {
    "activity": true,
    "hidden": true
   },
   "source": [
    "The two trends are very similar from 1987 onwards. There's a difference before 1987 where the number of languages is larger than the number of production countries. This suggests there are some bilingual films being made in one country. That's something which could be worth some extra investigation. But we won't go into that here."
   ]
  },
  {
   "cell_type": "markdown",
   "metadata": {
    "activity": true
   },
   "source": [
    "#### End of Activity 1"
   ]
  },
  {
   "cell_type": "markdown",
   "metadata": {},
   "source": [
    "----------------------------------------------------------------"
   ]
  },
  {
   "cell_type": "markdown",
   "metadata": {},
   "source": [
    "# Number of appearances\n",
    "\n",
    "Using a similar approach to one used in Notebook 11.1, we can count the number of appearances made by each actor with a straightforward query."
   ]
  },
  {
   "cell_type": "code",
   "execution_count": null,
   "metadata": {},
   "outputs": [],
   "source": [
    "%%sql appearances << \n",
    "\n",
    "SELECT person_id, name, COUNT(person_id) AS appearance_count\n",
    "FROM cast_member, person\n",
    "WHERE person_id = id\n",
    "GROUP BY person_id, name\n",
    "ORDER BY COUNT(person_id) DESC;"
   ]
  },
  {
   "cell_type": "markdown",
   "metadata": {},
   "source": [
    "We can then use the dataframe's `value_counts` method to find how many actors had a certain number of appearances. The `value_counts()` method returns a pandas *Series* which we can explicitly sort using `sort_values()` (by default, this sorts in ascending order). Using `.head()` limits the displayed result."
   ]
  },
  {
   "cell_type": "code",
   "execution_count": null,
   "metadata": {
    "scrolled": true
   },
   "outputs": [],
   "source": [
    "appearances['appearance_count'].value_counts().sort_values(ascending=False).head()"
   ]
  },
  {
   "cell_type": "markdown",
   "metadata": {},
   "source": [
    "We can plot what the distribution of appearances looks like as we did in Notebook 11.1:"
   ]
  },
  {
   "cell_type": "code",
   "execution_count": null,
   "metadata": {
    "scrolled": true
   },
   "outputs": [],
   "source": [
    "ax = appearances['appearance_count'].value_counts().sort_values(ascending=False).plot()\n",
    "ax.set(title=\"Number of actors with numbers of appearances\", \n",
    "       xlabel='Number of appearances', \n",
    "       ylabel='Number of actors');"
   ]
  },
  {
   "cell_type": "markdown",
   "metadata": {},
   "source": [
    "One thing you may notice about the above process is that it proceeded in two stages: we used SQL to obtain the appearance counts, and pandas for the `value_counts()`).\n",
    "\n",
    "When working in notebooks, this \"polyglot\" approach, of using different computer languages at different stages whilst performing a single overall task, is often quite convenient. However, in some situations, it may be more desirable to use the database to do the whole thing for us in one go."
   ]
  },
  {
   "cell_type": "markdown",
   "metadata": {
    "activity": true
   },
   "source": [
    "### Activity 2"
   ]
  },
  {
   "cell_type": "markdown",
   "metadata": {
    "activity": true
   },
   "source": [
    "Write a SQL query which directly returns an equivalent result to the `value_counts` step above. \n",
    "\n",
    "You'll need to count each actors' appearances in a subquery, and include that subquery in the main query's `FROM` clause."
   ]
  },
  {
   "cell_type": "code",
   "execution_count": null,
   "metadata": {
    "student": true
   },
   "outputs": [],
   "source": [
    "# Write your code in this cell"
   ]
  },
  {
   "cell_type": "markdown",
   "metadata": {
    "activity": true,
    "heading_collapsed": true
   },
   "source": [
    "#### Our solution\n",
    "\n",
    "To reveal our solution, click on the triangle symbol on the left-hand end of this cell."
   ]
  },
  {
   "cell_type": "markdown",
   "metadata": {
    "activity": true,
    "hidden": true
   },
   "source": [
    "The subquery is the same as above, but without the joining and ordering clauses:\n",
    "\n",
    "```SQL\n",
    "SELECT person_id, COUNT(person_id) AS appearance_count\n",
    "FROM cast_member \n",
    "GROUP BY person_id;\n",
    "```\n",
    "\n",
    "That gives the number of appearances of each person. The outer query then counts the number of times each `appearance_count` occurs."
   ]
  },
  {
   "cell_type": "code",
   "execution_count": null,
   "metadata": {
    "activity": true,
    "hidden": true
   },
   "outputs": [],
   "source": [
    "%%sql actor_appearances <<\n",
    "\n",
    "SELECT appearance_count, COUNT(appearance_count) AS actors\n",
    "FROM (  SELECT person_id, COUNT(person_id) AS appearance_count\n",
    "        FROM cast_member \n",
    "        GROUP BY person_id\n",
    "     ) AS ac\n",
    "GROUP BY appearance_count\n",
    "ORDER BY appearance_count"
   ]
  },
  {
   "cell_type": "markdown",
   "metadata": {
    "activity": true,
    "hidden": true
   },
   "source": [
    "We then set the index of this DataFrame to be the `appearance_count` and sort the DataFrame by the index."
   ]
  },
  {
   "cell_type": "code",
   "execution_count": null,
   "metadata": {
    "activity": true,
    "hidden": true
   },
   "outputs": [],
   "source": [
    "actor_appearances.set_index('appearance_count', inplace=True)\n",
    "actor_appearances.sort_index(inplace=True)\n",
    "actor_appearances.head()"
   ]
  },
  {
   "cell_type": "markdown",
   "metadata": {
    "activity": true
   },
   "source": [
    "#### End of Activity 2"
   ]
  },
  {
   "cell_type": "markdown",
   "metadata": {},
   "source": [
    "------------------------------------------"
   ]
  },
  {
   "cell_type": "markdown",
   "metadata": {},
   "source": [
    "# Maximum number of appearances per actor per year\n",
    "\n",
    "An actor may appear in several movies in a year. But how many appearances has each actor made in each year?"
   ]
  },
  {
   "cell_type": "code",
   "execution_count": null,
   "metadata": {
    "scrolled": true
   },
   "outputs": [],
   "source": [
    "%%sql\n",
    "\n",
    "SELECT person.id, name, year, count(movie_id) AS appearance_count\n",
    "FROM person, cast_member, movie\n",
    "WHERE person.id = cast_member.person_id\n",
    "    AND cast_member.movie_id = movie.id\n",
    "GROUP BY person.id, name, year;"
   ]
  },
  {
   "cell_type": "markdown",
   "metadata": {
    "activity": true
   },
   "source": [
    "### Activity 3"
   ]
  },
  {
   "cell_type": "markdown",
   "metadata": {
    "activity": true
   },
   "source": [
    "\n",
    "What is the maximum number of appearances by any actor in each year?\n",
    "\n",
    "Use a single SQL query (perhaps with subqueries) to return the answer."
   ]
  },
  {
   "cell_type": "code",
   "execution_count": null,
   "metadata": {
    "student": true
   },
   "outputs": [],
   "source": [
    "# Write your code in this cell"
   ]
  },
  {
   "cell_type": "markdown",
   "metadata": {
    "activity": true,
    "heading_collapsed": true
   },
   "source": [
    "#### Our solution\n",
    "\n",
    "To reveal our solution, click on the triangle symbol on the left-hand end of this cell."
   ]
  },
  {
   "cell_type": "markdown",
   "metadata": {
    "activity": true,
    "hidden": true
   },
   "source": [
    "This is a similar approach to above: use the query above as a subquery, and have a wrapper query that aggregates (with `MAX`, in this case) the results of the subquery."
   ]
  },
  {
   "cell_type": "code",
   "execution_count": null,
   "metadata": {
    "activity": true,
    "hidden": true,
    "scrolled": true
   },
   "outputs": [],
   "source": [
    "%%sql\n",
    "\n",
    "SELECT year, MAX(appearance_count) AS max_appearance_count\n",
    "FROM (SELECT person.id, year, COUNT(movie_id) AS appearance_count\n",
    "     FROM person, cast_member, movie\n",
    "     WHERE person.id = cast_member.person_id\n",
    "        AND cast_member.movie_id = movie.id\n",
    "     GROUP BY person.id, year\n",
    "    ) AS ac\n",
    "GROUP BY year\n",
    "ORDER BY max_appearance_count DESC;"
   ]
  },
  {
   "cell_type": "markdown",
   "metadata": {
    "activity": true
   },
   "source": [
    "#### End of Activity 3"
   ]
  },
  {
   "cell_type": "markdown",
   "metadata": {},
   "source": [
    "-----------------------------------------------------------"
   ]
  },
  {
   "cell_type": "markdown",
   "metadata": {
    "activity": true
   },
   "source": [
    "### Activity 4 (Optional)"
   ]
  },
  {
   "cell_type": "markdown",
   "metadata": {
    "activity": true
   },
   "source": [
    "As this activity is optional, you can either attempt it yourself, or feel free to skim my approach as an alternative."
   ]
  },
  {
   "cell_type": "markdown",
   "metadata": {
    "activity": true
   },
   "source": [
    "The previous queries tells us the maximum number of appearances but year, but does not tell us how many actors may have made that many appearances. \n",
    "\n",
    "Using the query above as a subquery, write a query which finds not only the `max_appearance_count` as above, but also  the number of actors who had that many appearances that year. \n",
    "\n",
    "Your main query will need two subqueries: one to find the appearance count for each actor in each year, and one to find the `max_appearance_count` for each year. The fact that one of these subqueries itself contains a subquery is no obstacle to SQL.\n",
    "\n",
    "Finally, you'll need to group the results.\n",
    "\n",
    "For instance, in 1990, Joe Pesci (id 4517) and John Turturro (id 1241) both had 5 appearances; in 1986,\tM. Emmet Walsh (id 588), Steven Hill (id 21521) and Charlie Sheen (id 6952) each had four appearances."
   ]
  },
  {
   "cell_type": "code",
   "execution_count": null,
   "metadata": {
    "student": true
   },
   "outputs": [],
   "source": [
    "# Write your code in this cell"
   ]
  },
  {
   "cell_type": "markdown",
   "metadata": {
    "activity": true,
    "heading_collapsed": true
   },
   "source": [
    "#### Our solution\n",
    "\n",
    "To reveal our solution, click on the triangle symbol on the left-hand end of this cell."
   ]
  },
  {
   "cell_type": "markdown",
   "metadata": {
    "activity": true,
    "hidden": true
   },
   "source": [
    "First, let's just assemble the overall query. Using the subqueries above, it will look like this:\n",
    "\n",
    "```SQL\n",
    "SELECT year, max_appearance_count, COUNT(person.id)\n",
    "FROM\n",
    "    -- appearance count per actor per year -> person.id, year, appearance_count\n",
    "    -- max appearance count per year -> year, max_appearance_count\n",
    "    person\n",
    "WHERE\n",
    "    various joins\n",
    "GROUP BY year, max_appearance_count\n",
    "ORDER BY year;\n",
    "```\n",
    "\n",
    "where the comment lines are the name of the subquery, and the columns that query returns. \n",
    "\n",
    "However, the \"max appearance count per year\" query itself contains a subquery, so the structure is like this:\n",
    "\n",
    "\n",
    "```SQL\n",
    "SELECT year, max_appearance_count, COUNT(person.id)\n",
    "FROM\n",
    "    -- appearance count per actor per year -> person.id, year, appearance_count\n",
    "    -- max appearance count per year -> year, max_appearance_count\n",
    "       -- appearance count per actor per year -> person.id, year, appearance_count\n",
    "    person\n",
    "WHERE\n",
    "    various joins\n",
    "GROUP BY year, max_appearance_count\n",
    "ORDER BY year;\n",
    "```\n",
    "\n",
    "We can then drop in the subqueries from above to form the overall query. To keep track of the fields returned by the various subqueries, I make use of correlation names for each subquery. (See notebook 11.1 for use of correlation names.)\n"
   ]
  },
  {
   "cell_type": "code",
   "execution_count": null,
   "metadata": {
    "activity": true,
    "hidden": true,
    "scrolled": true
   },
   "outputs": [],
   "source": [
    "%%sql\n",
    "\n",
    "SELECT ac.year, max_appearance_count, COUNT(person.id) AS person_count\n",
    "FROM \n",
    "\n",
    "    -- appearance count per actor per year\n",
    "    (SELECT person.id, year, COUNT(movie_id) AS appearance_count\n",
    "     FROM person, cast_member, movie\n",
    "     WHERE person.id = cast_member.person_id\n",
    "        AND cast_member.movie_id = movie.id\n",
    "     GROUP BY person.id, year\n",
    "    ) AS ac,           -- appearance count\n",
    "\n",
    "    -- max appearance count per year\n",
    "    (SELECT year, MAX(appearance_count) AS max_appearance_count\n",
    "     FROM \n",
    "     \n",
    "         -- appearance count per actor per year\n",
    "         (SELECT person.id, year, COUNT(movie_id) AS appearance_count\n",
    "          FROM person, cast_member, movie\n",
    "          WHERE person.id = cast_member.person_id\n",
    "            AND cast_member.movie_id = movie.id\n",
    "         GROUP BY person.id, year\n",
    "         ) AS iac      -- note change of name, inner appearance count\n",
    "     GROUP BY year   \n",
    "    ) AS mac,          -- max appearance count\n",
    "\n",
    "    person\n",
    "WHERE person.id = ac.id\n",
    "    AND ac.year = mac.year\n",
    "    AND appearance_count = max_appearance_count\n",
    "GROUP BY ac.year, max_appearance_count\n",
    "ORDER BY year;"
   ]
  },
  {
   "cell_type": "code",
   "execution_count": null,
   "metadata": {
    "activity": true,
    "hidden": true
   },
   "outputs": [],
   "source": [
    "max_appearances_by_year = _ # give a name to the result above\n",
    "max_appearances_by_year.set_index('year', inplace=True)\n",
    "max_appearances_by_year.head()"
   ]
  },
  {
   "cell_type": "markdown",
   "metadata": {
    "activity": true,
    "hidden": true
   },
   "source": [
    "What does this data look like?"
   ]
  },
  {
   "cell_type": "code",
   "execution_count": null,
   "metadata": {
    "activity": true,
    "hidden": true
   },
   "outputs": [],
   "source": [
    "max_appearances_by_year.describe()"
   ]
  },
  {
   "cell_type": "markdown",
   "metadata": {
    "activity": true,
    "hidden": true
   },
   "source": [
    "The `max_appearance_count` looks like a fairly constrained range of results, going from 1 to 7 with a median of 4. The `person_count` is somewhat less constrained: the mean is 7, the median is 2, but the maximum is 104!"
   ]
  },
  {
   "cell_type": "markdown",
   "metadata": {
    "activity": true
   },
   "source": [
    "#### End of Activity 4"
   ]
  },
  {
   "cell_type": "markdown",
   "metadata": {},
   "source": [
    "---------------------------------------------------"
   ]
  },
  {
   "cell_type": "markdown",
   "metadata": {},
   "source": [
    "## Viewing the Data (Optional)"
   ]
  },
  {
   "cell_type": "markdown",
   "metadata": {},
   "source": [
    "As this activity is optional, you can either attempt it yourself, or feel free to skim my approach as an alternative."
   ]
  },
  {
   "cell_type": "markdown",
   "metadata": {},
   "source": [
    "Now we have the data, we can plot it. (If necessary, run the code in the previous Activity so that the `max_appearances_by_year` dataframe is defined and populated.) Let's start by just looking at the maximum number of appearances for any actor in a year."
   ]
  },
  {
   "cell_type": "code",
   "execution_count": null,
   "metadata": {},
   "outputs": [],
   "source": [
    "ax = max_appearances_by_year['max_appearance_count'].plot()\n",
    "\n",
    "#We could equally limit the columns included in the plot with the construction:\n",
    "#ax = max_appearances_by_year['max_appearance_count'].plot()\n",
    "\n",
    "ax.set(title=\"Max appearances by an actor each year over time\", \n",
    "       xlabel='Year', \n",
    "       ylabel='Max appearances by an actor that year');"
   ]
  },
  {
   "cell_type": "markdown",
   "metadata": {},
   "source": [
    "What if we try plotting both data series on the same graph?"
   ]
  },
  {
   "cell_type": "code",
   "execution_count": null,
   "metadata": {},
   "outputs": [],
   "source": [
    "ax = max_appearances_by_year.plot() #This plots all numerical columns\n",
    "# The index values are plotted on the x-axis\n",
    "ax.set(title=\"Max appearances by an actor each year over time\", \n",
    "       xlabel='Year', \n",
    "       ylabel='Max appearances by an actor that year');"
   ]
  },
  {
   "cell_type": "markdown",
   "metadata": {},
   "source": [
    "That really isn't useful: the spike of very large numbers in the 1910s swamps everything else.\n",
    "\n",
    "We can try to alleviate that by plotting the `person_count` on a _secondary y-axis_ on the right. (Adding axis labels to the secondary y-axis just gets convoluted, so we won't bother here.)"
   ]
  },
  {
   "cell_type": "code",
   "execution_count": null,
   "metadata": {},
   "outputs": [],
   "source": [
    "ax = max_appearances_by_year.plot(secondary_y=['person_count'])\n",
    "ax.set(title=\"Max appearances by an actor each year over time\", \n",
    "       xlabel='Year', \n",
    "       ylabel='Max appearances by an actor that year');"
   ]
  },
  {
   "cell_type": "markdown",
   "metadata": {},
   "source": [
    "Which, frankly, _still_ isn't that illuminating. There seems to be a limit of seven appearances per actor per year, but the number of people with that many credits varies widely. For most of the period of interest, there was a maximum of 2–4 appearances per actor per year, with around 10 people having that many appearances.\n",
    "\n",
    "The spike in the 1910s is where there are years with many actors with one appearance each. "
   ]
  },
  {
   "cell_type": "markdown",
   "metadata": {},
   "source": [
    "# Conclusion\n",
    "This notebook has shown you how to use subqueries as tables in a query. As you have seen, this allows you to express more sophisticated queries in just SQL, but at the cost of some rather complex queries. In the next notebook, you'll look at how to use **views** to keep queries simple while still doing complex tasks."
   ]
  }
 ],
 "metadata": {
  "kernelspec": {
   "display_name": "Python 3",
   "language": "python",
   "name": "python3"
  },
  "language_info": {
   "codemirror_mode": {
    "name": "ipython",
    "version": 3
   },
   "file_extension": ".py",
   "mimetype": "text/x-python",
   "name": "python",
   "nbconvert_exporter": "python",
   "pygments_lexer": "ipython3",
   "version": "3.7.8"
  }
 },
 "nbformat": 4,
 "nbformat_minor": 2
}
