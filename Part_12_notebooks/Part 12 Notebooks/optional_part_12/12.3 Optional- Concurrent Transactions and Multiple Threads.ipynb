{
 "cells": [
  {
   "cell_type": "markdown",
   "metadata": {},
   "source": [
    "# Optional example: Concurrent Transactions and Multiple Threads"
   ]
  },
  {
   "cell_type": "markdown",
   "metadata": {},
   "source": [
    "The examples we have shown so far have all run in a single thread with no blocking behaviour between the concurrent transactions.\n",
    "\n",
    "However, it is possible for a connection thread to become blocked depending on the order on which transactions are started and committed.\n",
    "\n",
    "Consider the following sequence of steps, in which Gibson and Paxton have both set their isolation levels to Serializable:\n",
    "\n",
    "1. Gibson starts a transaction and updates the weight of the patient with identifier `p001`.\n",
    "2. Paxton starts a transaction and also tries to update the weight of patient `p001` (to a different weight from Gibson).\n",
    "3. Gibson commits her change.\n",
    "4. Paxton's change fails, and so he rolls back his update. Neither Gibson nor Paxton is now in a transaction.\n",
    "5. Paxton starts a new transaction and updates the weight of `p001`.\n",
    "6. Gibson \n",
    "\n",
    "\n",
    "- because Gibson has committed a change to the record that Paxton is trying to update, Paxton's attempt to update the record is blocked and the Python process managing the connection hangs whilst it waits for the other transaction that has made an update to the same record to commit or rollback.\n",
    "\n",
    "The Jupyter notebook can only run a single Python process at a time. Any blocked behaviour will cause a code cell to hang. In the above case, if Gibson updated a record (but didn't commit it) and Paxton tried to update the same record, Paxton's code cell would hang: the `pyscopg2` connection would sit and wait for a response from the DBMS about whether it could make a change to the record or not.\n",
    "\n",
    "To demonstrate this behaviour, we need to run concurrent processes in *two* notebooks. Open the notebooks `12.1a Gibson.ipynb` and `12.1a Paxton.ipynb` in two different windows of your browser (or two tabs). Start working through `12.1a Gibson.ipynb`, "
   ]
  }
 ],
 "metadata": {
  "kernelspec": {
   "display_name": "Python 3",
   "language": "python",
   "name": "python3"
  },
  "language_info": {
   "codemirror_mode": {
    "name": "ipython",
    "version": 3
   },
   "file_extension": ".py",
   "mimetype": "text/x-python",
   "name": "python",
   "nbconvert_exporter": "python",
   "pygments_lexer": "ipython3",
   "version": "3.5.2"
  }
 },
 "nbformat": 4,
 "nbformat_minor": 1
}
