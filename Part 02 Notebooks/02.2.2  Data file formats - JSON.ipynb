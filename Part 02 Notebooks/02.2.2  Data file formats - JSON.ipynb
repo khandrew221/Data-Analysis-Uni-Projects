{
 "cells": [
  {
   "cell_type": "markdown",
   "metadata": {},
   "source": [
    "## JSON files"
   ]
  },
  {
   "cell_type": "markdown",
   "metadata": {},
   "source": [
    "\n",
    "JSON, or *Javascript Object Notation*, is a document format that is often used to transport data around the web.\n",
    "\n",
    "The core Python `json` library provides low level routines for working with JSON data, but many libraries also provide built-in support for conversion to and from JSON into Python data structures."
   ]
  },
  {
   "cell_type": "code",
   "execution_count": null,
   "metadata": {},
   "outputs": [],
   "source": [
    "# We'll load a couple of libraries that we'll be using in this Notebook.\n",
    "# 'requests' is an HTTP library - it allows us to get data from a URL address\n",
    "import requests\n",
    "import json\n",
    "import pandas as pd"
   ]
  },
  {
   "cell_type": "markdown",
   "metadata": {},
   "source": [
    "## Using the JSON library"
   ]
  },
  {
   "cell_type": "markdown",
   "metadata": {},
   "source": [
    "The Python `json` library provides a method, `json.loads()`, for parsing a string containing JSON data, that has been read in from a file via a web address, and converting it to a `dict`.\n",
    "\n",
    "Let's start by getting the data from the web address - we can inspect its content directly.\n",
    "\n",
    "The following dataset is grabbed from the Ordnance Survey:"
   ]
  },
  {
   "cell_type": "code",
   "execution_count": null,
   "metadata": {},
   "outputs": [],
   "source": [
    "url = 'http://data.ordnancesurvey.co.uk/datasets/os-linked-data/apis/reconciliation?query=MK7&type=http%3A%2F%2Fdata.ordnancesurvey.co.uk%2Fontology%2Fpostcode%2FPostcodeSector&type_strict=any&limit=10'\n",
    "\n",
    "# Make a query to the URL to retrive some JSON data\n",
    "resp = requests.get(url)\n",
    "resp.content"
   ]
  },
  {
   "cell_type": "markdown",
   "metadata": {},
   "source": [
    "Sometimes we need to decode the data that is returned.\n",
    "\n",
    "If the response is preceded by a `b'`, as above, then we need to convert from *bytes* to a string representation by *decoding* the response."
   ]
  },
  {
   "cell_type": "code",
   "execution_count": null,
   "metadata": {},
   "outputs": [],
   "source": [
    "data = json.loads(resp.content.decode('UTF8'))\n",
    "data"
   ]
  },
  {
   "cell_type": "markdown",
   "metadata": {},
   "source": [
    "The json library is quite short; additional documentation can be found at http://docs.python-guide.org/en/latest/scenarios/json/"
   ]
  },
  {
   "cell_type": "markdown",
   "metadata": {},
   "source": [
    "## Parsing JSON  directly using `requests`\n",
    "As well as parsing the JSON data into a Python `dict` usinfg the `json` package, we can access the representation directly from `requests` response object's `.json()` method: "
   ]
  },
  {
   "cell_type": "code",
   "execution_count": null,
   "metadata": {},
   "outputs": [],
   "source": [
    "jdata = resp.json()\n",
    "jdata"
   ]
  },
  {
   "cell_type": "markdown",
   "metadata": {},
   "source": [
    "This is typically more convenient than worrying about whether something is a bytestring or not.\n",
    "\n",
    "Inspecting the JSON, we see that in this case it returns a `dict` with a single `result` element that contains a `list` of other `dict`s:"
   ]
  },
  {
   "cell_type": "code",
   "execution_count": null,
   "metadata": {},
   "outputs": [],
   "source": [
    "jdata['result']"
   ]
  },
  {
   "cell_type": "markdown",
   "metadata": {},
   "source": [
    "We can tunnel into the data as we would indexing into any Python `dict`. For example, we can pull out the second listed item (remember, indexing counts in Python start at `0`):"
   ]
  },
  {
   "cell_type": "code",
   "execution_count": null,
   "metadata": {},
   "outputs": [],
   "source": [
    "jdata['result'][1]"
   ]
  },
  {
   "cell_type": "markdown",
   "metadata": {},
   "source": [
    "Within that, we could pull out the `name`:"
   ]
  },
  {
   "cell_type": "code",
   "execution_count": null,
   "metadata": {},
   "outputs": [],
   "source": [
    "jdata['result'][1]['name']"
   ]
  },
  {
   "cell_type": "markdown",
   "metadata": {},
   "source": [
    "And so on..."
   ]
  },
  {
   "cell_type": "markdown",
   "metadata": {},
   "source": [
    "## *pandas* can handle JSON too"
   ]
  },
  {
   "cell_type": "markdown",
   "metadata": {},
   "source": [
    "The *pandas* `io.json` library has the `read_json()` function - it too reads from a web address."
   ]
  },
  {
   "cell_type": "code",
   "execution_count": null,
   "metadata": {},
   "outputs": [],
   "source": [
    "df = pd.io.json.read_json(url)\n",
    "df"
   ]
  },
  {
   "cell_type": "markdown",
   "metadata": {},
   "source": [
    "In this case, the top level keys of the response — in this case, the single `result` keyed element — is used to define a column, with each row containing one of the `list` items associated with the `result`."
   ]
  },
  {
   "cell_type": "markdown",
   "metadata": {},
   "source": [
    "There is some degree of control over the way in which the *pandas* `read_json()` function can parse imported data resembling the way the *pandas* `.from_dict()` function creates dataframes from the Python dictionaries.\n",
    "\n",
    "See the [`pandas.read_json()`](https://pandas.pydata.org/pandas-docs/dev/reference/api/pandas.read_json.html) documentation for more information. The documentation also describes parameters for enabling automatic data conversions, where possible."
   ]
  },
  {
   "cell_type": "markdown",
   "metadata": {},
   "source": [
    "### Looking inside the JSON data in a dataframe context\n",
    "\n",
    "One of the useful behaviours of a *pandas* Series is that a Series can be defined from a `dict`:"
   ]
  },
  {
   "cell_type": "code",
   "execution_count": null,
   "metadata": {},
   "outputs": [],
   "source": [
    "pd.Series( {'id': 'http://data.ordnancesurvey.co.uk/id/postcodesector/MK76',\n",
    "  'name': 'MK7 6',\n",
    "  'score': 1,\n",
    "  'match': True,\n",
    "  'type': ['http://data.ordnancesurvey.co.uk/ontology/postcode/PostcodeSector']} )"
   ]
  },
  {
   "cell_type": "markdown",
   "metadata": {},
   "source": [
    "Recalling that we can apply a function to a series, what happens if we apply the `pd.Series()` function to each of the `dict`s in the `df['result']` Series?"
   ]
  },
  {
   "cell_type": "code",
   "execution_count": null,
   "metadata": {},
   "outputs": [],
   "source": [
    "df['result'].apply(pd.Series)"
   ]
  },
  {
   "cell_type": "markdown",
   "metadata": {},
   "source": [
    "The `dict`s are unpacked across several columns, although we note that the `type` columm contains lists that have not been unpacked further.\n",
    "\n",
    "We can then convert the resulting DataFrame (structured as a dict in each row, in case you hadn't spotted it) into a more regular DataFrame format.\n",
    "\n",
    "Alternatively, we can use the *pandas* `json_normalise()` function to perform a similar operation:"
   ]
  },
  {
   "cell_type": "code",
   "execution_count": null,
   "metadata": {},
   "outputs": [],
   "source": [
    "from pandas import json_normalize\n",
    "\n",
    "json_normalize( df['result'] )"
   ]
  },
  {
   "cell_type": "markdown",
   "metadata": {},
   "source": [
    "The *pandas* `json_normalize()` function ([docs](https://pandas.pydata.org/pandas-docs/stable/reference/api/pandas.json_normalize.html)) provides a range of arguments that allow you to customise how a particular JSON parsed data structure is treated.\n",
    "\n",
    "Whilst it is beyond the scope of this module to spend too much time looking at how to use the `json_normalize()` function, we can get a feel for some of the operations it supports by considering some JSON data retrieved from the BBC programme episodes API."
   ]
  },
  {
   "cell_type": "code",
   "execution_count": null,
   "metadata": {},
   "outputs": [],
   "source": [
    "bbc_url = 'http://www.bbc.co.uk/programmes/p01ztvcp.json'\n",
    "bbc_resp = requests.get(bbc_url)\n",
    "\n",
    "programme = bbc_resp.json()\n",
    "programme"
   ]
  },
  {
   "cell_type": "markdown",
   "metadata": {},
   "source": [
    "What happens if we pass the `programme['programme']` object into `json_normalize()`?"
   ]
  },
  {
   "cell_type": "code",
   "execution_count": null,
   "metadata": {},
   "outputs": [],
   "source": [
    "df_programme = json_normalize(programme['programme'])\n",
    "df_programme"
   ]
  },
  {
   "cell_type": "markdown",
   "metadata": {},
   "source": [
    "In this case, we create a single row with some columns specified by keys of the `programme['programme']` dictionary:"
   ]
  },
  {
   "cell_type": "code",
   "execution_count": null,
   "metadata": {},
   "outputs": [],
   "source": [
    "programme['programme'].keys(), df_programme.columns"
   ]
  },
  {
   "cell_type": "markdown",
   "metadata": {},
   "source": [
    "But we also notice that \"grandchild\" dictionaries have also been unpacked.\n",
    "\n",
    "You might also notice that some of the columns themselves contain lists of further `dict`s. We can reference these and unpack them directly by navigating to them using the `record_path=` argument:"
   ]
  },
  {
   "cell_type": "code",
   "execution_count": null,
   "metadata": {},
   "outputs": [],
   "source": [
    "related = json_normalize(programme['programme'], record_path='links')\n",
    "related"
   ]
  },
  {
   "cell_type": "markdown",
   "metadata": {},
   "source": [
    "Not every JSON structure will map easily to a tabular form.  The structure above has several levels of nesting, but there are a few items at the top level that you can pull out.\n",
    "\n",
    "For deeply nested data structures that do not have a natural tabular representation, it probably makes sense to parse them in several steps, for example creating a \"top level\" data frame and then generating additional dataframes, perhaps referenced from a `dict`, containing unpacked levels or lists of data. "
   ]
  },
  {
   "cell_type": "markdown",
   "metadata": {},
   "source": [
    "### Writing `DataFrames` to JSON files"
   ]
  },
  {
   "cell_type": "markdown",
   "metadata": {},
   "source": [
    "We can write a `DataFrame` to a JSON file using the `.to_json()` method."
   ]
  },
  {
   "cell_type": "code",
   "execution_count": null,
   "metadata": {},
   "outputs": [],
   "source": [
    "related.to_json('data/tmp.json')\n",
    "\n",
    "!head data/tmp.json"
   ]
  },
  {
   "cell_type": "markdown",
   "metadata": {},
   "source": [
    "And then read it back in again:"
   ]
  },
  {
   "cell_type": "code",
   "execution_count": null,
   "metadata": {},
   "outputs": [],
   "source": [
    "pd.read_json('data/tmp.json')"
   ]
  },
  {
   "cell_type": "markdown",
   "metadata": {},
   "source": [
    "See the *pandas* documentation for more details: [pandas.DataFrame.to_json](http://pandas.pydata.org/pandas-docs/stable/generated/pandas.DataFrame.to_json.html)."
   ]
  },
  {
   "cell_type": "markdown",
   "metadata": {},
   "source": [
    "## Summary\n",
    "In this Notebook you have seen how to:\n",
    "1.  read JSON data using the `json.loads()` function\n",
    "2.  parse JSON data using *pandas*\n",
    "3.  use *pandas* to parse and manipulate JSON data\n",
    "4.  write data in a DataFrame to a JSON file."
   ]
  },
  {
   "cell_type": "markdown",
   "metadata": {},
   "source": [
    "## What next?"
   ]
  },
  {
   "cell_type": "markdown",
   "metadata": {},
   "source": [
    "If you are working through this Notebook as part of an inline exercise, return to the module materials now.\n",
    "\n",
    "If you are working through this set of Notebooks as a whole, move on to look at `02.2.3 Data file formats - other`. "
   ]
  }
 ],
 "metadata": {
  "kernelspec": {
   "display_name": "Python 3",
   "language": "python",
   "name": "python3"
  },
  "language_info": {
   "codemirror_mode": {
    "name": "ipython",
    "version": 3
   },
   "file_extension": ".py",
   "mimetype": "text/x-python",
   "name": "python",
   "nbconvert_exporter": "python",
   "pygments_lexer": "ipython3",
   "version": "3.7.8"
  }
 },
 "nbformat": 4,
 "nbformat_minor": 1
}
