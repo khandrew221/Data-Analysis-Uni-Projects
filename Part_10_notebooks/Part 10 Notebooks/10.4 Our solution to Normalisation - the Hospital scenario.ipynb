{
 "cells": [
  {
   "cell_type": "markdown",
   "metadata": {},
   "source": [
    "# <a name=\"top\"></a>Normalisation - Hospital. Our solution\n"
   ]
  },
  {
   "cell_type": "markdown",
   "metadata": {},
   "source": [
    "This Notebook shows how to normalise the prescription example from the TM351 running example.\n",
    "\n",
    "We strongly suggest you often refer back to the [_Antique Opticals_ normalisation example](10.2%20Normalisation%20-%20Antique%20Opticals.ipynb) as you work through this Notebook. All the techniques you need to complete this exercise are given in that example. You're not expected to write wholly new SQL or Pandas statements here; instead, you should be applying the _Antique Opticals_ examples to this case study.\n",
    "\n",
    "* [Moving to first normal form (1NF)](#1nf)\n",
    "* [Moving to second normal form (2NF)](#2nf)\n",
    "* [Moving to third normal form (3NF)](#3nf)"
   ]
  },
  {
   "cell_type": "markdown",
   "metadata": {},
   "source": [
    "## The data"
   ]
  },
  {
   "cell_type": "markdown",
   "metadata": {},
   "source": [
    "\n",
    "This is the data you will be normalising. Your task is to move this data from the unnormalised form given below into a collection of relations in 3NF, implemented as a collection of PostgreSQL tables.\n",
    "\n",
    "You should refer to notebook *10.2 Normalisation - Antique Opticals* for examples of how to carry out each of the steps.\n",
    "\n",
    "An example form which is the source of the data is shown below."
   ]
  },
  {
   "cell_type": "markdown",
   "metadata": {},
   "source": [
    "<img src=\"images/tm351-patient_record.png\" alt=\"Drawing\" style=\"width: 75%;\"/>"
   ]
  },
  {
   "cell_type": "markdown",
   "metadata": {},
   "source": [
    "The functional dependencies in this example are:\n",
    "\n",
    "| This attribute | functionally defines this attribute |\n",
    "| ------------- |:------------- |\n",
    "| `patient_id`  | `patient_name` |\n",
    "| `patient_id`  | `doctor_id` |\n",
    "| `doctor_id`   | `doctor_name`  |\n",
    "| `drug_code`   |  `drug_name`   |\n",
    "| (`patient_id`, `prescribing_doctor_id`, `drug_code`, `date`) | `dosage`   |\n",
    "| (`patient_id`, `prescribing_doctor_id`, `drug_code`, `date`) | `duration` |"
   ]
  },
  {
   "cell_type": "markdown",
   "metadata": {},
   "source": [
    "You should use the same data as in Notebook 10.1, in which we imported the unnormalised data from the csv file `unnormalised_prescription.csv`, as:"
   ]
  },
  {
   "cell_type": "code",
   "execution_count": null,
   "metadata": {},
   "outputs": [],
   "source": [
    "!head unnormalised_prescription.csv"
   ]
  },
  {
   "cell_type": "markdown",
   "metadata": {},
   "source": [
    "We have not included solutions in this notebook: for our solution, you should look in notebook *10.4 Our solution to Normalisation - the Hospital scenario*."
   ]
  },
  {
   "cell_type": "markdown",
   "metadata": {},
   "source": [
    "### When things go wrong\n",
    "\n",
    "You will almost certainly make mistakes during the process of working through this notebook. When you do, just clear out the database and repeat the steps you know work.\n",
    "\n",
    "To clear out the database, re-run the database cleanup cell (making sure you have an active connection):\n"
   ]
  },
  {
   "cell_type": "raw",
   "metadata": {},
   "source": [
    "%run reset_databases.ipynb"
   ]
  },
  {
   "cell_type": "markdown",
   "metadata": {},
   "source": [
    "## Setting up"
   ]
  },
  {
   "cell_type": "markdown",
   "metadata": {},
   "source": [
    "The next group of cells set up your database connection, and reset the database to a clean state. Check notebook *08.1 Data Definition Language in SQL* if you are unsure what the next cells do.\n",
    "\n",
    "You may need to change the given values of the variables `DB_USER` and `DB_PWD`, depending on which environment you are using"
   ]
  },
  {
   "cell_type": "raw",
   "metadata": {},
   "source": [
    "# If you are using the remote environment, change this cell\n",
    "# type to \"code\", and execute it\n",
    "\n",
    "DB_USER='xxx99'            # Enter your OUCU here (in quotes)\n",
    "DB_PWD='your_password'     # Enter your password here (in quotes)"
   ]
  },
  {
   "cell_type": "raw",
   "metadata": {},
   "source": [
    "# If you are using a locally hosted environment, change this cell\n",
    "# type to \"code\", and execute it\n",
    "\n",
    "DB_USER='tm351'\n",
    "DB_PWD='tm351'"
   ]
  },
  {
   "cell_type": "code",
   "execution_count": null,
   "metadata": {},
   "outputs": [],
   "source": [
    "# Make the connection\n",
    "\n",
    "%run sql_init.ipynb\n",
    "print(\"Connecting with connection string : {}\".format(DB_CONNECTION))\n",
    "%sql $DB_CONNECTION"
   ]
  },
  {
   "cell_type": "code",
   "execution_count": null,
   "metadata": {},
   "outputs": [],
   "source": [
    "%run reset_databases.ipynb"
   ]
  },
  {
   "cell_type": "markdown",
   "metadata": {},
   "source": [
    "## Load the data"
   ]
  },
  {
   "cell_type": "markdown",
   "metadata": {},
   "source": [
    "\n",
    "This is the data you will be normalising. Your task is to move this data from the unnormalised form given below into a collection of relations in 3NF, implemented as a collection of PostgreSQL tables.\n",
    "\n",
    "Functional dependencies are given below. "
   ]
  },
  {
   "cell_type": "code",
   "execution_count": null,
   "metadata": {},
   "outputs": [],
   "source": [
    "prescriptions_detail = pd.read_csv('unnormalised_prescription.csv', parse_dates=['date'])\n",
    "prescriptions_detail"
   ]
  },
  {
   "cell_type": "markdown",
   "metadata": {},
   "source": [
    "The functional dependencies in this example are:\n",
    "\n",
    "| This attribute | functionally defines this attribute |\n",
    "| ------------- |:------------- |\n",
    "| `patient_id`  | `patient_name` |\n",
    "| `patient_id`  | `doctor_id` |\n",
    "| `doctor_id`   | `doctor_name`  |\n",
    "| `drug_code`   |  `drug_name`   |\n",
    "| (`patient_id`, `prescribing_doctor_id`, `drug_code`, `date`) | `dosage`   |\n",
    "| (`patient_id`, `prescribing_doctor_id`, `drug_code`, `date`) | `duration` |"
   ]
  },
  {
   "cell_type": "markdown",
   "metadata": {},
   "source": [
    "# <a name=\"1nf\"></a> Moving from unnormalised data to first formal form (1NF)\n",
    "* [Top](#top)\n",
    "\n",
    "Convert the data above into one or more relations, each in 1NF. Verify that the normalised tables accurately represent the original data. \n",
    "\n",
    "One relation should use `patient_id` as its primary key.\n",
    "\n",
    "\n",
    "Remember the mantra: to be in third normal form, \n",
    "> attributes must be dependent on the key, the whole key, and nothing but the key.\n",
    "\n",
    "Where there are multiple values of an attribute for a key, a _repeating group_, we need to extract the repeating values into a new relation.\n",
    "\n",
    "More formally, **a relation in 1NF has no repeating groups**."
   ]
  },
  {
   "cell_type": "markdown",
   "metadata": {},
   "source": [
    "## Solution"
   ]
  },
  {
   "cell_type": "markdown",
   "metadata": {},
   "source": [
    "We want `patient_id` to be the key, but the layout shows there are multiple values for some attributes for each `patient_id`: any given patient might have had have several drugs prescribed.\n",
    "\n",
    "Hence, the `date`, `drug_code`, and so on do not depend on just the `patient_id`. \n",
    "\n",
    "That means this dataset is not in 1NF. We move to 1NF by extracting repeating groups into separate relations.\n",
    "\n",
    "There are two 1NF relations here: \n",
    "1. `patients_doctors`, one for each `patient_id`\n",
    "2. `prescribed_drugs`, several for each `patient_id`.\n",
    "\n",
    "We'll work out the correct key for `prescribed_drugs` when we've rearranged the data a bit and can see things more clearly.\n",
    "\n",
    "Let's start by pulling out the patient data into a new DataFrame. "
   ]
  },
  {
   "cell_type": "code",
   "execution_count": null,
   "metadata": {},
   "outputs": [],
   "source": [
    "prescriptions_detail.columns"
   ]
  },
  {
   "cell_type": "code",
   "execution_count": null,
   "metadata": {},
   "outputs": [],
   "source": [
    "patients_doctors = prescriptions_detail[['patient_id', 'patient_name', 'doctor_id', \n",
    "                                 'doctor_name']].drop_duplicates()\n",
    "patients_doctors"
   ]
  },
  {
   "cell_type": "markdown",
   "metadata": {},
   "source": [
    "We can now ask which columns could are *candiate keys* for this relation."
   ]
  },
  {
   "cell_type": "code",
   "execution_count": null,
   "metadata": {},
   "outputs": [],
   "source": [
    "for c in patients_doctors.columns:\n",
    "    print(c + ' : ' + str(patients_doctors[c].is_unique))"
   ]
  },
  {
   "cell_type": "markdown",
   "metadata": {},
   "source": [
    "`patient_id` seems like it will do the job, which is what we were expecting.\n",
    "\n",
    "Now we'll extract the `prescribed_drugs` relation in the same way as above: pull out the columns and drop the duplicates."
   ]
  },
  {
   "cell_type": "code",
   "execution_count": null,
   "metadata": {},
   "outputs": [],
   "source": [
    "prescribed_drugs = prescriptions_detail[['patient_id', 'prescribing_doctor_id', 'date',\n",
    "       'drug_code', 'drug_name', 'dosage', 'duration']].drop_duplicates()\n",
    "prescribed_drugs"
   ]
  },
  {
   "cell_type": "code",
   "execution_count": null,
   "metadata": {},
   "outputs": [],
   "source": [
    "for c in prescribed_drugs.columns:\n",
    "    print(c + ' : ' + str(prescribed_drugs[c].is_unique))"
   ]
  },
  {
   "cell_type": "markdown",
   "metadata": {},
   "source": [
    "No column is a candidate key, suggesting we need a composite primary key. Let's try `(patient_id, drug_code)`."
   ]
  },
  {
   "cell_type": "code",
   "execution_count": null,
   "metadata": {},
   "outputs": [],
   "source": [
    "(prescribed_drugs['patient_id'].astype(str) + prescribed_drugs['drug_code'].astype(str)).is_unique"
   ]
  },
  {
   "cell_type": "markdown",
   "metadata": {},
   "source": [
    "So `(patient_id, drug_code)` doesn't work either. How about if we include the prescribing doctor? "
   ]
  },
  {
   "cell_type": "code",
   "execution_count": null,
   "metadata": {},
   "outputs": [],
   "source": [
    "(prescribed_drugs['patient_id'].astype(str) +\n",
    " prescribed_drugs['prescribing_doctor_id'].astype(str) +\n",
    " prescribed_drugs['drug_code'].astype(str)).is_unique"
   ]
  },
  {
   "cell_type": "markdown",
   "metadata": {},
   "source": [
    "So `(patient_id, prescribing_doctor_id, drug_code)` still doesn't work. How about if we include the date? \n",
    "\n",
    "(Note the need to convert the date to a string, so it can be appended to the other keys.)"
   ]
  },
  {
   "cell_type": "code",
   "execution_count": null,
   "metadata": {},
   "outputs": [],
   "source": [
    "(prescribed_drugs['patient_id'].astype(str) +\n",
    " prescribed_drugs['prescribing_doctor_id'].astype(str) +\n",
    " prescribed_drugs['drug_code'].astype(str) +\n",
    " prescribed_drugs['date'].astype(str)).is_unique"
   ]
  },
  {
   "cell_type": "markdown",
   "metadata": {},
   "source": [
    "That works. We now have two relations in 1NF. Let's make sure we can combine them to recreate the original dataset. As in notebook *10.2 Normalisation - Antique Opticals*, we can use the `.equals()` method to compare the dataframes, remembering to make sure that the two dataframes we're comparing have their columns in the same order:"
   ]
  },
  {
   "cell_type": "code",
   "execution_count": null,
   "metadata": {},
   "outputs": [],
   "source": [
    "patients_doctors.merge(prescribed_drugs, on=['patient_id'])"
   ]
  },
  {
   "cell_type": "code",
   "execution_count": null,
   "metadata": {},
   "outputs": [],
   "source": [
    "reconstruct_prescriptions_detail=patients_doctors.merge(prescribed_drugs, on=['patient_id'])[prescriptions_detail.columns]\n",
    "\n",
    "reconstruct_prescriptions_detail"
   ]
  },
  {
   "cell_type": "code",
   "execution_count": null,
   "metadata": {},
   "outputs": [],
   "source": [
    "prescriptions_detail.equals(reconstruct_prescriptions_detail[prescriptions_detail.columns])"
   ]
  },
  {
   "cell_type": "markdown",
   "metadata": {},
   "source": [
    "Now that we have two 1NF relations, let's put them in PostreSQL for the subsequent steps."
   ]
  },
  {
   "cell_type": "code",
   "execution_count": null,
   "metadata": {},
   "outputs": [],
   "source": [
    "patients_doctors.to_sql('patient_doctor', \n",
    "                        DB_CONNECTION,\n",
    "                        if_exists='replace',\n",
    "                        index=False)"
   ]
  },
  {
   "cell_type": "code",
   "execution_count": null,
   "metadata": {},
   "outputs": [],
   "source": [
    "prescribed_drugs.to_sql('prescribed_drug',\n",
    "                        DB_CONNECTION,\n",
    "                        if_exists='replace',\n",
    "                        index=False)"
   ]
  },
  {
   "cell_type": "markdown",
   "metadata": {},
   "source": [
    "Add the primary keys and make sure the DBMS is happy. Because we'll be modifying these tables below, we won't add foreign key constraints yet."
   ]
  },
  {
   "cell_type": "code",
   "execution_count": null,
   "metadata": {},
   "outputs": [],
   "source": [
    "%%sql\n",
    "\n",
    "ALTER TABLE patient_doctor\n",
    "ADD CONSTRAINT patient_doctor_pk\n",
    "    PRIMARY KEY (patient_id);\n",
    "\n",
    "ALTER TABLE prescribed_drug\n",
    "ADD CONSTRAINT prescribed_drug_pk\n",
    "    PRIMARY KEY (patient_id, drug_code, date);\n",
    "\n",
    "ALTER TABLE prescribed_drug \n",
    "ADD CONSTRAINT prescribed_drug_patient_doctor_fk\n",
    "    FOREIGN KEY (patient_id) REFERENCES patient_doctor;"
   ]
  },
  {
   "cell_type": "code",
   "execution_count": null,
   "metadata": {},
   "outputs": [],
   "source": [
    "%%sql \n",
    "\n",
    "SELECT *\n",
    "FROM patient_doctor;"
   ]
  },
  {
   "cell_type": "code",
   "execution_count": null,
   "metadata": {},
   "outputs": [],
   "source": [
    "%%sql \n",
    "\n",
    "SELECT *\n",
    "FROM prescribed_drug;"
   ]
  },
  {
   "cell_type": "markdown",
   "metadata": {},
   "source": [
    "Now we make sure we can recreate the original dataset from the PostgreSQL tables.\n",
    "\n",
    "(Convenience: get Jupyter to print the column names in a form we can cut-and-paste into the SQL query.)"
   ]
  },
  {
   "cell_type": "code",
   "execution_count": null,
   "metadata": {},
   "outputs": [],
   "source": [
    "', '.join(prescriptions_detail)"
   ]
  },
  {
   "cell_type": "code",
   "execution_count": null,
   "metadata": {},
   "outputs": [],
   "source": [
    "%%sql prescriptions_detail_recreated <<\n",
    "\n",
    "SELECT patient_doctor.patient_id, patient_name, doctor_id, doctor_name, prescribing_doctor_id, \n",
    "       drug_code, date, drug_name, dosage, duration\n",
    "FROM patient_doctor, prescribed_drug\n",
    "WHERE patient_doctor.patient_id = prescribed_drug.patient_id;"
   ]
  },
  {
   "cell_type": "markdown",
   "metadata": {},
   "source": [
    "Pull that SQL query result into a new DataFrame and give it appropriate column names."
   ]
  },
  {
   "cell_type": "code",
   "execution_count": null,
   "metadata": {
    "scrolled": false
   },
   "outputs": [],
   "source": [
    "prescriptions_detail_recreated"
   ]
  },
  {
   "cell_type": "markdown",
   "metadata": {},
   "source": [
    "And again, check that the recreated dataset is the same as the one we started with."
   ]
  },
  {
   "cell_type": "code",
   "execution_count": null,
   "metadata": {
    "scrolled": false
   },
   "outputs": [],
   "source": [
    "prescriptions_detail.equals(prescriptions_detail_recreated)"
   ]
  },
  {
   "cell_type": "markdown",
   "metadata": {},
   "source": [
    "### The current ERD\n",
    "For interest, this is the ERD of where we are now.\n",
    "\n",
    "![ERD of first normal form](images/prescription-1nf.png)"
   ]
  },
  {
   "cell_type": "markdown",
   "metadata": {},
   "source": [
    "# <a name=\"2nf\"></a>Moving to second normal form (2NF)\n",
    "* [Top](#top)\n",
    "\n",
    "Convert the 1NF tables you created above into a collection of relations, implemented as Postresql tables, each in 2NF. \n",
    "\n",
    "The functional dependencies in this example are:\n",
    "\n",
    "| This attribute | functionally defines this attribute |\n",
    "| ------------- |:------------- |\n",
    "| `patient_id`  | `patient_name` |\n",
    "| `patient_id`  | `doctor_id` |\n",
    "| `doctor_id`   | `doctor_name`  |\n",
    "| `drug_code`   |  `drug_name`   |\n",
    "| (`patient_id`, `prescribing_doctor_id`, `drug_code`, `date`) | `dosage`   |\n",
    "| (`patient_id`, `prescribing_doctor_id`, `drug_code`, `date`) | `duration` |\n",
    "\n",
    "To reiterate, to be in third normal form, \n",
    "> attributes must be dependent on the key, the whole key, and nothing but the key.\n",
    "\n",
    "Formally, **a relation in 2NF has all attributes functionally dependent on the whole of the primary key**.\n"
   ]
  },
  {
   "cell_type": "markdown",
   "metadata": {},
   "source": [
    "## Solution"
   ]
  },
  {
   "cell_type": "markdown",
   "metadata": {},
   "source": [
    "There is only one relation with a composite key, `prescribed_drug` with key `(patient_id, prescribing_doctor_id, date, drug_code)`."
   ]
  },
  {
   "cell_type": "code",
   "execution_count": null,
   "metadata": {},
   "outputs": [],
   "source": [
    "%%sql\n",
    "\n",
    "SELECT *\n",
    "FROM prescribed_drug;"
   ]
  },
  {
   "cell_type": "markdown",
   "metadata": {},
   "source": [
    "The functional dependencies show that `drug_name` is dependent on just `drug_code`, but `dosage` and `duration` depend on the whole of the primary key.\n",
    "\n",
    "That suggests we should pull out `drug_code` and `drug_name` into a separate `drug` table, leaving `prescription` with columns `patient_id`, `prescribing_doctor_id`, `date`, `drug_code`, `dosage`, and `duration`, with primary key `(patient_id, prescribing_doctor_id, date, drug_code)`.\n",
    "\n",
    "First, let's check that there's only one value for `drug_name` for each `drug_id`:"
   ]
  },
  {
   "cell_type": "code",
   "execution_count": null,
   "metadata": {},
   "outputs": [],
   "source": [
    "%%sql \n",
    "\n",
    "SELECT drug_code\n",
    "FROM prescribed_drug\n",
    "GROUP BY drug_code\n",
    "HAVING COUNT (DISTINCT drug_name) > 1;"
   ]
  },
  {
   "cell_type": "markdown",
   "metadata": {},
   "source": [
    "There are no values of `drug_code` which have more than one associated value in `drug_name`."
   ]
  },
  {
   "cell_type": "code",
   "execution_count": null,
   "metadata": {},
   "outputs": [],
   "source": [
    "%%sql \n",
    "DROP TABLE IF EXISTS drug CASCADE;\n",
    "\n",
    "CREATE TABLE drug AS\n",
    "    SELECT DISTINCT drug_code, drug_name\n",
    "    FROM prescribed_drug;\n",
    "    \n",
    "ALTER TABLE drug \n",
    "ADD CONSTRAINT drug_pk PRIMARY KEY (drug_code);\n",
    "\n",
    "SELECT *\n",
    "FROM drug;"
   ]
  },
  {
   "cell_type": "markdown",
   "metadata": {},
   "source": [
    "Now we create the `prescription` table and define the foreign keys connecting it to `drug` and `patient_doctor`."
   ]
  },
  {
   "cell_type": "code",
   "execution_count": null,
   "metadata": {},
   "outputs": [],
   "source": [
    "%%sql\n",
    "\n",
    "DROP TABLE IF EXISTS prescription;\n",
    "\n",
    "CREATE TABLE prescription AS\n",
    "    SELECT DISTINCT patient_id, prescribing_doctor_id, date, drug_code, dosage, duration\n",
    "    FROM prescribed_drug;\n",
    "    \n",
    "ALTER TABLE prescription\n",
    "ADD CONSTRAINT prescription_pk\n",
    "    PRIMARY KEY (patient_id, prescribing_doctor_id, drug_code, date);\n",
    "\n",
    "ALTER TABLE prescription \n",
    "ADD CONSTRAINT prescription_drug_fk\n",
    "    FOREIGN KEY (drug_code) REFERENCES drug;\n",
    "    \n",
    "ALTER TABLE prescription\n",
    "ADD CONSTRAINT prescription_patient_doctor_fk\n",
    "    FOREIGN KEY (patient_id) REFERENCES patient_doctor;\n",
    "\n",
    "SELECT * \n",
    "FROM prescription;"
   ]
  },
  {
   "cell_type": "markdown",
   "metadata": {},
   "source": [
    "Now check we can recreate the `prescribed_drug` table."
   ]
  },
  {
   "cell_type": "code",
   "execution_count": null,
   "metadata": {},
   "outputs": [],
   "source": [
    "%%sql recreated_prescribed_drugs << \n",
    "\n",
    "SELECT patient_id, prescribing_doctor_id, date, prescription.drug_code, drug_name, dosage, duration\n",
    "FROM prescription, drug\n",
    "WHERE prescription.drug_code = drug.drug_code\n",
    "ORDER BY patient_id, prescribing_doctor_id, date, drug_code;"
   ]
  },
  {
   "cell_type": "code",
   "execution_count": null,
   "metadata": {},
   "outputs": [],
   "source": [
    "recreated_prescribed_drugs"
   ]
  },
  {
   "cell_type": "markdown",
   "metadata": {},
   "source": [
    "That seems OK, but let's check formally."
   ]
  },
  {
   "cell_type": "code",
   "execution_count": null,
   "metadata": {},
   "outputs": [],
   "source": [
    "%%sql prescribed_drugs << \n",
    "\n",
    "SELECT patient_id, prescribing_doctor_id, date, drug_code, drug_name, dosage, duration\n",
    "FROM prescribed_drug\n",
    "ORDER BY patient_id, prescribing_doctor_id, date, drug_code;"
   ]
  },
  {
   "cell_type": "markdown",
   "metadata": {},
   "source": [
    "(In this case, we know that the columns and rows will be correctly aligned, because the order of columns was determined in the `SELECT` clause, and both dataframes have been `ORDERed BY` the primary key. Therefore we can call `.equals` without needing to reorder `recreated_prescribed_drugs`'s columns.)"
   ]
  },
  {
   "cell_type": "code",
   "execution_count": null,
   "metadata": {},
   "outputs": [],
   "source": [
    "prescribed_drugs.equals(recreated_prescribed_drugs)"
   ]
  },
  {
   "cell_type": "markdown",
   "metadata": {},
   "source": [
    "Success!"
   ]
  },
  {
   "cell_type": "markdown",
   "metadata": {},
   "source": [
    "### Cleanup\n",
    "Let's remove the prescribed_drug table."
   ]
  },
  {
   "cell_type": "code",
   "execution_count": null,
   "metadata": {},
   "outputs": [],
   "source": [
    "%%sql\n",
    "\n",
    "DROP TABLE prescribed_drug;"
   ]
  },
  {
   "cell_type": "markdown",
   "metadata": {},
   "source": [
    "### The current ERD\n",
    "For interest, this is the ERD of where we are now.\n",
    "\n",
    "![ERD of second normal form](images/prescription-2nf.png)"
   ]
  },
  {
   "cell_type": "markdown",
   "metadata": {},
   "source": [
    "# <a name=\"3nf\"></a>Moving to Third Normal Form (3NF)\n",
    "* [Top](#top)\n",
    "\n",
    "\n",
    "Convert the 2NF tables you created above into a collection of relations, implemented as PostreSQL tables, each in 3NF. \n",
    "\n",
    "The functional dependencies in this example are:\n",
    "\n",
    "| This attribute | functionally defines this attribute |\n",
    "| ------------- |:------------- |\n",
    "| `patient_id`  | `patient_name` |\n",
    "| `patient_id`  | `doctor_id` |\n",
    "| `doctor_id`   | `doctor_name`  |\n",
    "| `drug_code`   |  `drug_name`   |\n",
    "| (`patient_id`, `prescribing_doctor_id`, `drug_code`, `date`) | `dosage`   |\n",
    "| (`patient_id`, `prescribing_doctor_id`, `drug_code`, `date`) | `duration` |\n",
    "\n",
    "To be in third normal form, \n",
    "> attributes must be dependent on the key, the whole key, and nothing but the key.\n",
    "\n",
    "To move to third normal form (3NF), we have to ensure the first clause of that mantra: each attribute is directly functionally dependent on the key, and not functionally dependent on any other attribute. As before, we ensure this is true by splitting relations as necessary, while ensuring that all relations remain in 2NF (and hence also in 1NF). \n",
    "\n",
    "Formally, **a relation in 3NF has all attributes _directly_ functionally dependent on the whole of the primary key**."
   ]
  },
  {
   "cell_type": "markdown",
   "metadata": {},
   "source": [
    "## Solution"
   ]
  },
  {
   "cell_type": "markdown",
   "metadata": {},
   "source": [
    "All the functional dependencies are direct, except for `doctor_name`. This field is directly dependent on `doctor_id`, but `doctor_id` is not a key anywhere. That means we should split the `patient_doctor` table into `patient` and `doctor` tables.\n",
    "\n",
    "First, the `doctor`. Is there just one name for each `doctor_id`?"
   ]
  },
  {
   "cell_type": "code",
   "execution_count": null,
   "metadata": {},
   "outputs": [],
   "source": [
    "%%sql\n",
    "\n",
    "SELECT doctor_id\n",
    "FROM patient_doctor\n",
    "GROUP BY doctor_id\n",
    "HAVING COUNT (DISTINCT doctor_name) > 1;"
   ]
  },
  {
   "cell_type": "markdown",
   "metadata": {},
   "source": [
    "Looks good. Now to create the `doctor` table."
   ]
  },
  {
   "cell_type": "code",
   "execution_count": null,
   "metadata": {},
   "outputs": [],
   "source": [
    "%%sql\n",
    "DROP TABLE IF EXISTS doctor CASCADE;\n",
    "\n",
    "CREATE TABLE doctor AS\n",
    "    SELECT DISTINCT doctor_id, doctor_name\n",
    "    FROM patient_doctor;\n",
    "    \n",
    "ALTER TABLE doctor\n",
    "ADD CONSTRAINT doctor_pk\n",
    "PRIMARY KEY (doctor_id);\n",
    "\n",
    "SELECT *\n",
    "FROM doctor;"
   ]
  },
  {
   "cell_type": "markdown",
   "metadata": {},
   "source": [
    "Now the `patient`. "
   ]
  },
  {
   "cell_type": "code",
   "execution_count": null,
   "metadata": {},
   "outputs": [],
   "source": [
    "%%sql\n",
    "\n",
    "DROP TABLE IF EXISTS patient CASCADE;\n",
    "\n",
    "CREATE TABLE patient AS\n",
    "    SELECT DISTINCT patient_id, patient_name, doctor_id\n",
    "    FROM patient_doctor;\n",
    "\n",
    "ALTER TABLE patient \n",
    "ADD CONSTRAINT patient_pk\n",
    "    PRIMARY KEY (patient_id);\n",
    "\n",
    "ALTER TABLE patient\n",
    "ADD CONSTRAINT patient_doctor_fk \n",
    "    FOREIGN KEY (doctor_id) REFERENCES doctor;\n",
    "\n",
    "SELECT *\n",
    "FROM patient;"
   ]
  },
  {
   "cell_type": "markdown",
   "metadata": {},
   "source": [
    "Can we recreate the `patient_doctor` table from the normalised tables?"
   ]
  },
  {
   "cell_type": "code",
   "execution_count": null,
   "metadata": {},
   "outputs": [],
   "source": [
    "%%sql recreated_patient_doctor <<\n",
    "\n",
    "SELECT patient_id, patient_name, doctor.doctor_id, doctor_name\n",
    "FROM patient, doctor\n",
    "WHERE doctor.doctor_id = patient.doctor_id\n",
    "ORDER BY patient_id;"
   ]
  },
  {
   "cell_type": "code",
   "execution_count": null,
   "metadata": {},
   "outputs": [],
   "source": [
    "recreated_patient_doctor"
   ]
  },
  {
   "cell_type": "markdown",
   "metadata": {},
   "source": [
    "This looks good, but again, let's check."
   ]
  },
  {
   "cell_type": "code",
   "execution_count": null,
   "metadata": {},
   "outputs": [],
   "source": [
    "%%sql patient_doctor <<\n",
    "\n",
    "SELECT patient_id, patient_name, doctor_id, doctor_name\n",
    "FROM patient_doctor\n",
    "ORDER BY patient_id;"
   ]
  },
  {
   "cell_type": "code",
   "execution_count": null,
   "metadata": {},
   "outputs": [],
   "source": [
    "recreated_patient_doctor.equals(patient_doctor)"
   ]
  },
  {
   "cell_type": "markdown",
   "metadata": {},
   "source": [
    "Success!"
   ]
  },
  {
   "cell_type": "markdown",
   "metadata": {},
   "source": [
    "We can now tidy up the foreign key constraints between `prescription` and `patient` (rather than between `prescription` and `patient_doctor`) and then drop the `patient_doctor` table."
   ]
  },
  {
   "cell_type": "code",
   "execution_count": null,
   "metadata": {},
   "outputs": [],
   "source": [
    "%%sql\n",
    "\n",
    "ALTER TABLE prescription \n",
    "DROP CONSTRAINT prescription_patient_doctor_fk;\n",
    "\n",
    "ALTER TABLE prescription\n",
    "ADD CONSTRAINT prescription_patient_fk \n",
    "    FOREIGN KEY (patient_id) REFERENCES patient;\n",
    "    \n",
    "drop table patient_doctor;"
   ]
  },
  {
   "cell_type": "markdown",
   "metadata": {},
   "source": [
    "And finally, can we recreate the original dataset from the normalised tables?"
   ]
  },
  {
   "cell_type": "code",
   "execution_count": null,
   "metadata": {
    "scrolled": false
   },
   "outputs": [],
   "source": [
    "%%sql recreated_prescription_details <<\n",
    "\n",
    "SELECT patient.patient_id, patient_name, doctor.doctor_id, doctor_name, \n",
    "       prescribing_doctor_id, drug.drug_code, date, drug_name, dosage, duration\n",
    "FROM patient, doctor, prescription, drug\n",
    "WHERE doctor.doctor_id = patient.doctor_id \n",
    "    AND prescription.patient_id = patient.patient_id\n",
    "    AND prescription.drug_code = drug.drug_code\n",
    "ORDER BY patient_id, prescribing_doctor_id, date, drug_code;"
   ]
  },
  {
   "cell_type": "code",
   "execution_count": null,
   "metadata": {},
   "outputs": [],
   "source": [
    "recreated_prescription_details"
   ]
  },
  {
   "cell_type": "code",
   "execution_count": null,
   "metadata": {},
   "outputs": [],
   "source": [
    "prescriptions_detail.equals(recreated_prescription_details)"
   ]
  },
  {
   "cell_type": "markdown",
   "metadata": {},
   "source": [
    "Success! We have successfully normalised the data associated with the prescription form."
   ]
  },
  {
   "cell_type": "markdown",
   "metadata": {},
   "source": [
    "### The current ERD\n",
    "For interest, this is the ERD of where we are now.\n",
    "\n",
    "![ERD of third normal form](images/prescription-3nf.png)"
   ]
  },
  {
   "cell_type": "markdown",
   "metadata": {
    "collapsed": true
   },
   "source": [
    "## What next?\n",
    "If you are working through this Notebook as part of an inline exercise, return to the module materials now.\n",
    "\n",
    "If you are working through this set of Notebooks as a whole, move on to notebook *10.5 Improvements with normalised data*."
   ]
  }
 ],
 "metadata": {
  "kernelspec": {
   "display_name": "Python 3",
   "language": "python",
   "name": "python3"
  },
  "language_info": {
   "codemirror_mode": {
    "name": "ipython",
    "version": 3
   },
   "file_extension": ".py",
   "mimetype": "text/x-python",
   "name": "python",
   "nbconvert_exporter": "python",
   "pygments_lexer": "ipython3",
   "version": "3.7.8"
  }
 },
 "nbformat": 4,
 "nbformat_minor": 1
}
