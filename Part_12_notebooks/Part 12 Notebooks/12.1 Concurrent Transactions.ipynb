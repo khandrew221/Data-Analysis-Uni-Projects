{
 "cells": [
  {
   "cell_type": "markdown",
   "metadata": {},
   "source": [
    "# Concurrent Transactions"
   ]
  },
  {
   "cell_type": "markdown",
   "metadata": {},
   "source": [
    "In PostgreSQL (and many other RDBMSs), _every_ SQL statement is implicitly treated as a transaction if a *transaction block* is not explictly defined. A group of statements is identified as a transaction block by wrapping them in `BEGIN TRANSACTION` (or `BEGIN`) and `COMMIT` or `ROLLBACK` commands respectively at the start and end of the block. This means that while you may write:\n",
    "\n",
    "```SQL\n",
    "    SELECT patient_id, patient_name, weight_kg \n",
    "    FROM patient \n",
    "    WHERE patient_id = 'p001';\n",
    "```\n",
    "the RDBMS will automatically convert that to\n",
    "```SQL\n",
    "    BEGIN;\n",
    "\n",
    "    SELECT patient_id, patient_name, weight_kg \n",
    "    FROM patient \n",
    "    WHERE patient_id = 'p001';\n",
    "\n",
    "    COMMIT;\n",
    "```\n",
    "In addition, the Python wrappers around the PostgreSQL connections add another layer of abstraction, by manipulating how the transactions start and stop.\n",
    "\n",
    "According to the [PostgreSQL documentation](https://www.postgresql.org/docs/9.1/transaction-iso.html):\n",
    "\n",
    "> The SQL standard defines four levels of transaction isolation. The most strict is Serializable, which is defined by the standard in a paragraph which says that any concurrent execution of a set of Serializable transactions is guaranteed to produce the same effect as running them one at a time in some order.\n",
    "\n",
    "We will use this level of transaction isolation throughout this notebook. (We will look at the other isolation levels in the next notebook, 12.2 Transaction anomalies.)"
   ]
  },
  {
   "cell_type": "markdown",
   "metadata": {},
   "source": [
    "The notebooks in this Part focus on exploring how transactions work at a detailed level of operation. As such, we will take a more controlling approach to database interaction than in previous Parts, in which we relied on using the `%%sql` `ipython-sql` block magic or `pandas.read_sql_query()` command.\n",
    "\n",
    "Instead, we'll be using the same `psycopg2` Python package that the magic and *pandas* commands are built upon. This will involve working with it at more a basic level. This will give us the control we need over when transactions actually start and stop to help us to understand how they really work."
   ]
  },
  {
   "cell_type": "markdown",
   "metadata": {},
   "source": [
    "### The `psycopg2` Python Package"
   ]
  },
  {
   "cell_type": "markdown",
   "metadata": {},
   "source": [
    "\n",
    "The fundamental concept in `psycopg2` is the **connection**. Commands to the database flow along the connection, and the results come back along the connection.\n",
    "\n",
    "Transactions in `psycopg2` happen at the connection level:\n",
    "\n",
    "- when a transaction starts, it starts on a particular connection;\n",
    "- once a connection has started a transaction, subsequent commands on that connection are part of the same transaction.\n",
    "\n",
    "The connection is responsible for finishing the transaction with either a `COMMIT` or `ROLLBACK`. A connection can only have zero or one transactions at any time.\n"
   ]
  },
  {
   "cell_type": "markdown",
   "metadata": {},
   "source": [
    "\n",
    "To further complicate things, a connection can have several **cursors**. Typically, a cursor exists to keep track of the current position in a set of results, so that the database client can use the cursor to read result rows back at a pace that suits the client. But in `psycopg2`, the cursor is the object which sends commands to the database.\n",
    "\n",
    "Cursors always exist in the context of a particular connection. In `psycopg2`, cursors can be created and destroyed. But the creation and destruction of a cursor has no effect on the status of any _transaction_ : the status of a transaction is purely a property of the _connection_. \n",
    "\n",
    "What this means is that, whereas a piece of SQL might look like this:\n",
    "\n",
    "```SQL\n",
    "    BEGIN;\n",
    "\n",
    "    SELECT patient_id, patient_name, weight_kg \n",
    "    FROM patient\n",
    "        WHERE patient_id = 'p001';\n",
    "\n",
    "    UPDATE patient\n",
    "    SET weight_kg = 200.0 \n",
    "        WHERE patient_id = 'p001';\n",
    "\n",
    "    COMMIT;\n",
    "```\n",
    "\n",
    "using the `psycopg2` package also means that we need to wrap the SQL code in Python so that it looks like this:\n",
    "\n",
    "```python\n",
    "    with my_connection.cursor() as c:\n",
    "    \n",
    "        c.execute('BEGIN;')\n",
    "\n",
    "        c.execute('''\n",
    "                  SELECT patient_id, patient_name, weight_kg \n",
    "                  FROM patient \n",
    "                  WHERE patient_id = 'p001';\n",
    "                  ''')\n",
    "\n",
    "        c.execute('''\n",
    "                  UPDATE patient \n",
    "                  SET weight_kg = 75.0 \n",
    "                      WHERE patient_id = 'p001';\n",
    "                  ''')\n",
    "\n",
    "        my_connection.commit()\n",
    "```\n",
    "This allows us to make it explicit which connection is making the update to the database.\n",
    "\n",
    "(Remember that the triple quotes, <code>'''</code> are used for multiple-line strings.)"
   ]
  },
  {
   "cell_type": "markdown",
   "metadata": {},
   "source": [
    "## When things go wrong"
   ]
  },
  {
   "cell_type": "markdown",
   "metadata": {},
   "source": [
    "In order to carry out the notebooks for part 12, it is important that you do not have any other notebooks running which might be making their own calls on the database. It is quite likely that you may still have some open database connections from other notebooks. Check the [Jupyter Running](/tree#running) tab to see if any week 11 or week 12 notebooks other than this one are running, and if so, shut them down.\n",
    "\n",
    "At some point, when you're working through this notebook, you will probably end up in a real muddle. \n",
    "\n",
    "Don't despair.\n",
    "\n",
    "If you need to reset the database, first close all the existing connections:"
   ]
  },
  {
   "cell_type": "raw",
   "metadata": {},
   "source": [
    "# To run this cell, need to change it from \"Raw NBConvert\" to \"Code\"\n",
    "\n",
    "paxton.close()\n",
    "gibson.close()"
   ]
  },
  {
   "cell_type": "markdown",
   "metadata": {},
   "source": [
    "At this point, you should be able to simply rerun the cells in the section **Setting up**, which will call the reset script. However, in a worst case scenario, you can consider resetting your server, as described in the software guide."
   ]
  },
  {
   "cell_type": "markdown",
   "metadata": {},
   "source": [
    "## Setting up"
   ]
  },
  {
   "cell_type": "markdown",
   "metadata": {},
   "source": [
    "The next group of cells set up your database connection, and reset the database to a clean state. Check notebook *08.1 Data Definition Language in SQL* if you are unsure what the next cells do.\n",
    "\n",
    "As usual, you will need to set the values of the variables `DB_USER` and `DB_PWD`, depending on which environment you are using."
   ]
  },
  {
   "cell_type": "raw",
   "metadata": {},
   "source": [
    "# If you are using the remote environment, change this cell\n",
    "# type to \"code\", and execute it\n",
    "\n",
    "DB_USER='xxx99'            # Enter your OUCU here (in quotes)\n",
    "DB_PWD='your_password'     # Enter your password here (in quotes)"
   ]
  },
  {
   "cell_type": "raw",
   "metadata": {},
   "source": [
    "# If you are using a locally hosted environment, change this cell\n",
    "# type to \"code\", and execute it\n",
    "\n",
    "DB_USER='tm351'\n",
    "DB_PWD='tm351'"
   ]
  },
  {
   "cell_type": "code",
   "execution_count": null,
   "metadata": {},
   "outputs": [],
   "source": [
    "# Set up the PostgreSQL environment\n",
    "\n",
    "%run sql_init.ipynb\n",
    "print(\"Connecting with connection string : {}\".format(DB_CONNECTION))\n",
    "%sql $DB_CONNECTION"
   ]
  },
  {
   "cell_type": "code",
   "execution_count": null,
   "metadata": {},
   "outputs": [],
   "source": [
    "%run reset_databases.ipynb"
   ]
  },
  {
   "cell_type": "markdown",
   "metadata": {},
   "source": [
    "## Connecting to the database: multiple connections"
   ]
  },
  {
   "cell_type": "markdown",
   "metadata": {},
   "source": [
    "First, we need to import the `psycopg2` library so that we can define connections to the database:"
   ]
  },
  {
   "cell_type": "code",
   "execution_count": null,
   "metadata": {},
   "outputs": [],
   "source": [
    "import psycopg2 as pg\n",
    "import psycopg2.extensions as pge"
   ]
  },
  {
   "cell_type": "markdown",
   "metadata": {},
   "source": [
    "In this notebook, we will go back to using the hospital database that we looked at in Parts 8 to 11, and we will reuse the `hospital` schema that we used in Part 9. We can tell specify what schema to use by using the option `options=\"-c search_path=hospital\"` in the `psycopg2.connect` function calls."
   ]
  },
  {
   "cell_type": "markdown",
   "metadata": {},
   "source": [
    "In Parts 8 to 11, we created a single connection to the database, which we used to set up the sql magic. In part 12, we need to have multiple concurrent connections to the database, to show how transactions work in a concurrent multiuser environment. Because it's very easy to get confused when dealing with several different \"users\" (i.e. connections), we'll give the concurrent connection doctor names and pictures."
   ]
  },
  {
   "cell_type": "markdown",
   "metadata": {},
   "source": [
    "### ![Gibson](images/gibson.png) Dr Gibson"
   ]
  },
  {
   "cell_type": "code",
   "execution_count": null,
   "metadata": {},
   "outputs": [],
   "source": [
    "gibson = pg.connect(dbname=DB_USER,     # the name of the database\n",
    "                    host='localhost',   # the host on which the database engine is running\n",
    "                    user=DB_USER,       # id of the user who is logging in\n",
    "                    password=DB_PWD,    # the user's password\n",
    "                    port=5432,          # the port on which the database engine is listening\n",
    "                    options=\"-c search_path=hospital\")  # the schema to use\n",
    "\n",
    "gibson.isolation_level = pge.ISOLATION_LEVEL_SERIALIZABLE\n",
    "\n",
    "gibson.autocommit = False"
   ]
  },
  {
   "cell_type": "markdown",
   "metadata": {},
   "source": [
    "### ![Paxton](images/paxton.png) Dr Paxton"
   ]
  },
  {
   "cell_type": "code",
   "execution_count": null,
   "metadata": {},
   "outputs": [],
   "source": [
    "paxton = pg.connect(dbname=DB_USER,     # the name of the database\n",
    "                    host='localhost',   # the host on which the database engine is running\n",
    "                    user=DB_USER,       # id of the user who is logging in\n",
    "                    password=DB_PWD,    # the user's password\n",
    "                    port=5432,          # the port on which the database engine is listening\n",
    "                    options=\"-c search_path=hospital\")  # the schema to use\n",
    "\n",
    "\n",
    "paxton.isolation_level = pge.ISOLATION_LEVEL_SERIALIZABLE\n",
    "\n",
    "paxton.autocommit = False"
   ]
  },
  {
   "cell_type": "markdown",
   "metadata": {},
   "source": [
    "Note that in both these cases, we have set the `autocommit` flag to `False`. This means that we always need to explicitly tell the transaction to complete with a `commit` statement.\n",
    "\n",
    "Also, we set the isolation level using `pge.ISOLATION_LEVEL_SERIALIZABLE`: this means that both connections have an isolation level of serializable, as described in the opening section of the notebook."
   ]
  },
  {
   "cell_type": "markdown",
   "metadata": {},
   "source": [
    "#### `transaction_status` helper function"
   ]
  },
  {
   "cell_type": "markdown",
   "metadata": {},
   "source": [
    "Throughout this notebook, it will be useful to see the transaction status of a particular connection."
   ]
  },
  {
   "cell_type": "markdown",
   "metadata": {},
   "source": [
    "The connection objects have a method defined on them, `get_transaction_status()`, which returns an integer reflecting the transaction status of the current connection. So far, we have created connections called `gibson` and `paxton`, but we have not started any transactions using them. \n",
    "\n",
    "We can call the `get_transaction_status()` method on `gibson`:"
   ]
  },
  {
   "cell_type": "code",
   "execution_count": null,
   "metadata": {},
   "outputs": [],
   "source": [
    "gibson.get_transaction_status()"
   ]
  },
  {
   "cell_type": "markdown",
   "metadata": {},
   "source": [
    "The value `0` in this case represents the connection `gibson` being in an idle state. We can see that the `paxton` connection is also in an idle state in the same way:"
   ]
  },
  {
   "cell_type": "code",
   "execution_count": null,
   "metadata": {},
   "outputs": [],
   "source": [
    "paxton.get_transaction_status()"
   ]
  },
  {
   "cell_type": "markdown",
   "metadata": {},
   "source": [
    "The meaning of each of the return values for `.get_transaction_status()` can be found in [the relevant section of the psycopg2 documentation](http://initd.org/psycopg/docs/extensions.html#transaction-status-constants), and we have also given them here:\n",
    "\n",
    "| value | meaning |\n",
    "|-------|---------|\n",
    "|psycopg2.extensions.TRANSACTION_STATUS_IDLE|The session is idle and there is no current transaction.|\n",
    "|psycopg2.extensions.TRANSACTION_STATUS_ACTIVE|A command is currently in progress.|\n",
    "|psycopg2.extensions.TRANSACTION_STATUS_INTRANS|The session is idle in a valid transaction block.|\n",
    "|psycopg2.extensions.TRANSACTION_STATUS_INERROR|The session is idle in a failed transaction block.|\n",
    "|psycopg2.extensions.TRANSACTION_STATUS_UNKNOWN|Reported if the connection with the server is bad.|\n",
    "\n",
    "(Each of the expressions `psycopg2.extensions.TRANSACTION_STATUS_XXX` maps onto one of the integers returned by the `.get_transaction_status()` method)."
   ]
  },
  {
   "cell_type": "markdown",
   "metadata": {},
   "source": [
    "To make it easier to check on the transaction status of a connection, we can define a short function, `transaction_status`, which returns the string describing the transaction status of the given connection:"
   ]
  },
  {
   "cell_type": "code",
   "execution_count": null,
   "metadata": {},
   "outputs": [],
   "source": [
    "def transaction_status(conn):\n",
    "    '''\n",
    "    Return a string showing the transaction status of the\n",
    "    given connection, conn.\n",
    "    '''\n",
    "    transaction_status_dict={\n",
    "        pg.extensions.TRANSACTION_STATUS_IDLE:\"The session is idle and there is no current transaction.\",\n",
    "        pg.extensions.TRANSACTION_STATUS_ACTIVE:\"A command is currently in progress.\",\n",
    "        pg.extensions.TRANSACTION_STATUS_INTRANS:\"The session is idle in a valid transaction block.\",\n",
    "        pg.extensions.TRANSACTION_STATUS_INERROR:\"The session is idle in a failed transaction block.\",\n",
    "        pg.extensions.TRANSACTION_STATUS_UNKNOWN:\"Reported if the connection with the server is bad.\"\n",
    "    }\n",
    "    return transaction_status_dict[conn.get_transaction_status()]\n",
    "    "
   ]
  },
  {
   "cell_type": "markdown",
   "metadata": {},
   "source": [
    "We will keep calling the `transaction_status` function throughout this notebook, to make it explicit what's going on with the transaction states."
   ]
  },
  {
   "cell_type": "markdown",
   "metadata": {},
   "source": [
    "For example, we can see the transaction states of the connections `gibson` and `paxton`:"
   ]
  },
  {
   "cell_type": "code",
   "execution_count": null,
   "metadata": {},
   "outputs": [],
   "source": [
    "print(f\"{'Gibson'} : {transaction_status(gibson)}\")\n",
    "print(f\"{'Paxton'} : {transaction_status(paxton)}\")"
   ]
  },
  {
   "cell_type": "markdown",
   "metadata": {},
   "source": [
    "## Transaction processing: Isolated updates"
   ]
  },
  {
   "cell_type": "markdown",
   "metadata": {},
   "source": [
    "In this example, you'll see how the effects of an update transaction are isolated from other users while that transaction is still uncommitted."
   ]
  },
  {
   "cell_type": "markdown",
   "metadata": {},
   "source": [
    "Imagine that Dr Gibson and Dr Paxton are both looking at the weight of the patient with identifier `p001`. The following steps will take place:\n",
    "\n",
    "1. Gibson looks at `p001`'s weight. \n",
    "\n",
    "2. Paxton updates `p001`'s weight, but does not commit the change.\n",
    "\n",
    "3. Before Paxton commits the change, Gibson looks at `p001`'s weight again. If Paxton's transaction is isolated, Gibson shouldn't see the change-in-progress.\n",
    "\n",
    "4. Paxton commits the change\n",
    "\n",
    "5. Gibson looks at `p001`'s weight again. Now that the change has been committed, Gibson should now see the updated value.\n",
    "\n",
    "![Isolated transactions](images/12.1.1.png)"
   ]
  },
  {
   "cell_type": "markdown",
   "metadata": {},
   "source": [
    "We will now work through these steps, making the calls from Gibson and Paxton's connections, as appropriate."
   ]
  },
  {
   "cell_type": "markdown",
   "metadata": {},
   "source": [
    "![Gibson](images/gibson.png) **Step 1:** Gibson looks at `p001`'s weight:"
   ]
  },
  {
   "cell_type": "code",
   "execution_count": null,
   "metadata": {
    "scrolled": true
   },
   "outputs": [],
   "source": [
    "with gibson.cursor() as gibson_cursor:\n",
    "\n",
    "    gibson_cursor.execute('BEGIN;')\n",
    "\n",
    "    df= pd.read_sql_query('''\n",
    "        SELECT patient_id, patient_name, weight_kg\n",
    "        FROM patient\n",
    "        WHERE patient_id = 'p001';\n",
    "        ''', gibson)\n",
    "\n",
    "df"
   ]
  },
  {
   "cell_type": "markdown",
   "metadata": {},
   "source": [
    "Gibson sees the weight as 71.6kg."
   ]
  },
  {
   "cell_type": "markdown",
   "metadata": {},
   "source": [
    "Now, let's check Gibson's transaction status:"
   ]
  },
  {
   "cell_type": "code",
   "execution_count": null,
   "metadata": {},
   "outputs": [],
   "source": [
    "transaction_status(gibson)"
   ]
  },
  {
   "cell_type": "markdown",
   "metadata": {},
   "source": [
    "This shows that Gibson has now entered a transaction block. Note that even just querying the database opens a transaction: a transaction does not have to make alterations to the contents of a database to be considered a transaction. To close the transaction, we need to call commit (even though Gibson made no changes to be committed):"
   ]
  },
  {
   "cell_type": "code",
   "execution_count": null,
   "metadata": {},
   "outputs": [],
   "source": [
    "gibson.commit()"
   ]
  },
  {
   "cell_type": "markdown",
   "metadata": {},
   "source": [
    "And we can see that Gibson is no longer in a transaction:\n"
   ]
  },
  {
   "cell_type": "code",
   "execution_count": null,
   "metadata": {},
   "outputs": [],
   "source": [
    "transaction_status(gibson)"
   ]
  },
  {
   "cell_type": "markdown",
   "metadata": {},
   "source": [
    "\n",
    "![Paxton](images/paxton.png) **Step 2:** Paxton updates `p001`'s weight, but does not commit the change.\n",
    "\n",
    "\n",
    "Paxton weighs `p001` and finds that the record needs to be updated so that the patient's weight 75kg. Paxton starts a new transaction with `BEGIN` and makes the change:"
   ]
  },
  {
   "cell_type": "code",
   "execution_count": null,
   "metadata": {},
   "outputs": [],
   "source": [
    "with paxton.cursor() as paxton_cursor:\n",
    "    paxton_cursor.execute(\"BEGIN;\")\n",
    "    \n",
    "    paxton_cursor.execute('''\n",
    "        UPDATE patient \n",
    "        SET weight_kg = 75.0 \n",
    "            WHERE patient_id = 'p001';\n",
    "        ''')"
   ]
  },
  {
   "cell_type": "markdown",
   "metadata": {},
   "source": [
    "Note that this `UPDATE` transaction has not yet been committed."
   ]
  },
  {
   "cell_type": "markdown",
   "metadata": {},
   "source": [
    "We can now look at the transaction status of the connection `paxton`:"
   ]
  },
  {
   "cell_type": "code",
   "execution_count": null,
   "metadata": {},
   "outputs": [],
   "source": [
    "transaction_status(paxton)"
   ]
  },
  {
   "cell_type": "markdown",
   "metadata": {},
   "source": [
    "The message shows that although the session is idle (the update has been completed), the connection has not yet completed the transaction."
   ]
  },
  {
   "cell_type": "markdown",
   "metadata": {},
   "source": [
    "Now, while within the transaction, Paxton can see the changed weight in the database. Let's see what value the `paxton` connection currently thinks is in the `weight_kg` column for the patient with id `p001`:"
   ]
  },
  {
   "cell_type": "code",
   "execution_count": null,
   "metadata": {},
   "outputs": [],
   "source": [
    "pd.read_sql_query('''\n",
    "        SELECT patient_id, patient_name, weight_kg\n",
    "        FROM patient\n",
    "        WHERE patient_id = 'p001';\n",
    "        ''', paxton)\n"
   ]
  },
  {
   "cell_type": "markdown",
   "metadata": {},
   "source": [
    "`paxton` sees the value as 75kg."
   ]
  },
  {
   "cell_type": "markdown",
   "metadata": {},
   "source": [
    "What about the `gibson` connection?"
   ]
  },
  {
   "cell_type": "markdown",
   "metadata": {},
   "source": [
    "![Gibson](images/gibson.png) **Step 3:** Gibson takes another look at `p001`'s weight in the database:"
   ]
  },
  {
   "cell_type": "code",
   "execution_count": null,
   "metadata": {},
   "outputs": [],
   "source": [
    "pd.read_sql_query('''\n",
    "        SELECT patient_id, patient_name, weight_kg\n",
    "        FROM patient\n",
    "        WHERE patient_id = 'p001';\n",
    "        ''', gibson)\n"
   ]
  },
  {
   "cell_type": "markdown",
   "metadata": {},
   "source": [
    "So Gibson still sees the original 71.6kg. This what we would hope, as Paxton's transaction (including the update) has not yet been committed."
   ]
  },
  {
   "cell_type": "markdown",
   "metadata": {},
   "source": [
    "This is a crucially important aspect of transaction processing! Gibson and Paxton received *different results* for the same query because of the transaction status of their different connections."
   ]
  },
  {
   "cell_type": "markdown",
   "metadata": {},
   "source": [
    "We can see that the connections `paxton` and `gibson` are still in ongoing transactions:"
   ]
  },
  {
   "cell_type": "code",
   "execution_count": null,
   "metadata": {},
   "outputs": [],
   "source": [
    "print(f\"{'Gibson'} : {transaction_status(gibson)}\")\n",
    "print(f\"{'Paxton'} : {transaction_status(paxton)}\")"
   ]
  },
  {
   "cell_type": "markdown",
   "metadata": {},
   "source": [
    "This is what we expect, as Paxton's transaction (including the update) hasn't completed yet, and Gibson opened a new transaction when she queried the database."
   ]
  },
  {
   "cell_type": "markdown",
   "metadata": {},
   "source": [
    "![Paxton](images/paxton.png) **Step 4:** Paxton now commits the change to `p001`'s record."
   ]
  },
  {
   "cell_type": "code",
   "execution_count": null,
   "metadata": {},
   "outputs": [],
   "source": [
    "paxton.commit()"
   ]
  },
  {
   "cell_type": "code",
   "execution_count": null,
   "metadata": {},
   "outputs": [],
   "source": [
    "transaction_status(paxton)"
   ]
  },
  {
   "cell_type": "markdown",
   "metadata": {},
   "source": [
    "Paxton is no longer involved with a transaction, and so his update is committed. "
   ]
  },
  {
   "cell_type": "markdown",
   "metadata": {},
   "source": [
    "![Gibson](images/gibson.png) Now Paxton's transaction has been committed, what does Gibson see? Well remember that having made a `SELECT` query, the connection `gibson` is now involved in a transaction:"
   ]
  },
  {
   "cell_type": "code",
   "execution_count": null,
   "metadata": {},
   "outputs": [],
   "source": [
    "transaction_status(gibson)"
   ]
  },
  {
   "cell_type": "markdown",
   "metadata": {},
   "source": [
    "So if a query is made with the connection `gibson`, then `paxton`'s update is not yet visible:"
   ]
  },
  {
   "cell_type": "code",
   "execution_count": null,
   "metadata": {},
   "outputs": [],
   "source": [
    "pd.read_sql_query('''\n",
    "        SELECT patient_id, patient_name, weight_kg\n",
    "        FROM patient\n",
    "        WHERE patient_id = 'p001';\n",
    "        ''', gibson)"
   ]
  },
  {
   "cell_type": "markdown",
   "metadata": {},
   "source": [
    "Gibson (should) still see `p001`'s weight as 71.6 kg."
   ]
  },
  {
   "cell_type": "markdown",
   "metadata": {},
   "source": [
    "However, if we now complete `gibson`'s transaction with `commit`:"
   ]
  },
  {
   "cell_type": "code",
   "execution_count": null,
   "metadata": {},
   "outputs": [],
   "source": [
    "gibson.commit()"
   ]
  },
  {
   "cell_type": "markdown",
   "metadata": {},
   "source": [
    "then we see that `gibson` is no longer in a transaction:"
   ]
  },
  {
   "cell_type": "code",
   "execution_count": null,
   "metadata": {},
   "outputs": [],
   "source": [
    "transaction_status(gibson)"
   ]
  },
  {
   "cell_type": "markdown",
   "metadata": {},
   "source": [
    "If a query is made using the connection `gibson`, then the update should now be visible:"
   ]
  },
  {
   "cell_type": "code",
   "execution_count": null,
   "metadata": {},
   "outputs": [],
   "source": [
    "pd.read_sql_query('''\n",
    "        SELECT patient_id, patient_name, weight_kg\n",
    "        FROM patient\n",
    "        WHERE patient_id = 'p001';\n",
    "        ''', gibson)"
   ]
  },
  {
   "cell_type": "markdown",
   "metadata": {},
   "source": [
    "To tidy up, we need to commit `gibson`'s transaction (which makes no changes to the database, as it only made queries):"
   ]
  },
  {
   "cell_type": "code",
   "execution_count": null,
   "metadata": {},
   "outputs": [],
   "source": [
    "gibson.commit()"
   ]
  },
  {
   "cell_type": "markdown",
   "metadata": {},
   "source": [
    "and at this point, we can see that there are no open transactions:"
   ]
  },
  {
   "cell_type": "code",
   "execution_count": null,
   "metadata": {},
   "outputs": [],
   "source": [
    "print(f\"{'Gibson'} : {transaction_status(gibson)}\")\n",
    "print(f\"{'Paxton'} : {transaction_status(paxton)}\")"
   ]
  },
  {
   "cell_type": "markdown",
   "metadata": {
    "activity": true
   },
   "source": [
    "### Activity 1"
   ]
  },
  {
   "cell_type": "markdown",
   "metadata": {
    "activity": true,
    "collapsed": true
   },
   "source": [
    "\n",
    "Carry out the above sequence of actions again, but this time have Paxton set `p001`'s weight to 200kg, and then, having realised that this was a mistake, roll back the transaction. What weight do doctors Gibson and Paxton see before, during, and after this transaction?"
   ]
  },
  {
   "cell_type": "markdown",
   "metadata": {
    "activity": true
   },
   "source": [
    "This is the summary of what should happen:\n",
    "\n",
    "![Rolled back transaction](images/12.1.2.png)"
   ]
  },
  {
   "cell_type": "markdown",
   "metadata": {
    "activity": true
   },
   "source": [
    "As a series of steps:\n",
    "\n",
    "1. Gibson looks at `p001`'s weight. \n",
    "\n",
    "2. Paxton updates `p001`'s weight to 200kg, but does not commit the change.\n",
    "\n",
    "3. Before Paxton commits the change, Gibson looks at `p001`'s weight again. If Paxton's transaction is isolated, Gibson shouldn't see the change-in-progress.\n",
    "\n",
    "4. Paxton **rolls back** the change\n",
    "\n",
    "5. Gibson looks at `p001`'s weight again.\n",
    "\n",
    "What do Gibson and Paxton see at this point?"
   ]
  },
  {
   "cell_type": "markdown",
   "metadata": {
    "activity": true
   },
   "source": [
    "To carry out this activity, you should call `paxton.rollback()` rather than `paxton.commit()` to see the effect of rolling back the transaction."
   ]
  },
  {
   "cell_type": "markdown",
   "metadata": {
    "activity": true
   },
   "source": [
    "In your solution, you will need several cells as you step through the stages of Paxton's update, while checking what Gibson can see at each stage. Remember to use `transaction_status()` to see what state the transactions are in."
   ]
  },
  {
   "cell_type": "code",
   "execution_count": null,
   "metadata": {
    "student": true
   },
   "outputs": [],
   "source": [
    "# Write your code in this cell (adding more if necessary)"
   ]
  },
  {
   "cell_type": "markdown",
   "metadata": {
    "activity": true,
    "heading_collapsed": true
   },
   "source": [
    "#### Our solution\n",
    "\n",
    "To reveal our solution, click on the triangle symbol on the left-hand end of this cell."
   ]
  },
  {
   "cell_type": "markdown",
   "metadata": {
    "activity": true,
    "hidden": true
   },
   "source": [
    "![Gibson](images/gibson.png) **Step 1:** Gibson looks at `p001`'s weight:"
   ]
  },
  {
   "cell_type": "code",
   "execution_count": null,
   "metadata": {
    "activity": true,
    "hidden": true,
    "scrolled": true
   },
   "outputs": [],
   "source": [
    "with gibson.cursor() as gibson_cursor:\n",
    "\n",
    "    gibson_cursor.execute('BEGIN;')\n",
    "    \n",
    "    df= pd.read_sql_query('''\n",
    "        SELECT patient_id, patient_name, weight_kg\n",
    "        FROM patient\n",
    "        WHERE patient_id = 'p001';\n",
    "        ''', gibson)\n",
    "\n",
    "    gibson.commit()\n",
    "\n",
    "df"
   ]
  },
  {
   "cell_type": "markdown",
   "metadata": {
    "activity": true,
    "hidden": true
   },
   "source": [
    "Gibson should see the weight as 75.0kg."
   ]
  },
  {
   "cell_type": "markdown",
   "metadata": {
    "activity": true,
    "hidden": true
   },
   "source": [
    "We have closed Gibson's transaction with `commit`, so let's check Gibson's transaction status:"
   ]
  },
  {
   "cell_type": "code",
   "execution_count": null,
   "metadata": {
    "activity": true,
    "hidden": true
   },
   "outputs": [],
   "source": [
    "transaction_status(gibson)"
   ]
  },
  {
   "cell_type": "markdown",
   "metadata": {
    "activity": true,
    "hidden": true
   },
   "source": [
    "This should shows that Gibson is not in a transaction block."
   ]
  },
  {
   "cell_type": "markdown",
   "metadata": {
    "activity": true,
    "hidden": true
   },
   "source": [
    "\n",
    "![Paxton](images/paxton.png) **Step 2:** Paxton updates `p001`'s weight in the database to 200kg. Paxton can see the changed weight in the database. Note that this update transaction isn't yet committed. "
   ]
  },
  {
   "cell_type": "code",
   "execution_count": null,
   "metadata": {
    "activity": true,
    "hidden": true
   },
   "outputs": [],
   "source": [
    "with paxton.cursor() as paxton_cursor:\n",
    "    paxton_cursor.execute(\"BEGIN;\")\n",
    "    \n",
    "    paxton_cursor.execute('''\n",
    "        UPDATE patient \n",
    "        SET weight_kg = 200\n",
    "            WHERE patient_id = 'p001';\n",
    "        ''')"
   ]
  },
  {
   "cell_type": "markdown",
   "metadata": {
    "activity": true,
    "hidden": true
   },
   "source": [
    "We can now look at the transaction status of the connection `paxton`:"
   ]
  },
  {
   "cell_type": "code",
   "execution_count": null,
   "metadata": {
    "activity": true,
    "hidden": true
   },
   "outputs": [],
   "source": [
    "transaction_status(paxton)"
   ]
  },
  {
   "cell_type": "markdown",
   "metadata": {
    "activity": true,
    "hidden": true
   },
   "source": [
    "The message shows that although the session is idle (the update has been completed), the connection has not yet completed the transaction."
   ]
  },
  {
   "cell_type": "markdown",
   "metadata": {
    "activity": true,
    "hidden": true
   },
   "source": [
    "We can see what value the `paxton` connection currently thinks is in the `weight_kg` column for the patient with id `p001`:"
   ]
  },
  {
   "cell_type": "code",
   "execution_count": null,
   "metadata": {
    "activity": true,
    "hidden": true
   },
   "outputs": [],
   "source": [
    "pd.read_sql_query('''\n",
    "        SELECT patient_id, patient_name, weight_kg\n",
    "        FROM patient\n",
    "        WHERE patient_id = 'p001';\n",
    "        ''', paxton)\n"
   ]
  },
  {
   "cell_type": "markdown",
   "metadata": {
    "activity": true,
    "hidden": true
   },
   "source": [
    "Paxton sees the value as 200kg."
   ]
  },
  {
   "cell_type": "markdown",
   "metadata": {
    "activity": true,
    "hidden": true
   },
   "source": [
    "Now, what about Gibson?"
   ]
  },
  {
   "cell_type": "markdown",
   "metadata": {
    "activity": true,
    "hidden": true
   },
   "source": [
    "![Gibson](images/gibson.png) **Step 3:** Gibson takes another look at `p001`'s weight in the database:"
   ]
  },
  {
   "cell_type": "code",
   "execution_count": null,
   "metadata": {
    "activity": true,
    "hidden": true
   },
   "outputs": [],
   "source": [
    "pd.read_sql_query('''\n",
    "        SELECT patient_id, patient_name, weight_kg\n",
    "        FROM patient\n",
    "        WHERE patient_id = 'p001';\n",
    "        ''', gibson)\n"
   ]
  },
  {
   "cell_type": "markdown",
   "metadata": {
    "activity": true,
    "hidden": true
   },
   "source": [
    "Gibson still sees the original 75kg, as we would hope: Paxton's transaction (including the update) has not yet been committed."
   ]
  },
  {
   "cell_type": "code",
   "execution_count": null,
   "metadata": {
    "activity": true,
    "hidden": true
   },
   "outputs": [],
   "source": [
    "print(f\"{'Gibson'} : {transaction_status(gibson)}\")\n",
    "print(f\"{'Paxton'} : {transaction_status(paxton)}\")"
   ]
  },
  {
   "cell_type": "markdown",
   "metadata": {
    "activity": true,
    "hidden": true
   },
   "source": [
    "Paxton is still inside his transaction."
   ]
  },
  {
   "cell_type": "markdown",
   "metadata": {
    "activity": true,
    "hidden": true
   },
   "source": [
    "![Paxton](images/paxton.png) **Step 4:** Paxton now realises that the update to 200kg was incorrect. Therefore, rather than calling `commit()` to commit the change, call `rollback()` to return the database to the state it was in before the transaction started:"
   ]
  },
  {
   "cell_type": "code",
   "execution_count": null,
   "metadata": {
    "activity": true,
    "hidden": true
   },
   "outputs": [],
   "source": [
    "paxton.rollback()"
   ]
  },
  {
   "cell_type": "markdown",
   "metadata": {
    "activity": true,
    "hidden": true
   },
   "source": [
    "Having rolled back the transaction, we should now find that Paxton is no longer in a transaction:"
   ]
  },
  {
   "cell_type": "code",
   "execution_count": null,
   "metadata": {
    "activity": true,
    "hidden": true
   },
   "outputs": [],
   "source": [
    "transaction_status(paxton)"
   ]
  },
  {
   "cell_type": "markdown",
   "metadata": {
    "activity": true,
    "hidden": true
   },
   "source": [
    "`paxton` is no longer involved with a transaction, and so his update is discarded."
   ]
  },
  {
   "cell_type": "markdown",
   "metadata": {
    "activity": true,
    "hidden": true
   },
   "source": [
    "![Gibson](images/gibson.png) Now Paxton's transaction has been committed, what does Gibson see? Well remember that having made a `SELECT` query, the connection `gibson` is now involved in a transaction:"
   ]
  },
  {
   "cell_type": "code",
   "execution_count": null,
   "metadata": {
    "activity": true,
    "hidden": true
   },
   "outputs": [],
   "source": [
    "transaction_status(gibson)"
   ]
  },
  {
   "cell_type": "markdown",
   "metadata": {
    "activity": true,
    "hidden": true
   },
   "source": [
    "If we now complete `gibson`'s transaction with `commit`:"
   ]
  },
  {
   "cell_type": "code",
   "execution_count": null,
   "metadata": {
    "activity": true,
    "hidden": true
   },
   "outputs": [],
   "source": [
    "gibson.commit()"
   ]
  },
  {
   "cell_type": "markdown",
   "metadata": {
    "activity": true,
    "hidden": true
   },
   "source": [
    "Then we see that `gibson` is no longer in a transaction:"
   ]
  },
  {
   "cell_type": "code",
   "execution_count": null,
   "metadata": {
    "activity": true,
    "hidden": true
   },
   "outputs": [],
   "source": [
    "transaction_status(gibson)"
   ]
  },
  {
   "cell_type": "markdown",
   "metadata": {
    "activity": true,
    "hidden": true
   },
   "source": [
    "and if a query is made using the connection `gibson`, then the rolled back update should not be visible:"
   ]
  },
  {
   "cell_type": "code",
   "execution_count": null,
   "metadata": {
    "activity": true,
    "hidden": true
   },
   "outputs": [],
   "source": [
    "pd.read_sql_query('''\n",
    "        SELECT patient_id, patient_name, weight_kg\n",
    "        FROM patient\n",
    "        WHERE patient_id = 'p001';\n",
    "        ''', gibson)"
   ]
  },
  {
   "cell_type": "markdown",
   "metadata": {
    "activity": true,
    "hidden": true
   },
   "source": [
    "To tidy up, we will commit Gibson's (read-only) transaction:"
   ]
  },
  {
   "cell_type": "code",
   "execution_count": null,
   "metadata": {
    "activity": true,
    "hidden": true
   },
   "outputs": [],
   "source": [
    "gibson.commit()"
   ]
  },
  {
   "cell_type": "markdown",
   "metadata": {
    "activity": true,
    "hidden": true
   },
   "source": [
    "and at this point, we can see that there are no open transactions:"
   ]
  },
  {
   "cell_type": "code",
   "execution_count": null,
   "metadata": {
    "activity": true,
    "hidden": true
   },
   "outputs": [],
   "source": [
    "print(f\"{'Gibson'} : {transaction_status(gibson)}\")\n",
    "print(f\"{'Paxton'} : {transaction_status(paxton)}\")"
   ]
  },
  {
   "cell_type": "markdown",
   "metadata": {
    "activity": true,
    "hidden": true
   },
   "source": [
    "So in this case, the database handled the update so that the value of 200kg was never visible to Gibson."
   ]
  },
  {
   "cell_type": "markdown",
   "metadata": {
    "activity": true
   },
   "source": [
    "#### End of Activity 1"
   ]
  },
  {
   "cell_type": "markdown",
   "metadata": {},
   "source": [
    "--------------------------------------------------------"
   ]
  },
  {
   "cell_type": "markdown",
   "metadata": {},
   "source": [
    "## Transaction processing: Preventing lost updates"
   ]
  },
  {
   "cell_type": "markdown",
   "metadata": {},
   "source": [
    "Suppose that a message has gone around the hospital that the scales were all off, reading 10kg too high. That means `p001`'s weight should have been recorded as 65kg, not 75kg. \n",
    "\n",
    "Both Paxton and Gibson notice that `p001`'s weight needs to be adjusted, so they both decide to be good citizens and make the change.\n",
    "\n",
    "However, due to a miscommunication, Paxton misunderstands the problem, and thinks that he needs to adjust `p001`'s weight to be 10kg *more* than what he previously recorded.\n",
    "\n",
    "In both of these cases, because the weight is being modified, the read of the current weight and the writing of the modified weight will be done in the same transaction.\n",
    "\n"
   ]
  },
  {
   "cell_type": "markdown",
   "metadata": {},
   "source": [
    "The following steps take place:\n",
    "\n",
    "1. Gibson looks at `p001`'s weight. \n",
    "\n",
    "2. Paxton looks at `p001`'s weight. \n",
    "\n",
    "3. Gibson updates `p001`'s weight to 65kg, and commits the change.\n",
    "\n",
    "4. Paxton updates `p001`'s weight to 85kg."
   ]
  },
  {
   "cell_type": "markdown",
   "metadata": {},
   "source": [
    "What happens when Paxton attempts to update the database in conflict with Gibson's committed change?"
   ]
  },
  {
   "cell_type": "markdown",
   "metadata": {},
   "source": [
    "Here is an illustration of the process:\n",
    "\n",
    "![Preventing lost updates](images/12.1.3.png)\n",
    "\n",
    "Note that in this case, we _want_ Paxton's update to fail. We don't want Gibson's update to be overwritten and lost before Paxton has a chance to see the new weight recorded in the database."
   ]
  },
  {
   "cell_type": "markdown",
   "metadata": {},
   "source": [
    "![Gibson](images/gibson.png) **Step 1:** Gibson starts a transaction and looks at `p001`'s weight."
   ]
  },
  {
   "cell_type": "code",
   "execution_count": null,
   "metadata": {},
   "outputs": [],
   "source": [
    "pd.read_sql_query('''\n",
    "        SELECT patient_id, patient_name, weight_kg\n",
    "        FROM patient\n",
    "        WHERE patient_id = 'p001';\n",
    "        ''', gibson)"
   ]
  },
  {
   "cell_type": "markdown",
   "metadata": {},
   "source": [
    "Gibson has now entered a transaction:\n"
   ]
  },
  {
   "cell_type": "code",
   "execution_count": null,
   "metadata": {},
   "outputs": [],
   "source": [
    "transaction_status(gibson)"
   ]
  },
  {
   "cell_type": "markdown",
   "metadata": {},
   "source": [
    "![Paxton](images/paxton.png) **Step 2**: Paxton also starts a transaction and looks at `p001`'s weight, while Gibson is doing the update."
   ]
  },
  {
   "cell_type": "code",
   "execution_count": null,
   "metadata": {},
   "outputs": [],
   "source": [
    "pd.read_sql_query('''\n",
    "        SELECT patient_id, patient_name, weight_kg\n",
    "        FROM patient\n",
    "        WHERE patient_id = 'p001';\n",
    "        ''', paxton)"
   ]
  },
  {
   "cell_type": "markdown",
   "metadata": {},
   "source": [
    "Now, both doctors are in the middle of transactions."
   ]
  },
  {
   "cell_type": "code",
   "execution_count": null,
   "metadata": {},
   "outputs": [],
   "source": [
    "print(f\"{'Gibson'} : {transaction_status(gibson)}\")\n",
    "print(f\"{'Paxton'} : {transaction_status(paxton)}\")"
   ]
  },
  {
   "cell_type": "markdown",
   "metadata": {},
   "source": [
    "![Gibson](images/gibson.png) **Step 3:** Gibson calculates what `p001`'s weight should have been recorded as (65kg), updates the record, then commits the transaction. Gibson's subsequent query shows the record has been updated."
   ]
  },
  {
   "cell_type": "code",
   "execution_count": null,
   "metadata": {},
   "outputs": [],
   "source": [
    "with gibson.cursor() as gibson_cursor:\n",
    "    \n",
    "    gibson_cursor.execute('''\n",
    "        UPDATE patient \n",
    "        SET weight_kg = 65\n",
    "            WHERE patient_id = 'p001';\n",
    "        ''')\n",
    "    \n",
    "    gibson.commit()"
   ]
  },
  {
   "cell_type": "code",
   "execution_count": null,
   "metadata": {},
   "outputs": [],
   "source": [
    "pd.read_sql_query('''\n",
    "    SELECT patient_id, patient_name, weight_kg \n",
    "    FROM patient \n",
    "    WHERE patient_id = 'p001';\n",
    "    ''', gibson)"
   ]
  },
  {
   "cell_type": "markdown",
   "metadata": {},
   "source": [
    "Complete with a commit so that `gibson` is no longer in a transaction:"
   ]
  },
  {
   "cell_type": "code",
   "execution_count": null,
   "metadata": {},
   "outputs": [],
   "source": [
    "gibson.commit()"
   ]
  },
  {
   "cell_type": "code",
   "execution_count": null,
   "metadata": {},
   "outputs": [],
   "source": [
    "print(f\"{'Gibson'} : {transaction_status(gibson)}\")\n",
    "print(f\"{'Paxton'} : {transaction_status(paxton)}\")"
   ]
  },
  {
   "cell_type": "markdown",
   "metadata": {},
   "source": [
    "Although Gibson's transaction has been committed, Paxton is still in a transaction, and so does not see the change. Paxton still sees the weight of the patient as 75kg:"
   ]
  },
  {
   "cell_type": "code",
   "execution_count": null,
   "metadata": {},
   "outputs": [],
   "source": [
    "pd.read_sql_query('''\n",
    "    SELECT patient_id, patient_name, weight_kg \n",
    "    FROM patient \n",
    "    WHERE patient_id = 'p001';\n",
    "    ''', paxton)"
   ]
  },
  {
   "cell_type": "markdown",
   "metadata": {},
   "source": [
    "![Paxton](images/paxton.png) **Step 4:** Paxton now erroneously attempts to update the weight of the patient to 85kg:"
   ]
  },
  {
   "cell_type": "code",
   "execution_count": null,
   "metadata": {},
   "outputs": [],
   "source": [
    "with paxton.cursor() as paxton_cursor:\n",
    "\n",
    "    paxton_cursor.execute('''\n",
    "        UPDATE patient\n",
    "        SET weight_kg = 85.0\n",
    "            WHERE patient_id = 'p001';\n",
    "        ''', paxton)"
   ]
  },
  {
   "cell_type": "markdown",
   "metadata": {},
   "source": [
    "The attempt to make the update should have raised an error `TransactionRollbackError: could not serialize access due to concurrent update`. PostgreSQL has prevented the change being made: the record has already been locked by Gibson."
   ]
  },
  {
   "cell_type": "markdown",
   "metadata": {},
   "source": [
    "![Paxton](images/paxton.png) If Paxton now tries to see what's going on with Thornton, PostgreSQL tells him that he needs to abort his transaction to revert to a consistent view of the database:"
   ]
  },
  {
   "cell_type": "code",
   "execution_count": null,
   "metadata": {
    "scrolled": true
   },
   "outputs": [],
   "source": [
    "pd.read_sql_query('''\n",
    "    SELECT patient_id, patient_name, weight_kg \n",
    "    FROM patient \n",
    "    WHERE patient_id = 'p001';\n",
    "    ''', paxton)"
   ]
  },
  {
   "cell_type": "markdown",
   "metadata": {},
   "source": [
    "![Paxton](images/paxton.png)"
   ]
  },
  {
   "cell_type": "markdown",
   "metadata": {},
   "source": [
    "Paxton therefore rolls back his update transaction. He can now see the current contents of the database, after Gibson's update is applied."
   ]
  },
  {
   "cell_type": "code",
   "execution_count": null,
   "metadata": {},
   "outputs": [],
   "source": [
    "paxton.rollback()"
   ]
  },
  {
   "cell_type": "markdown",
   "metadata": {},
   "source": [
    "The table should now contain the value of 65 in the `weight_kg` column for both gibson and paxton:"
   ]
  },
  {
   "cell_type": "code",
   "execution_count": null,
   "metadata": {},
   "outputs": [],
   "source": [
    "pd.read_sql_query('''\n",
    "    SELECT patient_id, patient_name, weight_kg \n",
    "    FROM patient \n",
    "    WHERE patient_id = 'p001';\n",
    "    ''', paxton)"
   ]
  },
  {
   "cell_type": "code",
   "execution_count": null,
   "metadata": {},
   "outputs": [],
   "source": [
    "pd.read_sql_query('''\n",
    "    SELECT patient_id, patient_name, weight_kg \n",
    "    FROM patient \n",
    "    WHERE patient_id = 'p001';\n",
    "    ''', gibson)"
   ]
  },
  {
   "cell_type": "markdown",
   "metadata": {},
   "source": [
    "## Cleanup: close connections\n",
    "Close all connections to the next notebook to reset the database."
   ]
  },
  {
   "cell_type": "code",
   "execution_count": null,
   "metadata": {},
   "outputs": [],
   "source": [
    "paxton.close()\n",
    "gibson.close()"
   ]
  },
  {
   "cell_type": "markdown",
   "metadata": {},
   "source": [
    "## Summary\n",
    "\n",
    "In this Notebook you have seen how PostgreSQL supports transactions as **atomic** units of work which are **isolated** from each other. Where transactions interfere, PostgreSQL detects this and forces rollback of some transactions: this ensures **consistency**. We don't explore how transactions are **durable** in this notebook."
   ]
  },
  {
   "cell_type": "markdown",
   "metadata": {},
   "source": [
    "## What next?\n",
    "If you are working through this Notebook as part of an inline exercise, return to the module materials now.\n",
    "\n",
    "If you are working through this set of Notebooks as a whole, move on to [`12.2 Transaction anomalies`](12.2%20Transaction%20anomalies.ipynb)."
   ]
  }
 ],
 "metadata": {
  "kernelspec": {
   "display_name": "Python 3",
   "language": "python",
   "name": "python3"
  },
  "language_info": {
   "codemirror_mode": {
    "name": "ipython",
    "version": 3
   },
   "file_extension": ".py",
   "mimetype": "text/x-python",
   "name": "python",
   "nbconvert_exporter": "python",
   "pygments_lexer": "ipython3",
   "version": "3.7.8"
  }
 },
 "nbformat": 4,
 "nbformat_minor": 1
}
