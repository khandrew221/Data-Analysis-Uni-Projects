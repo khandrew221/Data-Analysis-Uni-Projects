{
 "cells": [
  {
   "cell_type": "markdown",
   "metadata": {},
   "source": [
    "# Transaction anomalies"
   ]
  },
  {
   "cell_type": "markdown",
   "metadata": {},
   "source": [
    "In this notebook, we'll change the transaction isolation levels to show the problems which can occur with insufficiently isolated transactions.\n",
    "\n",
    "First, let's run the database setup:"
   ]
  },
  {
   "cell_type": "markdown",
   "metadata": {},
   "source": [
    "## Setting up"
   ]
  },
  {
   "cell_type": "markdown",
   "metadata": {},
   "source": [
    "The next group of cells set up your database connection, and reset the database to a clean state. Check notebook *08.1 Data Definition Language in SQL* if you are unsure what the next cells do.\n",
    "\n",
    "You may need to change the given values of the variables `DB_USER` and `DB_PWD`, depending on which environment you are using"
   ]
  },
  {
   "cell_type": "raw",
   "metadata": {},
   "source": [
    "# If you are using the remote environment, change this cell\n",
    "# type to \"code\", and execute it\n",
    "\n",
    "DB_USER='xxx99'            # Enter your OUCU here (in quotes)\n",
    "DB_PWD='your_password'     # Enter your password here (in quotes)"
   ]
  },
  {
   "cell_type": "raw",
   "metadata": {},
   "source": [
    "# If you are using a locally hosted environment, change this cell\n",
    "# type to \"code\", and execute it\n",
    "\n",
    "DB_USER='tm351'\n",
    "DB_PWD='tm351'"
   ]
  },
  {
   "cell_type": "code",
   "execution_count": null,
   "metadata": {},
   "outputs": [],
   "source": [
    "# Set up the PostgreSQL environment\n",
    "\n",
    "%run sql_init.ipynb\n",
    "print(\"Connecting with connection string : {}\".format(DB_CONNECTION))\n",
    "%sql $DB_CONNECTION"
   ]
  },
  {
   "cell_type": "code",
   "execution_count": null,
   "metadata": {},
   "outputs": [],
   "source": [
    "%run reset_databases.ipynb"
   ]
  },
  {
   "cell_type": "markdown",
   "metadata": {},
   "source": [
    "## When things go wrong"
   ]
  },
  {
   "cell_type": "markdown",
   "metadata": {},
   "source": [
    "As with notebook `12.1 Concurrent Transactions`, in order to carry out this notebook, it is important that you do not have any other notebooks running which might be making their own calls on the database. It is quite likely that you may still have some open database connections from other notebooks. Check the [Jupyter Running](/tree#running) tab to see if any week 11 or week 12 notebooks other than this one are running, and if so, shut them down.\n",
    "\n",
    "At some point, when you're working through this notebook, you will probably end up in a real muddle. \n",
    "\n",
    "Don't despair.\n",
    "\n",
    "If you need to reset the database, first close all the existing connections:"
   ]
  },
  {
   "cell_type": "raw",
   "metadata": {},
   "source": [
    "# To run this cell, need to change it from \"Raw NBConvert\" to \"Code\"\n",
    "\n",
    "paxton.close()\n",
    "gibson.close()\n",
    "tamblin.close()"
   ]
  },
  {
   "cell_type": "markdown",
   "metadata": {},
   "source": [
    "At this point, you should be able to simply rerun the cells in the section **Setting up**, which will call the reset script. However, in a worst case scenario, you can consider resetting your server, as described in the software guide."
   ]
  },
  {
   "cell_type": "markdown",
   "metadata": {},
   "source": [
    "# Concurrent transactions"
   ]
  },
  {
   "cell_type": "markdown",
   "metadata": {},
   "source": [
    "\n",
    "We'll create three connections to the database, to show how transactions work in a concurrent multiuser environment. As with notebook `12.1 Concurrent Transactions`, we will make the connections explicitly using the functions in `psycopg2`, so let's start by importing that:"
   ]
  },
  {
   "cell_type": "code",
   "execution_count": null,
   "metadata": {},
   "outputs": [],
   "source": [
    "import psycopg2 as pg\n",
    "import psycopg2.extensions as pge"
   ]
  },
  {
   "cell_type": "markdown",
   "metadata": {},
   "source": [
    "And as in notebook 12.1, we can define a short function, `transaction_status`, which returns a string describing the transaction status of the given connection:"
   ]
  },
  {
   "cell_type": "code",
   "execution_count": null,
   "metadata": {},
   "outputs": [],
   "source": [
    "def transaction_status(conn):\n",
    "    '''\n",
    "    Return a string showing the transaction status of the\n",
    "    given connection, conn.\n",
    "    '''\n",
    "    transaction_status_dict={\n",
    "        pg.extensions.TRANSACTION_STATUS_IDLE:\"The session is idle and there is no current transaction.\",\n",
    "        pg.extensions.TRANSACTION_STATUS_ACTIVE:\"A command is currently in progress.\",\n",
    "        pg.extensions.TRANSACTION_STATUS_INTRANS:\"The session is idle in a valid transaction block.\",\n",
    "        pg.extensions.TRANSACTION_STATUS_INERROR:\"The session is idle in a failed transaction block.\",\n",
    "        pg.extensions.TRANSACTION_STATUS_UNKNOWN:\"Reported if the connection with the server is bad.\"\n",
    "    }\n",
    "    return transaction_status_dict[conn.get_transaction_status()]\n",
    "    "
   ]
  },
  {
   "cell_type": "markdown",
   "metadata": {},
   "source": [
    "\n",
    "We'll create three connections to the database, to show how transactions work in a concurrent multiuser environment.\n",
    "\n",
    "Because it's very easy to get confused when dealing with several different users (i.e. connections), we'll give the concurrent connection doctor names and pictures. \n",
    "\n",
    "Meet the doctors:"
   ]
  },
  {
   "cell_type": "markdown",
   "metadata": {},
   "source": [
    "### Dr Gibson ![Gibson](images/gibson.png) "
   ]
  },
  {
   "cell_type": "code",
   "execution_count": null,
   "metadata": {},
   "outputs": [],
   "source": [
    "gibson = pg.connect(dbname=DB_USER,     # the name of the database\n",
    "                    host='localhost',   # the host on which the database engine is running\n",
    "                    user=DB_USER,       # id of the user who is logging in\n",
    "                    password=DB_PWD,    # the user's password\n",
    "                    port=5432,          # the port on which the database engine is listening\n",
    "                    options=\"-c search_path=hospital\")  # the schema to use\n",
    "\n",
    "\n",
    "gibson.isolation_level = pge.ISOLATION_LEVEL_SERIALIZABLE\n",
    "\n",
    "gibson.autocommit = False"
   ]
  },
  {
   "cell_type": "markdown",
   "metadata": {},
   "source": [
    "###  Dr Paxton ![Paxton](images/paxton.png)"
   ]
  },
  {
   "cell_type": "code",
   "execution_count": null,
   "metadata": {},
   "outputs": [],
   "source": [
    "paxton = pg.connect(dbname=DB_USER,     # the name of the database\n",
    "                    host='localhost',   # the host on which the database engine is running\n",
    "                    user=DB_USER,       # id of the user who is logging in\n",
    "                    password=DB_PWD,    # the user's password\n",
    "                    port=5432,          # the port on which the database engine is listening\n",
    "                    options=\"-c search_path=hospital\")  # the schema to use\n",
    "\n",
    "\n",
    "paxton.isolation_level = pge.ISOLATION_LEVEL_SERIALIZABLE\n",
    "\n",
    "paxton.autocommit = False "
   ]
  },
  {
   "cell_type": "markdown",
   "metadata": {},
   "source": [
    "### Dr Tamblin ![Tamblin](images/tamblin.png) "
   ]
  },
  {
   "cell_type": "code",
   "execution_count": null,
   "metadata": {},
   "outputs": [],
   "source": [
    "tamblin = pg.connect(dbname=DB_USER,     # the name of the database\n",
    "                     host='localhost',   # the host on which the database engine is running\n",
    "                     user=DB_USER,       # id of the user who is logging in\n",
    "                     password=DB_PWD,    # the user's password\n",
    "                     port=5432,          # the port on which the database engine is listening\n",
    "                     options=\"-c search_path=hospital\")  # the schema to use\n",
    "\n",
    "\n",
    "tamblin.isolation_level = pge.ISOLATION_LEVEL_SERIALIZABLE\n",
    "\n",
    "tamblin.autocommit = False"
   ]
  },
  {
   "cell_type": "markdown",
   "metadata": {},
   "source": [
    "As in notebook 12.1, we have set the `autocommit` flag to `False`. This means that we always need to explicitly tell the transaction to complete with a `commit` statement. Also, we set the isolation level using `pge.ISOLATION_LEVEL_SERIALIZABLE`: this means that both connections have an isolation level of serializable, as described in the opening section of the notebook."
   ]
  },
  {
   "cell_type": "markdown",
   "metadata": {},
   "source": [
    "## Transaction anomaly: Non-repeatable read\n"
   ]
  },
  {
   "cell_type": "markdown",
   "metadata": {},
   "source": [
    "A non-repeatable read occurs when a transaction reads some data, which is then altered by another transaction. If the first transaction re-reads the first record, it will see a different value. This situation might occur if the first transaction is compiling two reports from the same data."
   ]
  },
  {
   "cell_type": "markdown",
   "metadata": {},
   "source": [
    "In this example, you'll see how different transaction isolation levels can give different results."
   ]
  },
  {
   "cell_type": "markdown",
   "metadata": {},
   "source": [
    "![Gibson](images/gibson.png) ![Tamblin](images/tamblin.png) Gibson and Tamblin want to run some reports on the patients. They're both generating the reports at the same time. They both want to see the patient weights, but ordered in two ways: by patient's identifier and by the patient's name. To ensure their reports are consistent, both decide to put both queries in one transaction. "
   ]
  },
  {
   "cell_type": "markdown",
   "metadata": {},
   "source": [
    "To keep things a bit more readable, let's create two strings which hold the queries that the two doctors will execute. This also means we can be sure that they are using exactly the same code:"
   ]
  },
  {
   "cell_type": "code",
   "execution_count": null,
   "metadata": {},
   "outputs": [],
   "source": [
    "# SELECT data on all patients, ordered by patient identifier\n",
    "select_all_patients_by_pid = '''\n",
    "                                SELECT patient_id, patient_name, weight_kg \n",
    "                                FROM patient\n",
    "                                ORDER BY patient_id;\n",
    "                              '''\n",
    "\n",
    "# SELECT data on all patients, ordered by name\n",
    "select_all_patients_by_name = '''\n",
    "                                SELECT patient_id, patient_name, weight_kg \n",
    "                                FROM patient\n",
    "                                ORDER BY patient_name;\n",
    "                              '''"
   ]
  },
  {
   "cell_type": "markdown",
   "metadata": {},
   "source": [
    "![Paxton](images/paxton.png)\n",
    "Unbeknown to them, Paxton is updating some data at the same time.\n",
    "\n",
    "Here's how different transaction isolation levels can keep things consistent, or not."
   ]
  },
  {
   "cell_type": "markdown",
   "metadata": {},
   "source": [
    "We will set the isolation level for Gibson as *read committed*. Section 3.1 of Part 12 tells us that this isolation level will allow a non-repeatable read."
   ]
  },
  {
   "cell_type": "code",
   "execution_count": null,
   "metadata": {},
   "outputs": [],
   "source": [
    "gibson.isolation_level = pge.ISOLATION_LEVEL_READ_COMMITTED"
   ]
  },
  {
   "cell_type": "markdown",
   "metadata": {},
   "source": [
    "We will set the isolation level for Tamblin as *serializable*. This is the strictest isolation level, and should *not* permit non-repeatable reads."
   ]
  },
  {
   "cell_type": "code",
   "execution_count": null,
   "metadata": {},
   "outputs": [],
   "source": [
    "tamblin.isolation_level = pge.ISOLATION_LEVEL_SERIALIZABLE"
   ]
  },
  {
   "cell_type": "markdown",
   "metadata": {},
   "source": [
    "![Gibson](images/gibson.png) \n",
    "\n",
    "**Step 1**: Gibson starts her transaction and runs the first query. Remember, if we directly make a select query on a connection using `pd.read_sql()`, a transaction is begun by default, but not automatically committed (we set \n",
    "`gibson.autocommit = False`) — we need to explictly commit it to close the transaction."
   ]
  },
  {
   "cell_type": "markdown",
   "metadata": {},
   "source": [
    "Gibson puts the results of her query into the dataframe `gibson_df_1`:"
   ]
  },
  {
   "cell_type": "code",
   "execution_count": null,
   "metadata": {
    "scrolled": true
   },
   "outputs": [],
   "source": [
    "gibson_df_1=pd.read_sql_query(select_all_patients_by_pid, gibson)"
   ]
  },
  {
   "cell_type": "markdown",
   "metadata": {},
   "source": [
    "We can preview the first few rows of the table returned by the query, the results from which have been stored in a *pandas* dataframe:"
   ]
  },
  {
   "cell_type": "code",
   "execution_count": null,
   "metadata": {
    "scrolled": true
   },
   "outputs": [],
   "source": [
    "gibson_df_1.head()"
   ]
  },
  {
   "cell_type": "markdown",
   "metadata": {},
   "source": [
    "![Tamblin](images/tamblin.png)**Step 2**: Tamblin starts her transaction and runs the first query.\n",
    "\n",
    "She puts the results of her first query into the dataframe `tamblin_df_1`:"
   ]
  },
  {
   "cell_type": "code",
   "execution_count": null,
   "metadata": {
    "scrolled": true
   },
   "outputs": [],
   "source": [
    "tamblin_df_1=pd.read_sql_query( select_all_patients_by_pid, tamblin)"
   ]
  },
  {
   "cell_type": "markdown",
   "metadata": {},
   "source": [
    "We can see (the first few rows of) the table returned by the query, which has been stored in the dataframe:"
   ]
  },
  {
   "cell_type": "code",
   "execution_count": null,
   "metadata": {},
   "outputs": [],
   "source": [
    "tamblin_df_1.head()"
   ]
  },
  {
   "cell_type": "markdown",
   "metadata": {},
   "source": [
    "Note that Gibson's and Tamblin's connections are still part of ongoing transactions:"
   ]
  },
  {
   "cell_type": "code",
   "execution_count": null,
   "metadata": {},
   "outputs": [],
   "source": [
    "print(f\"{'Gibson'} : {transaction_status(gibson)}\")\n",
    "print(f\"{'Paxton'} : {transaction_status(paxton)}\")\n",
    "print(f\"{'Tamblin'} : {transaction_status(tamblin)}\")"
   ]
  },
  {
   "cell_type": "markdown",
   "metadata": {},
   "source": [
    "![Paxton](images/paxton.png) **Step 3**: Now Paxton weighs the patient Thornton with id `p001` and updates the record to 75kg. "
   ]
  },
  {
   "cell_type": "code",
   "execution_count": null,
   "metadata": {},
   "outputs": [],
   "source": [
    "with paxton.cursor() as paxton_curson:\n",
    "    paxton_curson.execute(\"BEGIN;\")\n",
    "    \n",
    "    paxton_curson.execute('''\n",
    "        UPDATE patient\n",
    "        SET weight_kg = 75.0\n",
    "            WHERE patient_id = 'p001';\n",
    "        ''')"
   ]
  },
  {
   "cell_type": "markdown",
   "metadata": {},
   "source": [
    "Paxton can see the changed weight in the database:"
   ]
  },
  {
   "cell_type": "code",
   "execution_count": null,
   "metadata": {},
   "outputs": [],
   "source": [
    "pd.read_sql_query('''\n",
    "                SELECT patient_id, patient_name, weight_kg\n",
    "                FROM patient\n",
    "                WHERE patient_id='p001';\n",
    "                ''', paxton)"
   ]
  },
  {
   "cell_type": "markdown",
   "metadata": {},
   "source": [
    "**Step 4**: Paxton commits his work, completing his transaction."
   ]
  },
  {
   "cell_type": "code",
   "execution_count": null,
   "metadata": {},
   "outputs": [],
   "source": [
    "paxton.commit()"
   ]
  },
  {
   "cell_type": "markdown",
   "metadata": {},
   "source": [
    "![Gibson](images/gibson.png) **Step 5**: Gibson now runs the second query for her report, storing the result in the dataframe `gibson_df_2`."
   ]
  },
  {
   "cell_type": "code",
   "execution_count": null,
   "metadata": {
    "scrolled": true
   },
   "outputs": [],
   "source": [
    "gibson_df_2=pd.read_sql_query(select_all_patients_by_name, gibson)"
   ]
  },
  {
   "cell_type": "markdown",
   "metadata": {},
   "source": [
    "We can see (the first few rows of) the table returned by the query, which has been stored in the dataframe:"
   ]
  },
  {
   "cell_type": "code",
   "execution_count": null,
   "metadata": {},
   "outputs": [],
   "source": [
    "gibson_df_2.head()"
   ]
  },
  {
   "cell_type": "markdown",
   "metadata": {},
   "source": [
    "![Tamblin](images/tamblin.png) **Step 6**: Tamblin also runs the second query for her report, storing the result in the dataframe `tamblin_df_2`."
   ]
  },
  {
   "cell_type": "code",
   "execution_count": null,
   "metadata": {
    "scrolled": true
   },
   "outputs": [],
   "source": [
    "tamblin_df_2=pd.read_sql_query( select_all_patients_by_name , tamblin)"
   ]
  },
  {
   "cell_type": "markdown",
   "metadata": {},
   "source": [
    "We can see (the first few rows of) the table returned by the query, which has been stored in the dataframe:"
   ]
  },
  {
   "cell_type": "code",
   "execution_count": null,
   "metadata": {},
   "outputs": [],
   "source": [
    "tamblin_df_2.head()"
   ]
  },
  {
   "cell_type": "markdown",
   "metadata": {},
   "source": [
    "**Step 6**: Finally, both Gibson and Tamblin commit their (read only) work, completing their transactions;"
   ]
  },
  {
   "cell_type": "code",
   "execution_count": null,
   "metadata": {},
   "outputs": [],
   "source": [
    "gibson.commit()\n",
    "tamblin.commit()"
   ]
  },
  {
   "cell_type": "markdown",
   "metadata": {},
   "source": [
    "We now have the results of four queries: one for each of Gibson and Tamblin taken before Paxton's update, and one for each of Gibson and Tamblin taken after Paxton's update. Do they contain the same data? As a check, we will look at the average weight of the patients in each of the four returned tables:"
   ]
  },
  {
   "cell_type": "code",
   "execution_count": null,
   "metadata": {},
   "outputs": [],
   "source": [
    "gibson_df_1['weight_kg'].mean()"
   ]
  },
  {
   "cell_type": "code",
   "execution_count": null,
   "metadata": {},
   "outputs": [],
   "source": [
    "tamblin_df_1['weight_kg'].mean()"
   ]
  },
  {
   "cell_type": "code",
   "execution_count": null,
   "metadata": {},
   "outputs": [],
   "source": [
    "gibson_df_2['weight_kg'].mean()"
   ]
  },
  {
   "cell_type": "code",
   "execution_count": null,
   "metadata": {},
   "outputs": [],
   "source": [
    "tamblin_df_2['weight_kg'].mean()"
   ]
  },
  {
   "cell_type": "markdown",
   "metadata": {},
   "source": [
    "We can see that something has gone wrong here. Tamblin's tables both contain the same average weight for the patients, but Gibson's second table (constructed after Paxton's update) contains a different average weight."
   ]
  },
  {
   "cell_type": "markdown",
   "metadata": {},
   "source": [
    "This is what happened.\n",
    "\n",
    "![Nonrepeatable read](images/12.2.1.png)"
   ]
  },
  {
   "cell_type": "markdown",
   "metadata": {},
   "source": [
    "![Tamblin](images/tamblin.png) Because Tamblin was using a **high** transaction isolation level, she saw a consistent view of the database for both queries in the same transaction: all her reads are from a version of the database when her transaction started. She doesn't see Paxton's update, but her view of the database is consistent with her report completing before Paxton's update started."
   ]
  },
  {
   "cell_type": "markdown",
   "metadata": {},
   "source": [
    "We can look at the values for patient `p001` in each of the two dataframes:"
   ]
  },
  {
   "cell_type": "code",
   "execution_count": null,
   "metadata": {},
   "outputs": [],
   "source": [
    "tamblin_df_1[tamblin_df_1['patient_id']=='p001']"
   ]
  },
  {
   "cell_type": "code",
   "execution_count": null,
   "metadata": {},
   "outputs": [],
   "source": [
    "tamblin_df_2[tamblin_df_2['patient_id']=='p001']"
   ]
  },
  {
   "cell_type": "markdown",
   "metadata": {},
   "source": [
    "For Tamblin with the `SERIALIZABLE` isolation level, the two dataframes contain the same value."
   ]
  },
  {
   "cell_type": "markdown",
   "metadata": {},
   "source": [
    "![Gibson](images/gibson.png) Because Gibson was using a **low** transaction isolation level, her view of the database changed _during_ her transaction in response to Paxton's update. Her reads reflect the state of the database at the time of the read, not the time of the transaction starting."
   ]
  },
  {
   "cell_type": "code",
   "execution_count": null,
   "metadata": {},
   "outputs": [],
   "source": [
    "gibson_df_1[gibson_df_1['patient_id']=='p001']"
   ]
  },
  {
   "cell_type": "code",
   "execution_count": null,
   "metadata": {},
   "outputs": [],
   "source": [
    "gibson_df_2[gibson_df_2['patient_id']=='p001']"
   ]
  },
  {
   "cell_type": "markdown",
   "metadata": {},
   "source": [
    "For Gibson with the `READ COMMITTED` isolation level, the two dataframes contain different values from before and after Paxton's update."
   ]
  },
  {
   "cell_type": "markdown",
   "metadata": {
    "activity": true
   },
   "source": [
    "### Activity 1"
   ]
  },
  {
   "cell_type": "markdown",
   "metadata": {
    "activity": true
   },
   "source": [
    "Before carrying out this activity, complete any ongoing transactions with `commit`:"
   ]
  },
  {
   "cell_type": "code",
   "execution_count": null,
   "metadata": {
    "activity": true
   },
   "outputs": [],
   "source": [
    "paxton.commit()\n",
    "tamblin.commit()\n",
    "gibson.commit()"
   ]
  },
  {
   "cell_type": "markdown",
   "metadata": {
    "activity": true
   },
   "source": [
    "and reset the weight value for patient `p001` with Paxton's connection:"
   ]
  },
  {
   "cell_type": "code",
   "execution_count": null,
   "metadata": {
    "activity": true
   },
   "outputs": [],
   "source": [
    "with paxton.cursor() as paxton_curson:\n",
    "    paxton_curson.execute(\"BEGIN;\")\n",
    "    \n",
    "    paxton_curson.execute('''\n",
    "        UPDATE patient\n",
    "        SET weight_kg = 75.0\n",
    "            WHERE patient_id = 'p001';\n",
    "        ''')\n",
    "\n",
    "paxton.commit()"
   ]
  },
  {
   "cell_type": "markdown",
   "metadata": {
    "activity": true
   },
   "source": [
    "According to section 3.1 of Part 12, the `REPEATABLE READ` isolation level should prevent this non-repeatable read anomaly. Does it?\n",
    "\n",
    "Repeat the steps above, but with `gibson` at the `REPEATABLE READ` isolation level."
   ]
  },
  {
   "cell_type": "code",
   "execution_count": null,
   "metadata": {
    "activity": true
   },
   "outputs": [],
   "source": [
    "gibson.isolation_level = pge.ISOLATION_LEVEL_REPEATABLE_READ\n",
    "tamblin.isolation_level = pge.ISOLATION_LEVEL_SERIALIZABLE"
   ]
  },
  {
   "cell_type": "markdown",
   "metadata": {
    "activity": true
   },
   "source": [
    "As with the exercise above, you will need several cells to move each of the three doctors through their transactions."
   ]
  },
  {
   "cell_type": "code",
   "execution_count": null,
   "metadata": {
    "student": true
   },
   "outputs": [],
   "source": [
    "# Write your code in this cell (adding more if necessary)"
   ]
  },
  {
   "cell_type": "markdown",
   "metadata": {
    "activity": true,
    "heading_collapsed": true
   },
   "source": [
    "#### Our solution\n",
    "\n",
    "To reveal our solution, click on the triangle symbol on the left-hand end of this cell."
   ]
  },
  {
   "cell_type": "markdown",
   "metadata": {
    "activity": true,
    "hidden": true
   },
   "source": [
    "Most of this task can be completed by just cutting and pasting the appropriate earlier cells in the notebook:"
   ]
  },
  {
   "cell_type": "markdown",
   "metadata": {
    "activity": true,
    "hidden": true
   },
   "source": [
    "![Gibson](images/gibson.png) \n",
    "\n",
    "**Step 1**: Gibson starts her transaction and runs the first query."
   ]
  },
  {
   "cell_type": "code",
   "execution_count": null,
   "metadata": {
    "activity": true,
    "hidden": true,
    "scrolled": true
   },
   "outputs": [],
   "source": [
    "gibson_df_1=pd.read_sql_query(select_all_patients_by_pid, gibson)"
   ]
  },
  {
   "cell_type": "markdown",
   "metadata": {
    "activity": true,
    "hidden": true
   },
   "source": [
    "We can see (the first few rows of) the table returned by the query, which has been stored in the dataframe:"
   ]
  },
  {
   "cell_type": "code",
   "execution_count": null,
   "metadata": {
    "activity": true,
    "hidden": true,
    "scrolled": true
   },
   "outputs": [],
   "source": [
    "gibson_df_1.head()"
   ]
  },
  {
   "cell_type": "markdown",
   "metadata": {
    "activity": true,
    "hidden": true
   },
   "source": [
    "![Tamblin](images/tamblin.png)**Step 2**: Tamblin starts her transaction and runs the first query."
   ]
  },
  {
   "cell_type": "code",
   "execution_count": null,
   "metadata": {
    "activity": true,
    "hidden": true,
    "scrolled": true
   },
   "outputs": [],
   "source": [
    "tamblin_df_1=pd.read_sql_query(select_all_patients_by_pid, tamblin)"
   ]
  },
  {
   "cell_type": "markdown",
   "metadata": {
    "activity": true,
    "hidden": true
   },
   "source": [
    "We can see (the first few rows of) the table returned by the query, which has been stored in the dataframe:"
   ]
  },
  {
   "cell_type": "code",
   "execution_count": null,
   "metadata": {
    "activity": true,
    "hidden": true
   },
   "outputs": [],
   "source": [
    "tamblin_df_1.head()"
   ]
  },
  {
   "cell_type": "markdown",
   "metadata": {
    "activity": true,
    "hidden": true
   },
   "source": [
    "Note that Gibson's and Tamblin's connections are still part of ongoing transactions:"
   ]
  },
  {
   "cell_type": "code",
   "execution_count": null,
   "metadata": {
    "activity": true,
    "hidden": true
   },
   "outputs": [],
   "source": [
    "print('Gibson:',transaction_status(gibson))\n",
    "print('Paxton:',transaction_status(paxton))\n",
    "print('Tamblin:',transaction_status(tamblin))"
   ]
  },
  {
   "cell_type": "markdown",
   "metadata": {
    "activity": true,
    "hidden": true
   },
   "source": [
    "![Paxton](images/paxton.png) **Step 3**: Paxton weighs the patient with id `p001` and updates the record to 75kg. "
   ]
  },
  {
   "cell_type": "code",
   "execution_count": null,
   "metadata": {
    "activity": true,
    "hidden": true
   },
   "outputs": [],
   "source": [
    "with paxton.cursor() as paxton_curson:\n",
    "    paxton_curson.execute(\"BEGIN;\")\n",
    "    \n",
    "    paxton_curson.execute('''\n",
    "        UPDATE patient\n",
    "        SET weight_kg = 75.0\n",
    "            WHERE patient_id = 'p001';\n",
    "        ''')"
   ]
  },
  {
   "cell_type": "markdown",
   "metadata": {
    "activity": true,
    "hidden": true
   },
   "source": [
    "Paxton can see the changed weight in the database:"
   ]
  },
  {
   "cell_type": "code",
   "execution_count": null,
   "metadata": {
    "activity": true,
    "hidden": true
   },
   "outputs": [],
   "source": [
    "pd.read_sql_query('''\n",
    "                SELECT patient_id, patient_name, weight_kg\n",
    "                FROM patient\n",
    "                WHERE patient_id='p001';\n",
    "                ''', paxton)"
   ]
  },
  {
   "cell_type": "markdown",
   "metadata": {
    "activity": true,
    "hidden": true
   },
   "source": [
    "**Step 4**: Paxton commits his work, completing his transaction."
   ]
  },
  {
   "cell_type": "code",
   "execution_count": null,
   "metadata": {
    "activity": true,
    "hidden": true
   },
   "outputs": [],
   "source": [
    "paxton.commit()"
   ]
  },
  {
   "cell_type": "markdown",
   "metadata": {
    "activity": true,
    "hidden": true
   },
   "source": [
    "![Gibson](images/gibson.png) **Step 5**: The second query for Gibson's report now runs."
   ]
  },
  {
   "cell_type": "code",
   "execution_count": null,
   "metadata": {
    "activity": true,
    "hidden": true,
    "scrolled": true
   },
   "outputs": [],
   "source": [
    "gibson_df_2=pd.read_sql_query( select_all_patients_by_name, gibson)"
   ]
  },
  {
   "cell_type": "markdown",
   "metadata": {
    "activity": true,
    "hidden": true
   },
   "source": [
    "We can see (the first few rows of) the table returned by the query, which has been stored in the dataframe:"
   ]
  },
  {
   "cell_type": "code",
   "execution_count": null,
   "metadata": {
    "activity": true,
    "hidden": true
   },
   "outputs": [],
   "source": [
    "gibson_df_2.head()"
   ]
  },
  {
   "cell_type": "markdown",
   "metadata": {
    "activity": true,
    "hidden": true
   },
   "source": [
    "![Tamblin](images/tamblin.png) **Step 6**: The second query for Tamblin's report also runs:"
   ]
  },
  {
   "cell_type": "code",
   "execution_count": null,
   "metadata": {
    "activity": true,
    "hidden": true,
    "scrolled": true
   },
   "outputs": [],
   "source": [
    "tamblin_df_2=pd.read_sql_query(select_all_patients_by_name, tamblin)"
   ]
  },
  {
   "cell_type": "markdown",
   "metadata": {
    "activity": true,
    "hidden": true
   },
   "source": [
    "We can see (the first few rows of) the table returned by the query, which has been stored in the dataframe:"
   ]
  },
  {
   "cell_type": "code",
   "execution_count": null,
   "metadata": {
    "activity": true,
    "hidden": true
   },
   "outputs": [],
   "source": [
    "tamblin_df_2.head()"
   ]
  },
  {
   "cell_type": "markdown",
   "metadata": {
    "activity": true,
    "hidden": true
   },
   "source": [
    "**Step 6**: Finally, both Gibson and Tamblin commit their work, completing their transactions;"
   ]
  },
  {
   "cell_type": "code",
   "execution_count": null,
   "metadata": {
    "activity": true,
    "hidden": true
   },
   "outputs": [],
   "source": [
    "gibson.commit()\n",
    "tamblin.commit()"
   ]
  },
  {
   "cell_type": "markdown",
   "metadata": {
    "activity": true,
    "hidden": true
   },
   "source": [
    "We now have the results of four queries: one for each of Gibson and Tamblin taken before Paxton's update, and one for each of Gibson and Tamblin taken after Paxton's update. Do they contain the same data? As a check, we will look at the average weight of the patients in each of the four returned tables:"
   ]
  },
  {
   "cell_type": "code",
   "execution_count": null,
   "metadata": {
    "activity": true,
    "hidden": true
   },
   "outputs": [],
   "source": [
    "gibson_df_1['weight_kg'].mean()"
   ]
  },
  {
   "cell_type": "code",
   "execution_count": null,
   "metadata": {
    "activity": true,
    "hidden": true
   },
   "outputs": [],
   "source": [
    "tamblin_df_1['weight_kg'].mean()"
   ]
  },
  {
   "cell_type": "code",
   "execution_count": null,
   "metadata": {
    "activity": true,
    "hidden": true
   },
   "outputs": [],
   "source": [
    "gibson_df_2['weight_kg'].mean()"
   ]
  },
  {
   "cell_type": "code",
   "execution_count": null,
   "metadata": {
    "activity": true,
    "hidden": true
   },
   "outputs": [],
   "source": [
    "tamblin_df_2['weight_kg'].mean()"
   ]
  },
  {
   "cell_type": "markdown",
   "metadata": {
    "activity": true,
    "hidden": true
   },
   "source": [
    "In this case, all the tables should contain the same values for the average weight."
   ]
  },
  {
   "cell_type": "markdown",
   "metadata": {
    "activity": true,
    "hidden": true
   },
   "source": [
    "Again, we can look at the values for patient `p001` in each of the two dataframes for Tamblin's queries:"
   ]
  },
  {
   "cell_type": "code",
   "execution_count": null,
   "metadata": {
    "activity": true,
    "hidden": true
   },
   "outputs": [],
   "source": [
    "tamblin_df_1[tamblin_df_1['patient_id']=='p001']"
   ]
  },
  {
   "cell_type": "code",
   "execution_count": null,
   "metadata": {
    "activity": true,
    "hidden": true
   },
   "outputs": [],
   "source": [
    "tamblin_df_2[tamblin_df_2['patient_id']=='p001']"
   ]
  },
  {
   "cell_type": "markdown",
   "metadata": {
    "activity": true,
    "hidden": true
   },
   "source": [
    "For Tamblin with the `SERIALIZABLE` isolation level, the two dataframes contain the same value."
   ]
  },
  {
   "cell_type": "markdown",
   "metadata": {
    "activity": true,
    "hidden": true
   },
   "source": [
    "And similarly for Gibson's dataframes:"
   ]
  },
  {
   "cell_type": "code",
   "execution_count": null,
   "metadata": {
    "activity": true,
    "hidden": true
   },
   "outputs": [],
   "source": [
    "gibson_df_1[gibson_df_1['patient_id']=='p001']"
   ]
  },
  {
   "cell_type": "code",
   "execution_count": null,
   "metadata": {
    "activity": true,
    "hidden": true
   },
   "outputs": [],
   "source": [
    "gibson_df_2[gibson_df_2['patient_id']=='p001']"
   ]
  },
  {
   "cell_type": "markdown",
   "metadata": {
    "activity": true,
    "hidden": true
   },
   "source": [
    "For Gibson, the `REPEATABLE READ` isolation level has prevented the nonrepeatable read anomaly."
   ]
  },
  {
   "cell_type": "markdown",
   "metadata": {
    "activity": true
   },
   "source": [
    "#### End of Activity 1"
   ]
  },
  {
   "cell_type": "markdown",
   "metadata": {},
   "source": [
    "-------------------------------------------------------"
   ]
  },
  {
   "cell_type": "markdown",
   "metadata": {},
   "source": [
    "## Transaction anomaly: Phantom read"
   ]
  },
  {
   "cell_type": "markdown",
   "metadata": {},
   "source": [
    "A *phantom read* occurs when another transaction adds (or removes) a whole new row to a database table."
   ]
  },
  {
   "cell_type": "markdown",
   "metadata": {},
   "source": [
    "This time, Drs Gibson and Paxton are running the \"weights of my patients\" report, again generating two tables in the report (one ordered by ID, one by name). In this case, the reports are only required to contain the data for those patients in the care of the doctor generating the report.\n",
    "\n",
    "Unfortunately, during the compilation of the reports, Dr Tamblin reallocates two of Dr Rampton's patients. The patient with id `p068` is moved to Gibson's (`d06`) care, and the patient with id `p071`, moves to Paxton (`d07`)."
   ]
  },
  {
   "cell_type": "markdown",
   "metadata": {},
   "source": [
    "To see the problems that might occur, we will reset Gibson to a `READ COMMITTED` isolation level while Paxton has a `SERIALIZABLE` isolation level."
   ]
  },
  {
   "cell_type": "code",
   "execution_count": null,
   "metadata": {},
   "outputs": [],
   "source": [
    "gibson.isolation_level = pge.ISOLATION_LEVEL_READ_COMMITTED\n",
    "tamblin.isolation_level = pge.ISOLATION_LEVEL_SERIALIZABLE"
   ]
  },
  {
   "cell_type": "markdown",
   "metadata": {},
   "source": [
    "![Gibson](images/gibson.png) **Step 1**: Gibson (`d06`) starts her transaction and runs the first query, collecting the weights of patients who are in her own care. As before, she stores the results of the transaction in the dataframe `gibson_df_1`."
   ]
  },
  {
   "cell_type": "code",
   "execution_count": null,
   "metadata": {
    "scrolled": true
   },
   "outputs": [],
   "source": [
    "gibson_df_1=pd.read_sql_query('''\n",
    "                SELECT patient_id, patient_name, weight_kg\n",
    "                FROM patient\n",
    "                WHERE doctor_id = 'd06';\n",
    "                ''', gibson)\n",
    "\n",
    "gibson_df_1.head()"
   ]
  },
  {
   "cell_type": "markdown",
   "metadata": {},
   "source": [
    "![Paxton](images/paxton.png) **Step 2**: Paxton (`d07`) also starts his transaction and runs his first query, storing the result in the dataframe `paxton_df_1`."
   ]
  },
  {
   "cell_type": "code",
   "execution_count": null,
   "metadata": {
    "scrolled": true
   },
   "outputs": [],
   "source": [
    "paxton_df_1=pd.read_sql_query('''\n",
    "                SELECT patient_id, patient_name, weight_kg\n",
    "                FROM patient\n",
    "                WHERE doctor_id = 'd07';\n",
    "                ''', paxton)\n",
    "paxton_df_1.head()"
   ]
  },
  {
   "cell_type": "markdown",
   "metadata": {},
   "source": [
    "![Tamblin](images/tamblin.png) **Step 3**: Tamblin reallocates patient `p068` to Gibson (`d06`), and patient `p071` to Paxton (`d07`)."
   ]
  },
  {
   "cell_type": "code",
   "execution_count": null,
   "metadata": {},
   "outputs": [],
   "source": [
    "with tamblin.cursor() as tamblin_cursor:\n",
    "    \n",
    "    tamblin_cursor.execute(\"BEGIN;\")\n",
    "    \n",
    "    tamblin_cursor.execute('''\n",
    "                    UPDATE patient \n",
    "                    SET doctor_id = 'd06' \n",
    "                        WHERE patient_id = 'p068';\n",
    "                    ''')\n",
    "    \n",
    "    tamblin_cursor.execute('''\n",
    "                    UPDATE patient \n",
    "                    SET doctor_id = 'd07' \n",
    "                        WHERE patient_id = 'p071';\n",
    "                    ''')\n"
   ]
  },
  {
   "cell_type": "markdown",
   "metadata": {},
   "source": [
    "**Step 4**: Tamblin commits the change, completing that transaction:"
   ]
  },
  {
   "cell_type": "code",
   "execution_count": null,
   "metadata": {},
   "outputs": [],
   "source": [
    "tamblin.commit()"
   ]
  },
  {
   "cell_type": "markdown",
   "metadata": {},
   "source": [
    "Note that Gibson and Paxton's connections are still involved in the ongoing transactions:"
   ]
  },
  {
   "cell_type": "code",
   "execution_count": null,
   "metadata": {},
   "outputs": [],
   "source": [
    "print(f\"{'Gibson'} : {transaction_status(gibson)}\")\n",
    "print(f\"{'Paxton'} : {transaction_status(paxton)}\")\n",
    "print(f\"{'Tamblin'} : {transaction_status(tamblin)}\")"
   ]
  },
  {
   "cell_type": "markdown",
   "metadata": {},
   "source": [
    "![Gibson](images/gibson.png) **Step 5**: Gibson now runs the second query for her report, storing the result in the dataframe `gibson_df_2`."
   ]
  },
  {
   "cell_type": "code",
   "execution_count": null,
   "metadata": {
    "scrolled": true
   },
   "outputs": [],
   "source": [
    "gibson_df_2=pd.read_sql_query('''\n",
    "                SELECT patient_id, patient_name, weight_kg \n",
    "                FROM patient\n",
    "                WHERE doctor_id = 'd06'\n",
    "                ORDER BY patient_name;\n",
    "                ''', gibson)\n",
    "\n",
    "gibson_df_2.head()"
   ]
  },
  {
   "cell_type": "markdown",
   "metadata": {},
   "source": [
    "![Paxton](images/paxton.png) **Step 6**: Paxton also runs the second query for his report, storing the result in `paxton_df_2`."
   ]
  },
  {
   "cell_type": "code",
   "execution_count": null,
   "metadata": {
    "scrolled": true
   },
   "outputs": [],
   "source": [
    "paxton_df_2=pd.read_sql_query('''\n",
    "                SELECT patient_id, patient_name, weight_kg\n",
    "                FROM patient\n",
    "                WHERE doctor_id = 'd07'\n",
    "                ORDER BY patient_name;\n",
    "                ''', paxton)\n",
    "\n",
    "paxton_df_2.head()"
   ]
  },
  {
   "cell_type": "markdown",
   "metadata": {},
   "source": [
    "**Step 7**: Paxton's and Gibson's changes are committed, completing their transactions."
   ]
  },
  {
   "cell_type": "code",
   "execution_count": null,
   "metadata": {},
   "outputs": [],
   "source": [
    "gibson.commit()\n",
    "paxton.commit()"
   ]
  },
  {
   "cell_type": "markdown",
   "metadata": {},
   "source": [
    "How did they do? What are the average weights of patients in the results of all four queries?"
   ]
  },
  {
   "cell_type": "code",
   "execution_count": null,
   "metadata": {},
   "outputs": [],
   "source": [
    "gibson_df_1['weight_kg'].mean()"
   ]
  },
  {
   "cell_type": "code",
   "execution_count": null,
   "metadata": {},
   "outputs": [],
   "source": [
    "paxton_df_2['weight_kg'].mean()"
   ]
  },
  {
   "cell_type": "code",
   "execution_count": null,
   "metadata": {},
   "outputs": [],
   "source": [
    "gibson_df_2['weight_kg'].mean()"
   ]
  },
  {
   "cell_type": "code",
   "execution_count": null,
   "metadata": {},
   "outputs": [],
   "source": [
    "paxton_df_2['weight_kg'].mean()"
   ]
  },
  {
   "cell_type": "markdown",
   "metadata": {},
   "source": [
    "Again, things aren't right. In this case, Gibson, with the `READ COMMITTED` isolation level, has ended up with different values in the tables.\n",
    "\n",
    "![Phantom reads](images/12.2.2.png)\n",
    "\n",
    "(In the diagram, the numbers refer to the count of patients for each doctor.)"
   ]
  },
  {
   "cell_type": "markdown",
   "metadata": {},
   "source": [
    "![Paxton](images/paxton.png) Because Paxton was using a **high** transaction isolation level, he saw a consistent view of the database for both queries in the same transaction: all his reads are from the state of the database when his transaction started. He doesn't see Tamblin's update, but his view of the database is consistent with his report completing before Tamblin's update started."
   ]
  },
  {
   "cell_type": "markdown",
   "metadata": {},
   "source": [
    "![Gibson](images/gibson.png) Because Gibson was using a **low** transaction isolation level, her view of the database changed _during_ her transaction in response to Tamblin's update. As in the previous example, her reads reflect the state of the database at the time of the read, not the time her transaction started."
   ]
  },
  {
   "cell_type": "markdown",
   "metadata": {},
   "source": [
    "# Serialisation anomaly\n"
   ]
  },
  {
   "cell_type": "markdown",
   "metadata": {},
   "source": [
    "A serialisation anomaly can occur when a transaction reads two or more records, but one at a time. In the time between reading the first and second record, some other transaction alters the first. The connection between the records reported by transaction A was never true in the database."
   ]
  },
  {
   "cell_type": "markdown",
   "metadata": {},
   "source": [
    "### Cleanup previous updates"
   ]
  },
  {
   "cell_type": "markdown",
   "metadata": {},
   "source": [
    "Before starting the next example, we shall reset the database, and create fresh connections:"
   ]
  },
  {
   "cell_type": "code",
   "execution_count": null,
   "metadata": {},
   "outputs": [],
   "source": [
    "paxton.close()\n",
    "gibson.close()\n",
    "tamblin.close()"
   ]
  },
  {
   "cell_type": "code",
   "execution_count": null,
   "metadata": {},
   "outputs": [],
   "source": [
    "%run reset_databases.ipynb"
   ]
  },
  {
   "cell_type": "code",
   "execution_count": null,
   "metadata": {},
   "outputs": [],
   "source": [
    "paxton = pg.connect(dbname=DB_USER,     # the name of the database\n",
    "                    host='localhost',   # the host on which the database engine is running\n",
    "                    user=DB_USER,       # id of the user who is logging in\n",
    "                    password=DB_PWD,    # the user's password\n",
    "                    port=5432,          # the port on which the database engine is listening\n",
    "                    options=\"-c search_path=hospital\")  # the schema to use\n",
    "\n",
    "paxton.isolation_level = pge.ISOLATION_LEVEL_SERIALIZABLE\n",
    "\n",
    "paxton.autocommit = False"
   ]
  },
  {
   "cell_type": "code",
   "execution_count": null,
   "metadata": {},
   "outputs": [],
   "source": [
    "gibson = pg.connect(dbname=DB_USER,     # the name of the database\n",
    "                    host='localhost',   # the host on which the database engine is running\n",
    "                    user=DB_USER,       # id of the user who is logging in\n",
    "                    password=DB_PWD,    # the user's password\n",
    "                    port=5432,          # the port on which the database engine is listening\n",
    "                    options=\"-c search_path=hospital\")  # the schema to use\n",
    "\n",
    "gibson.isolation_level = pge.ISOLATION_LEVEL_SERIALIZABLE\n",
    "\n",
    "gibson.autocommit = False"
   ]
  },
  {
   "cell_type": "code",
   "execution_count": null,
   "metadata": {},
   "outputs": [],
   "source": [
    "tamblin = pg.connect(dbname=DB_USER,     # the name of the database\n",
    "                     host='localhost',   # the host on which the database engine is running\n",
    "                     user=DB_USER,       # id of the user who is logging in\n",
    "                     password=DB_PWD,    # the user's password\n",
    "                     port=5432,          # the port on which the database engine is listening\n",
    "                     options=\"-c search_path=hospital\")  # the schema to use\n",
    "\n",
    "tamblin.isolation_level = pge.ISOLATION_LEVEL_SERIALIZABLE\n",
    "\n",
    "tamblin.autocommit = False"
   ]
  },
  {
   "cell_type": "markdown",
   "metadata": {},
   "source": [
    "## The task"
   ]
  },
  {
   "cell_type": "markdown",
   "metadata": {},
   "source": [
    "\n",
    "Not every doctor has patients. We can see which doctors do not have patients with a query from Gibson's connection:"
   ]
  },
  {
   "cell_type": "code",
   "execution_count": null,
   "metadata": {},
   "outputs": [],
   "source": [
    "pd.read_sql_query('''\n",
    "    SELECT doctor.doctor_id, doctor_name, COUNT(patient_id) AS number_of_patients\n",
    "    FROM doctor LEFT OUTER JOIN patient \n",
    "         ON doctor.doctor_id = patient.doctor_id\n",
    "    GROUP BY doctor.doctor_id, doctor_name\n",
    "    ''', gibson)"
   ]
  },
  {
   "cell_type": "markdown",
   "metadata": {},
   "source": [
    "(By using a `LEFT OUTER JOIN` here, we include the count for the doctor `Tamblin`, even though that doctor has no associated patients.)"
   ]
  },
  {
   "cell_type": "code",
   "execution_count": null,
   "metadata": {},
   "outputs": [],
   "source": [
    "# Commit to complete gibson's transaction \n",
    "gibson.commit()"
   ]
  },
  {
   "cell_type": "markdown",
   "metadata": {},
   "source": [
    "An edict comes from on high saying that every doctor must have at least one patient. Drs Gibson (`d06`) and Paxton (`d07`), feeling hard done by, each decide to donate one of their patients to Dr Tamblin (`d09`). \n",
    "\n",
    "However, it's a race to see who can allocate a patient first: if both Gibson _and_ Paxton give a patient to Tamblin, Tamblin will have two patients and she'll be upset with the vast increase in caseload. \n",
    "\n",
    "Therefore, each of Gibson and Paxton will follow the same logic:\n",
    "\n",
    "1. begin transaction\n",
    "2. if Tamblin has no patients:\n",
    "  1. find my patient with the lowest `patient_id`\n",
    "  2. allocate that patient to Tamblin\n",
    "\n",
    "Gibson and Paxton start at about the same time, so their transactions overlap: both count how many patients Tamblin has before either reallocates patients. Note that at no point are Gibson or Paxton modifying the same patient in the database, or even the same set of patients in the database. \n",
    "\n",
    "What will happen?"
   ]
  },
  {
   "cell_type": "markdown",
   "metadata": {},
   "source": [
    "## Repeatable read isolation\n",
    "We start by putting both Gibson and Paxton at the `REPEATABLE READ` isolation level which (according to the documentation) should allow serialisation anomalies. In this case the anomaly is a _write skew_."
   ]
  },
  {
   "cell_type": "code",
   "execution_count": null,
   "metadata": {},
   "outputs": [],
   "source": [
    "gibson.isolation_level = pge.ISOLATION_LEVEL_REPEATABLE_READ\n",
    "paxton.isolation_level = pge.ISOLATION_LEVEL_REPEATABLE_READ"
   ]
  },
  {
   "cell_type": "markdown",
   "metadata": {},
   "source": [
    "**Step 1**: Gibson starts a transaction and sees that Tamblin has no patients."
   ]
  },
  {
   "cell_type": "code",
   "execution_count": null,
   "metadata": {},
   "outputs": [],
   "source": [
    "gibson_count_df=pd.read_sql_query('''\n",
    "                        SELECT doctor.doctor_id, doctor_name, \n",
    "                               COUNT(patient_id) AS number_of_patients\n",
    "                        FROM doctor LEFT OUTER JOIN patient \n",
    "                             ON doctor.doctor_id = patient.doctor_id\n",
    "                        GROUP BY doctor.doctor_id, doctor_name;\n",
    "                        ''', gibson)\n",
    "gibson_count_df"
   ]
  },
  {
   "cell_type": "markdown",
   "metadata": {},
   "source": [
    "**Step 2**: Paxton also starts a transaction and sees that Tamblin has no patients."
   ]
  },
  {
   "cell_type": "code",
   "execution_count": null,
   "metadata": {},
   "outputs": [],
   "source": [
    "paxton_count_df=pd.read_sql_query('''\n",
    "                        SELECT doctor.doctor_id, doctor_name, \n",
    "                               COUNT(patient_id) AS number_of_patients\n",
    "                        FROM doctor LEFT OUTER JOIN patient \n",
    "                             ON doctor.doctor_id = patient.doctor_id\n",
    "                        GROUP BY doctor.doctor_id, doctor_name;\n",
    "                        ''', paxton)\n",
    "paxton_count_df"
   ]
  },
  {
   "cell_type": "markdown",
   "metadata": {},
   "source": [
    "**Step 3**: Gibson moves a patient to Tamblin's care. (Gibson tries to move the patient with the identifier of `MIN(patient_id)`, which is just the patient who has the first alphabetic value of `patient_id`, .)"
   ]
  },
  {
   "cell_type": "code",
   "execution_count": null,
   "metadata": {},
   "outputs": [],
   "source": [
    "with gibson.cursor() as gibson_cursor:\n",
    "        gibson_cursor.execute('''\n",
    "                UPDATE patient \n",
    "                SET doctor_id = 'd09'\n",
    "                WHERE patient_id = (SELECT MIN(patient_id)\n",
    "                                    FROM patient\n",
    "                                    WHERE doctor_id='d06');\n",
    "                ''')"
   ]
  },
  {
   "cell_type": "markdown",
   "metadata": {},
   "source": [
    "Within her transaction, Gibson can see that doctor `d09` (Tamblin) is now responsible for patient `p001`."
   ]
  },
  {
   "cell_type": "code",
   "execution_count": null,
   "metadata": {},
   "outputs": [],
   "source": [
    "pd.read_sql_query('''\n",
    "                        SELECT *\n",
    "                        FROM patient\n",
    "                        WHERE doctor_id='d09';\n",
    "                        ''', gibson)"
   ]
  },
  {
   "cell_type": "markdown",
   "metadata": {},
   "source": [
    "**Step 4**: Paxton also moves a patient to Tamblin's care."
   ]
  },
  {
   "cell_type": "code",
   "execution_count": null,
   "metadata": {},
   "outputs": [],
   "source": [
    "with paxton.cursor() as paxton_cursor:\n",
    "        paxton_cursor.execute('''\n",
    "                UPDATE patient \n",
    "                SET doctor_id = 'd09'\n",
    "                WHERE patient_id = (SELECT MIN(patient_id)\n",
    "                                    FROM patient\n",
    "                                    WHERE doctor_id='d07');\n",
    "                ''')"
   ]
  },
  {
   "cell_type": "markdown",
   "metadata": {},
   "source": [
    "Within his transaction, Paxton can see that doctor `d09` (Tamblin) is now responsible for patient `p007`."
   ]
  },
  {
   "cell_type": "code",
   "execution_count": null,
   "metadata": {},
   "outputs": [],
   "source": [
    "pd.read_sql_query('''\n",
    "                        SELECT *\n",
    "                        FROM patient\n",
    "                        WHERE doctor_id='d09';\n",
    "                        ''', paxton)"
   ]
  },
  {
   "cell_type": "markdown",
   "metadata": {},
   "source": [
    "**Step 5**: Both doctors commit their transactions."
   ]
  },
  {
   "cell_type": "code",
   "execution_count": null,
   "metadata": {},
   "outputs": [],
   "source": [
    "gibson.commit()\n",
    "paxton.commit()"
   ]
  },
  {
   "cell_type": "markdown",
   "metadata": {},
   "source": [
    "Now Gibson looks to see which doctors have which patients."
   ]
  },
  {
   "cell_type": "code",
   "execution_count": null,
   "metadata": {},
   "outputs": [],
   "source": [
    "pd.read_sql_query('''\n",
    "        SELECT doctor.doctor_id, doctor_name,\n",
    "            COUNT(patient_id) AS number_of_patients\n",
    "        FROM doctor LEFT OUTER JOIN patient\n",
    "            ON doctor.doctor_id = patient.doctor_id\n",
    "        GROUP BY doctor.doctor_id, doctor_name;\n",
    "                        ''', gibson)"
   ]
  },
  {
   "cell_type": "markdown",
   "metadata": {},
   "source": [
    "Tamblin now has two patients. It seems that Gibson's and Paxton's transactions weren't isolated. This is what happened.\n",
    "\n",
    "![Write skew](images/12.2.3.png)"
   ]
  },
  {
   "cell_type": "markdown",
   "metadata": {
    "activity": true
   },
   "source": [
    "### Activity 2"
   ]
  },
  {
   "cell_type": "markdown",
   "metadata": {
    "activity": true
   },
   "source": [
    "\n",
    "Repeat the above steps but with both Gibson and Paxton at the \"serializable\" isolation level. Do things work out differently?\n",
    "\n",
    "Before you start, run the \"cleanup\" cells below to reset the database."
   ]
  },
  {
   "cell_type": "code",
   "execution_count": null,
   "metadata": {
    "activity": true
   },
   "outputs": [],
   "source": [
    "paxton.close()\n",
    "gibson.close()\n",
    "tamblin.close()"
   ]
  },
  {
   "cell_type": "code",
   "execution_count": null,
   "metadata": {
    "activity": true
   },
   "outputs": [],
   "source": [
    "%run reset_databases.ipynb"
   ]
  },
  {
   "cell_type": "code",
   "execution_count": null,
   "metadata": {
    "activity": true
   },
   "outputs": [],
   "source": [
    "paxton = pg.connect(dbname=DB_USER,     # the name of the database\n",
    "                    host='localhost',   # the host on which the database engine is running\n",
    "                    user=DB_USER,       # id of the user who is logging in\n",
    "                    password=DB_PWD,    # the user's password\n",
    "                    port=5432,          # the port on which the database engine is listening\n",
    "                    options=\"-c search_path=hospital\")  # the schema to use\n",
    "\n",
    "paxton.isolation_level = pge.ISOLATION_LEVEL_SERIALIZABLE\n",
    "\n",
    "paxton.autocommit = False"
   ]
  },
  {
   "cell_type": "code",
   "execution_count": null,
   "metadata": {
    "activity": true
   },
   "outputs": [],
   "source": [
    "gibson = pg.connect(dbname=DB_USER,     # the name of the database\n",
    "                    host='localhost',   # the host on which the database engine is running\n",
    "                    user=DB_USER,       # id of the user who is logging in\n",
    "                    password=DB_PWD,    # the user's password\n",
    "                    port=5432,          # the port on which the database engine is listening\n",
    "                    options=\"-c search_path=hospital\")  # the schema to use\n",
    "\n",
    "gibson.isolation_level = pge.ISOLATION_LEVEL_SERIALIZABLE\n",
    "\n",
    "gibson.autocommit = False"
   ]
  },
  {
   "cell_type": "code",
   "execution_count": null,
   "metadata": {
    "activity": true
   },
   "outputs": [],
   "source": [
    "tamblin = pg.connect(dbname=DB_USER,     # the name of the database\n",
    "                     host='localhost',   # the host on which the database engine is running\n",
    "                     user=DB_USER,       # id of the user who is logging in\n",
    "                     password=DB_PWD,    # the user's password\n",
    "                     port=5432,          # the port on which the database engine is listening\n",
    "                     options=\"-c search_path=hospital\")  # the schema to use\n",
    "\n",
    "tamblin.isolation_level = pge.ISOLATION_LEVEL_SERIALIZABLE\n",
    "\n",
    "tamblin.autocommit = False"
   ]
  },
  {
   "cell_type": "markdown",
   "metadata": {
    "activity": true
   },
   "source": [
    "Again, you will need multiple cells to step through the two transactions at the same time. Note: **At this isolation level, you should expect at least one of the transactions to fail.**"
   ]
  },
  {
   "cell_type": "code",
   "execution_count": null,
   "metadata": {
    "student": true
   },
   "outputs": [],
   "source": [
    "# Write your code in this cell (adding more if necessary)"
   ]
  },
  {
   "cell_type": "markdown",
   "metadata": {
    "activity": true,
    "heading_collapsed": true
   },
   "source": [
    "#### Our solution\n",
    "\n",
    "To reveal our solution, click on the triangle symbol on the left-hand end of this cell."
   ]
  },
  {
   "cell_type": "markdown",
   "metadata": {
    "activity": true,
    "hidden": true
   },
   "source": [
    "As before, the bulk of the activity can be addressed by cutting and pasting the cells from the original example:"
   ]
  },
  {
   "cell_type": "code",
   "execution_count": null,
   "metadata": {
    "activity": true,
    "hidden": true
   },
   "outputs": [],
   "source": [
    "gibson.isolation_level = pge.ISOLATION_LEVEL_SERIALIZABLE\n",
    "paxton.isolation_level = pge.ISOLATION_LEVEL_SERIALIZABLE"
   ]
  },
  {
   "cell_type": "markdown",
   "metadata": {
    "activity": true,
    "hidden": true
   },
   "source": [
    "**Step 1**: Gibson starts a transaction and sees that Tamblin has no patients."
   ]
  },
  {
   "cell_type": "code",
   "execution_count": null,
   "metadata": {
    "activity": true,
    "hidden": true
   },
   "outputs": [],
   "source": [
    "pd.read_sql_query('''\n",
    "            SELECT doctor.doctor_id, doctor_name, \n",
    "                   COUNT(patient_id) AS number_of_patients\n",
    "            FROM doctor LEFT OUTER JOIN patient \n",
    "                 ON doctor.doctor_id = patient.doctor_id\n",
    "            GROUP BY doctor.doctor_id, doctor_name;\n",
    "            ''', gibson)"
   ]
  },
  {
   "cell_type": "markdown",
   "metadata": {
    "activity": true,
    "hidden": true
   },
   "source": [
    "**Step 2**: Paxton also starts a transaction and sees that Tamblin has no patients."
   ]
  },
  {
   "cell_type": "code",
   "execution_count": null,
   "metadata": {
    "activity": true,
    "hidden": true
   },
   "outputs": [],
   "source": [
    "pd.read_sql_query('''\n",
    "            SELECT doctor.doctor_id, doctor_name, \n",
    "                   COUNT(patient_id) AS number_of_patients\n",
    "            FROM doctor LEFT OUTER JOIN patient \n",
    "                 ON doctor.doctor_id = patient.doctor_id\n",
    "            GROUP BY doctor.doctor_id, doctor_name;\n",
    "            ''', paxton)\n"
   ]
  },
  {
   "cell_type": "markdown",
   "metadata": {
    "activity": true,
    "hidden": true
   },
   "source": [
    "**Step 3**: Gibson moves a patient to Tamblin's care. (Gibson tries to move the patient with the identifier of `MIN(patient_id)`, which is just the patient who has the first alphabetic value of `patient_id`, .)"
   ]
  },
  {
   "cell_type": "code",
   "execution_count": null,
   "metadata": {
    "activity": true,
    "hidden": true
   },
   "outputs": [],
   "source": [
    "with gibson.cursor() as gibson_cursor:\n",
    "        gibson_cursor.execute('''\n",
    "                UPDATE patient \n",
    "                SET doctor_id = 'd09'\n",
    "                WHERE patient_id = (SELECT MIN(patient_id)\n",
    "                                    FROM patient\n",
    "                                    WHERE doctor_id='d06');\n",
    "                ''')"
   ]
  },
  {
   "cell_type": "markdown",
   "metadata": {
    "activity": true,
    "hidden": true
   },
   "source": [
    "Within her transaction, Gibson can see that doctor `d09` (Tamblin) is now responsible for patient `p001`."
   ]
  },
  {
   "cell_type": "code",
   "execution_count": null,
   "metadata": {
    "activity": true,
    "hidden": true
   },
   "outputs": [],
   "source": [
    "pd.read_sql_query('''\n",
    "                        SELECT *\n",
    "                        FROM patient\n",
    "                        WHERE doctor_id='d09';\n",
    "                        ''', gibson)"
   ]
  },
  {
   "cell_type": "markdown",
   "metadata": {
    "activity": true,
    "hidden": true
   },
   "source": [
    "**Step 4**: Paxton also moves a patient to Tamblin's care."
   ]
  },
  {
   "cell_type": "code",
   "execution_count": null,
   "metadata": {
    "activity": true,
    "hidden": true
   },
   "outputs": [],
   "source": [
    "with paxton.cursor() as paxton_cursor:\n",
    "        paxton_cursor.execute('''\n",
    "                UPDATE patient \n",
    "                SET doctor_id = 'd09'\n",
    "                WHERE patient_id = (SELECT MIN(patient_id)\n",
    "                                    FROM patient\n",
    "                                    WHERE doctor_id='d07');\n",
    "                ''')"
   ]
  },
  {
   "cell_type": "markdown",
   "metadata": {
    "activity": true,
    "hidden": true
   },
   "source": [
    "Within his transaction, Paxton can see that doctor `d09` (Tamblin) is now responsible for patient `p007`."
   ]
  },
  {
   "cell_type": "code",
   "execution_count": null,
   "metadata": {
    "activity": true,
    "hidden": true
   },
   "outputs": [],
   "source": [
    "pd.read_sql_query('''\n",
    "                        SELECT *\n",
    "                        FROM patient\n",
    "                        WHERE doctor_id='d09';\n",
    "                        ''', paxton)"
   ]
  },
  {
   "cell_type": "markdown",
   "metadata": {
    "activity": true,
    "hidden": true
   },
   "source": [
    "**Step 5**: Both doctors commit their transactions."
   ]
  },
  {
   "cell_type": "code",
   "execution_count": null,
   "metadata": {
    "activity": true,
    "hidden": true
   },
   "outputs": [],
   "source": [
    "gibson.commit()"
   ]
  },
  {
   "cell_type": "code",
   "execution_count": null,
   "metadata": {
    "activity": true,
    "hidden": true
   },
   "outputs": [],
   "source": [
    "paxton.commit()"
   ]
  },
  {
   "cell_type": "markdown",
   "metadata": {
    "activity": true,
    "hidden": true
   },
   "source": [
    "Paxton's transaction failed.\n",
    "\n",
    "Paxton has to roll back."
   ]
  },
  {
   "cell_type": "code",
   "execution_count": null,
   "metadata": {
    "activity": true,
    "hidden": true
   },
   "outputs": [],
   "source": [
    "paxton.rollback()"
   ]
  },
  {
   "cell_type": "markdown",
   "metadata": {
    "activity": true,
    "hidden": true
   },
   "source": [
    "Gibson and Paxton now see that Tamblin has just one patient."
   ]
  },
  {
   "cell_type": "code",
   "execution_count": null,
   "metadata": {
    "activity": true,
    "hidden": true
   },
   "outputs": [],
   "source": [
    "pd.read_sql_query('''\n",
    "            SELECT doctor.doctor_id, doctor_name, \n",
    "                   COUNT(patient_id) AS number_of_patients\n",
    "            FROM doctor LEFT OUTER JOIN patient \n",
    "                 ON doctor.doctor_id = patient.doctor_id\n",
    "            GROUP BY doctor.doctor_id, doctor_name;\n",
    "            ''', gibson)"
   ]
  },
  {
   "cell_type": "code",
   "execution_count": null,
   "metadata": {
    "activity": true,
    "hidden": true
   },
   "outputs": [],
   "source": [
    "pd.read_sql_query('''\n",
    "            SELECT doctor.doctor_id, doctor_name, \n",
    "                   COUNT(patient_id) AS number_of_patients\n",
    "            FROM doctor LEFT OUTER JOIN patient \n",
    "                 ON doctor.doctor_id = patient.doctor_id\n",
    "            GROUP BY doctor.doctor_id, doctor_name;\n",
    "            ''', paxton)"
   ]
  },
  {
   "cell_type": "markdown",
   "metadata": {
    "activity": true,
    "hidden": true
   },
   "source": [
    "![Write skew prevented](images/12.2.4.png)\n",
    "\n",
    "In this case, the DBMS detects that the two transactions overlap and have interleaved effects. This leads to non-serialised transactions. The DBMS prevents Paxton's transaction from committing. If Paxton now restarts his transaction, it will truly be serialised after Gibson's completed."
   ]
  },
  {
   "cell_type": "markdown",
   "metadata": {
    "activity": true
   },
   "source": [
    "#### End of Activity 2"
   ]
  },
  {
   "cell_type": "markdown",
   "metadata": {},
   "source": [
    "## Cleanup: close connections\n",
    "Close all connections to the next notebook to reset the database."
   ]
  },
  {
   "cell_type": "markdown",
   "metadata": {},
   "source": [
    "--------------------------------------------------------"
   ]
  },
  {
   "cell_type": "code",
   "execution_count": null,
   "metadata": {},
   "outputs": [],
   "source": [
    "paxton.close()\n",
    "gibson.close()\n",
    "tamblin.close()"
   ]
  },
  {
   "cell_type": "markdown",
   "metadata": {},
   "source": [
    "# Summary\n",
    "In this Notebook you have seen how PostgreSQL supports transaction isolation, and how different isolation levels allow different anomalies."
   ]
  }
 ],
 "metadata": {
  "kernelspec": {
   "display_name": "Python 3",
   "language": "python",
   "name": "python3"
  },
  "language_info": {
   "codemirror_mode": {
    "name": "ipython",
    "version": 3
   },
   "file_extension": ".py",
   "mimetype": "text/x-python",
   "name": "python",
   "nbconvert_exporter": "python",
   "pygments_lexer": "ipython3",
   "version": "3.7.8"
  }
 },
 "nbformat": 4,
 "nbformat_minor": 1
}
