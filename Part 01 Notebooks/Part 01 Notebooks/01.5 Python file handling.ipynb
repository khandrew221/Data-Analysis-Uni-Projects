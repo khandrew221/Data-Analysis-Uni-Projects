{
 "cells": [
  {
   "cell_type": "markdown",
   "metadata": {
    "code_folding": [
     0
    ]
   },
   "source": [
    "# File handling: reading file content in,  writing file content out"
   ]
  },
  {
   "cell_type": "markdown",
   "metadata": {},
   "source": [
    "You can load local files into an IPython session by opening a file object and then using the `read()` function.\n",
    "\n",
    "To locate a file, you can look to see what files are in the `data/` folder using the command line `ls` command:"
   ]
  },
  {
   "cell_type": "code",
   "execution_count": null,
   "metadata": {},
   "outputs": [],
   "source": [
    "!ls data"
   ]
  },
  {
   "cell_type": "markdown",
   "metadata": {},
   "source": [
    "Let's see what the operating system thinks is in the `simpleTest.txt` file:"
   ]
  },
  {
   "cell_type": "code",
   "execution_count": null,
   "metadata": {},
   "outputs": [],
   "source": [
    "!cat data/simpleTest.txt"
   ]
  },
  {
   "cell_type": "markdown",
   "metadata": {},
   "source": [
    "We can open the file for reading with a simple `open()` command:"
   ]
  },
  {
   "cell_type": "code",
   "execution_count": null,
   "metadata": {},
   "outputs": [],
   "source": [
    "f = open('data/simpleTest.txt')\n",
    "# read() will read the full file into a single string.\n",
    "txt = f.read()\n",
    "txt"
   ]
  },
  {
   "cell_type": "markdown",
   "metadata": {},
   "source": [
    "You can create and write to files by opening a file object with write status `w` and then using the `write()` function and close them with the `close()` method."
   ]
  },
  {
   "cell_type": "code",
   "execution_count": null,
   "metadata": {},
   "outputs": [],
   "source": [
    "txt = txt + \"\\n\\nHere's another line...\"\n",
    "fout = open('data/simpleTest_copy.txt','w')\n",
    "fout.write(txt)\n",
    "fout.close()"
   ]
  },
  {
   "cell_type": "markdown",
   "metadata": {},
   "source": [
    "A more Pythonic way of opening a file is to use the `with` method to open a file and assign it to a variable. On exiting the `with` block, the file will automatically be closed. By default, the open file will be opened with a read (`r`) permission:"
   ]
  },
  {
   "cell_type": "code",
   "execution_count": null,
   "metadata": {},
   "outputs": [],
   "source": [
    "with open('data/simpleTest_copy.txt') as f2:\n",
    "    copytext = f2.read()\n",
    "    # The file is automatically closed when the operations in the code block have completed\n",
    "\n",
    "copytext"
   ]
  },
  {
   "cell_type": "code",
   "execution_count": null,
   "metadata": {},
   "outputs": [],
   "source": [
    "!ls data"
   ]
  },
  {
   "cell_type": "markdown",
   "metadata": {},
   "source": [
    "This following example also uses the `with` command to demonstrate reading one line at a time from a newly opened file into a list by means of a list comprehension:"
   ]
  },
  {
   "cell_type": "code",
   "execution_count": null,
   "metadata": {},
   "outputs": [],
   "source": [
    "with open('data/simpleTest.txt') as f:\n",
    "    lines = [anewline for anewline in f.readlines()]\n",
    "\n",
    "lines"
   ]
  },
  {
   "cell_type": "markdown",
   "metadata": {},
   "source": [
    "You can load files from a URL using various helper libraries. \n",
    "\n",
    "The `requests` library [[documentation](http://docs.python-requests.org/en/latest/)] is one of the most widely used packages for making http requests:"
   ]
  },
  {
   "cell_type": "code",
   "execution_count": null,
   "metadata": {},
   "outputs": [],
   "source": [
    "import requests"
   ]
  },
  {
   "cell_type": "markdown",
   "metadata": {},
   "source": [
    "It provides a simple syntax for running HTTP `GET` requests given a URL, as well as customising HTTP headers in more elaborate `GET` operations:"
   ]
  },
  {
   "cell_type": "code",
   "execution_count": null,
   "metadata": {
    "tags": [
     "nbval-ignore-output"
    ]
   },
   "outputs": [],
   "source": [
    "webRequest = requests.get('http://www.open.ac.uk')\n",
    "webRequest.content"
   ]
  },
  {
   "cell_type": "markdown",
   "metadata": {},
   "source": [
    "We'll see how to parse HTML and JSON content returned by `requests.get()` later in the module."
   ]
  },
  {
   "cell_type": "markdown",
   "metadata": {},
   "source": [
    "## What next?"
   ]
  },
  {
   "cell_type": "markdown",
   "metadata": {},
   "source": [
    "In this short collection of Notebooks we've given a quick recap of the key elements of the Python language that we will be assuming you know (that is, won't be explaining in detail) as we work through the module. \n",
    "\n",
    "If Python is completely new to you, you will find it useful to work through the [standard Python tutorial](https://docs.python.org/3/tutorial/index.html).\n",
    "\n",
    "However, if you have some previous programming experience then inspection of the code, and a little bit of experimentation, can also get you a long way."
   ]
  },
  {
   "cell_type": "markdown",
   "metadata": {},
   "source": [
    "That's it for the Notebook activities in this Python bootcamp.\n",
    "\n",
    "See you next week..."
   ]
  }
 ],
 "metadata": {
  "kernelspec": {
   "display_name": "Python 3",
   "language": "python",
   "name": "python3"
  },
  "language_info": {
   "codemirror_mode": {
    "name": "ipython",
    "version": 3
   },
   "file_extension": ".py",
   "mimetype": "text/x-python",
   "name": "python",
   "nbconvert_exporter": "python",
   "pygments_lexer": "ipython3",
   "version": "3.7.8"
  }
 },
 "nbformat": 4,
 "nbformat_minor": 1
}
