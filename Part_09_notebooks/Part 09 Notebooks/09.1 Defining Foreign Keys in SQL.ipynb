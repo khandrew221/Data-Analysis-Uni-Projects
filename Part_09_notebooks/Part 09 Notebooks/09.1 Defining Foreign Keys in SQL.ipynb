{
 "cells": [
  {
   "cell_type": "markdown",
   "metadata": {},
   "source": [
    "# Creating FOREIGN KEYS\n"
   ]
  },
  {
   "cell_type": "markdown",
   "metadata": {},
   "source": [
    "In the Part 8 notebooks, we looked at how to define tables which represent entities, and some of the constraints that apply to individual tables, in particular the primary key. In the Part 9 notebooks, we will look more closely at foreign key relationships, which implement the relationships that hold *between* entities.\n",
    "\n",
    "In this notebook, we will look at:\n",
    "\n",
    "- how to define foreign key constraint as part of a `CREATE TABLE` statement, and\n",
    "- how to add foreign key constraints to existing tables.\n",
    "\n",
    "You should spend around one hour on this notebook."
   ]
  },
  {
   "cell_type": "markdown",
   "metadata": {},
   "source": [
    "## Setting up"
   ]
  },
  {
   "cell_type": "markdown",
   "metadata": {},
   "source": [
    "The next group of cells set up your database connection, and reset the database to a clean state. Check notebook *08.1 Data Definition Language in SQL* if you are unsure what the next cells do.\n",
    "\n",
    "You may need to change the given values of the variables `DB_USER` and `DB_PWD`, depending on which environment you are using"
   ]
  },
  {
   "cell_type": "raw",
   "metadata": {},
   "source": [
    "# If you are using the remote environment, change this cell\n",
    "# type to \"code\", and execute it\n",
    "\n",
    "DB_USER='xxx99'            # Enter your OUCU here (in quotes)\n",
    "DB_PWD='your_password'     # Enter your password here (in quotes)"
   ]
  },
  {
   "cell_type": "raw",
   "metadata": {},
   "source": [
    "# If you are using a locally hosted environment, change this cell\n",
    "# type to \"code\", and execute it\n",
    "\n",
    "DB_USER='tm351'\n",
    "DB_PWD='tm351'"
   ]
  },
  {
   "cell_type": "code",
   "execution_count": null,
   "metadata": {},
   "outputs": [],
   "source": [
    "# Make the connection\n",
    "\n",
    "%run sql_init.ipynb\n",
    "print(\"Connecting with connection string : {}\".format(DB_CONNECTION))\n",
    "%sql $DB_CONNECTION"
   ]
  },
  {
   "cell_type": "code",
   "execution_count": null,
   "metadata": {},
   "outputs": [],
   "source": [
    "%run reset_databases.ipynb"
   ]
  },
  {
   "cell_type": "markdown",
   "metadata": {},
   "source": [
    "## Foreign Key References as Part of a CREATE TABLE Statement\n"
   ]
  },
  {
   "cell_type": "markdown",
   "metadata": {},
   "source": [
    "\n",
    "At this point it is worth observing how foreign keys are implemented *as constraints* (in PostgreSQL at least) when they are defined as part of a column definition in a `CREATE TABLE` statement."
   ]
  },
  {
   "cell_type": "markdown",
   "metadata": {},
   "source": [
    "In [Activity 9.3](https://learn2.open.ac.uk/mod/oucontent/olinkremote.php?website=TM351&targetdoc=Part%209%20Relational%20data%20modelling&targetptr=3), we saw that the relationship between the doctor and patient was represented in the Entity Relationship Diagram as:"
   ]
  },
  {
   "cell_type": "markdown",
   "metadata": {},
   "source": [
    "![Relationship between patient and doctor](patient-doctor-fk.jpg)"
   ]
  },
  {
   "cell_type": "markdown",
   "metadata": {},
   "source": [
    "Each patient is assigned to exactly one doctor, and each doctor may be responsible for zero, one or many patients. We then saw in [Part 9, section 5](https://learn2.open.ac.uk/mod/oucontent/olinkremote.php?website=TM351&targetdoc=Part%209%20Relational%20data%20modelling&targetptr=5), that the `doctor_id` column in the `patient` table can be used to reference the `doctor` table as a foreign key, thereby implementing the patient-doctor relationship. We can extend the definition of `CREATE TABLE` to implement such a relationship by defining appropriate foreign keys:"
   ]
  },
  {
   "cell_type": "markdown",
   "metadata": {},
   "source": [
    "\n",
    "<code>CREATE TABLE &#x2329;table_name&#x232A;(   \n",
    "     &#x2329;column_name&#x232A; &#x2329;data_type&#x232A;,   \n",
    "     &#x2329;column_name&#x232A; &#x2329;data_type&#x232A;,\n",
    "     ... \n",
    "     PRIMARY KEY (&#x2329;column_name&#x232A;, &#x2329;column_name&#x232A;, ...),\n",
    "     ... \n",
    "     FOREIGN KEY (&#x2329;column_name&#x232A;, &#x2329;column_name&#x232A;, ...) REFERENCES &#x2329;table_name&#x232A;);</code>\n"
   ]
  },
  {
   "cell_type": "markdown",
   "metadata": {},
   "source": [
    "As in notebook *08.1 Data Definition Language in SQL* we can define the `doctor` table using SQL's `CREATE TABLE` statement:"
   ]
  },
  {
   "cell_type": "code",
   "execution_count": null,
   "metadata": {},
   "outputs": [],
   "source": [
    "%%sql\n",
    "\n",
    "DROP TABLE IF EXISTS doctor;\n",
    "\n",
    "CREATE TABLE doctor (\n",
    "    \n",
    "    doctor_id CHAR(4),\n",
    "    doctor_name VARCHAR(20),\n",
    "    \n",
    "    PRIMARY KEY (doctor_id)\n",
    " );"
   ]
  },
  {
   "cell_type": "markdown",
   "metadata": {},
   "source": [
    "We will also define the `patient` table, but unlike in notebook *08.1 Data Definition Language in SQL*, we will now add a declaration that the column `doctor_id` in `patient` is a foreign key referencing the `doctor` table:"
   ]
  },
  {
   "cell_type": "code",
   "execution_count": null,
   "metadata": {},
   "outputs": [],
   "source": [
    "%%sql\n",
    "\n",
    "DROP TABLE IF EXISTS patient;\n",
    "\n",
    "CREATE TABLE patient (\n",
    "    \n",
    "    patient_id CHAR(4),\n",
    "    patient_name VARCHAR(20),\n",
    "    date_of_birth DATE,\n",
    "    gender CHAR(6),\n",
    "    height_cm DECIMAL(4,1),\n",
    "    weight_kg DECIMAL(4,1),\n",
    "    doctor_id CHAR(4),\n",
    "    \n",
    "    PRIMARY KEY (patient_id),\n",
    "    \n",
    "    FOREIGN KEY (doctor_id) REFERENCES doctor\n",
    " );"
   ]
  },
  {
   "cell_type": "markdown",
   "metadata": {},
   "source": [
    "We can see the foreign key with the display schema:"
   ]
  },
  {
   "cell_type": "code",
   "execution_count": null,
   "metadata": {},
   "outputs": [],
   "source": [
    "%schema --connection_string $DB_CONNECTION -t patient,doctor"
   ]
  },
  {
   "cell_type": "markdown",
   "metadata": {},
   "source": [
    "Note that the `patient.doctor_id` column now has a marker `(FK)` to show that it is a foreign key. The text `+ doctor_id` on the connector shows that it forms the foreign key referencing `doctor`.\n",
    "\n",
    "\n",
    "You may recall from the definition of a foreign in key in [Part 9, section 4](https://learn2.open.ac.uk/mod/oucontent/olinkremote.php?website=TM351&targetdoc=Part%209%20Relational%20data%20modelling&targetptr=4) that the table containing primary key is commonly referred to as the **parent table**, and the table containing the foreign key which refers to the parent table is commonly referred to as the corresponding **child table**.\n",
    "\n",
    "In this case, we see that the `doctor`, which contains the primary key `doctor_id` table represents the __parent__ table. The `patient` table, which contains `doctor_id` as a foreign key, is the __child__ table."
   ]
  },
  {
   "cell_type": "markdown",
   "metadata": {},
   "source": [
    "We can now add some data to the tables. The next cell adds two rows to the `doctor` table, to represent two doctors. (See notebook *08.2 Data Manipulation Language in SQL* if you need to remind yourself how SQL's `INSERT INTO` statements work.)"
   ]
  },
  {
   "cell_type": "code",
   "execution_count": null,
   "metadata": {},
   "outputs": [],
   "source": [
    "%%sql\n",
    "\n",
    "INSERT INTO doctor(doctor_id, doctor_name)\n",
    "VALUES ('d06', 'Gibson'),\n",
    "       ('d07', 'Paxton');\n",
    "    \n",
    "SELECT *\n",
    "FROM doctor;"
   ]
  },
  {
   "cell_type": "markdown",
   "metadata": {},
   "source": [
    "We can also add some rows to the `patient` table. For each of these rows, the value in the `patient.doctor_id` column matches one of the values in the `doctor.doctor_id` column:"
   ]
  },
  {
   "cell_type": "code",
   "execution_count": null,
   "metadata": {},
   "outputs": [],
   "source": [
    "%%sql\n",
    "\n",
    "INSERT INTO patient(patient_id, patient_name, date_of_birth, gender, height_cm, weight_kg, doctor_id)\n",
    "VALUES('p001', 'Thornton', '1980/01/22', 'F', 162.3, 71.6, 'd06'),\n",
    "      ('p007', 'Tennent', '1980/04/01', 'M', 176.8, 70.9, 'd07'),\n",
    "      ('p008', 'James', '1980/07/08', 'M', 167.9, 70.5, 'd07'),\n",
    "      ('p009', 'Kay', '1980/09/25', 'F', 164.7, 53.2, 'd06');\n",
    "    \n",
    "SELECT *\n",
    "FROM patient;"
   ]
  },
  {
   "cell_type": "markdown",
   "metadata": {},
   "source": [
    "(Note that we are using the SQL dotted notation here, so that `patient.doctor_id` refers to the `doctor_id` column in the `patient` table, and `doctor.doctor_id` refers to the `doctor_id` column in the `doctor` table.)"
   ]
  },
  {
   "cell_type": "markdown",
   "metadata": {
    "activity": true
   },
   "source": [
    "### Activity 1"
   ]
  },
  {
   "cell_type": "markdown",
   "metadata": {
    "activity": true
   },
   "source": [
    "What do you think will happen if you try execute the following statement (with the tables as they are populated at this point in the notebook, and with the foreign key constraint defined in the `patient` table)? Why?"
   ]
  },
  {
   "cell_type": "markdown",
   "metadata": {
    "activity": true
   },
   "source": [
    "```sql\n",
    "INSERT INTO patient(patient_id, patient_name, date_of_birth, gender, height_cm, weight_kg, doctor_id)\n",
    "VALUES ('p068', 'Monroe', '1981/02/21', 'F', 165, 62.6, 'd10');\n",
    "```"
   ]
  },
  {
   "cell_type": "markdown",
   "metadata": {
    "student": true
   },
   "source": [
    "Write your answer in this cell"
   ]
  },
  {
   "cell_type": "markdown",
   "metadata": {
    "activity": true,
    "heading_collapsed": true
   },
   "source": [
    "#### Our solution\n",
    "\n",
    "To reveal our solution, run this cell or click on the triangle symbol on the left-hand side of the cell."
   ]
  },
  {
   "cell_type": "markdown",
   "metadata": {
    "activity": true,
    "hidden": true
   },
   "source": [
    "The following cell executes the given statement:"
   ]
  },
  {
   "cell_type": "code",
   "execution_count": null,
   "metadata": {
    "activity": true,
    "hidden": true
   },
   "outputs": [],
   "source": [
    "%%sql\n",
    "\n",
    "INSERT INTO patient(patient_id, patient_name, date_of_birth, gender, height_cm, weight_kg, doctor_id)\n",
    "VALUES ('p068', 'Monroe', '1981/02/21', 'F', 165, 62.6, 'd10');"
   ]
  },
  {
   "cell_type": "markdown",
   "metadata": {
    "activity": true,
    "hidden": true
   },
   "source": [
    "If you execute the statement, you should receive an `IntegrityError`, with the additional information that `insert or update on table \"patient\" violates foreign key constraint`. That is, in this case, the value provided in the `patient.doctor_id` column, `d10`, does not correspond to any of the values in the `doctor.doctor_id` column. This violates the foreign key constraint (as described in [Part 9, section 4](https://learn2.open.ac.uk/mod/oucontent/olinkremote.php?website=TM351&targetdoc=Part%209%20Relational%20data%20modelling&targetptr=4.1), and so this row cannot be inserted."
   ]
  },
  {
   "cell_type": "markdown",
   "metadata": {
    "activity": true,
    "hidden": true
   },
   "source": [
    "To add this row to the table, it is necessary for the `doctor` table to contain the value `d10` in the `doctor.doctor_id` column. If we were to add the row:"
   ]
  },
  {
   "cell_type": "markdown",
   "metadata": {
    "activity": true,
    "hidden": true
   },
   "source": [
    "| doctor_id | doctor_name | \n",
    "| ------ | ------ | \n",
    "| d10 | Rampton | "
   ]
  },
  {
   "cell_type": "markdown",
   "metadata": {
    "activity": true,
    "hidden": true
   },
   "source": [
    "to the `doctor` table, we should then be able to add the necessary row to `patient`."
   ]
  },
  {
   "cell_type": "markdown",
   "metadata": {
    "activity": true,
    "hidden": true,
    "slideshow": {
     "slide_type": "fragment"
    }
   },
   "source": [
    "First, add the appropriate row to the `doctor` table:"
   ]
  },
  {
   "cell_type": "code",
   "execution_count": null,
   "metadata": {
    "activity": true,
    "hidden": true
   },
   "outputs": [],
   "source": [
    "%%sql\n",
    "\n",
    "INSERT INTO doctor(doctor_id, doctor_name)\n",
    "VALUES ('d10', 'Rampton');"
   ]
  },
  {
   "cell_type": "code",
   "execution_count": null,
   "metadata": {
    "activity": true,
    "hidden": true
   },
   "outputs": [],
   "source": [
    "%%sql\n",
    "\n",
    "SELECT *\n",
    "FROM doctor;"
   ]
  },
  {
   "cell_type": "markdown",
   "metadata": {
    "activity": true,
    "hidden": true
   },
   "source": [
    "The `doctor` table should now contain a row with the value `d10` in the `doctor.doctor_id` column. This then permits the referencing row to be added to `patient` without raising a constraint violation error:"
   ]
  },
  {
   "cell_type": "code",
   "execution_count": null,
   "metadata": {
    "activity": true,
    "hidden": true
   },
   "outputs": [],
   "source": [
    "%%sql\n",
    "\n",
    "INSERT INTO patient(patient_id, patient_name, date_of_birth, gender, height_cm, weight_kg, doctor_id)\n",
    "VALUES ('p068', 'Monroe', '1981/02/21', 'F', 165, 62.6, 'd10');"
   ]
  },
  {
   "cell_type": "code",
   "execution_count": null,
   "metadata": {
    "activity": true,
    "hidden": true
   },
   "outputs": [],
   "source": [
    "%%sql\n",
    "\n",
    "SELECT *\n",
    "FROM patient;"
   ]
  },
  {
   "cell_type": "markdown",
   "metadata": {
    "activity": true,
    "hidden": true
   },
   "source": [
    "As with the primary key constraints, changes to the database are not allowed if they would result in a foreign key constraint being violated. In the case of foreign keys, each value in the foreign key column(s) of the referencing table must match a value in the primary key column(s) of the referenced table."
   ]
  },
  {
   "cell_type": "markdown",
   "metadata": {
    "activity": true
   },
   "source": [
    "#### End of Activity 1"
   ]
  },
  {
   "cell_type": "markdown",
   "metadata": {},
   "source": [
    "-----------------------------------------------"
   ]
  },
  {
   "cell_type": "markdown",
   "metadata": {
    "activity": true
   },
   "source": [
    "### Activity 2"
   ]
  },
  {
   "cell_type": "markdown",
   "metadata": {
    "activity": true
   },
   "source": [
    "What do you think will happen if you try execute the following statement to the table as it is populated at this point in the notebook, in which no value for the foreign key is provided? Why?"
   ]
  },
  {
   "cell_type": "markdown",
   "metadata": {
    "activity": true
   },
   "source": [
    "```sql\n",
    "INSERT INTO patient(patient_id, patient_name, date_of_birth, gender, height_cm, weight_kg, doctor_id)\n",
    "VALUES ('p039', 'Maher', '1981/10/09', 'F', 161.9, 73.0, NULL);\n",
    "```"
   ]
  },
  {
   "cell_type": "markdown",
   "metadata": {
    "student": true
   },
   "source": [
    "Write your answer in this cell"
   ]
  },
  {
   "cell_type": "markdown",
   "metadata": {
    "activity": true,
    "heading_collapsed": true
   },
   "source": [
    "#### Our solution\n",
    "\n",
    "To reveal our solution, run this cell or click on the triangle symbol on the left-hand side of the cell."
   ]
  },
  {
   "cell_type": "markdown",
   "metadata": {
    "activity": true,
    "hidden": true
   },
   "source": [
    "The following cell executes the given statement:"
   ]
  },
  {
   "cell_type": "code",
   "execution_count": null,
   "metadata": {
    "activity": true,
    "hidden": true
   },
   "outputs": [],
   "source": [
    "%%sql\n",
    "\n",
    "INSERT INTO patient(patient_id, patient_name, date_of_birth, gender, height_cm, weight_kg, doctor_id)\n",
    "VALUES ('p039', 'Maher', '1981/10/09', 'F', 161.9, 73.0, NULL);"
   ]
  },
  {
   "cell_type": "code",
   "execution_count": null,
   "metadata": {
    "activity": true,
    "hidden": true
   },
   "outputs": [],
   "source": [
    "%%sql\n",
    "\n",
    "SELECT *\n",
    "FROM patient;"
   ]
  },
  {
   "cell_type": "markdown",
   "metadata": {
    "activity": true,
    "hidden": true
   },
   "source": [
    "The `INSERT` statement should have succeeded in adding a row to `patient`, with no value in the `patient.doctor_id` column. In fact, foreign keys do not *have* to contain a value, but *if* they do, then that value must exist in the referenced column."
   ]
  },
  {
   "cell_type": "markdown",
   "metadata": {
    "activity": true
   },
   "source": [
    "#### End of Activity 2"
   ]
  },
  {
   "cell_type": "markdown",
   "metadata": {},
   "source": [
    "------------------------------------------------------------"
   ]
  },
  {
   "cell_type": "markdown",
   "metadata": {},
   "source": [
    "The previous activity demonstrates one way of representing *optionality*. Where the foreign key is not constrained to be `NOT NULL`, we are saying that the referencing table does not have to have a value in the foreign key column, but if it does, then it *must* correspond to a value in the referenced column."
   ]
  },
  {
   "cell_type": "markdown",
   "metadata": {},
   "source": [
    "## Adding Foreign Key constraints to existing tables"
   ]
  },
  {
   "cell_type": "markdown",
   "metadata": {},
   "source": [
    "In this section, we will use CSV files to create the database tables, and then define constraints on those. We will use the same techniques to generate SQL tables from dataframes as we saw in notebook *08.3 Adding column constraints to tables*. Refer back to that notebook if you need a reminder of how we used CSV files and the dataframe's `.to_sql` method to generate SQL tables."
   ]
  },
  {
   "cell_type": "markdown",
   "metadata": {},
   "source": [
    "We'll start by simply creating some tables from dataframes. As we have seen, this means that initially, no primary keys are defined on any of these tables.\n",
    "\n",
    "We want to be able to implement the relationship between the `doctor` table and the `patient` table. Specifically, we want to declare that `doctor_id` in the `patient` table is a foreign key that references `doctor_id` in the `doctor` table.\n",
    "\n",
    "If we just add a *foreign* key constraint to the `patient` table, what changes are made to that table and what changes, if any, are made to the `doctor` table (referred to via the foreign key relationship) as a result?"
   ]
  },
  {
   "cell_type": "markdown",
   "metadata": {},
   "source": [
    "To investigate this, we need to drop the existing tables to clear the constraints on them:"
   ]
  },
  {
   "cell_type": "code",
   "execution_count": null,
   "metadata": {},
   "outputs": [],
   "source": [
    "%%sql\n",
    "\n",
    "DROP TABLE IF EXISTS patient;\n",
    "\n",
    "DROP TABLE IF EXISTS doctor;"
   ]
  },
  {
   "cell_type": "markdown",
   "metadata": {},
   "source": [
    "Now we can use the `pandas.read_csv` function to read the `doctor.csv` file into a dataframe called `doctor_df`, and then use the `.to_sql` method to export the data into an SQL table:"
   ]
  },
  {
   "cell_type": "code",
   "execution_count": null,
   "metadata": {},
   "outputs": [],
   "source": [
    "# Import the doctor.csv file into a dataframe\n",
    "doctor_df=pd.read_csv('./sql_data/doctor.csv')\n",
    "\n",
    "doctor_df.to_sql('doctor',\n",
    "                 DB_CONNECTION,\n",
    "                 if_exists='replace',\n",
    "                 index=False\n",
    "                 )"
   ]
  },
  {
   "cell_type": "markdown",
   "metadata": {},
   "source": [
    "We can use a `SELECT` query to see that the populated `doctor` table exists:"
   ]
  },
  {
   "cell_type": "code",
   "execution_count": null,
   "metadata": {},
   "outputs": [],
   "source": [
    "%%sql\n",
    "\n",
    "SELECT *\n",
    "FROM doctor\n",
    "LIMIT 5;"
   ]
  },
  {
   "cell_type": "markdown",
   "metadata": {},
   "source": [
    "We can now do exactly the same to create the populated `patient` table:"
   ]
  },
  {
   "cell_type": "code",
   "execution_count": null,
   "metadata": {},
   "outputs": [],
   "source": [
    "# Import the patient.csv file into a dataframe\n",
    "patient_df=pd.read_csv('./sql_data/patient.csv')\n",
    "\n",
    "#Look at the first few rows of the resulting dataframe\n",
    "\n",
    "patient_df.to_sql('patient',\n",
    "                 DB_CONNECTION,\n",
    "                 if_exists='replace',\n",
    "                 index=False\n",
    "                 )"
   ]
  },
  {
   "cell_type": "code",
   "execution_count": null,
   "metadata": {},
   "outputs": [],
   "source": [
    "%%sql\n",
    "\n",
    "SELECT *\n",
    "FROM patient\n",
    "LIMIT 5;"
   ]
  },
  {
   "cell_type": "markdown",
   "metadata": {},
   "source": [
    "We have seen how to add constraints to tables in notebook *08.3 Adding column constraints to tables*. As a reminder, to add a constraint to an existing table in SQL, use the following statement:\n",
    "\n",
    "<code>ALTER TABLE &#x2329;table name&#x232A;\n",
    "ADD CONSTRAINT &#x2329;constraint name&#x232A;\n",
    "    &#x2329;constraint definition&#x232A;;\n",
    "</code>\n"
   ]
  },
  {
   "cell_type": "markdown",
   "metadata": {},
   "source": [
    "Having exported the dataframe data to an SQL table, we should be able to add the foreign key constraint with the next cell:"
   ]
  },
  {
   "cell_type": "code",
   "execution_count": null,
   "metadata": {},
   "outputs": [],
   "source": [
    "%%sql\n",
    "\n",
    "ALTER TABLE patient\n",
    "ADD CONSTRAINT patient_doctor_fk\n",
    "    FOREIGN KEY (doctor_id) REFERENCES doctor;"
   ]
  },
  {
   "cell_type": "markdown",
   "metadata": {},
   "source": [
    "Perhaps surprisingly, the foreign key declaration raises a `ProgrammingError`, stating that `there is no primary key for referenced table \"doctor\"`. Where a foreign key constraint definition does not specify a particular column in the referenced table, the foreign key is assumed to refer to the referenced table's primary key. Therefore, to be able to define a foreign key in `patient`, we need to have the primary key defined in `doctor` (and we can define a primary key for `patient` at the same time):"
   ]
  },
  {
   "cell_type": "code",
   "execution_count": null,
   "metadata": {},
   "outputs": [],
   "source": [
    "%%sql \n",
    "\n",
    "ALTER TABLE doctor\n",
    "ADD CONSTRAINT doctor_pk\n",
    "    PRIMARY KEY (doctor_id);\n",
    "\n",
    "ALTER TABLE patient\n",
    "ADD CONSTRAINT patient_pk\n",
    "    PRIMARY KEY (patient_id);"
   ]
  },
  {
   "cell_type": "markdown",
   "metadata": {},
   "source": [
    "Now that we have defined the primary key for `doctor`, we should be able to add the foreign key constraint to `patient`:"
   ]
  },
  {
   "cell_type": "code",
   "execution_count": null,
   "metadata": {},
   "outputs": [],
   "source": [
    "%%sql\n",
    "\n",
    "ALTER TABLE patient\n",
    "ADD CONSTRAINT patient_doctor_fk\n",
    "    FOREIGN KEY (doctor_id) REFERENCES doctor;"
   ]
  },
  {
   "cell_type": "markdown",
   "metadata": {},
   "source": [
    "This should now run without raising an error. We can see the two tables and the relationship between them using the display magic:"
   ]
  },
  {
   "cell_type": "code",
   "execution_count": null,
   "metadata": {},
   "outputs": [],
   "source": [
    "%schema --connection_string $DB_CONNECTION -t patient,doctor"
   ]
  },
  {
   "cell_type": "markdown",
   "metadata": {},
   "source": [
    "#### Recap\n",
    "\n",
    "Adding the foreign key to the `patient` table that references the `doctor` table, we notice the following things:\n",
    "\n",
    "- a constraint is added to the `patient` table that associates the column `patient.doctor_id` with a reference to the `doctor.doctor_id` column,\n",
    "- the `doctor` table is not altered, other than by the requirement that the referenced column, `doctor_id`, be unique (which it is, by virtue of being the primary key), and\n",
    "- the `patient.doctor_id` column  is *not* required to contain only unique values, nor is it required to be `NOT NULL`.\n",
    "\n",
    "(Again, `patient.doctor_id` means the `doctor_id` column in the `patient` table, and similarly, `doctor.doctor_id` means the `doctor_id` column in the `doctor` table.)"
   ]
  },
  {
   "cell_type": "markdown",
   "metadata": {
    "activity": true
   },
   "source": [
    "### Activity 3"
   ]
  },
  {
   "cell_type": "markdown",
   "metadata": {
    "activity": true
   },
   "source": [
    "In notebook *08.3 Adding column constraints to tables*, we used four of the CSV files in the directory `sql_data` - `patient.csv`, `doctor.csv`, `drug.csv` and `prescription.csv` - to define the tables `patient`, `doctor`, `drug` and `prescription`. The complete ERD, including the relationships, is shown in the diagram:"
   ]
  },
  {
   "cell_type": "markdown",
   "metadata": {
    "activity": true
   },
   "source": [
    "![Full ERD for the hospital database](part09_notebooks_ERD.jpg)"
   ]
  },
  {
   "cell_type": "markdown",
   "metadata": {
    "activity": true
   },
   "source": [
    "Use the two files `drug.csv` and `prescription.csv` to extend the existing database so that it contains the four tables in the diagram, and define the appropriate constraints to define the relationships between all four entities."
   ]
  },
  {
   "cell_type": "markdown",
   "metadata": {
    "activity": true
   },
   "source": [
    "Note that we can make multiple foreign key references from one table to several others. In this example, as well as referencing the `patient` table, the `prescription` entity also makes a second foreign key reference to the `drug` table. Specifically, the column `prescription.drug_code` is a foreign key that references the primary key of the `drug` table, `drug.drug_code`."
   ]
  },
  {
   "cell_type": "code",
   "execution_count": null,
   "metadata": {
    "student": true
   },
   "outputs": [],
   "source": [
    "# Write your code in this cell"
   ]
  },
  {
   "cell_type": "markdown",
   "metadata": {
    "activity": true,
    "heading_collapsed": true
   },
   "source": [
    "#### Our solution\n",
    "\n",
    "To reveal our solution, run this cell or click on the triangle symbol on the left-hand side of the cell."
   ]
  },
  {
   "cell_type": "markdown",
   "metadata": {
    "activity": true,
    "hidden": true
   },
   "source": [
    "To create the `drug` and `prescription` tables, we can carry out the same statements as in notebook *08.3 Adding column constraints to tables*. First create the `drug` table:"
   ]
  },
  {
   "cell_type": "code",
   "execution_count": null,
   "metadata": {
    "activity": true,
    "hidden": true
   },
   "outputs": [],
   "source": [
    "# Import the drug.csv file into a dataframe\n",
    "drug_df=pd.read_csv('./sql_data/drug.csv')\n",
    "\n",
    "# And use the `.to_sql` method to create a new table:\n",
    "\n",
    "drug_df.to_sql('drug',\n",
    "               DB_CONNECTION,\n",
    "               if_exists='replace',\n",
    "               index=False\n",
    "              );"
   ]
  },
  {
   "cell_type": "markdown",
   "metadata": {
    "activity": true,
    "hidden": true
   },
   "source": [
    "We can look at the first few rows to check that the table has been created:"
   ]
  },
  {
   "cell_type": "code",
   "execution_count": null,
   "metadata": {
    "activity": true,
    "hidden": true
   },
   "outputs": [],
   "source": [
    "%%sql\n",
    "\n",
    "SELECT *\n",
    "FROM drug\n",
    "LIMIT 5;"
   ]
  },
  {
   "cell_type": "markdown",
   "metadata": {
    "activity": true,
    "hidden": true
   },
   "source": [
    "And add the primary key:"
   ]
  },
  {
   "cell_type": "code",
   "execution_count": null,
   "metadata": {
    "activity": true,
    "hidden": true
   },
   "outputs": [],
   "source": [
    "%%sql\n",
    "\n",
    "ALTER TABLE drug\n",
    "ADD CONSTRAINT drug_pk\n",
    "    PRIMARY KEY (drug_code);"
   ]
  },
  {
   "cell_type": "markdown",
   "metadata": {
    "activity": true,
    "hidden": true
   },
   "source": [
    "We can add the `prescription` table in the same way:"
   ]
  },
  {
   "cell_type": "code",
   "execution_count": null,
   "metadata": {
    "activity": true,
    "hidden": true
   },
   "outputs": [],
   "source": [
    "# Import the drug.csv file into a dataframe\n",
    "prescription_df=pd.read_csv('./sql_data/prescription.csv')\n",
    "\n",
    "# And use the `.to_sql` method to create a new table:\n",
    "\n",
    "prescription_df.to_sql('prescription',\n",
    "                       DB_CONNECTION,\n",
    "                       if_exists='replace',\n",
    "                       index=False\n",
    "                      )"
   ]
  },
  {
   "cell_type": "markdown",
   "metadata": {
    "activity": true,
    "hidden": true
   },
   "source": [
    "We can look at the first few rows to check that the table has been created:"
   ]
  },
  {
   "cell_type": "code",
   "execution_count": null,
   "metadata": {
    "activity": true,
    "hidden": true
   },
   "outputs": [],
   "source": [
    "%%sql\n",
    "\n",
    "SELECT *\n",
    "FROM prescription\n",
    "LIMIT 5;"
   ]
  },
  {
   "cell_type": "markdown",
   "metadata": {
    "activity": true,
    "hidden": true
   },
   "source": [
    "And add the primary key:"
   ]
  },
  {
   "cell_type": "code",
   "execution_count": null,
   "metadata": {
    "activity": true,
    "hidden": true
   },
   "outputs": [],
   "source": [
    "%%sql\n",
    "\n",
    "ALTER TABLE prescription\n",
    "ADD CONSTRAINT prescription_pk\n",
    "    PRIMARY KEY (patient_id, doctor_id, drug_code, date);"
   ]
  },
  {
   "cell_type": "markdown",
   "metadata": {
    "activity": true,
    "hidden": true
   },
   "source": [
    "We can now add the foreign keys. From the diagram (and from the discussion in [Part 9, section 5](https://learn2.open.ac.uk/mod/oucontent/olinkremote.php?website=TM351&targetdoc=Part%209%20Relational%20data%20modelling&targetptr=5)), we know that the foreign keys that we require are:\n",
    "\n",
    "- `patient.doctor_id` references `doctor`\n",
    "- `prescription.patient_id` references `patient`\n",
    "- `prescription.doctor_id` references `doctor`\n",
    "- `prescription.drug_code` references `drug`\n",
    "\n",
    "\n",
    "We have already defined the column `patient.doctor_id` to reference `doctor`, so we just need to add the remaining foreign keys:"
   ]
  },
  {
   "cell_type": "code",
   "execution_count": null,
   "metadata": {
    "activity": true,
    "hidden": true
   },
   "outputs": [],
   "source": [
    "%%sql\n",
    "\n",
    "ALTER TABLE prescription\n",
    "ADD CONSTRAINT prescription_patient_fk\n",
    "    FOREIGN KEY (patient_id) REFERENCES patient;"
   ]
  },
  {
   "cell_type": "code",
   "execution_count": null,
   "metadata": {
    "activity": true,
    "hidden": true
   },
   "outputs": [],
   "source": [
    "%%sql\n",
    "\n",
    "ALTER TABLE prescription\n",
    "ADD CONSTRAINT prescription_doctor_fk\n",
    "    FOREIGN KEY (doctor_id) REFERENCES doctor;"
   ]
  },
  {
   "cell_type": "code",
   "execution_count": null,
   "metadata": {
    "activity": true,
    "hidden": true
   },
   "outputs": [],
   "source": [
    "%%sql\n",
    "\n",
    "ALTER TABLE prescription\n",
    "ADD CONSTRAINT prescription_drug_fk\n",
    "    FOREIGN KEY (drug_code) REFERENCES drug;"
   ]
  },
  {
   "cell_type": "markdown",
   "metadata": {
    "activity": true,
    "hidden": true
   },
   "source": [
    "Finally, use the display magic to see the ERD:"
   ]
  },
  {
   "cell_type": "code",
   "execution_count": null,
   "metadata": {
    "activity": true,
    "hidden": true
   },
   "outputs": [],
   "source": [
    "%schema --connection_string $DB_CONNECTION"
   ]
  },
  {
   "cell_type": "markdown",
   "metadata": {
    "activity": true,
    "hidden": true
   },
   "source": [
    "You may notice that in the diagram above, the arrow between the `patient` and `doctor` table is of a different kind to the arrows from `prescription` to `prescription`'s parent tables. Remember that the three foreign keys in `prescription` (`prescription.patient_id`, `prescription.doctor_id` and `prescription.drug_code`) are all part of the primary key, and therefore may not be `NULL`. The form of the arrow represents that the foreign keys as defined in the `prescription` table are required to be `NON NULL` whereas the `doctor_id` foreign key in the `patient` table *may* be `NULL`."
   ]
  },
  {
   "cell_type": "markdown",
   "metadata": {
    "activity": true
   },
   "source": [
    "#### End of Activity 3"
   ]
  },
  {
   "cell_type": "markdown",
   "metadata": {},
   "source": [
    "-----------------------------------------------"
   ]
  },
  {
   "cell_type": "markdown",
   "metadata": {},
   "source": [
    "## Foreign keys referencing non-primary keys"
   ]
  },
  {
   "cell_type": "markdown",
   "metadata": {},
   "source": [
    "So far, we have only used foreign keys to refer to the primary key in the parent table. Although it is usually the case that a foreign key column will reference the primary key of the parent table, this does not have to be the case. For example, suppose that, as well as their codes being unique, all drugs required unique names as well. We might decide to define a table which referenced `drug`, but using the drug's name rather than the code. "
   ]
  },
  {
   "cell_type": "markdown",
   "metadata": {},
   "source": [
    "Let's define a table `drug_order`, which contains three columns representing the order number of a particular drug, the quantity in the order, and the name of the drug in the order:"
   ]
  },
  {
   "cell_type": "code",
   "execution_count": null,
   "metadata": {},
   "outputs": [],
   "source": [
    "%%sql\n",
    "\n",
    "DROP TABLE IF EXISTS drug_order;\n",
    "\n",
    "CREATE TABLE drug_order (\n",
    "    \n",
    "    order_code CHAR(4),\n",
    "    quantity INT,\n",
    "    drug_name TEXT,\n",
    "    \n",
    "    PRIMARY KEY (order_code)\n",
    ");"
   ]
  },
  {
   "cell_type": "markdown",
   "metadata": {},
   "source": [
    " Although we could use the primary key as the reference from `drug_order`, we can also use the drug's name (after all, if the drug name is unique, it should not matter whether the drug is referred to by its name or its code).\n",
    " \n",
    "To define the foreign key in this way, the column name must be given in the `FOREIGN KEY...REFERENCES` declaration, as well as the table that it appears in:"
   ]
  },
  {
   "cell_type": "code",
   "execution_count": null,
   "metadata": {},
   "outputs": [],
   "source": [
    "%%sql\n",
    "\n",
    "ALTER TABLE drug_order\n",
    "ADD CONSTRAINT drug_order_drug_fk\n",
    "    FOREIGN KEY (drug_name) REFERENCES drug(drug_name);"
   ]
  },
  {
   "cell_type": "markdown",
   "metadata": {},
   "source": [
    "When the previous cell is executed, a `ProgrammingError` is raised, with the the explanation that `there is no unique constraint matching given keys for referenced table \"drug\"`. This error is raised here because, although all the values in the `drug_name` column of the `drug` table are currently unique, there is nothing to guarantee that this will continue to be the case in the future. Therefore, if we want to use this column as the referenced column, then it must be *constrained* to be unique. This guarantees that the column will continue to be an acceptable column to reference in future.\n",
    "\n",
    "We can add this constraint as we saw in notebook *08.2 Data Manipulation Language in SQL*:"
   ]
  },
  {
   "cell_type": "code",
   "execution_count": null,
   "metadata": {},
   "outputs": [],
   "source": [
    "%%sql\n",
    "\n",
    "ALTER TABLE drug\n",
    "ADD CONSTRAINT drug_name_unique\n",
    "    UNIQUE (drug_name);"
   ]
  },
  {
   "cell_type": "markdown",
   "metadata": {},
   "source": [
    "and now we can add the foreign key constraint:"
   ]
  },
  {
   "cell_type": "code",
   "execution_count": null,
   "metadata": {},
   "outputs": [],
   "source": [
    "%%sql\n",
    "\n",
    "ALTER TABLE drug_order\n",
    "ADD CONSTRAINT drug_order_drug_fk\n",
    "    FOREIGN KEY (drug_name) REFERENCES drug(drug_name);"
   ]
  },
  {
   "cell_type": "markdown",
   "metadata": {},
   "source": [
    "## What next?"
   ]
  },
  {
   "cell_type": "markdown",
   "metadata": {},
   "source": [
    "You have now seen how to define foreign keys on tables at the point of creating the table, and how to add constraints to unconstrained tables.\n",
    "\n",
    "In the next notebook, *09.2 Using foreign keys in SQL*, we will look in a bit more detail at the behaviour of foreign keys, and how careful use of foreign keys can help maintain the integrity of a database."
   ]
  }
 ],
 "metadata": {
  "kernelspec": {
   "display_name": "Python 3",
   "language": "python",
   "name": "python3"
  },
  "language_info": {
   "codemirror_mode": {
    "name": "ipython",
    "version": 3
   },
   "file_extension": ".py",
   "mimetype": "text/x-python",
   "name": "python",
   "nbconvert_exporter": "python",
   "pygments_lexer": "ipython3",
   "version": "3.7.8"
  }
 },
 "nbformat": 4,
 "nbformat_minor": 2
}
