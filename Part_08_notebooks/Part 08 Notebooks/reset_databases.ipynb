{
 "cells": [
  {
   "cell_type": "markdown",
   "metadata": {},
   "source": [
    "This notebook assumes that a connection has been made with the "
   ]
  },
  {
   "cell_type": "code",
   "execution_count": null,
   "metadata": {},
   "outputs": [],
   "source": [
    "import IPython.display\n",
    "\n",
    "import os.path"
   ]
  },
  {
   "cell_type": "markdown",
   "metadata": {},
   "source": [
    "These are the tables that we need to explicitly drop:"
   ]
  },
  {
   "cell_type": "code",
   "execution_count": null,
   "metadata": {},
   "outputs": [],
   "source": [
    "tables_to_drop_ls=['patient', 'drug', 'doctor', \n",
    "                   'prescription', 'female_patient',\n",
    "                   'young_patient', 'patient_no_pk',\n",
    "                   'test_table', 'customer', 'disk_order',\n",
    "                   'distributor_item', 'drug_order', \n",
    "                   'order_item', 'order_line', \n",
    "                   'unnormalised_prescription', 'distributor',\n",
    "                   'item']"
   ]
  },
  {
   "cell_type": "markdown",
   "metadata": {},
   "source": [
    "See which tables have been defined by the current user:"
   ]
  },
  {
   "cell_type": "code",
   "execution_count": null,
   "metadata": {},
   "outputs": [],
   "source": [
    "%%capture --no-display capture_output\n",
    "%%sql users_tables <<\n",
    "    SELECT tablename\n",
    "    FROM pg_tables\n",
    "    WHERE tableowner=(SELECT current_user)\n",
    "        AND schemaname='public'"
   ]
  },
  {
   "cell_type": "code",
   "execution_count": null,
   "metadata": {},
   "outputs": [],
   "source": [
    "if not users_tables.empty:\n",
    "    users_tables=list(users_tables['tablename'])\n",
    "else:\n",
    "    users_tables=[]"
   ]
  },
  {
   "cell_type": "markdown",
   "metadata": {},
   "source": [
    "Go through `tables_to_drop_ls`, and drop all the tables in that list, using `CASCADE` to remove any further dependencies:"
   ]
  },
  {
   "cell_type": "code",
   "execution_count": null,
   "metadata": {},
   "outputs": [],
   "source": [
    "%%capture --no-display capture_output\n",
    "\n",
    "for table in tables_to_drop_ls:\n",
    "\n",
    "    if table in users_tables:\n",
    "        IPython.display.display_pretty('Removing table {}'.format(table))\n",
    "        %sql DROP TABLE IF EXISTS $table CASCADE\n",
    "\n"
   ]
  },
  {
   "cell_type": "markdown",
   "metadata": {},
   "source": [
    "Now we need to set up the hospital schema. Drop the schema if it already exists:"
   ]
  },
  {
   "cell_type": "code",
   "execution_count": null,
   "metadata": {},
   "outputs": [],
   "source": [
    "IPython.display.display_pretty('Reset hospital schema')"
   ]
  },
  {
   "cell_type": "code",
   "execution_count": null,
   "metadata": {},
   "outputs": [],
   "source": [
    "%%capture capture_output\n",
    "%%sql\n",
    "\n",
    "DROP SCHEMA IF EXISTS hospital CASCADE;"
   ]
  },
  {
   "cell_type": "markdown",
   "metadata": {},
   "source": [
    "Now recreate the schema:"
   ]
  },
  {
   "cell_type": "code",
   "execution_count": null,
   "metadata": {},
   "outputs": [],
   "source": [
    "%%capture capture_output\n",
    "%%sql\n",
    "\n",
    "CREATE SCHEMA hospital;"
   ]
  },
  {
   "cell_type": "markdown",
   "metadata": {},
   "source": [
    "...and create the tables needed for the hospital database:"
   ]
  },
  {
   "cell_type": "code",
   "execution_count": null,
   "metadata": {},
   "outputs": [],
   "source": [
    "%%capture capture_output\n",
    "%%sql\n",
    "\n",
    "CREATE TABLE hospital.patient (\n",
    "    patient_id CHAR(4),\n",
    "    patient_name VARCHAR(20),\n",
    "    date_of_birth DATE,\n",
    "    gender CHAR(6),\n",
    "    height_cm DECIMAL(4,1),\n",
    "    weight_kg DECIMAL(4,1),\n",
    "    doctor_id CHAR(4));"
   ]
  },
  {
   "cell_type": "code",
   "execution_count": null,
   "metadata": {},
   "outputs": [],
   "source": [
    "%%capture capture_output\n",
    "%%sql\n",
    "\n",
    "CREATE TABLE hospital.doctor (\n",
    "    doctor_id CHAR(4),\n",
    "    doctor_name VARCHAR(20));"
   ]
  },
  {
   "cell_type": "code",
   "execution_count": null,
   "metadata": {},
   "outputs": [],
   "source": [
    "%%capture capture_output\n",
    "%%sql\n",
    "\n",
    " CREATE TABLE hospital.drug (\n",
    "     drug_code CHAR(6),\n",
    "     drug_name TEXT)"
   ]
  },
  {
   "cell_type": "code",
   "execution_count": null,
   "metadata": {},
   "outputs": [],
   "source": [
    "%%capture capture_output\n",
    "%%sql\n",
    "\n",
    "CREATE TABLE hospital.prescription (\n",
    "    patient_id CHAR(4),\n",
    "    doctor_id VARCHAR(20),\n",
    "    drug_code CHAR(6),\n",
    "    date DATE,\n",
    "    dosage TEXT,\n",
    "    duration TEXT);"
   ]
  },
  {
   "cell_type": "markdown",
   "metadata": {},
   "source": [
    "Add the primary keys:"
   ]
  },
  {
   "cell_type": "code",
   "execution_count": null,
   "metadata": {},
   "outputs": [],
   "source": [
    "%%capture capture_output\n",
    "%%sql\n",
    "\n",
    "ALTER TABLE hospital.patient\n",
    "    ADD CONSTRAINT hospital_patient_pk\n",
    "        PRIMARY KEY (patient_id);"
   ]
  },
  {
   "cell_type": "code",
   "execution_count": null,
   "metadata": {},
   "outputs": [],
   "source": [
    "%%capture capture_output\n",
    "%%sql\n",
    "\n",
    "ALTER TABLE hospital.doctor\n",
    "    ADD CONSTRAINT hospital_doctor_pk\n",
    "        PRIMARY KEY (doctor_id);"
   ]
  },
  {
   "cell_type": "code",
   "execution_count": null,
   "metadata": {},
   "outputs": [],
   "source": [
    "%%capture capture_output\n",
    "%%sql\n",
    "\n",
    "ALTER TABLE hospital.drug\n",
    "    ADD CONSTRAINT hospital_drug_pk\n",
    "        PRIMARY KEY (drug_code);"
   ]
  },
  {
   "cell_type": "code",
   "execution_count": null,
   "metadata": {},
   "outputs": [],
   "source": [
    "%%capture capture_output\n",
    "%%sql\n",
    "\n",
    "ALTER TABLE hospital.prescription\n",
    "    ADD CONSTRAINT hospital_prescription_pk\n",
    "        PRIMARY KEY (patient_id, doctor_id, drug_code, date);"
   ]
  },
  {
   "cell_type": "markdown",
   "metadata": {},
   "source": [
    "Populate the tables:"
   ]
  },
  {
   "cell_type": "code",
   "execution_count": null,
   "metadata": {},
   "outputs": [],
   "source": [
    "%%capture capture_output\n",
    "\n",
    "# hospital.doctor\n",
    "\n",
    "df=pd.read_csv(os.path.join('.', 'sql_data', 'doctor.csv'))\n",
    "\n",
    "for (id, name) in df.itertuples(index=False, name=None):\n",
    "    %sql INSERT INTO hospital.doctor (doctor_id, doctor_name) VALUES (:id, :name);\n"
   ]
  },
  {
   "cell_type": "code",
   "execution_count": null,
   "metadata": {},
   "outputs": [],
   "source": [
    "%%capture capture_output\n",
    "\n",
    "# hospital.patient\n",
    "\n",
    "df=pd.read_csv(os.path.join('.', 'sql_data', 'patient.csv'),\n",
    "               parse_dates=['date_of_birth'])\n",
    "\n",
    "for (v1, v2, v3, v4, v5, v6, v7) in df.itertuples(index=False, name=None):\n",
    "    \n",
    "    %sql INSERT INTO hospital.patient (patient_id, patient_name, date_of_birth, gender, height_cm, weight_kg, doctor_id) VALUES (:v1, :v2, :v3, :v4, :v5, :v6, :v7);\n",
    "\n"
   ]
  },
  {
   "cell_type": "code",
   "execution_count": null,
   "metadata": {},
   "outputs": [],
   "source": [
    "%%capture capture_output\n",
    "\n",
    "# hospital.drug\n",
    "\n",
    "df=pd.read_csv(os.path.join('.', 'sql_data', 'drug.csv'))\n",
    "\n",
    "for (code, name) in df.itertuples(index=False, name=None):\n",
    "    %sql INSERT INTO hospital.drug (drug_code, drug_name) VALUES (:code, :name);"
   ]
  },
  {
   "cell_type": "code",
   "execution_count": null,
   "metadata": {},
   "outputs": [],
   "source": [
    "%%capture capture_output\n",
    "\n",
    "# hospital.prescription\n",
    "\n",
    "df=pd.read_csv(os.path.join('.', 'sql_data', 'prescription.csv'),\n",
    "               parse_dates=['date'])\n",
    "\n",
    "for (v1, v2, v3, v4, v5, v6) in df.itertuples(index=False, name=None):\n",
    "    %sql INSERT INTO hospital.prescription (patient_id, date, doctor_id, drug_code, dosage, duration) VALUES (:v1, :v2, :v3, :v4, :v5, :v6);\n"
   ]
  },
  {
   "cell_type": "markdown",
   "metadata": {},
   "source": [
    "Finally, add the foreign key constraints"
   ]
  },
  {
   "cell_type": "code",
   "execution_count": null,
   "metadata": {},
   "outputs": [],
   "source": [
    "%%capture capture_output\n",
    "%%sql\n",
    "\n",
    "ALTER TABLE hospital.patient\n",
    "    ADD CONSTRAINT hospital_patient_doctor_fk\n",
    "        FOREIGN KEY (doctor_id) REFERENCES hospital.doctor;"
   ]
  },
  {
   "cell_type": "code",
   "execution_count": null,
   "metadata": {},
   "outputs": [],
   "source": [
    "%%capture capture_output\n",
    "%%sql\n",
    "\n",
    "ALTER TABLE hospital.prescription\n",
    "    ADD CONSTRAINT hospital_prescription_patient_fk\n",
    "        FOREIGN KEY (patient_id) REFERENCES hospital.patient;"
   ]
  },
  {
   "cell_type": "code",
   "execution_count": null,
   "metadata": {},
   "outputs": [],
   "source": [
    "%%capture capture_output\n",
    "%%sql\n",
    "\n",
    "ALTER TABLE hospital.prescription\n",
    "    ADD CONSTRAINT hospital_prescription_doctor_fk\n",
    "        FOREIGN KEY (doctor_id) REFERENCES hospital.doctor;"
   ]
  },
  {
   "cell_type": "code",
   "execution_count": null,
   "metadata": {},
   "outputs": [],
   "source": [
    "%%capture capture_output\n",
    "%%sql\n",
    "\n",
    "ALTER TABLE hospital.prescription\n",
    "    ADD CONSTRAINT hospital_prescription_drug_fk\n",
    "        FOREIGN KEY (drug_code) REFERENCES hospital.drug;"
   ]
  },
  {
   "cell_type": "markdown",
   "metadata": {},
   "source": [
    "And we're finished, so print a closing message:"
   ]
  },
  {
   "cell_type": "code",
   "execution_count": null,
   "metadata": {},
   "outputs": [],
   "source": [
    "IPython.display.display_pretty('done')"
   ]
  }
 ],
 "metadata": {
  "kernelspec": {
   "display_name": "Python 3",
   "language": "python",
   "name": "python3"
  },
  "language_info": {
   "codemirror_mode": {
    "name": "ipython",
    "version": 3
   },
   "file_extension": ".py",
   "mimetype": "text/x-python",
   "name": "python",
   "nbconvert_exporter": "python",
   "pygments_lexer": "ipython3",
   "version": "3.6.8"
  }
 },
 "nbformat": 4,
 "nbformat_minor": 2
}
