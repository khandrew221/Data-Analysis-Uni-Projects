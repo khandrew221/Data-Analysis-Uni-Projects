{
 "cells": [
  {
   "cell_type": "markdown",
   "metadata": {},
   "source": [
    "# Setting up the Movies database"
   ]
  },
  {
   "cell_type": "markdown",
   "metadata": {},
   "source": [
    "In this part, we will be exploring a dataset made up of data about movies. The database is constructed from a set of csv files. Before working through the rest of notebooks in this part, you will need to build the database."
   ]
  },
  {
   "cell_type": "markdown",
   "metadata": {},
   "source": [
    "This notebook will build the database for you. We will not alter the base tables of the `movies` database in TM351, so unless you modify it yourself (either directly, or by destroying your instance of the VM), you should not need to rebuild the database. If you have experimented and altered the database, that's good: you can always rerun this notebook to rebuild the database from the original csv files.\n",
    " "
   ]
  },
  {
   "cell_type": "markdown",
   "metadata": {},
   "source": [
    "The build script can take a few minutes to run, so just run it once at the beginning of this Part, and then don't run it again unless you have to! "
   ]
  },
  {
   "cell_type": "markdown",
   "metadata": {},
   "source": [
    "As in the previous parts, you will need to set the variables to connect to the PostgreSQL server, and after that, the script should build the movies database. Set your database credentials using one of the next two cells, and then run the final cell to build the database:"
   ]
  },
  {
   "cell_type": "raw",
   "metadata": {},
   "source": [
    "# If you are using the remote environment, change this cell\n",
    "# type to \"code\", and execute it\n",
    "\n",
    "DB_USER='xxx99'            # Enter your OUCU here (in quotes)\n",
    "DB_PWD='your_password'     # Enter your password here (in quotes)"
   ]
  },
  {
   "cell_type": "raw",
   "metadata": {},
   "source": [
    "# If you are using a local environment, change this cell\n",
    "# type to \"code\", and execute it\n",
    "\n",
    "DB_USER='tm351'\n",
    "DB_PWD='tm351'"
   ]
  },
  {
   "cell_type": "code",
   "execution_count": null,
   "metadata": {},
   "outputs": [],
   "source": [
    "# Run the database cleanup script\n",
    "\n",
    "import runpy\n",
    "\n",
    "runpy.run_path('./sql_initial_state_movies.py', \n",
    "               {'DB_USER_MOVIES':DB_USER,\n",
    "                'DB_PWD_MOVIES':DB_PWD})\n",
    "pass"
   ]
  },
  {
   "cell_type": "markdown",
   "metadata": {},
   "source": [
    "Once the script has completed, you can continue with the first notebook of this part, `11.1 Movie analysis`. If you are interested in the build script, you can read it in the `sql_initial_state_movies.py` in this directory."
   ]
  }
 ],
 "metadata": {
  "kernelspec": {
   "display_name": "Python 3",
   "language": "python",
   "name": "python3"
  },
  "language_info": {
   "codemirror_mode": {
    "name": "ipython",
    "version": 3
   },
   "file_extension": ".py",
   "mimetype": "text/x-python",
   "name": "python",
   "nbconvert_exporter": "python",
   "pygments_lexer": "ipython3",
   "version": "3.7.8"
  }
 },
 "nbformat": 4,
 "nbformat_minor": 2
}
