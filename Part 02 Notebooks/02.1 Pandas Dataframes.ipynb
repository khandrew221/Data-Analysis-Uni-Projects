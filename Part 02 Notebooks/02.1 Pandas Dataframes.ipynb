{
 "cells": [
  {
   "cell_type": "markdown",
   "metadata": {
    "code_folding": [
     0
    ]
   },
   "source": [
    "# The *pandas* library: `Series` and `DataFrame`s"
   ]
  },
  {
   "cell_type": "markdown",
   "metadata": {},
   "source": [
    "Python is a general-purpose scripting language. However, when working in a particular domain, such as the world of data, it can be useful to make use of code libraries that provide higher-level data structures and operations that are suited to that domain.\n",
    "\n",
    "A library we will be drawing on heavily in this module is *pandas*. If data is represented in an appropriate format, it can make it much easier to work with. *pandas* provides several such formats. In this Notebook, you will learn about two key *pandas* data structures: `Series` and a tabular data structure referred to as a `DataFrame`. \n",
    "\n",
    "To start with we need to load in the *pandas* library, by convention we associate this with the convenient label *pd*."
   ]
  },
  {
   "cell_type": "code",
   "execution_count": null,
   "metadata": {
    "code_folding": [
     0
    ]
   },
   "outputs": [],
   "source": [
    "import pandas as pd"
   ]
  },
  {
   "cell_type": "markdown",
   "metadata": {},
   "source": [
    "Note that it is possible to set up notebooks to preload your most commonly used libraries. However, as a reminder that many libraries we are using are not part of the standard Python code base we will include an `import` statement for the libraries we use.\n",
    "\n",
    "This is also good practice as it allows a reader, or a newcomer to your code, to identify which libraries contain the functions or datastructures you are using. Similarly, it is bad (although widespread) practice to import all the functionality of a library with the `*` notation. For example, if we were using both *pandas* and *numpy*, the numerical python library that *pandas* is built on, we might see:\n",
    "\n",
    "```python\n",
    "from pandas import *\n",
    "from numpy import *\n",
    "\n",
    "# Where are isnull and nan defined?\n",
    "\n",
    "if isnull(nan):\n",
    "    # Do something\n",
    "```\n",
    "\n",
    "By labelling the libraries as they are imported, it is clear which library each operation belongs to:\n",
    "\n",
    "```python\n",
    "import pandas as pd\n",
    "import numpy as np\n",
    "\n",
    "# Clear where isnull and nan are defined:\n",
    "\n",
    "if pd.isnull(np.nan):\n",
    "    # Do something\n",
    "```"
   ]
  },
  {
   "cell_type": "markdown",
   "metadata": {},
   "source": [
    "## Python recap: `list`s and `dict`s"
   ]
  },
  {
   "cell_type": "markdown",
   "metadata": {},
   "source": [
    "Python lists are flexible, mutable, data structures that can be used to represent an ordered list of objects."
   ]
  },
  {
   "cell_type": "code",
   "execution_count": null,
   "metadata": {},
   "outputs": [],
   "source": [
    "simple_list = ['apples', 'oranges', 'bananas', 'pears']"
   ]
  },
  {
   "cell_type": "markdown",
   "metadata": {},
   "source": [
    "Associated with each list is a numerical *index* value, with a count starting at zero, that identifies the position of each list member. The *N*th list member has index value *N* - 1."
   ]
  },
  {
   "cell_type": "code",
   "execution_count": null,
   "metadata": {},
   "outputs": [],
   "source": [
    "print(f\"First list item (index value 1-1 = 0): simple_list[0] -> {simple_list[0]}\")\n",
    "print(f\"Third list item (index value 3-1 = 2): simple_list[2] -> {simple_list[2]}\")"
   ]
  },
  {
   "cell_type": "markdown",
   "metadata": {},
   "source": [
    "Python also supports unordered *associative arrays* in the form of `dict`s that allow you to index a value by name:"
   ]
  },
  {
   "cell_type": "code",
   "execution_count": null,
   "metadata": {},
   "outputs": [],
   "source": [
    "simple_dict = {'one':1, 'two':2, 'four':4, 'three':3}\n",
    "print(f\"Item with key (index) 'two' has value: {simple_dict['two']}\")"
   ]
  },
  {
   "cell_type": "markdown",
   "metadata": {},
   "source": [
    "We can inspect the keys and the values contained within a dict by converting them into a list:"
   ]
  },
  {
   "cell_type": "code",
   "execution_count": null,
   "metadata": {},
   "outputs": [],
   "source": [
    "print(list(simple_dict.keys()))\n",
    "print(list(simple_dict.values()))"
   ]
  },
  {
   "cell_type": "markdown",
   "metadata": {},
   "source": [
    "With a simple `list` or `dict`, we can use a `list` or `dict` comprehension to filter the contents of an object according to a test condition. For example, we can test against the value of the items in a `dict` and generate a `list` containing associated `dict` values:"
   ]
  },
  {
   "cell_type": "code",
   "execution_count": null,
   "metadata": {},
   "outputs": [],
   "source": [
    "[k for k in simple_dict if simple_dict[k] > 2]"
   ]
  },
  {
   "cell_type": "code",
   "execution_count": null,
   "metadata": {},
   "outputs": [],
   "source": [
    "# The following statement makes a new dict by swapping the keys and values\n",
    "#    contained in simple_dict and prints them out.\n",
    "alternative_dict = dict(zip(simple_dict.values(), simple_dict.keys()))\n",
    "\n",
    "print(list(alternative_dict.keys()))\n",
    "print(list(alternative_dict.values()))"
   ]
  },
  {
   "cell_type": "markdown",
   "metadata": {},
   "source": [
    "## *pandas* `Series` and `DataFrame`s"
   ]
  },
  {
   "cell_type": "markdown",
   "metadata": {},
   "source": [
    "In the following sections you will be introduced to two powerful data representations supported by the pandas library: `Series` and `DataFrames`. The introduction provides a quick overview of some of the operations that are possible using these data structures. We will be revisiting many of the operations in more depth later in the module, so for now just try to get a feel for what's possible."
   ]
  },
  {
   "cell_type": "markdown",
   "metadata": {},
   "source": [
    "## Series"
   ]
  },
  {
   "cell_type": "markdown",
   "metadata": {},
   "source": [
    "A *pandas* `Series` combines the idea of a list with an additional index column, by default this is a numeric index starting at zero:"
   ]
  },
  {
   "cell_type": "code",
   "execution_count": null,
   "metadata": {},
   "outputs": [],
   "source": [
    "simple_series = pd.Series(['one', 'two', 'three', 'four'])\n",
    "\n",
    "simple_series"
   ]
  },
  {
   "cell_type": "markdown",
   "metadata": {},
   "source": [
    "We can index into a `Series` using the corresponding index value:"
   ]
  },
  {
   "cell_type": "code",
   "execution_count": null,
   "metadata": {},
   "outputs": [],
   "source": [
    "simple_series[1]"
   ]
  },
  {
   "cell_type": "markdown",
   "metadata": {},
   "source": [
    "We can also grab several values at once if we pass the desired index values in as a list in the order we want them to be displayed:"
   ]
  },
  {
   "cell_type": "code",
   "execution_count": null,
   "metadata": {},
   "outputs": [],
   "source": [
    "simple_series[ [1, 0, 3] ]"
   ]
  },
  {
   "cell_type": "markdown",
   "metadata": {},
   "source": [
    "In much the same way that we can inspect the keys used in a Python dict, we can inspect the index values used within a Series:"
   ]
  },
  {
   "cell_type": "code",
   "execution_count": null,
   "metadata": {},
   "outputs": [],
   "source": [
    "simple_series.index"
   ]
  },
  {
   "cell_type": "markdown",
   "metadata": {},
   "source": [
    "We can also define our own index values:"
   ]
  },
  {
   "cell_type": "code",
   "execution_count": null,
   "metadata": {},
   "outputs": [],
   "source": [
    "myindex_series = pd.Series([1, 2, 3, 4],\n",
    "                           index=['one', 'two', 'three', 'four'])\n",
    "print(myindex_series.index)\n",
    "myindex_series"
   ]
  },
  {
   "cell_type": "markdown",
   "metadata": {},
   "source": [
    "Again, it's easy enough to pull out several values from the `Series` by providing several of our own index values in a `list`:"
   ]
  },
  {
   "cell_type": "code",
   "execution_count": null,
   "metadata": {},
   "outputs": [],
   "source": [
    "myindex_series[ ['two', 'four'] ]"
   ]
  },
  {
   "cell_type": "markdown",
   "metadata": {},
   "source": [
    "`Series` can also be created from a simple `dict`, where the unique key values become index values:"
   ]
  },
  {
   "cell_type": "code",
   "execution_count": null,
   "metadata": {},
   "outputs": [],
   "source": [
    "pd.Series( {'Q1':'Spring', 'Q2':'Summer', 'Q3':'Autumn', 'Q4':'Winter'} )"
   ]
  },
  {
   "cell_type": "code",
   "execution_count": null,
   "metadata": {},
   "outputs": [],
   "source": [
    "pd.Series({'Q1':'Spring', 'Q2':'Summer', 'Q3':'Autumn', 'Q4':'Winter'}, \n",
    "       index=['Q4', 'Q3', 'Q2', 'Q1'] )"
   ]
  },
  {
   "cell_type": "markdown",
   "metadata": {
    "activity": true
   },
   "source": [
    "### Activity 1"
   ]
  },
  {
   "cell_type": "markdown",
   "metadata": {
    "activity": true,
    "code_folding": [
     0
    ]
   },
   "source": [
    "Construct a `Series` containing the names of the days of the week and a day number index, ordering the days Monday to Sunday with day index values 1 to 7. Assign your `Series` to a variable `days_of_the_week`. "
   ]
  },
  {
   "cell_type": "code",
   "execution_count": null,
   "metadata": {
    "student": true
   },
   "outputs": [],
   "source": [
    "# Enter your code in this cell. Add more cells if you need to."
   ]
  },
  {
   "cell_type": "markdown",
   "metadata": {
    "activity": true,
    "heading_collapsed": true
   },
   "source": [
    "#### Our solution\n",
    "\n",
    "To reveal our solution, run this cell or click on the triangle symbol on the left-hand side of the cell."
   ]
  },
  {
   "cell_type": "markdown",
   "metadata": {
    "activity": true,
    "hidden": true
   },
   "source": [
    "Here's our sample solution. The first thing to note is that simply defining a Series without managing the index starts the indexing at zero:"
   ]
  },
  {
   "cell_type": "code",
   "execution_count": null,
   "metadata": {
    "activity": true,
    "code_folding": [],
    "hidden": true
   },
   "outputs": [],
   "source": [
    "wrong_index_days_of_the_week = pd.Series( ['Monday', 'Tuesday', 'Wednesday', 'Thursday', \n",
    "                                           'Friday', 'Saturday', 'Sunday'] )\n",
    "wrong_index_days_of_the_week"
   ]
  },
  {
   "cell_type": "markdown",
   "metadata": {
    "activity": true,
    "code_folding": [],
    "hidden": true
   },
   "source": [
    "So we need to supply the index even though it's a simple integer run of values:"
   ]
  },
  {
   "cell_type": "code",
   "execution_count": null,
   "metadata": {
    "activity": true,
    "code_folding": [],
    "hidden": true
   },
   "outputs": [],
   "source": [
    "days_of_the_week = pd.Series( ['Monday', 'Tuesday', 'Wednesday', 'Thursday',\n",
    "                               'Friday', 'Saturday', 'Sunday'],\n",
    "                             index=[1, 2, 3, 4, 5, 6, 7] )\n",
    "days_of_the_week"
   ]
  },
  {
   "cell_type": "markdown",
   "metadata": {
    "activity": true
   },
   "source": [
    "#### End of Activity 1"
   ]
  },
  {
   "cell_type": "markdown",
   "metadata": {},
   "source": [
    "### 'Vector' operations with `Series`"
   ]
  },
  {
   "cell_type": "markdown",
   "metadata": {},
   "source": [
    "In certain respects, we can think of a `Series` as a vector. For example: if we multiply a `Series` by a scalar value, each member of the `Series` is multiplied by that value:"
   ]
  },
  {
   "cell_type": "code",
   "execution_count": null,
   "metadata": {},
   "outputs": [],
   "source": [
    "5 * pd.Series([1, 1, 2, 3, 4])"
   ]
  },
  {
   "cell_type": "markdown",
   "metadata": {},
   "source": [
    "If you have every worked with a spreadsheet and used a formula to multiply the values in one column by the same fixed amount, you will have performed a similar operation.\n",
    "\n",
    "Similarly with other operations can be applied to a `Series`, such as adding or subtracting the same fixed amount to each item:"
   ]
  },
  {
   "cell_type": "code",
   "execution_count": null,
   "metadata": {},
   "outputs": [],
   "source": [
    "mySeries = pd.Series([6, 7, 3, 9, 1])\n",
    "mySeries, mySeries - 7.1"
   ]
  },
  {
   "cell_type": "markdown",
   "metadata": {},
   "source": [
    "We can combine two `Series` with simple operations:"
   ]
  },
  {
   "cell_type": "code",
   "execution_count": null,
   "metadata": {},
   "outputs": [],
   "source": [
    "pd.Series([1, 1, 2, 3, 4]) + pd.Series([10, 10, 15, -15, -20])"
   ]
  },
  {
   "cell_type": "markdown",
   "metadata": {},
   "source": [
    " But be careful if the two series are not the same length - try it and see what happens."
   ]
  },
  {
   "cell_type": "markdown",
   "metadata": {},
   "source": [
    "We can also apply a function to each item in a Series, returning a new Series of the same length as the original one:"
   ]
  },
  {
   "cell_type": "code",
   "execution_count": null,
   "metadata": {},
   "outputs": [],
   "source": [
    "def square(x):\n",
    "    \"\"\"Return the square of a provided value.\"\"\"\n",
    "    return x**2\n",
    "    \n",
    "intSeries = pd.Series( [1, -2, 3, -4])\n",
    "\n",
    "intSeries.apply(square)"
   ]
  },
  {
   "cell_type": "markdown",
   "metadata": {},
   "source": [
    "We can also apply a `lambda` function to the elements of a `Series`:"
   ]
  },
  {
   "cell_type": "code",
   "execution_count": null,
   "metadata": {},
   "outputs": [],
   "source": [
    "intSeries.apply(lambda x: x**3)"
   ]
  },
  {
   "cell_type": "markdown",
   "metadata": {},
   "source": [
    "### Filtering `Series`"
   ]
  },
  {
   "cell_type": "markdown",
   "metadata": {},
   "source": [
    "A very useful feature of `Series` is that we can filter their values by value. The *values* in the `Series` (*not* the index values) are tested against the condition and the `Series` elements that pass the test are returned, along with their index values."
   ]
  },
  {
   "cell_type": "markdown",
   "metadata": {},
   "source": [
    "Let's create another simple series using `range` to generate a short sequence of values:"
   ]
  },
  {
   "cell_type": "code",
   "execution_count": null,
   "metadata": {},
   "outputs": [],
   "source": [
    "range_series=pd.Series(range(100, 106))\n",
    "range_series"
   ]
  },
  {
   "cell_type": "markdown",
   "metadata": {},
   "source": [
    "We can create a new `Series` created as a filtered set of values from the original `Series`, in this case, items where the value exceeds a specified minimum value:"
   ]
  },
  {
   "cell_type": "code",
   "execution_count": null,
   "metadata": {},
   "outputs": [],
   "source": [
    "range_series[ range_series > 102 ]"
   ]
  },
  {
   "cell_type": "markdown",
   "metadata": {},
   "source": [
    "This takes a little bit of thinking about. Let's see what the index expression (in the square brackets, `[]`) is returning:"
   ]
  },
  {
   "cell_type": "code",
   "execution_count": null,
   "metadata": {},
   "outputs": [],
   "source": [
    "range_series > 102"
   ]
  },
  {
   "cell_type": "markdown",
   "metadata": {},
   "source": [
    "Then, the index values that return `True` are used as the index value to return the `Series` values associated with them. In `range_series`, these are the values `103`, `104` and `105`.\n",
    "\n",
    "Note also that the index values of the new `Series` are the index values from the original `Series`:"
   ]
  },
  {
   "cell_type": "code",
   "execution_count": null,
   "metadata": {},
   "outputs": [],
   "source": [
    "range_series[range_series > 102]"
   ]
  },
  {
   "cell_type": "markdown",
   "metadata": {},
   "source": [
    "We can reset the index values by applying the `.reset_index()` method to the filtered `Series`. The `drop=True` parameter ensures the original index values are then just thrown away..."
   ]
  },
  {
   "cell_type": "code",
   "execution_count": null,
   "metadata": {},
   "outputs": [],
   "source": [
    "range_series[ range_series > 102 ].reset_index(drop=True)"
   ]
  },
  {
   "cell_type": "markdown",
   "metadata": {},
   "source": [
    "### Aligning data in `Series`"
   ]
  },
  {
   "cell_type": "markdown",
   "metadata": {},
   "source": [
    "In many situations it can be useful to be able to add `Series` elements together where they share some common index values, even if the `Series` are presented in a different order. \n",
    "\n",
    "For example, imagine you have two separate `Series` containing the values of payments made to just the companies who worked on a particular project. Now suppose we want a `totalSpend` `Series` which is the sum of the two `Series` elements for each company."
   ]
  },
  {
   "cell_type": "code",
   "execution_count": null,
   "metadata": {},
   "outputs": [],
   "source": [
    "# The total spend Series for the four companies starts at zero.\n",
    "totalSpend = pd.Series({\"Company A\":0, \"Company B\":0, \"Company C\":0, \"Company D\":0})\n",
    "totalSpend"
   ]
  },
  {
   "cell_type": "markdown",
   "metadata": {},
   "source": [
    "The `project1` variable represents the company expenditures on one project; `project2` represents another project:"
   ]
  },
  {
   "cell_type": "code",
   "execution_count": null,
   "metadata": {},
   "outputs": [],
   "source": [
    "project1 = pd.Series([1000, 2000, 500], index=[\"Company A\", \"Company B\", \"Company C\"])\n",
    "project2 = pd.Series([800, 2000 ], index=[\"Company D\", \"Company A\"])"
   ]
  },
  {
   "cell_type": "markdown",
   "metadata": {},
   "source": [
    "What happens if we try adding various combinations of `totalSpend`, `project1` and `project2`, treating them as vectors?"
   ]
  },
  {
   "cell_type": "code",
   "execution_count": null,
   "metadata": {},
   "outputs": [],
   "source": [
    "totalSpend + project1"
   ]
  },
  {
   "cell_type": "markdown",
   "metadata": {},
   "source": [
    "And another:"
   ]
  },
  {
   "cell_type": "code",
   "execution_count": null,
   "metadata": {},
   "outputs": [],
   "source": [
    "project1 + project2"
   ]
  },
  {
   "cell_type": "markdown",
   "metadata": {},
   "source": [
    "If any index values don't match across both `Series`, then the sum for that index value returns *NaN* - which means \"*N*ot *a* *N*umber\". If particular row index values do match across Series, even if they are not presented in the same order, then the rows are aligned and the sum of similarly indexed values is calculated and returned.\n",
    "\n",
    "Using the `Series.add()` method, we can force missing values to be treated as a particular value, such as 0, using a `fill_value` parameter."
   ]
  },
  {
   "cell_type": "code",
   "execution_count": null,
   "metadata": {},
   "outputs": [],
   "source": [
    "totalSpend.add(project1, fill_value=0)"
   ]
  },
  {
   "cell_type": "markdown",
   "metadata": {},
   "source": [
    "The result of the `add()` method is itself a `Series`.  So we can chain the `add` expressions:"
   ]
  },
  {
   "cell_type": "code",
   "execution_count": null,
   "metadata": {},
   "outputs": [],
   "source": [
    "totalSpend.add(project1, fill_value=0).add(project2, fill_value=0)"
   ]
  },
  {
   "cell_type": "markdown",
   "metadata": {},
   "source": [
    "## `DataFrames`"
   ]
  },
  {
   "cell_type": "markdown",
   "metadata": {},
   "source": [
    "DataFrames are two-dimensional data tables in which rows of data have values spread across one or more columns, much like a sheet in a spreadsheet. Each column behaves as if it is a `Series`; a `DataFrame` can therefore be thought of as a `dict` of `Series`, where `dict` keys correspond to column names. "
   ]
  },
  {
   "cell_type": "markdown",
   "metadata": {},
   "source": [
    "Calling the `pandas.DataFrame()` function with no arguments creates an empty 'DataFrame`:"
   ]
  },
  {
   "cell_type": "code",
   "execution_count": null,
   "metadata": {},
   "outputs": [],
   "source": [
    "empty_df = pd.DataFrame()\n",
    "empty_df"
   ]
  },
  {
   "cell_type": "markdown",
   "metadata": {},
   "source": [
    "We can also check whether a 'DataFrame` object is empty or not:"
   ]
  },
  {
   "cell_type": "code",
   "execution_count": null,
   "metadata": {},
   "outputs": [],
   "source": [
    "empty_df.empty"
   ]
  },
  {
   "cell_type": "markdown",
   "metadata": {},
   "source": [
    "The `courseData` object is a `dict`, with each key the name of a column, and each value a list of the values in that column:"
   ]
  },
  {
   "cell_type": "code",
   "execution_count": null,
   "metadata": {},
   "outputs": [],
   "source": [
    "course_dict = {'course_code': ['TM351', 'TU100', 'M269'],\n",
    "              'points': [30, 60, 30],\n",
    "              'study_level': ['3', '1', '2']\n",
    "              }\n",
    "\n",
    "course_dict"
   ]
  },
  {
   "cell_type": "markdown",
   "metadata": {},
   "source": [
    "If we pass just such a `dict` to the `DataFrame()` function, we can create a `DataFrame` object from it:"
   ]
  },
  {
   "cell_type": "code",
   "execution_count": null,
   "metadata": {},
   "outputs": [],
   "source": [
    "course_df = pd.DataFrame(course_dict)\n",
    "course_df"
   ]
  },
  {
   "cell_type": "markdown",
   "metadata": {},
   "source": [
    "You will see that the notebook renders the `DataFrame` as a table. The bold font column on the left is the `DataFrame` index. The column names correspond to the `dict` keys.\n",
    "\n",
    "We can check the object type too, and see whether it is empty:"
   ]
  },
  {
   "cell_type": "code",
   "execution_count": null,
   "metadata": {},
   "outputs": [],
   "source": [
    "type(course_df), course_df.empty"
   ]
  },
  {
   "cell_type": "markdown",
   "metadata": {},
   "source": [
    "We can also create a `DataFrame` from a list of tuples - each tuple becomes a row, and we use the `columns` parameter to give a name to the columns:"
   ]
  },
  {
   "cell_type": "code",
   "execution_count": null,
   "metadata": {},
   "outputs": [],
   "source": [
    "pd.DataFrame([('a', 1, 2), ('b', 2, 3)], \n",
    "             columns=[\"alpha\", 'num1', 'num2'])"
   ]
  },
  {
   "cell_type": "markdown",
   "metadata": {},
   "source": [
    "We can pull out any required column as a Series by using the column name as a key value in a way that resembles using a `dict` key: "
   ]
  },
  {
   "cell_type": "code",
   "execution_count": null,
   "metadata": {},
   "outputs": [],
   "source": [
    "course_df['course_code']"
   ]
  },
  {
   "cell_type": "markdown",
   "metadata": {},
   "source": [
    "You can also use a dot notation to refer to the column as an attribute of the `DataFrame`, although this is perhaps not as clear as using the `[]` approach:"
   ]
  },
  {
   "cell_type": "code",
   "execution_count": null,
   "metadata": {},
   "outputs": [],
   "source": [
    "course_df.course_code"
   ]
  },
  {
   "cell_type": "markdown",
   "metadata": {},
   "source": [
    "The `[]` approach also provides a level of indirection when accessing columns. For example, we can refer to a column via a variable:"
   ]
  },
  {
   "cell_type": "code",
   "execution_count": null,
   "metadata": {},
   "outputs": [],
   "source": [
    "myCol = 'course_code'\n",
    "course_df[ myCol ]"
   ]
  },
  {
   "cell_type": "markdown",
   "metadata": {},
   "source": [
    "To pull out several columns, provide a list of the column names you want to extract as index values:"
   ]
  },
  {
   "cell_type": "code",
   "execution_count": null,
   "metadata": {},
   "outputs": [],
   "source": [
    "course_df[ ['course_code', 'study_level'] ]"
   ]
  },
  {
   "cell_type": "markdown",
   "metadata": {},
   "source": [
    "Again, we can refer to the columns via a variable:"
   ]
  },
  {
   "cell_type": "code",
   "execution_count": null,
   "metadata": {},
   "outputs": [],
   "source": [
    "myCols = ['course_code', 'study_level'] \n",
    "course_df[ myCols ]"
   ]
  },
  {
   "cell_type": "markdown",
   "metadata": {},
   "source": [
    "We can force the ordering of columns in the `DataFrame` by means of the `columns` variable. If a column name is specified that does not have a match in the keys of the source data `dict`, an empty column is created with all the values set to `NaN`:"
   ]
  },
  {
   "cell_type": "code",
   "execution_count": null,
   "metadata": {},
   "outputs": [],
   "source": [
    "course_df = pd.DataFrame(course_dict, columns=['study_level', 'course_code', 'title', 'points'])\n",
    "course_df"
   ]
  },
  {
   "cell_type": "markdown",
   "metadata": {},
   "source": [
    "We can populate a column with the same value in each cell using a single value assignment (for example, a string or an `int`):"
   ]
  },
  {
   "cell_type": "code",
   "execution_count": null,
   "metadata": {},
   "outputs": [],
   "source": [
    "course_df['title'] = 'Unknown'\n",
    "course_df"
   ]
  },
  {
   "cell_type": "markdown",
   "metadata": {},
   "source": [
    "We can also set column values from a `Series`:"
   ]
  },
  {
   "cell_type": "code",
   "execution_count": null,
   "metadata": {},
   "outputs": [],
   "source": [
    "course_df['title'] = pd.Series(['The data course', 'The foundation course', 'The algorithms course'])\n",
    "course_df"
   ]
  },
  {
   "cell_type": "markdown",
   "metadata": {},
   "source": [
    "And we can pull out the values of a column in a similar way:"
   ]
  },
  {
   "cell_type": "code",
   "execution_count": null,
   "metadata": {},
   "outputs": [],
   "source": [
    "course_df['title']"
   ]
  },
  {
   "cell_type": "markdown",
   "metadata": {},
   "source": [
    "#### Column typing in `DataFrame`s"
   ]
  },
  {
   "cell_type": "markdown",
   "metadata": {},
   "source": [
    "In order to perform certain operations on a column, the column needs to be correctly typed - that is, all elements need to be of a particular type.\n",
    "\n",
    "You can check the type of each column in a `DataFrame` using the `.dtypes` attribute:"
   ]
  },
  {
   "cell_type": "code",
   "execution_count": null,
   "metadata": {
    "scrolled": true
   },
   "outputs": [],
   "source": [
    "course_df.dtypes"
   ]
  },
  {
   "cell_type": "markdown",
   "metadata": {},
   "source": [
    "Here we see that the `study_level` and `title` are classed as object types, but the `points` values have been identified as integers.\n",
    "\n",
    "We can recast the values of a column to another datatype using the `.astype()` method:"
   ]
  },
  {
   "cell_type": "code",
   "execution_count": null,
   "metadata": {},
   "outputs": [],
   "source": [
    "course_df['study_level'] = course_df['study_level'].astype(int)\n",
    "course_df.dtypes"
   ]
  },
  {
   "cell_type": "markdown",
   "metadata": {},
   "source": [
    "#### Simple vector operations\n",
    "\n",
    "As with a `Series`, we can perform vector style operations across one or more columns. For example, we can multiply or divide the values in a column vector by a scalar value:"
   ]
  },
  {
   "cell_type": "code",
   "execution_count": null,
   "metadata": {},
   "outputs": [],
   "source": [
    "course_df['weekly_study_hours'] = 10 * course_df['points'] / 30\n",
    "course_df"
   ]
  },
  {
   "cell_type": "markdown",
   "metadata": {},
   "source": [
    "We can also apply the same operation to multiple columns, returning a `DataFrame`:"
   ]
  },
  {
   "cell_type": "code",
   "execution_count": null,
   "metadata": {},
   "outputs": [],
   "source": [
    "10 * course_df[['points', 'weekly_study_hours']]"
   ]
  },
  {
   "cell_type": "markdown",
   "metadata": {},
   "source": [
    "As with multiple `Series`, we can perform vector operations across columns:"
   ]
  },
  {
   "cell_type": "code",
   "execution_count": null,
   "metadata": {},
   "outputs": [],
   "source": [
    "course_df['level_hours'] = course_df['study_level'] * course_df['weekly_study_hours'] \n",
    "course_df"
   ]
  },
  {
   "cell_type": "markdown",
   "metadata": {},
   "source": [
    "If we inspect the type of a single `DataFrame` column, we see that it is a `Series`. If we select multiple columns, we return a `DataFrame`:"
   ]
  },
  {
   "cell_type": "code",
   "execution_count": null,
   "metadata": {},
   "outputs": [],
   "source": [
    "type(course_df['study_level']), type( course_df[['study_level', 'points']] )"
   ]
  },
  {
   "cell_type": "markdown",
   "metadata": {},
   "source": [
    "This means that we can apply a function to each element just as we did with the Series:"
   ]
  },
  {
   "cell_type": "code",
   "execution_count": null,
   "metadata": {},
   "outputs": [],
   "source": [
    "course_df['study_level'].apply(lambda x: x * 10)"
   ]
  },
  {
   "cell_type": "markdown",
   "metadata": {},
   "source": [
    "We can also set these values as the values of a new column:"
   ]
  },
  {
   "cell_type": "code",
   "execution_count": null,
   "metadata": {},
   "outputs": [],
   "source": [
    "course_df['dummy_column'] = course_df['study_level'].apply(lambda x: x * 10)\n",
    "course_df"
   ]
  },
  {
   "cell_type": "markdown",
   "metadata": {},
   "source": [
    "We can also apply functions across mutliple columns or rows in a dataframe.\n",
    "\n",
    "We use the `axis=1` parameter to reference rows, and `axis=0` to reference columns.\n",
    "\n",
    "In the following case, each row of the two column dataframe is passed to the lambda function, which selects one of the elements:"
   ]
  },
  {
   "cell_type": "code",
   "execution_count": null,
   "metadata": {},
   "outputs": [],
   "source": [
    "course_df[['study_level', 'points']].apply(lambda x: x['points'], axis=1)"
   ]
  },
  {
   "cell_type": "markdown",
   "metadata": {},
   "source": [
    "We can take a closer look at what's going on by displaying what is passed to the `lambda` function each time it is called.\n",
    "\n",
    "*If we add a semi-colon (`;`) to the last line of the code cell, we suppress the display of the object returned from the last line of the cell.*"
   ]
  },
  {
   "cell_type": "code",
   "execution_count": null,
   "metadata": {},
   "outputs": [],
   "source": [
    "def show_me(row):\n",
    "        \"\"\"Display what is passed from a DataFrame apply statement.\"\"\"\n",
    "        print(f\"I was passed a {type(row)}:\")\n",
    "        display(row)\n",
    "\n",
    "# Set axis='rows' to pass rows at each iteration of the apply statement\n",
    "course_df[['study_level', 'title']].apply(show_me, axis='rows');"
   ]
  },
  {
   "cell_type": "markdown",
   "metadata": {},
   "source": [
    "We can also pass columns using the `DataFrame.apply()` method:"
   ]
  },
  {
   "cell_type": "code",
   "execution_count": null,
   "metadata": {},
   "outputs": [],
   "source": [
    "# You may notice that this function is essentially exactly the same as the previous one\n",
    "# in terms of functionality...\n",
    "\n",
    "def show_me(column):\n",
    "        \"\"\"Display what is passed from a dataframe apply statement.\"\"\"\n",
    "        print(f\"I was passed a {type(column)}:\")\n",
    "        display(column)\n",
    "        \n",
    "# This time, set axis='columns' to pass columns at each iteration of the apply statement\n",
    "course_df[['study_level', 'title']].apply(show_me, axis='columns');"
   ]
  },
  {
   "cell_type": "markdown",
   "metadata": {},
   "source": [
    "#### Working with the index\n",
    "\n",
    "One of the reasons for using a library such as *pandas* is that it offers data structures that make working with data as easy as possible.  Sometimes, this requires a little careful thinking about how best to organise the data within a `DataFrame`.\n",
    "\n",
    "For example, for the course information `DataFrame`, it may be most useful to use the course codes as the index values."
   ]
  },
  {
   "cell_type": "code",
   "execution_count": null,
   "metadata": {},
   "outputs": [],
   "source": [
    "course_df = course_df.set_index('course_code')\n",
    "course_df"
   ]
  },
  {
   "cell_type": "markdown",
   "metadata": {},
   "source": [
    "The visual presentation of this is slightly misleading - it looks as if there may be a blank row with index value `course_code`. But the size of the transformed table is correctly shown: one of the columns in the original `DataFrame` has moved from being a column in its own right to being the index column."
   ]
  },
  {
   "cell_type": "markdown",
   "metadata": {},
   "source": [
    "We can pull out one or more rows by referencing the appropriate index element(s) and the columns we wish to extract. To extract rows based on an index label, use the `.loc` attribute:"
   ]
  },
  {
   "cell_type": "code",
   "execution_count": null,
   "metadata": {},
   "outputs": [],
   "source": [
    "course_df.loc[ ['TU100', 'TM351'], ['title', 'study_level'] ]"
   ]
  },
  {
   "cell_type": "markdown",
   "metadata": {},
   "source": [
    "If we identify a particular column, we can use an index value to pull out the value from the correspondingly indexed row and the chosen column:"
   ]
  },
  {
   "cell_type": "code",
   "execution_count": null,
   "metadata": {},
   "outputs": [],
   "source": [
    "course_df['title']['TM351']"
   ]
  },
  {
   "cell_type": "markdown",
   "metadata": {},
   "source": [
    "We can also filter the rows of a `DataFrame` based on the values of one or more columns. We will cover this powerful feature in more depth later in the module."
   ]
  },
  {
   "cell_type": "code",
   "execution_count": null,
   "metadata": {},
   "outputs": [],
   "source": [
    "course_df[course_df['points']==30]"
   ]
  },
  {
   "cell_type": "markdown",
   "metadata": {},
   "source": [
    "You may recall that passing a column name in as the `DataFrame` key returns a `Series` containing the values of the column:"
   ]
  },
  {
   "cell_type": "code",
   "execution_count": null,
   "metadata": {},
   "outputs": [],
   "source": [
    "course_df['title']"
   ]
  },
  {
   "cell_type": "markdown",
   "metadata": {},
   "source": [
    "Paraphrasing the author of *pandas*, Wes McKinney, writing in his book _Python for Data Analysis_, '[this apparent inconsistency] in syntax arose out of practicality and nothing more'. Pragmatic programming, as you might, FTW! (FTW is slang for 'for the win', a positive exclamation in gamer culture.)"
   ]
  },
  {
   "cell_type": "markdown",
   "metadata": {},
   "source": [
    "#### Unique items in a column"
   ]
  },
  {
   "cell_type": "markdown",
   "metadata": {},
   "source": [
    "We can pull out the unique values contained within a column very easily by applying the `unique()` function to the appropriate column:"
   ]
  },
  {
   "cell_type": "code",
   "execution_count": null,
   "metadata": {},
   "outputs": [],
   "source": [
    "course_df['points'].unique()"
   ]
  },
  {
   "cell_type": "markdown",
   "metadata": {},
   "source": [
    "We can easily iterate through the items:"
   ]
  },
  {
   "cell_type": "code",
   "execution_count": null,
   "metadata": {},
   "outputs": [],
   "source": [
    "for item in course_df['points'].unique():\n",
    "    print(item)"
   ]
  },
  {
   "cell_type": "markdown",
   "metadata": {},
   "source": [
    "To get a list rather than an array, make use of the `tolist()` helper function:"
   ]
  },
  {
   "cell_type": "code",
   "execution_count": null,
   "metadata": {},
   "outputs": [],
   "source": [
    "course_df['points'].unique().tolist()"
   ]
  },
  {
   "cell_type": "markdown",
   "metadata": {},
   "source": [
    "## Further information"
   ]
  },
  {
   "cell_type": "markdown",
   "metadata": {},
   "source": [
    "*pandas'* `Series` and `DataFrame` objects provide several more useful, and powerful, data-manipulation methods than have been described here. You will meet many of them later in the module, as and when they are required.  If you want to read some more about these core *pandas'* data structures you can find some additional information at [*pandas*: Intro to Data Structures](http://pandas.pydata.org/pandas-docs/stable/dsintro.html)\n",
    "\n",
    "If you would like to learn about *pandas* in more depth, a copy of the book written by pandas' original developer, Wes McKinney, is available as an ebook via the OU Library: [Python for Data Analysis](http://proquestcombo.safaribooksonline.com.libezproxy.open.ac.uk/book/programming/python/9781449323592)"
   ]
  },
  {
   "cell_type": "markdown",
   "metadata": {},
   "source": [
    "## What next?"
   ]
  },
  {
   "cell_type": "markdown",
   "metadata": {},
   "source": [
    "Having hopefully got to grips with the *pandas'* very powerful tabular `DataFrame` representation, you now need to start filling them with data. \n",
    "\n",
    "If you are working through this Notebook as part of an inline exercise, return to the module materials now.\n",
    "\n",
    "If you are working through this set of Notebooks as a whole, move to the Notebook `02.2 Data file formats` to learn how to open files and parse their data contents into a *pandas* `DataFrame`."
   ]
  }
 ],
 "metadata": {
  "kernelspec": {
   "display_name": "Python 3",
   "language": "python",
   "name": "python3"
  },
  "language_info": {
   "codemirror_mode": {
    "name": "ipython",
    "version": 3
   },
   "file_extension": ".py",
   "mimetype": "text/x-python",
   "name": "python",
   "nbconvert_exporter": "python",
   "pygments_lexer": "ipython3",
   "version": "3.7.8"
  }
 },
 "nbformat": 4,
 "nbformat_minor": 1
}
