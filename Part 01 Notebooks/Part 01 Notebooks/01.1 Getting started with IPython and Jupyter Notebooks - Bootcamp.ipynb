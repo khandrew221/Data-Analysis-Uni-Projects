{
 "cells": [
  {
   "cell_type": "markdown",
   "metadata": {
    "code_folding": [],
    "hide_input": true
   },
   "source": [
    "# Python recap and Jupyter Notebook bootcamp"
   ]
  },
  {
   "cell_type": "markdown",
   "metadata": {
    "hide_input": false
   },
   "source": [
    "Whilst TM351 is not a programming course, and whilst you do not need to be an expert programmer to complete it, you will be expected to make use of the Python programming language, and some powerful libraries developed for it, as a part of a computational toolkit for working with data.\n",
    "\n",
    "This session has been developed as a quick review of what we might term *pragmatic Python for data wranglers*.\n",
    "\n",
    "* If Jupyter Notebooks are new to you, the bootcamp will provide a useful exercise in learning how to make use of it.\n",
    "* If you are already a proficient Python programmer, much of what is covered in the bootcamp should be familiar to you. Indeed, you may find some of the treatments simplistic and argue that there are more concise ways of writing a particular line of code, or more idiomatic ways of writing another.\n",
    "* If you consider yourself a novice Python programmer, or if Python is a completely new language to you, this session should give you enough examples of how to use particular language elements or constructions to *get stuff done*.  However, if you are interested in taking your Python knowledge further, there are many excellent tutorials available, such as the [standard Python tutorial](https://docs.python.org/3/tutorial/index.html)."
   ]
  },
  {
   "cell_type": "markdown",
   "metadata": {},
   "source": [
    "Whilst Python code is often presented as complete program listings, the approach we will take for the first third of the module at least is to use Python in an interactive way. That is, we will be running lines of Python code, observing the results, then writing and executing further lines of code. To a certain extent, we will be using Python as the means by which we can work with data from a variety of sources and have conversations with it."
   ]
  },
  {
   "cell_type": "markdown",
   "metadata": {},
   "source": [
    "## Jupyter notebooks\n",
    "\n",
    "Jupyter notebooks are are widely used interactive environment for writing \"literate\" programming scripts in a web browser. Originally developed to support computational data science projects, they are increasingly used as more general computational notebooks that can blend explanatory text with executable code and graphical, or even interactive, code outputs.\n",
    "\n",
    "The notebook homepage provides a simple listing of files in a particular directory. Additional tabs allow you to monitor currently running notebooks and configure user-enabled extensions that can be used to customise your notebook environment.\n",
    "\n",
    "![Screenshot of Jupyter notebook tree homepage.](./images/00_01_jupyter_nb_homepage.png)\n",
    "\n",
    "This document is presented as an *Jupyter Notebook*, a notebook style browser-based interface that combines text, code and code outputs in a single interactive document.\n",
    "\n",
    "For an interactive tour of the notebook environment, from a notebook Help menu select the User Interface Tour option. (Press the Escape key on your keyboard to cut the tour short.)\n",
    "\n",
    "![Screenshot of how to acceds Jupyter notebook tour](./images/00_01_Jupyter_Notebook_tour.png)\n",
    "\n",
    "In this notebook, code is executed using an IPython shell, which provides an enhanced interactive version of Python, which is typically referred to as the notebook code *kernel*. (It is also possible to run Jupyter notebooks against kernels that implement other programming languages. You can find a list of available Jupyter kernels [here](https://github.com/jupyter/jupyter/wiki/Jupyter-kernels).)\n",
    "\n",
    "The session has been designed to be interactive.  So you can update and edit most cells, and there will be exercises for you to work through. \n",
    "\n",
    "It is also worth noting that the notebooks have been designed to exploit a range of notebook extensions that are used to extend the notebook user interface and provide a richer notebook experience than a \"vanilla\" Jupyter notebook provides. This extensions have be pre-installed and pre-enabled in the virtual computing environment developed to support your TM351 notebook activities. You can still run the Jupyter notebooks in a basic Jupyter notebook environment *without* the extensions installed but certain features, such as colour themed cell backgrounds, hidden/revealable activity answers and cell status indicators will not be displayed."
   ]
  },
  {
   "cell_type": "markdown",
   "metadata": {},
   "source": [
    "## Notebook cells\n",
    "The notebook is made up of cells which can contain text in a variety of presentational styles, such as headers, raw text, or as in the case of this cell, rendered Markdown (*Markdown* is a simple text markup language, a bit like a simple HTML, but without the angle brackets!).\n",
    "\n",
    "![Screenshot of Jupyter notebook showing markdown, code and code output areas.](./images/00_01_notebook_markdown_and_code_cell.png)\n",
    "\n",
    "You can edit the content of a Markdown cell by double-clicking on the cell to put it into an *edit mode*. Clicking the *Run* button in the notebook toolbar, or using the keyboard shortcut `SHIFT-RETURN` will \"run\" the markdown cell and render its contents as HTML."
   ]
  },
  {
   "cell_type": "markdown",
   "metadata": {
    "student": true
   },
   "source": [
    "__Double click this Markdown cell to edit it, then run it to render the Markdown as styled text in this notebook page.__"
   ]
  },
  {
   "cell_type": "markdown",
   "metadata": {},
   "source": [
    "You may notice that some cells may be highlighted with different coloured backgrounds. The colour highlighting is provided using a notebook extension that processes cell metadata to style a cell.\n",
    "\n",
    "In the TM351 notebooks, we have used a convention of styling activity defining cells with a `blue` background and cells where we particularly invite you to edit the edit the notebook with a `yellow` background.\n",
    "\n",
    "*You can highlight cells you have created, edited or otherwise annotated, by clicking on the \"toggle cell student\" button in the toolbar with the \"head and shoulders\" icon when the cell is selected. There is also a button with an \"alert\" icon (a dark circle containing an exclamation mark). This marks the cell as pink:*"
   ]
  },
  {
   "cell_type": "markdown",
   "metadata": {
    "commentate": true
   },
   "source": [
    "We will encourage your tutors to use the pink colouring to highlight their comments in your TMAs so that they are easily identifiable."
   ]
  },
  {
   "cell_type": "markdown",
   "metadata": {},
   "source": [
    "We encourage you to take ownership of the notebooks and edit them with your own comments and code experiments, which means you do not need to limit yourself to just editing the yellow background coded cells.\n",
    "\n",
    "*Note that if you are running an unextended notebook server, the cell colour highlighting will __not__ be applied.*"
   ]
  },
  {
   "cell_type": "markdown",
   "metadata": {},
   "source": [
    "### Code cells\n",
    "Cells can also contain Python program code that can be executed in a variety of ways (these cells are preceded by the text string `In [n]:` in the notebook margin).\n",
    "\n",
    "If you click on the cell below to select it, you should find that it becomes highlighted by a surrounding box. You can execute the Python code contained in a selected Code cell in several ways:\n",
    "\n",
    "* from the *Cell* menu, select *Run* \n",
    "* hitting the play button in the toolbar at the top of the Notebook; the cursor also moves to the next cell\n",
    "* entering Shift+Return; again, the cell contents are executed and the cursor moves to the next cell.\n",
    "\n",
    "The following cells define an activity, where a a challenge or task for you to complete is specified. The activity may also provide an explicit invitation for you to record your own observations or thoughts, or simply working notes as you work through the activity."
   ]
  },
  {
   "cell_type": "markdown",
   "metadata": {
    "activity": true
   },
   "source": [
    "### Activity — Running a Code Cell\n",
    "\n",
    "*See if you can execute the code in the following cell.*"
   ]
  },
  {
   "cell_type": "code",
   "execution_count": null,
   "metadata": {
    "activity": true,
    "code_folding": [],
    "hide_input": false
   },
   "outputs": [],
   "source": [
    "txt=\"Hello World\"\n",
    "\n",
    "# If we precede a line with a hash (American: pound) symbol in a code cell,\n",
    "# it is treated as an unexecuted comment line.\n",
    "print(txt)"
   ]
  },
  {
   "cell_type": "markdown",
   "metadata": {
    "student": true
   },
   "source": [
    "*Did you try executing the contents of the cell immediately above?*\n",
    "\n",
    "__If so, double click on this cell to edit it and then record your observations here before revealing the answer below.__\n",
    "\n",
    "In the activities in TM351, we will give a yellow highlighted cell which you can use to develop your code or record your observations."
   ]
  },
  {
   "cell_type": "markdown",
   "metadata": {
    "activity": true,
    "heading_collapsed": true
   },
   "source": [
    "#### Our solution\n",
    "\n",
    "To reveal our solution, run this cell or click on the triangle symbol on the left-hand side of the cell."
   ]
  },
  {
   "cell_type": "markdown",
   "metadata": {
    "activity": true,
    "hidden": true
   },
   "source": [
    "You should have seen the *Hello World* message displayed in an output area of the cell immediately below the code area.\n",
    "\n",
    "You can edit the contents of the cell by double-clicking into the cell and changing the text as required. In the previous cell, we assigned a string *Hello World* to the *variable* `txt` and then printed it out. Double-click on the cell above to open it for editing. Change the message to a message of your own and run the cell again. Does your message get printed out?\n",
    "\n",
    "You can also get out of an open/edit mode cell by simply clicking on another cell: the current state of the cell you were editing will be saved automatically. If the original cell was a code cell, clicking outside of it does not run it: the output of any previous run will remain and may now no longer correspond to the output of actually running the cell.\n",
    "\n",
    "To clear the output of a single cell,  click on the cell and use the *Cell* menu, *Current Output* option. If you want to clear the output of all the cells in a Notebook, then select the *Cell* menu, *All Output* option."
   ]
  },
  {
   "cell_type": "markdown",
   "metadata": {
    "activity": true,
    "heading_collapsed": true
   },
   "source": [
    "#### End of Activity — Running a Code Cell"
   ]
  },
  {
   "cell_type": "markdown",
   "metadata": {},
   "source": [
    "## Markdown cells and cell editing\n",
    "As well as editing cells containing code, you can edit cells containing the 'free' Markdown text, such as the text contents of this cell, or add new cells.  You can **insert** a cell from the toolbar using the *Insert* menu or the button containing a plus (+) symbol. The new cell will be inserted immediately below the currently selected/highlighted cell or the 'open' cell that currently contains the cursor.\n",
    "\n",
    "The display type of the cell can be selected from the drop-down menu on the toolbar at the top of the Notebook - the default is *Code* which, in this module, is executable Python code. \n",
    "\n",
    "Other cell types are also possible, such as *Heading* cells at a variety of header levels, and *Markdown* cells that allow you to write 'human readable' text such as this block of text using the Markdown markup language. You can find an introduction to Markdown syntax from the _Help_ menu or from here: [Markdown: Basics](http://daringfireball.net/projects/markdown/basics). Note that you can also embed HTML markup in Markdown cells. When you run a Heading or Markdown cell, the markup code is rendered appropriately.\n",
    "\n",
    "Insert a cell immediately beneath this one, and set it to be a *Markdown* cell. Write three or four lines describing your immediate impressions about the IPython Notebook environment.  \n",
    "\n",
    "To **delete** a cell, select it and then click on the scissors icon in the toolbar, or from the *Edit* menu select *Delete Cell*.  If you cut a cell by accident, you can undo the action using the *Undo Delete Cell* option from the *Edit* menu.\n",
    "\n",
    "You can also **copy** and **paste** cells using the clipboard icons or the appropriate commands in the *Edit* menu. The *paste* operation pastes the previously copied cell immediately below the currently selected cell.\n",
    "\n",
    "To **alter the order** of cells in the notebook, move them up and down using the up and down arrows.\n",
    "\n",
    "*Feel free to have a play with the Notebook's editing commands now to get a feel for how they work.*"
   ]
  },
  {
   "cell_type": "markdown",
   "metadata": {},
   "source": [
    "The Notebooks autosave regularly, but you can also create a checkpoint by clicking the floppy disk icon or choosing the appropriate selection from the *File* menu. You can also return to the last checkpoint from the *File* menu."
   ]
  },
  {
   "cell_type": "markdown",
   "metadata": {},
   "source": [
    "If you make any mistakes when editing a cell, you should be able to undo your actions within that cell by using the traditional undo command: `Ctrl+Z`."
   ]
  },
  {
   "cell_type": "markdown",
   "metadata": {},
   "source": [
    "## In passing, say 'Hi' to the command line..."
   ]
  },
  {
   "cell_type": "markdown",
   "metadata": {},
   "source": [
    "Before we start the Python recap, it's worth noting that a Jupyter notebook running an IPython kernel also allows you to run command-line commands as a terminal on the underlying operating system. If you are running this IPython Notebook on the TM351 virtual computing environment, the underlying operating system is a version of Linux. You can run Linux command-line commands in a Notebook cell by prefixing the command with a `!`. \n",
    "\n",
    "For example:"
   ]
  },
  {
   "cell_type": "code",
   "execution_count": null,
   "metadata": {},
   "outputs": [],
   "source": [
    "#Display the current directory\n",
    "!pwd"
   ]
  },
  {
   "cell_type": "code",
   "execution_count": null,
   "metadata": {},
   "outputs": [],
   "source": [
    "#Display the contents of the current directory\n",
    "!ls"
   ]
  },
  {
   "cell_type": "markdown",
   "metadata": {},
   "source": [
    "You can also run a one or more commands in a code cell prefixed using the IPython cell block magic `%%bash` as the first line of the cell:"
   ]
  },
  {
   "cell_type": "code",
   "execution_count": null,
   "metadata": {},
   "outputs": [],
   "source": [
    "%%bash\n",
    "echo \"Hello, Castle Donington...\"\n",
    "echo \"Are you ready to rock and roll????\""
   ]
  },
  {
   "cell_type": "markdown",
   "metadata": {},
   "source": [
    "A helpful feature of IPython is that you can press the Tab key to complete commands and to read some of the built-in documentation on different commands. For example:"
   ]
  },
  {
   "cell_type": "code",
   "execution_count": null,
   "metadata": {},
   "outputs": [],
   "source": [
    "# Enter 'pr' on the line below and press the Tab key to see the autocomplete options.\n",
    "# Use the keyboard arrow keys to move up and down the list and press Return to autocomplete to the selected item.\n"
   ]
  },
  {
   "cell_type": "code",
   "execution_count": null,
   "metadata": {},
   "outputs": [],
   "source": [
    "# Enter ??print below, and run the code cell.\n",
    "# In the pager window below, you should see a short text documenting the print command.\n"
   ]
  },
  {
   "cell_type": "markdown",
   "metadata": {},
   "source": [
    "## Highlighting Your Own Content\n",
    "\n",
    "One of the things we would like you to do is take ownership of these Notebooks: feel free to add additional commentary or code cells to them at any time.\n",
    "\n",
    "If you would like to distinguish your notes from the module notes, there are several ways of achieving this:\n",
    "\n",
    "- you can highlight one or more selected cells by clicking on the \"toggle cell student\" button in the toolbar with the \"head and shoulders\" icon when the cell is selected to colour it yellow. Clicking the button again will toggle the cell colour background back to white; these tools are provided by the [`empinken`](https://github.com/innovationOUtside/nb_extension_empinken) extension;\n",
    "- you can add a tag to the cell by selecting the `View->Cell Toolbars->Tags` menu option from the notebook toolbar and using one of the following tags: `alert-success`, `alert-warning`, `alert-danger`; a notebook extension will the colour the cell accordingly. To apply the styling the first time, you will need to save the notebook and reload the browser page.\n",
    "- you can add the `alert-success`, `alert-warning`, `alert-danger` as a class value in an HTML `<div>` element in a markdown cell, as shown below;\n",
    "- you can change the colour of the text appearing in the Markdown cell by adding a piece of HTML code such as `<div style=\"color:blue\">` to the start of the cell, as shown below.\n",
    "\n",
    "By inspection of the HTML code fragments, in this cell and the one below, can you work out how to set the colour from <span style=\"color:blue\">*blue*</span> to <span style=\"color:magenta\">*magenta*</span>, or <span style=\"color:red\">*red*</span>?"
   ]
  },
  {
   "cell_type": "markdown",
   "metadata": {},
   "source": [
    "<div style=\"color:blue\">These are some notes about my progress so far - my very own personal learning diary!:-) using a colour styled HTML <tt>&lt;div&gt;</tt> element. This <em>does not</em> require any additional notebook extensions in order to style the text and will work in a default Jupyter notebook environment.</div>"
   ]
  },
  {
   "cell_type": "markdown",
   "metadata": {},
   "source": [
    "Here are some class tagged <tt>&lt;div&gt;</tt> elements. These *do not* require any additional extensions to style the text and will work in a default Jupyter notebook environment:\n",
    "    \n",
    "<div class='alert-success'>Success...</div>\n",
    "\n",
    "<div class='alert-warning'>Warning...</div>\n",
    "\n",
    "<div class='alert-danger'>Danger...</div>"
   ]
  },
  {
   "cell_type": "markdown",
   "metadata": {},
   "source": [
    "If you make any mistakes when editing a cell, you should be able to undo your actions within that cell by using the traditional undo command: `Ctrl+Z`."
   ]
  },
  {
   "cell_type": "markdown",
   "metadata": {},
   "source": [
    "## Customising your Jupyter environment"
   ]
  },
  {
   "cell_type": "markdown",
   "metadata": {},
   "source": [
    "Jupyter notebooks are highly customisable, and have many extensions for usability and accessibility. We have put together a notebooks describing some possible customisations that you might find useful in: `01.X Customising the Notebook Environment`. This notebook is in this folder. You might want to try using the notebooks as provided at first, and then look at some of the customisation options as you become more comfortable handling the basic environment."
   ]
  },
  {
   "cell_type": "markdown",
   "metadata": {},
   "source": [
    "## What next?"
   ]
  },
  {
   "cell_type": "markdown",
   "metadata": {},
   "source": [
    "If you are working through this Notebook as part of an inline exercise, return to the module materials now.\n",
    "\n",
    "If you are working through this set of Notebooks as a whole, move on to the next step in the bootcamp: `01.2 Python recap`."
   ]
  }
 ],
 "metadata": {
  "kernelspec": {
   "display_name": "Python 3",
   "language": "python",
   "name": "python3"
  },
  "language_info": {
   "codemirror_mode": {
    "name": "ipython",
    "version": 3
   },
   "file_extension": ".py",
   "mimetype": "text/x-python",
   "name": "python",
   "nbconvert_exporter": "python",
   "pygments_lexer": "ipython3",
   "version": "3.7.8"
  }
 },
 "nbformat": 4,
 "nbformat_minor": 1
}
