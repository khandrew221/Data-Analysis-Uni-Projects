{
 "cells": [
  {
   "cell_type": "markdown",
   "metadata": {},
   "source": [
    "# Notebook to reset the form database"
   ]
  },
  {
   "cell_type": "markdown",
   "metadata": {},
   "source": [
    "Part 23 uses a simple form to allow a user to simulate an injection attack. Executing this notebook sets up the tables and view needed for the examples."
   ]
  },
  {
   "cell_type": "markdown",
   "metadata": {},
   "source": [
    "Note that the structures are created in the user's domain, either using the oucu/tm351password combination on the remote VCE, or the tm351 login on the local VCE."
   ]
  },
  {
   "cell_type": "markdown",
   "metadata": {},
   "source": [
    "## Establish the connection"
   ]
  },
  {
   "cell_type": "markdown",
   "metadata": {},
   "source": [
    "In order to run this query, the user needs to be logged into the database, so the first thing to do is to set up the authentication credentials. "
   ]
  },
  {
   "cell_type": "code",
   "execution_count": null,
   "metadata": {},
   "outputs": [],
   "source": [
    "%run part_23_authentication_notebook.ipynb"
   ]
  },
  {
   "cell_type": "code",
   "execution_count": null,
   "metadata": {},
   "outputs": [],
   "source": [
    "import pandas as pd\n",
    "\n",
    "import psycopg2 as pg"
   ]
  },
  {
   "cell_type": "code",
   "execution_count": null,
   "metadata": {},
   "outputs": [],
   "source": [
    "form_connection=pg.connect(dbname=DB_USER,     # the name of the database\n",
    "                    host='localhost',   # the host on which the database engine is running\n",
    "                    user=DB_USER,       # id of the user who is logging in\n",
    "                    password=DB_PWD,    # the user's password\n",
    "                    port=5432)          # the port on which the database engine is listening\n",
    "\n",
    "form_connection.autocommit = True\n"
   ]
  },
  {
   "cell_type": "markdown",
   "metadata": {},
   "source": [
    "## Create and populate the tables"
   ]
  },
  {
   "cell_type": "code",
   "execution_count": null,
   "metadata": {},
   "outputs": [],
   "source": [
    "# Create and populate the form_patient table:\n",
    "\n",
    "with form_connection.cursor() as c:\n",
    "\n",
    "    c.execute('''\n",
    "        DROP TABLE IF EXISTS form_patient CASCADE;\n",
    "        \n",
    "        CREATE TABLE form_patient (\n",
    "            patient_id CHAR(4),\n",
    "            patient_name VARCHAR(20),\n",
    "            date_of_birth DATE,\n",
    "            gender CHAR(6),\n",
    "            height_cm DECIMAL(4,1),\n",
    "            weight_kg DECIMAL(4,1),\n",
    "            doctor_id CHAR(4));\n",
    "            \n",
    "        INSERT INTO form_patient(patient_id, patient_name, date_of_birth, gender, height_cm, weight_kg, doctor_id)\n",
    "            VALUES('p001', 'Thornton', '1980/01/22', 'F', 162.3, 71.6, 'd06');\n",
    "        INSERT INTO form_patient(patient_id, patient_name, date_of_birth, gender, height_cm, weight_kg, doctor_id)\n",
    "            VALUES('p007', 'Tennent', '1980/04/01', 'M', 176.8, 70.9, 'd07');\n",
    "        INSERT INTO form_patient(patient_id, patient_name, date_of_birth, gender, height_cm, weight_kg, doctor_id)\n",
    "            VALUES('p008', 'James', '1980/07/08', 'M', 167.9, 70.5, 'd07');\n",
    "        INSERT INTO form_patient(patient_id, patient_name, date_of_birth, gender, height_cm, weight_kg, doctor_id)\n",
    "            VALUES('p009', 'Kay', '1980/09/25', 'F', 164.7, 53.2, 'd06');\n",
    "        INSERT INTO form_patient(patient_id, patient_name, date_of_birth, gender, height_cm, weight_kg, doctor_id)\n",
    "            VALUES('p015', 'Harris', '1980/12/04', 'M', 180.6, 64.3, 'd06');\n",
    "        INSERT INTO form_patient(patient_id, patient_name, date_of_birth, gender, doctor_id)\n",
    "            VALUES('p031', 'Rubinstein', '1980/12/23', 'F', 'd07');\n",
    "        INSERT INTO form_patient(patient_id, patient_name, date_of_birth, gender, doctor_id)\n",
    "            VALUES('p037', 'Boswell', '1981/06/11', 'F', 'd10');\n",
    "        INSERT INTO form_patient(patient_id, patient_name, date_of_birth, gender, height_cm, weight_kg, doctor_id)\n",
    "            VALUES('p038', 'Ming', '1981/09/23', 'M', 186.3, 85.4, 'd11');\n",
    "        INSERT INTO form_patient(patient_id, patient_name, date_of_birth, gender, height_cm, weight_kg, doctor_id)\n",
    "            VALUES('p039', 'Maher', '1981/10/09', 'F', 161.9, 73, 'd11');\n",
    "        INSERT INTO form_patient(patient_id, patient_name, date_of_birth, gender, height_cm, weight_kg, doctor_id)\n",
    "            VALUES('p068', 'Monroe', '1981/02/21', 'F', 165, 62.6, 'd10');\n",
    "        INSERT INTO form_patient(patient_id, patient_name, date_of_birth, gender, height_cm, weight_kg, doctor_id)\n",
    "            VALUES('p071', 'Harris', '1981/12/12', 'M', 186.3, 76.7, 'd10');\n",
    "        INSERT INTO form_patient(patient_id, patient_name, date_of_birth, gender, height_cm, weight_kg, doctor_id)\n",
    "            VALUES('p078', 'Hunt', '1982/02/25', 'M', 179.9, 74.3, 'd10');\n",
    "        INSERT INTO form_patient(patient_id, patient_name, date_of_birth, gender, height_cm, weight_kg, doctor_id)\n",
    "            VALUES('p079', 'Dixon', '1982/05/05', 'F', 163.9, 56.5, 'd06');\n",
    "        INSERT INTO form_patient(patient_id, patient_name, date_of_birth, gender, height_cm, weight_kg, doctor_id)\n",
    "            VALUES('p080', 'Bell', '1982/06/11', 'F', 171.3, 49.2, 'd07');\n",
    "        INSERT INTO form_patient(patient_id, patient_name, date_of_birth, gender, height_cm, weight_kg, doctor_id)\n",
    "            VALUES('p087', 'Reed', '1982/06/14', 'F', 160, 59.1, 'd07');\n",
    "        INSERT INTO form_patient(patient_id, patient_name, date_of_birth, gender, height_cm, weight_kg, doctor_id)\n",
    "            VALUES('p088', 'Boswell', '1982/08/23', 'M', 168.4, 91.4, 'd06');\n",
    "        INSERT INTO form_patient(patient_id, patient_name, date_of_birth, gender, height_cm, weight_kg, doctor_id)\n",
    "            VALUES('p089', 'Jarvis', '1982/11/09', 'F', 172.9, 53.4, 'd10');\n",
    "\n",
    "    ''')"
   ]
  },
  {
   "cell_type": "code",
   "execution_count": null,
   "metadata": {},
   "outputs": [],
   "source": [
    "# Create and populate the form_doctor table:\n",
    "\n",
    "with form_connection.cursor() as c:\n",
    "\n",
    "    c.execute('''\n",
    "        DROP TABLE IF EXISTS form_doctor CASCADE;\n",
    "        \n",
    "        CREATE TABLE form_doctor (doctor_id CHAR(4),\n",
    "                                  doctor_name VARCHAR(20),\n",
    "                                  PRIMARY KEY (doctor_id));\n",
    "\n",
    "        INSERT INTO form_doctor VALUES ('d06', 'Gibson');\n",
    "        INSERT INTO form_doctor VALUES ('d07', 'Paxton');\n",
    "        INSERT INTO form_doctor VALUES ('d09', 'Tamblin');\n",
    "        INSERT INTO form_doctor VALUES ('d10', 'Rampton');\n",
    "        INSERT INTO form_doctor VALUES ('d11', 'Nolan');\n",
    "    ''')"
   ]
  },
  {
   "cell_type": "code",
   "execution_count": null,
   "metadata": {},
   "outputs": [],
   "source": [
    "# Create and populate the form_patient table:\n",
    "\n",
    "with form_connection.cursor() as c:\n",
    "\n",
    "    c.execute('''\n",
    "        \n",
    "        ALTER TABLE form_patient\n",
    "            ADD CONSTRAINT form_patient_doctor_fk\n",
    "                FOREIGN KEY (doctor_id) REFERENCES form_doctor;\n",
    "    ''')\n",
    "    \n"
   ]
  },
  {
   "cell_type": "markdown",
   "metadata": {},
   "source": [
    "And finally, we can create a view which contains the patient and doctor information:"
   ]
  },
  {
   "cell_type": "code",
   "execution_count": null,
   "metadata": {},
   "outputs": [],
   "source": [
    "with form_connection.cursor() as c:\n",
    "\n",
    "    c.execute('''\n",
    "        CREATE VIEW form_view AS\n",
    "            SELECT form_patient.patient_id, form_patient.patient_name, form_doctor.doctor_id, form_doctor.doctor_name\n",
    "            FROM form_patient INNER JOIN form_doctor\n",
    "                ON form_patient.doctor_id = form_doctor.doctor_id;\n",
    "    ''')\n",
    "    "
   ]
  },
  {
   "cell_type": "code",
   "execution_count": null,
   "metadata": {},
   "outputs": [],
   "source": [
    "form_connection.close()"
   ]
  },
  {
   "cell_type": "code",
   "execution_count": null,
   "metadata": {},
   "outputs": [],
   "source": [
    "print('Tables for part 23 reset')"
   ]
  }
 ],
 "metadata": {
  "kernelspec": {
   "display_name": "Python 3",
   "language": "python",
   "name": "python3"
  },
  "language_info": {
   "codemirror_mode": {
    "name": "ipython",
    "version": 3
   },
   "file_extension": ".py",
   "mimetype": "text/x-python",
   "name": "python",
   "nbconvert_exporter": "python",
   "pygments_lexer": "ipython3",
   "version": "3.7.8"
  }
 },
 "nbformat": 4,
 "nbformat_minor": 2
}
