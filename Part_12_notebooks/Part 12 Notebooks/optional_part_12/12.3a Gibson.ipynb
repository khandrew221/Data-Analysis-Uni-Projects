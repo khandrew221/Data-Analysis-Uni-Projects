{
 "cells": [
  {
   "cell_type": "markdown",
   "metadata": {},
   "source": [
    "# Gibson On Walkabout\n",
    "\n",
    "In this notebook, you will handle Gibson's attempts to update the database.\n",
    "\n",
    "First, run the following cells to set your database credentials, and to reset the database:"
   ]
  },
  {
   "cell_type": "markdown",
   "metadata": {},
   "source": [
    "## Setting up"
   ]
  },
  {
   "cell_type": "markdown",
   "metadata": {},
   "source": [
    "The next group of cells set up your database connection, and reset the database to a clean state. Check notebook *8.1 Data Definition Language in SQL* if you are unsure what the next cells do.\n",
    "\n",
    "You may need to change the given values of the variables `DB_USER` and `DB_PWD`, depending on which environment you are using"
   ]
  },
  {
   "cell_type": "raw",
   "metadata": {},
   "source": [
    "# If you are using the remote environment, change this cell\n",
    "# type to \"code\", and execute it\n",
    "\n",
    "DB_USER='xxx99'            # Enter your OUCU here (in quotes)\n",
    "DB_PWD='your_password'     # Enter your password here (in quotes)"
   ]
  },
  {
   "cell_type": "raw",
   "metadata": {},
   "source": [
    "# If you are using a locally hosted environment, change this cell\n",
    "# type to \"code\", and execute it\n",
    "\n",
    "DB_USER='tm351'\n",
    "DB_PWD='tm351'"
   ]
  },
  {
   "cell_type": "code",
   "execution_count": null,
   "metadata": {},
   "outputs": [],
   "source": [
    "# Set up the PostgreSQL environment\n",
    "\n",
    "%run sql_init.ipynb\n",
    "print(\"Connecting with connection string : {}\".format(DB_CONNECTION))\n",
    "%sql $DB_CONNECTION"
   ]
  },
  {
   "cell_type": "code",
   "execution_count": null,
   "metadata": {},
   "outputs": [],
   "source": [
    "%run reset_databases.ipynb"
   ]
  },
  {
   "cell_type": "code",
   "execution_count": null,
   "metadata": {},
   "outputs": [],
   "source": [
    "import psycopg2 as pg\n",
    "import psycopg2.extensions as pge"
   ]
  },
  {
   "cell_type": "markdown",
   "metadata": {},
   "source": [
    "And as in notebook 12.1, we can define a short function, `transaction_status`, which returns a string describing the transaction status of the given connection:"
   ]
  },
  {
   "cell_type": "code",
   "execution_count": null,
   "metadata": {},
   "outputs": [],
   "source": [
    "def transaction_status(conn):\n",
    "    '''\n",
    "    Return a string showing the transaction status of the\n",
    "    given connection, conn.\n",
    "    '''\n",
    "    transaction_status_dict={\n",
    "        pg.extensions.TRANSACTION_STATUS_IDLE:\"The session is idle and there is no current transaction.\",\n",
    "        pg.extensions.TRANSACTION_STATUS_ACTIVE:\"A command is currently in progress.\",\n",
    "        pg.extensions.TRANSACTION_STATUS_INTRANS:\"The session is idle in a valid transaction block.\",\n",
    "        pg.extensions.TRANSACTION_STATUS_INERROR:\"The session is idle in a failed transaction block.\",\n",
    "        pg.extensions.TRANSACTION_STATUS_UNKNOWN:\"Reported if the connection with the server is bad.\"\n",
    "    }\n",
    "    return transaction_status_dict[conn.get_transaction_status()]\n",
    "    "
   ]
  },
  {
   "cell_type": "markdown",
   "metadata": {},
   "source": [
    "## STEP 0\n",
    "Run the following cells to set up Gibson's connection to the database."
   ]
  },
  {
   "cell_type": "code",
   "execution_count": null,
   "metadata": {},
   "outputs": [],
   "source": [
    "gibson = pg.connect(dbname=DB_NAME,     # the name of the database\n",
    "                    host='localhost',   # the host on which the database engine is running\n",
    "                    user=DB_USER,       # id of the user who is logging in\n",
    "                    password=DB_PWD,    # the user's password\n",
    "                    port=5432,          # the port on which the database engine is listening\n",
    "                    options=\"-c search_path=hospital\")  # the schema to use\n",
    "\n",
    "gibson.isolation_level = pge.ISOLATION_LEVEL_SERIALIZABLE\n",
    "\n",
    "#We want to have control over the transaction commit behaviour\n",
    "gibson.autocommit = False"
   ]
  },
  {
   "cell_type": "markdown",
   "metadata": {},
   "source": [
    "## STEP 1: Start a Transaction\n",
    "\n",
    "Run the following cell to start a transaction that involves updating a record and check the transaction status:"
   ]
  },
  {
   "cell_type": "code",
   "execution_count": null,
   "metadata": {},
   "outputs": [],
   "source": [
    "with gibson.cursor() as gibson_cursor:\n",
    "    \n",
    "    gibson_cursor.execute('''\n",
    "        UPDATE patient \n",
    "        SET weight_kg = 195\n",
    "            WHERE patient_id = 'p001';\n",
    "        ''')\n",
    "    \n",
    "print('Gibson:',transaction_status(gibson))"
   ]
  },
  {
   "cell_type": "markdown",
   "metadata": {},
   "source": [
    "__DO NOT COMMIT THIS TRANSACTION YET.__\n",
    "\n",
    "__In the `12.1 Paxton.ipynb` notebook, complete STEP 0 and STEP 2 to set up a connection to the database and try to update the same record.__"
   ]
  },
  {
   "cell_type": "markdown",
   "metadata": {},
   "source": [
    "## STEP 3\n",
    "\n",
    "Once Paxton has tried to update Thornton's record via STEP 2 in the other notebook, commit Gibson's update:"
   ]
  },
  {
   "cell_type": "code",
   "execution_count": null,
   "metadata": {},
   "outputs": [],
   "source": [
    "gibson.commit()"
   ]
  },
  {
   "cell_type": "markdown",
   "metadata": {},
   "source": [
    "__Now refer back to Paxton's notebook, STEP 4.__"
   ]
  },
  {
   "cell_type": "markdown",
   "metadata": {},
   "source": [
    "## STEP 6\n",
    "\n",
    "Gibson tries to change the record back..."
   ]
  },
  {
   "cell_type": "code",
   "execution_count": null,
   "metadata": {},
   "outputs": [],
   "source": [
    "with gibson.cursor() as gibson_cursor:\n",
    "    \n",
    "    gibson_cursor.execute('''\n",
    "        UPDATE patient \n",
    "        SET weight_kg = 125\n",
    "            WHERE patient_id = 'p001';\n",
    "        ''')"
   ]
  },
  {
   "cell_type": "markdown",
   "metadata": {},
   "source": [
    "and the cell execution is blocked.\n",
    "\n",
    "__Go to STEP 7 in the Paxton notebook, where Gibson will decide to rollback their proposed update. As they do so, watch what happens to the status of the code cell above.__"
   ]
  },
  {
   "cell_type": "markdown",
   "metadata": {},
   "source": [
    "When Paxton rolls back their attempt to update the record, and the closes their transaction, Gibson's attempt to update the record is accepted.\n",
    "\n",
    "They can now commit their update."
   ]
  },
  {
   "cell_type": "code",
   "execution_count": null,
   "metadata": {},
   "outputs": [],
   "source": [
    "gibson.commit()"
   ]
  },
  {
   "cell_type": "markdown",
   "metadata": {},
   "source": [
    "Gibson makes sure her connection is closed..."
   ]
  },
  {
   "cell_type": "code",
   "execution_count": null,
   "metadata": {},
   "outputs": [],
   "source": [
    "gibson.close()"
   ]
  },
  {
   "cell_type": "markdown",
   "metadata": {},
   "source": [
    "...then switches off her computer and goes to get a cup of tea..."
   ]
  }
 ],
 "metadata": {
  "kernelspec": {
   "display_name": "Python 3",
   "language": "python",
   "name": "python3"
  },
  "language_info": {
   "codemirror_mode": {
    "name": "ipython",
    "version": 3
   },
   "file_extension": ".py",
   "mimetype": "text/x-python",
   "name": "python",
   "nbconvert_exporter": "python",
   "pygments_lexer": "ipython3",
   "version": "3.5.2"
  }
 },
 "nbformat": 4,
 "nbformat_minor": 2
}
