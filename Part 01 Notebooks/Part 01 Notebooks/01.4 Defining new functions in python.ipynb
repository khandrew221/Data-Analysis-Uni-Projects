{
 "cells": [
  {
   "cell_type": "markdown",
   "metadata": {},
   "source": [
    "# Control flow statements and defining Python functions"
   ]
  },
  {
   "cell_type": "markdown",
   "metadata": {},
   "source": [
    "## Control flow\n",
    "\n",
    "We have already seen elements of control flow, such as for loops for iterating through list memberships, or conditional statements as used in the if/else ternary statement or as part of a list comprehension. \n",
    "\n",
    "This Notebook contains a more complete recap."
   ]
  },
  {
   "cell_type": "markdown",
   "metadata": {},
   "source": [
    "### Iterating over lists and ranges\n",
    "\n",
    "We can iterate through a list using a `for..in..` construction.\n",
    "\n",
    "In the `print` statement, the `end=''` prevents the printing of a new line character;  further print outputs will appear on the same line."
   ]
  },
  {
   "cell_type": "code",
   "execution_count": null,
   "metadata": {},
   "outputs": [],
   "source": [
    "for x in ['this', 'that', 'the other' ]:\n",
    "    print(x, end=''),\n",
    "\n",
    "print ('...but where does this go? ')"
   ]
  },
  {
   "cell_type": "markdown",
   "metadata": {},
   "source": [
    "Note that `print` statement puts a space between each element of a comma-separated list:"
   ]
  },
  {
   "cell_type": "code",
   "execution_count": null,
   "metadata": {},
   "outputs": [],
   "source": [
    "print('a', 'b', 'c')"
   ]
  },
  {
   "cell_type": "markdown",
   "metadata": {},
   "source": [
    "The `sep='='` argument allows you to change that to use a specified string rather than a space character; setting `sep=''` runs the text together, without spaces:"
   ]
  },
  {
   "cell_type": "code",
   "execution_count": null,
   "metadata": {},
   "outputs": [],
   "source": [
    "print('a', 'b', 'c', sep='=')\n",
    "\n",
    "# Iterate through a range of numbers\n",
    "for x in range(3):\n",
    "    print(x)"
   ]
  },
  {
   "cell_type": "markdown",
   "metadata": {},
   "source": [
    "We can also iterate through a range of values but be careful to make sure you set the upper fencepost value correctly:"
   ]
  },
  {
   "cell_type": "code",
   "execution_count": null,
   "metadata": {},
   "outputs": [],
   "source": [
    "for x in range(2,4): \n",
    "    print(x)"
   ]
  },
  {
   "cell_type": "markdown",
   "metadata": {},
   "source": [
    "You can also add a step value to the iteration loop control:"
   ]
  },
  {
   "cell_type": "code",
   "execution_count": null,
   "metadata": {},
   "outputs": [],
   "source": [
    "for x in range(10, 15, 2):\n",
    "    print(x),"
   ]
  },
  {
   "cell_type": "markdown",
   "metadata": {},
   "source": [
    "### Conditional expressions\n",
    "\n",
    "Conditional expressions, sometimes referred to as *branches*, allow us to test a particular condition and take a specific action if the condition evaluates as `True`:"
   ]
  },
  {
   "cell_type": "code",
   "execution_count": null,
   "metadata": {},
   "outputs": [],
   "source": [
    "# First set variables a and b to the same value.\n",
    "a = b = 4\n",
    "\n",
    "# Test a condition and act if true.\n",
    "if a>b:\n",
    "    print('bigger')\n"
   ]
  },
  {
   "cell_type": "markdown",
   "metadata": {},
   "source": [
    "We can also take different actions depending on whether the condition evaluates `True` or `False`:"
   ]
  },
  {
   "cell_type": "code",
   "execution_count": null,
   "metadata": {},
   "outputs": [],
   "source": [
    "# Test a condition and act one way or another depending on the result.\n",
    "if a>b:\n",
    "    print('bigger')\n",
    "else:\n",
    "    print('smaller or equal')"
   ]
  },
  {
   "cell_type": "markdown",
   "metadata": {},
   "source": [
    "If you think you need an else but don't know what to do there yet, use the null operation `pass`:"
   ]
  },
  {
   "cell_type": "code",
   "execution_count": null,
   "metadata": {},
   "outputs": [],
   "source": [
    "if a>b:\n",
    "    print('bigger')\n",
    "else:\n",
    "    #erm - what do I do here?\n",
    "    pass\n",
    "    "
   ]
  },
  {
   "cell_type": "markdown",
   "metadata": {},
   "source": [
    "We can also test over multiple conditions:"
   ]
  },
  {
   "cell_type": "code",
   "execution_count": null,
   "metadata": {},
   "outputs": [],
   "source": [
    "if a>b:\n",
    "    print('bigger')\n",
    "elif a<b:\n",
    "    print('smaller')\n",
    "else:\n",
    "    print('equal')"
   ]
  },
  {
   "cell_type": "markdown",
   "metadata": {},
   "source": [
    "Conditional statements can also be *nested* inside other conditional statements:"
   ]
  },
  {
   "cell_type": "code",
   "execution_count": null,
   "metadata": {},
   "outputs": [],
   "source": [
    "if a!=b:\n",
    "    if a>b:\n",
    "        print('bigger')\n",
    "    else:\n",
    "        print('smaller')\n",
    "else:\n",
    "    print('equal')"
   ]
  },
  {
   "cell_type": "markdown",
   "metadata": {},
   "source": [
    "### Conditional loops\n",
    "\n",
    " Conditional operators can also be used to loop the program control flow under the control of some condition. The program loops through the code in the conditional block as the condition evaluates `True` or passes to the next command once the tested condition evaluates to `False`: "
   ]
  },
  {
   "cell_type": "code",
   "execution_count": null,
   "metadata": {},
   "outputs": [],
   "source": [
    "a=1\n",
    "while a<5:\n",
    "    print(a, end=' '),\n",
    "    a+=1\n",
    "\n",
    "'Done'"
   ]
  },
  {
   "cell_type": "markdown",
   "metadata": {},
   "source": [
    "If necessary, we can use `break` to leave a loop before its condition evaluates to `False`:"
   ]
  },
  {
   "cell_type": "code",
   "execution_count": null,
   "metadata": {},
   "outputs": [],
   "source": [
    "a=1\n",
    "while a<10:\n",
    "    print(a, end=' '),\n",
    "    a += 1\n",
    "    if a==8:\n",
    "        break\n",
    "\n",
    "'Done'"
   ]
  },
  {
   "cell_type": "markdown",
   "metadata": {},
   "source": [
    "We can also skip an item by breaking out of a loop with `continue`, which then goes to the next iteration:"
   ]
  },
  {
   "cell_type": "code",
   "execution_count": null,
   "metadata": {},
   "outputs": [],
   "source": [
    "a=1\n",
    "while a<15:\n",
    "    if a==12:\n",
    "        a+=1\n",
    "        continue\n",
    "    print(a, end=' '),\n",
    "    a+=1\n",
    "\n",
    "'Done'"
   ]
  },
  {
   "cell_type": "markdown",
   "metadata": {},
   "source": [
    "If you are struggling to get a particular piece of code to degrade gracefully, wrapping statements in a `try/except` handler will attempt to execute the statements in the `try` block.\n",
    "\n",
    "Trying to combine an integer and a string with `+` raises an error:"
   ]
  },
  {
   "cell_type": "code",
   "execution_count": null,
   "metadata": {},
   "outputs": [],
   "source": [
    "1 + 'one'"
   ]
  },
  {
   "cell_type": "markdown",
   "metadata": {},
   "source": [
    "With `try/except`, if an error is raised, the code execution passes to the `except` block:"
   ]
  },
  {
   "cell_type": "code",
   "execution_count": null,
   "metadata": {},
   "outputs": [],
   "source": [
    "try:\n",
    "    1 + 'one'\n",
    "except:\n",
    "    print('oops')"
   ]
  },
  {
   "cell_type": "markdown",
   "metadata": {},
   "source": [
    "Note that the `try/except` block is not atomic:  any statements completed in the `try` block before it errors *are not undone* when control passes to the `except` block.\n",
    "\n",
    "\n",
    "In the following, the error happens after the `a=2` assignment in the `try` block, so this assignment is not undone when execution switches to the `except` block."
   ]
  },
  {
   "cell_type": "code",
   "execution_count": null,
   "metadata": {},
   "outputs": [],
   "source": [
    "a = 1\n",
    "\n",
    "try:\n",
    "    a = 2\n",
    "    b = a+'sr'\n",
    "except:\n",
    "    pass\n",
    "a"
   ]
  },
  {
   "cell_type": "markdown",
   "metadata": {},
   "source": [
    "## Python and white space"
   ]
  },
  {
   "cell_type": "markdown",
   "metadata": {},
   "source": [
    "The white space used to create indentations within a block is significant. \n",
    "Notebooks are set so that each indentation level for a block requires 4 spaces at the start of the line for each level.\n",
    "\n",
    "The notebook code cells are sensitive to code block levels and will try to set indentation appropriately. The first characters of a line turn red if the indentation is identified as incorrect, although it is possible to confuse the Notebook sometimes. Any incorrect indentation will be identified as a syntax error when the code cell is run."
   ]
  },
  {
   "cell_type": "markdown",
   "metadata": {
    "activity": true
   },
   "source": [
    "### Activity 1"
   ]
  },
  {
   "cell_type": "markdown",
   "metadata": {
    "activity": true
   },
   "source": [
    "Try to write a simple `while` loop that will print out the numbers 1 to 5. Notice what action the editor takes to set indentations when you enter the `while` block.  Now try putting extra spaces in the indentation, or removing some white space to see how incorrect indentation is identified."
   ]
  },
  {
   "cell_type": "code",
   "execution_count": null,
   "metadata": {
    "student": true
   },
   "outputs": [],
   "source": [
    "# Enter your code in this cell. Add more cells if you need to."
   ]
  },
  {
   "cell_type": "markdown",
   "metadata": {
    "activity": true,
    "heading_collapsed": true
   },
   "source": [
    "#### Our solution\n",
    "\n",
    "To reveal our solution, run this cell or click on the triangle symbol on the left-hand side of the cell."
   ]
  },
  {
   "cell_type": "code",
   "execution_count": null,
   "metadata": {
    "activity": true,
    "code_folding": [],
    "hidden": true
   },
   "outputs": [],
   "source": [
    "a = 1\n",
    "while a <= 5:\n",
    "    print(a)\n",
    "    a += 1\n",
    "print('Done')"
   ]
  },
  {
   "cell_type": "markdown",
   "metadata": {
    "activity": true
   },
   "source": [
    "#### End of Activity 1"
   ]
  },
  {
   "cell_type": "markdown",
   "metadata": {
    "code_folding": [
     0
    ]
   },
   "source": [
    "## Chunking your code: functions"
   ]
  },
  {
   "cell_type": "markdown",
   "metadata": {
    "code_folding": [
     0
    ]
   },
   "source": [
    "Functions let you structure your code in convenient ways.\n",
    "\n",
    "It is good practice to include a *docstring* (documentation string) at the start of the function to summarise its behaviour."
   ]
  },
  {
   "cell_type": "code",
   "execution_count": null,
   "metadata": {},
   "outputs": [],
   "source": [
    "def compare(a, b):\n",
    "    \"\"\"Compare two values and report whether the first is larger,\n",
    "       smaller, or equal to the second.\"\"\"\n",
    "    comp = 'equal'\n",
    "    if a > b:\n",
    "        comp = 'bigger'\n",
    "    elif a < b:\n",
    "        comp = 'smaller'\n",
    "    return comp\n",
    "\n",
    "compare(7,8)"
   ]
  },
  {
   "cell_type": "markdown",
   "metadata": {},
   "source": [
    "Once defined, you can check the signature and docstring of a function by querying the function name:"
   ]
  },
  {
   "cell_type": "code",
   "execution_count": null,
   "metadata": {},
   "outputs": [],
   "source": [
    "compare?"
   ]
  },
  {
   "cell_type": "markdown",
   "metadata": {},
   "source": [
    "You can look up the definition of a declared function by double querying its name:"
   ]
  },
  {
   "cell_type": "code",
   "execution_count": null,
   "metadata": {},
   "outputs": [],
   "source": [
    "compare??"
   ]
  },
  {
   "cell_type": "markdown",
   "metadata": {},
   "source": [
    "The function is named and defined in the IPython session so it can be called across notebook cells:"
   ]
  },
  {
   "cell_type": "code",
   "execution_count": null,
   "metadata": {},
   "outputs": [],
   "source": [
    "display(compare(3, 3))\n",
    "\n",
    "compare(2,1)"
   ]
  },
  {
   "cell_type": "markdown",
   "metadata": {},
   "source": [
    "We can call functions from other functions and from within *f-strings*:"
   ]
  },
  {
   "cell_type": "code",
   "execution_count": null,
   "metadata": {},
   "outputs": [],
   "source": [
    "def compare2(a, b):\n",
    "    \"\"\"Example of calling one function from another.\"\"\"\n",
    "    return f\"{a} is {compare(a,b)} than {b}\"\n",
    "\n",
    "compare2(3,5)"
   ]
  },
  {
   "cell_type": "markdown",
   "metadata": {},
   "source": [
    "We can return multiple values from a function as a tuple:"
   ]
  },
  {
   "cell_type": "code",
   "execution_count": null,
   "metadata": {},
   "outputs": [],
   "source": [
    "def compare3(a, b):\n",
    "    \"\"\"Compare two values and return the original values and the comparison.\"\"\"\n",
    "    return a-b, compare2(a,b)\n",
    "\n",
    "compare3(5,8)"
   ]
  },
  {
   "cell_type": "markdown",
   "metadata": {},
   "source": [
    "As the response from this function is a tuple, we can pass the returned values into separate variables:"
   ]
  },
  {
   "cell_type": "code",
   "execution_count": null,
   "metadata": {},
   "outputs": [],
   "source": [
    "x, y = compare3(5, 8)\n",
    "\n",
    "f'y says {y} which makes x equal to {x}'"
   ]
  },
  {
   "cell_type": "markdown",
   "metadata": {},
   "source": [
    "Take care when passing lists into functions: they are still passed by reference:"
   ]
  },
  {
   "cell_type": "code",
   "execution_count": null,
   "metadata": {},
   "outputs": [],
   "source": [
    "def pass_list_by_ref_test(l):\n",
    "    \"\"\"Example of passing lists by reference into a function.\"\"\"\n",
    "    l.append('adding this inside the function')\n",
    "\n",
    "l1 = ['this', 'that']\n",
    "l2 = l1\n",
    "l3 = list(l1)\n",
    "\n",
    "pass_list_by_ref_test(l1)\n",
    "\n",
    "l1, l2, l3"
   ]
  },
  {
   "cell_type": "markdown",
   "metadata": {},
   "source": [
    "The simple types are passed into functions by value:"
   ]
  },
  {
   "cell_type": "code",
   "execution_count": null,
   "metadata": {},
   "outputs": [],
   "source": [
    "def pass_int_by_val_test(i):\n",
    "    \"\"\"Increment a literal value by 1.\"\"\"\n",
    "    i = i + 1\n",
    "    return i\n",
    "\n",
    "j=5\n",
    "\n",
    "print(f'j = {j}')\n",
    "print(f'pass_int_by_val_test(j) = {pass_int_by_val_test(j)}')\n",
    "print(f'j = {j}')\n"
   ]
  },
  {
   "cell_type": "markdown",
   "metadata": {},
   "source": [
    "Test this with a string:"
   ]
  },
  {
   "cell_type": "code",
   "execution_count": null,
   "metadata": {},
   "outputs": [],
   "source": [
    "def pass_str_by_val_test(s):\n",
    "    s = s+'added'\n",
    "    return s\n",
    "\n",
    "q = \"example string\"\n",
    "\n",
    "print(f'q = \"{q}\"')\n",
    "print(f'pass_str_by_val_test(q) = \"{pass_str_by_val_test(q)}\"')\n",
    "print(f'q = \"{q}\"')\n"
   ]
  },
  {
   "cell_type": "markdown",
   "metadata": {},
   "source": [
    "What do you think will happen with a `dict`?"
   ]
  },
  {
   "cell_type": "code",
   "execution_count": null,
   "metadata": {},
   "outputs": [],
   "source": [
    "def pass_dict_test(d):\n",
    "    \"\"\"Example of passing a dict into a function.\"\"\"\n",
    "    d['added'] = 'item'\n",
    "\n",
    "d1 = {'this':'that'}\n",
    "d2 = d1\n",
    "d3 = d1.copy()\n",
    "pass_dict_test(d2)\n",
    "\n",
    "d1, d2, d3"
   ]
  },
  {
   "cell_type": "markdown",
   "metadata": {},
   "source": [
    "### Python's lambda functions"
   ]
  },
  {
   "cell_type": "markdown",
   "metadata": {},
   "source": [
    "*Anonymous functions*, also called `lambda` functions, can be thought of as \"headless\": they don't take a name, just an argument a function definition.\n",
    "\n",
    "We would typically define and call a function as follows:"
   ]
  },
  {
   "cell_type": "code",
   "execution_count": null,
   "metadata": {},
   "outputs": [],
   "source": [
    "def cube_not_headless(x):\n",
    "    \"\"\"A simple named function to cube the input.\"\"\"\n",
    "    return x*x*x\n",
    "\n",
    "\n",
    "cube_not_headless(5)"
   ]
  },
  {
   "cell_type": "markdown",
   "metadata": {},
   "source": [
    "Here's an anonymous equivalent defined \"on the fly\". Note that the object the `lambda` function is applied to appears in brackets after the function definition text:"
   ]
  },
  {
   "cell_type": "code",
   "execution_count": null,
   "metadata": {},
   "outputs": [],
   "source": [
    "(lambda x: x*x*x)(5)"
   ]
  },
  {
   "cell_type": "markdown",
   "metadata": {},
   "source": [
    "It is more common to see `lambda` functions used where the function only needs to be called in one code block, and isn't needed elsewhere. For example, python's built-in `map` function applies a function to all members of a list:"
   ]
  },
  {
   "cell_type": "code",
   "execution_count": null,
   "metadata": {},
   "outputs": [],
   "source": [
    "# Apply the cube_not_headless function to each member of a list:\n",
    "list(map(cube_not_headless,\n",
    "         [1, 2, 3, 4, 5]))"
   ]
  },
  {
   "cell_type": "markdown",
   "metadata": {},
   "source": [
    "With a `lambda` function, we do not need to define a named function:"
   ]
  },
  {
   "cell_type": "code",
   "execution_count": null,
   "metadata": {},
   "outputs": [],
   "source": [
    "# Apply a headless function to each member of a list:\n",
    "list(map(lambda x: x*x*x,\n",
    "         [1, 2, 3, 4, 5]))"
   ]
  },
  {
   "cell_type": "markdown",
   "metadata": {},
   "source": [
    "Whether you use a named function or a `lambda` function is a matter of judgement: choose whichever you think makes your code clearer, more readable and more maintainable."
   ]
  },
  {
   "cell_type": "markdown",
   "metadata": {},
   "source": [
    "## Importing Python code libraries\n",
    "\n",
    "The core Python programming language is enriched by a wide range of code libraries to provide all manner of specialised functionality, from handling different datatypes to generating graphical outputs, analysing datasets using complex statistical functions and more.\n",
    "\n",
    "To make use of a library, the corresponding package needs to be installed in the current Python environment and then imported into the Python shell being used to execute any particular program or notebook.\n",
    "\n",
    "Packages are imported using the `import` statement:"
   ]
  },
  {
   "cell_type": "code",
   "execution_count": null,
   "metadata": {},
   "outputs": [],
   "source": [
    "import datetime"
   ]
  },
  {
   "cell_type": "markdown",
   "metadata": {
    "tags": [
     "nbval-ignore-output"
    ]
   },
   "source": [
    "Once imported, we can make use of the package contents in other cells..."
   ]
  },
  {
   "cell_type": "code",
   "execution_count": null,
   "metadata": {
    "tags": [
     "nbval-ignore-output"
    ]
   },
   "outputs": [],
   "source": [
    "datetime.datetime.now()"
   ]
  },
  {
   "cell_type": "markdown",
   "metadata": {
    "tags": [
     "nbval-ignore-output"
    ]
   },
   "source": [
    "We can also import libraries from packages, and rename them with a convenient shorthand name:"
   ]
  },
  {
   "cell_type": "code",
   "execution_count": null,
   "metadata": {
    "tags": [
     "nbval-ignore-output"
    ]
   },
   "outputs": [],
   "source": [
    "import datetime as dt1\n",
    "\n",
    "dt1.datetime.now()"
   ]
  },
  {
   "cell_type": "markdown",
   "metadata": {},
   "source": [
    "To further simplify matters, we can import a child package from a library:"
   ]
  },
  {
   "cell_type": "code",
   "execution_count": null,
   "metadata": {
    "tags": [
     "nbval-ignore-output"
    ]
   },
   "outputs": [],
   "source": [
    "from datetime import datetime as dt2\n",
    "\n",
    "dt2.now()"
   ]
  },
  {
   "cell_type": "markdown",
   "metadata": {},
   "source": [
    "The TM351 VCE Python environment has a wide range of Python packages pre-installed, so you should not need to install any additional packages to complete the TM351 notebook activities."
   ]
  },
  {
   "cell_type": "markdown",
   "metadata": {},
   "source": [
    "### Installing additional packages on a local VCE installation"
   ]
  },
  {
   "cell_type": "markdown",
   "metadata": {
    "tags": [
     "alert-warning"
    ]
   },
   "source": [
    "*The Python packages pre-installed into the TM351 VCE local Python environment are actually defined as dependencies of a \"dummy\" Python package that does nothing other than install its requirements. You can find that package defined here: [`ou-tm351-py`](https://github.com/innovationOUtside/ou-tm351-py), and you might find it useful if you want to set up your own version of this environment.*"
   ]
  },
  {
   "cell_type": "markdown",
   "metadata": {},
   "source": [
    "If you do need to install or upgrade a Python package, you can do so from a notebook code cell using the `%pip` magic. For example, the following will check to see if the `autopep8` package is installed, install the most recent version if it isn't, and upgrade it to the most recent version if it is installed but not in the latest version:"
   ]
  },
  {
   "cell_type": "code",
   "execution_count": null,
   "metadata": {},
   "outputs": [],
   "source": [
    "%pip install --upgrade autopep8"
   ]
  },
  {
   "cell_type": "markdown",
   "metadata": {},
   "source": [
    "If you are using [the remote VCE](https://tm351.open.ac.uk), you will have all the libraries you need for TM351. However, if there are modules which you think it would be really useful to have installed, please let the module team know."
   ]
  },
  {
   "cell_type": "markdown",
   "metadata": {},
   "source": [
    "## Writing clean code"
   ]
  },
  {
   "cell_type": "markdown",
   "metadata": {},
   "source": [
    "At times, Python code can be quite complex, so it makes sense to style the code in a way that makes it as reasonable as possible. The [PEP-8](https://pep8.org/) style guide provides a range of suggestions for writing readable code. The style guide recommends how to use white space appropriately, how to define functions cleanly, and so on.\n",
    "\n",
    "Whilst the TM351 assessment will not penalise you for not using PEP-8 styled code, you may find if you do follow the style guide any code your produce is easier for both you, *and your tutor*, to read...\n",
    "\n",
    "*(We have tried to follow the style guide throughout the notebooks, but at times we may have erred!)*"
   ]
  },
  {
   "cell_type": "markdown",
   "metadata": {},
   "source": [
    "For example, this function definition, while correct python, is hard to read:"
   ]
  },
  {
   "cell_type": "code",
   "execution_count": null,
   "metadata": {},
   "outputs": [],
   "source": [
    "def myFunction(txt, val=   '12'):\n",
    "    \n",
    "    \n",
    "    \n",
    "    \n",
    "    a=1 # A lack of whitespace makes this hard to read\n",
    "    b =\"this is a string that \" + \"is added to another string\"     + \" but the line is getting rather long and hard to read\"\n",
    "    \n",
    "    c =               [1,2,3,4,5] # Too much whitespace has made this hard to read\n",
    "    \n",
    "    print(txt)\n",
    "    return"
   ]
  },
  {
   "cell_type": "markdown",
   "metadata": {},
   "source": [
    "But appropriate use of space makes it much clearer:"
   ]
  },
  {
   "cell_type": "code",
   "execution_count": null,
   "metadata": {},
   "outputs": [],
   "source": [
    "def myFunction(txt, val='12'):\n",
    "\n",
    "    a = 1  # This is now more readable\n",
    "    \n",
    "    # Use backslash to break across lines:\n",
    "    b = \"this is a string that \" + \"is added to another string\" + \\\n",
    "        \" but the line is getting rather long and hard to read\"\n",
    "\n",
    "    c = [1, 2, 3, 4, 5]  # Now clearer\n",
    "\n",
    "    print(txt)\n",
    "    return"
   ]
  },
  {
   "cell_type": "markdown",
   "metadata": {},
   "source": [
    "## What next?"
   ]
  },
  {
   "cell_type": "markdown",
   "metadata": {},
   "source": [
    "If you are working through this Notebook as part of an inline exercise, return to the module materials now.\n",
    "\n",
    "If you are working through this set of Notebooks as a whole, move  on to the next step in the bootcamp: `01.5 Python file handling`. "
   ]
  }
 ],
 "metadata": {
  "kernelspec": {
   "display_name": "Python 3",
   "language": "python",
   "name": "python3"
  },
  "language_info": {
   "codemirror_mode": {
    "name": "ipython",
    "version": 3
   },
   "file_extension": ".py",
   "mimetype": "text/x-python",
   "name": "python",
   "nbconvert_exporter": "python",
   "pygments_lexer": "ipython3",
   "version": "3.7.8"
  }
 },
 "nbformat": 4,
 "nbformat_minor": 1
}
