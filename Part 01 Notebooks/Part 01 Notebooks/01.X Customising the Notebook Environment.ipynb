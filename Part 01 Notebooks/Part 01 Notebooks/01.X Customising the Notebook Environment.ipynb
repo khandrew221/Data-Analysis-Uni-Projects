{
 "cells": [
  {
   "cell_type": "markdown",
   "metadata": {
    "code_folding": [],
    "hide_input": true
   },
   "source": [
    "# Customising the Jupyter Notebook Environment"
   ]
  },
  {
   "cell_type": "markdown",
   "metadata": {
    "code_folding": [],
    "hide_input": true
   },
   "source": [
    "If you are using the local environment on your own machine, there are several ways in which you can customise the environment to your own preferences or requirements.\n",
    "\n",
    "For example, many, if not all, the basic notebook graphical user interface commands have associated keyboard shortcuts which allows you to control the behaviour of the notebook from the keyboard, rather than using a mouse.\n",
    "\n",
    "A wide range of notebook extensions are also available that can add additional functionality to the notebook user interface.\n",
    "\n",
    "Note that most of these extensions have not been installed in the remote environment. If there are any extensions you feel would be particularly useful, please feel free to raise this with the module team via the forums."
   ]
  },
  {
   "cell_type": "markdown",
   "metadata": {},
   "source": [
    "### Notebook extensions\n",
    "A wide range of notebook extensions are installed in the TM351 virtual computing environment, although the majority have not been pre-enabled.\n",
    "\n",
    "![Screenshot of nbextensions configurator](./images/00_01_nbextension_config.png)\n",
    "\n",
    "You can enable and disable extensions, as well as further configuring certain extensions, via the [extensions configurator](/nbextensions). This can be accessed from the notebook homepage or from the *nbextensions config* option in the Edit menu of an opened notebook."
   ]
  },
  {
   "cell_type": "markdown",
   "metadata": {},
   "source": [
    "### Cell execution status indicators\n",
    "\n",
    "One useful extension is the [*cell execution status*](https://github.com/innovationOUtside/nb_cell_execution_status) extension.\n",
    "\n",
    "This extension animates the cell run status indicator alongside a code cell as the cell executes. If the cell is running or pending execution, the margin takes on a blue colour. If the cell executes successfully ,the margin is coloured green. If an error occurs that prevents the cell from executing successfully, the margin is coloured pink.\n",
    "\n",
    "If you open the notebook [extension configurator](/nbextensions), uncheck the `disable configuration...` option, and then click on the `Cell Execution Status` extension link, you will see several additional configuration options associated with the cell execution extension. This include the ability to provide audible alerts to indicate successful or unsuccessful cell completions. (If you change the settings, you will need to save and then reload a notebook for those updated settings to be utilised by your current notebook.)\n",
    "\n",
    "<br/><div class='alert-success'>If the cell execution status extension is not visible in the extensions configurator, you will need to install it yourself. See the official documentation for [installation  instructions](https://github.com/innovationOUtside/nb_cell_execution_status#install).</div><br/>"
   ]
  },
  {
   "cell_type": "markdown",
   "metadata": {},
   "source": [
    "### \"Tearing Off\" Cells\n",
    "\n",
    "Another extension you might find useful is the [*nb_cell_dialog*](https://github.com/innovationOUtside/nb_cell_dialog) extension, which allows you to \"float\" a markdown cell, code cell output, or complete code cell (code cell input and output) so that you can keep it to hand whilst referring to other parts of the notebook.\n",
    "\n",
    "If you click on a markdown cell to select it and click the rocket styled *Cell as dialog* button, the markdown cell will be \"torn off\" the main flow of the notebook and placed into a draggable floating widget. Closing the widget will return the markdown cell to it's original location in the notebook.\n",
    "\n",
    "Selecting a code cell and the rocket styled *Cell as dialog* button will tear of that code cell's output view; the similarly labeled `>_` button will tear off both the code cell input and the output cells.\n",
    "\n",
    "<br/><div class='alert-success'>If the cell dialog extension is not visible in the extensions configurator, you will need to install it yourself. See the official documentation for [installation  instructions](https://github.com/innovationOUtside/nb_cell_dialog#install).</div><br/>"
   ]
  },
  {
   "cell_type": "markdown",
   "metadata": {},
   "source": [
    "## Notebook accessibility\n",
    "\n",
    "We have tried our best to make the Jupyter notebook environment accessible to all students, whatever their particular needs."
   ]
  },
  {
   "cell_type": "markdown",
   "metadata": {},
   "source": [
    "### Keyboard shortcuts\n",
    "\n",
    "The Jupyter notebook interface supports a wide range of pre-defined keyboard shortcuts to menu and toolbar options. The shortcuts can be displayed using the `Keyboard shortcuts` item from the notebook `Help` menu or via the `ESC-h` keyboard shortcut.\n",
    "\n",
    "![Screenshot of the Jupyter keyboard shortcuts help page previewing the Command Mode cell options.](./images/00_01_jupyter_nb_shortcuts.png)\n",
    "\n",
    "You can also add additional shortcuts and/or edit exist shortcuts via the `Edit Keyboard shortcuts` menu item.\n",
    "\n",
    "![Screenshot of the Jupyter keyboard shortcuts help page previewing the Edit Command Mode cell options.](./images/00_01_jupyter_nb_edit_shortcuts.png)"
   ]
  },
  {
   "cell_type": "markdown",
   "metadata": {},
   "source": [
    "### Magnification\n",
    "\n",
    "The apparent size of the notebook contents in general can be zoomed using standard browser magnification tools. \n",
    "\n",
    "Alternatively, use operating systems tools such as *Windows Magnify* or the MacOS *Zoom Window*, or other assistive software."
   ]
  },
  {
   "cell_type": "markdown",
   "metadata": {},
   "source": [
    "### Audio Feedback\n",
    "\n",
    "The [*Cell Execution Status*](/nbextensions?nbextension=cell_execution_status/index) extension provides several options for providing audio feedback running the execution status of a cell."
   ]
  },
  {
   "cell_type": "markdown",
   "metadata": {},
   "source": [
    "### Accessibility toolbar extension\n",
    "\n",
    "The Jupyter environment includes an [accessibility toolbar extension](https://github.com/uclixnjupyternbaccessibility/accessibility_toolbar) that allows you to control the presentation style of the Jupyter notebook; for example, you can change the font style, size and spacing, the notebook background colour, and so on, although this is disabled by default. Enable it from the [nbextensions configurator](/nbextensions?nbextension=accessibility_toolbar/main). The accessibility settings are saved into local storage when refreshing the page. This means that if you use notebooks on different servers with the same browser, the same accessibility settings will be applied to notebooks on all servers within which you have enabled the accessibilty extension.\n",
    "\n",
    "#### Enabling the Accessibility Extension\n",
    "The accessibility is __disabled__ in the TM351 VCE by default. To use the accessibility extension, you need to enable it first. You can do this from the `nbextensions` tab on the notebook homepage: check the `Accessibility toolbar` extension to enable the toolbar. When you open a new notebook, the toolbar should be displayed.\n",
    "\n",
    "![Screenshot of the nbextensions confgurator showing the location of the Accessibility Toolbar.](images/00_01_nb_extensions_accessibility.png)\n",
    "\n",
    "Check the [accessibility toolbar documentation](https://github.com/uclixnjupyternbaccessibility/accessibility_toolbar#toolbar-summary) for more information.\n",
    "\n",
    "<br/><div class='alert-success'>If the accessibility extension is not visible in the extensions configurator, you will need to install it yourself. See the official documentation for [installation  instructions](https://github.com/uclixnjupyternbaccessibility/accessibility_toolbar#install).</div><br/>\n",
    "\n",
    "The Module Team welcome feedback on these features.\n",
    "\n",
    "#### Colours and fonts\n",
    "\n",
    "If you wish to change the font and interface colours to improve readability, the accessibility toolbar allows you to select the font style, size and colour. You can also modify the line spacing and spacing between individual characters.\n",
    "\n",
    "![Screenshot of the colours and fonts menu dropped down from the text / A button in the group of Accessibility Toolbar buttons.](images/00_01_accessibility_display.png)\n",
    " \n",
    "The font style applies to *all* text elements within the notebook itself. This includes the contents of markdown (text) cells, code cells and code cell outputs.\n",
    "\n",
    "The toolbar can also be used to control the notebook's background colour and the cell background colour.\n",
    "\n",
    "You can also save a style you have defined from the `Add new style...` option in `Predefined styles` menu. Once saved, it will be added to the menu list so you can apply it as required. "
   ]
  },
  {
   "cell_type": "markdown",
   "metadata": {},
   "source": [
    "### Linters"
   ]
  },
  {
   "cell_type": "markdown",
   "metadata": {},
   "source": [
    "One class of productivity tools that can be used to support the development of code that conforms to a particular style guide or coding convention such as PEP-8 are known as `code linters`.\n",
    "\n",
    "These tools provide offline, static analysis of code and can generate reports that describe where code diverges from the style guide.\n",
    "\n",
    "Some tools may also automatically correct code style, although from a learning perspective it can often be more useful to be warned when you diverge from the code style guidelines so that you can fix the code (and learn how to write it correctly) rather than having the code style automatically corrected for you.\n",
    "\n",
    "Within a Jupyter notebook, several tools are available that can be used to repair unstyled code, where possible:\n",
    "\n",
    "- within a single cell,\n",
    "- across all cells,\n",
    "- automatically whenever a code cell is run.\n",
    "\n",
    "One such tool is provided by the Python `autopep8` package. An [`autopep8 extension`](/nbextensions?nbextension=code_prettify/autopep8) is provided as part of the jupyter_contrib_nbextensions package and makes use of the pre-installed `autopep8` package dependency to work. You can enable the package from the nbextensions configuration or from the command line:"
   ]
  },
  {
   "cell_type": "code",
   "execution_count": null,
   "metadata": {},
   "outputs": [],
   "source": [
    "! jupyter nbextension disable code_prettify/autopep8\n",
    "# You can also disable it from the command line\n",
    "#!jupyter nbextension disable code_prettify/autopep8"
   ]
  },
  {
   "cell_type": "markdown",
   "metadata": {},
   "source": [
    "Reload the notebook to see the enabled toolbar button (a hammer).\n",
    "\n",
    "When a code cell such as the following code cell is selected, clicking the `autopep8` hammer toolbar button will repair the code styling insofar as such repairs are possible."
   ]
  },
  {
   "cell_type": "code",
   "execution_count": null,
   "metadata": {},
   "outputs": [],
   "source": [
    "def myFunction(txt, val=   '12'):\n",
    "    \n",
    "    \n",
    "    \n",
    "    \n",
    "    a=1 # A lack of whitespace makes this hard to read\n",
    "    b =\"this is a string that \" + \"is added to another string\"     + \" but the line is getting rather long and hard to read\"\n",
    "    \n",
    "    c =               [1,2,3,4,5] # Too much whitespace has made this hard to read\n",
    "    \n",
    "    print(txt)\n",
    "    return"
   ]
  },
  {
   "cell_type": "markdown",
   "metadata": {},
   "source": [
    "For additional tools and linting support, see [Notebook Code Linting](https://github.com/innovationOUtside/TM351_forum_examples/blob/master/Notebook%20Code%20Linting.ipynb)"
   ]
  },
  {
   "cell_type": "markdown",
   "metadata": {},
   "source": [
    "### Other assistive software\n",
    "\n",
    "Please contact the Module Team if you discover that the material does not work with a particular screen reader or dictation system that you would typically expect to be able to use."
   ]
  },
  {
   "cell_type": "markdown",
   "metadata": {},
   "source": [
    "## Notebook Themes\n",
    "\n",
    "As with many development environments, it is possible to apply different colour schemes, ot *themes*, to the notebook.\n",
    "\n",
    "The [jupyter-themes](https://github.com/dunovank/jupyter-themes) extension provides a wide range of notebook themes.\n",
    "\n",
    "<br/><div class='alert-success'>If the accessibility extension is not visible in the extensions configurator, you will need to install it yourself. See the official documentation for [installation  instructions](https://github.com/dunovank/jupyter-themes#install).</div><br/>"
   ]
  }
 ],
 "metadata": {
  "kernelspec": {
   "display_name": "Python 3",
   "language": "python",
   "name": "python3"
  },
  "language_info": {
   "codemirror_mode": {
    "name": "ipython",
    "version": 3
   },
   "file_extension": ".py",
   "mimetype": "text/x-python",
   "name": "python",
   "nbconvert_exporter": "python",
   "pygments_lexer": "ipython3",
   "version": "3.7.8"
  }
 },
 "nbformat": 4,
 "nbformat_minor": 1
}
